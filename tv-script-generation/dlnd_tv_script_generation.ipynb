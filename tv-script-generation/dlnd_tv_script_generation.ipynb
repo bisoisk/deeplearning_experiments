{
 "cells": [
  {
   "cell_type": "markdown",
   "metadata": {
    "deletable": true,
    "editable": true
   },
   "source": [
    "# TV Script Generation\n",
    "In this project, you'll generate your own [Simpsons](https://en.wikipedia.org/wiki/The_Simpsons) TV scripts using RNNs.  You'll be using part of the [Simpsons dataset](https://www.kaggle.com/wcukierski/the-simpsons-by-the-data) of scripts from 27 seasons.  The Neural Network you'll build will generate a new TV script for a scene at [Moe's Tavern](https://simpsonswiki.com/wiki/Moe's_Tavern).\n",
    "## Get the Data\n",
    "The data is already provided for you.  You'll be using a subset of the original dataset.  It consists of only the scenes in Moe's Tavern.  This doesn't include other versions of the tavern, like \"Moe's Cavern\", \"Flaming Moe's\", \"Uncle Moe's Family Feed-Bag\", etc.."
   ]
  },
  {
   "cell_type": "code",
   "execution_count": 1,
   "metadata": {
    "collapsed": false,
    "deletable": true,
    "editable": true
   },
   "outputs": [],
   "source": [
    "\"\"\"\n",
    "DON'T MODIFY ANYTHING IN THIS CELL\n",
    "\"\"\"\n",
    "import helper\n",
    "\n",
    "data_dir = './data/simpsons/moes_tavern_lines.txt'\n",
    "text = helper.load_data(data_dir)\n",
    "# Ignore notice, since we don't use it for analysing the data\n",
    "text = text[81:]"
   ]
  },
  {
   "cell_type": "markdown",
   "metadata": {
    "deletable": true,
    "editable": true
   },
   "source": [
    "## Explore the Data\n",
    "Play around with `view_sentence_range` to view different parts of the data."
   ]
  },
  {
   "cell_type": "code",
   "execution_count": 2,
   "metadata": {
    "collapsed": false,
    "deletable": true,
    "editable": true
   },
   "outputs": [
    {
     "name": "stdout",
     "output_type": "stream",
     "text": [
      "Dataset Stats\n",
      "Roughly the number of unique words: 11492\n",
      "Number of scenes: 262\n",
      "Average number of sentences in each scene: 15.248091603053435\n",
      "Number of lines: 4257\n",
      "Average number of words in each line: 11.50434578341555\n",
      "\n",
      "The sentences 0 to 10:\n",
      "Moe_Szyslak: (INTO PHONE) Moe's Tavern. Where the elite meet to drink.\n",
      "Bart_Simpson: Eh, yeah, hello, is Mike there? Last name, Rotch.\n",
      "Moe_Szyslak: (INTO PHONE) Hold on, I'll check. (TO BARFLIES) Mike Rotch. Mike Rotch. Hey, has anybody seen Mike Rotch, lately?\n",
      "Moe_Szyslak: (INTO PHONE) Listen you little puke. One of these days I'm gonna catch you, and I'm gonna carve my name on your back with an ice pick.\n",
      "Moe_Szyslak: What's the matter Homer? You're not your normal effervescent self.\n",
      "Homer_Simpson: I got my problems, Moe. Give me another one.\n",
      "Moe_Szyslak: Homer, hey, you should not drink to forget your problems.\n",
      "Barney_Gumble: Yeah, you should only drink to enhance your social skills.\n",
      "\n",
      "\n"
     ]
    }
   ],
   "source": [
    "view_sentence_range = (0, 10)\n",
    "\n",
    "\"\"\"\n",
    "DON'T MODIFY ANYTHING IN THIS CELL\n",
    "\"\"\"\n",
    "import numpy as np\n",
    "\n",
    "print('Dataset Stats')\n",
    "print('Roughly the number of unique words: {}'.format(len({word: None for word in text.split()})))\n",
    "scenes = text.split('\\n\\n')\n",
    "print('Number of scenes: {}'.format(len(scenes)))\n",
    "sentence_count_scene = [scene.count('\\n') for scene in scenes]\n",
    "print('Average number of sentences in each scene: {}'.format(np.average(sentence_count_scene)))\n",
    "\n",
    "sentences = [sentence for scene in scenes for sentence in scene.split('\\n')]\n",
    "print('Number of lines: {}'.format(len(sentences)))\n",
    "word_count_sentence = [len(sentence.split()) for sentence in sentences]\n",
    "print('Average number of words in each line: {}'.format(np.average(word_count_sentence)))\n",
    "\n",
    "print()\n",
    "print('The sentences {} to {}:'.format(*view_sentence_range))\n",
    "print('\\n'.join(text.split('\\n')[view_sentence_range[0]:view_sentence_range[1]]))"
   ]
  },
  {
   "cell_type": "markdown",
   "metadata": {
    "deletable": true,
    "editable": true
   },
   "source": [
    "## Implement Preprocessing Functions\n",
    "The first thing to do to any dataset is preprocessing.  Implement the following preprocessing functions below:\n",
    "- Lookup Table\n",
    "- Tokenize Punctuation\n",
    "\n",
    "### Lookup Table\n",
    "To create a word embedding, you first need to transform the words to ids.  In this function, create two dictionaries:\n",
    "- Dictionary to go from the words to an id, we'll call `vocab_to_int`\n",
    "- Dictionary to go from the id to word, we'll call `int_to_vocab`\n",
    "\n",
    "Return these dictionaries in the following tuple `(vocab_to_int, int_to_vocab)`"
   ]
  },
  {
   "cell_type": "code",
   "execution_count": 28,
   "metadata": {
    "collapsed": false,
    "deletable": true,
    "editable": true
   },
   "outputs": [
    {
     "name": "stdout",
     "output_type": "stream",
     "text": [
      "Tests Passed\n"
     ]
    }
   ],
   "source": [
    "import numpy as np\n",
    "import problem_unittests as tests\n",
    "from collections import Counter\n",
    "\n",
    "def create_lookup_tables(text):\n",
    "    \"\"\"\n",
    "    Create lookup tables for vocabulary\n",
    "    :param text: The text of tv scripts split into words\n",
    "    :return: A tuple of dicts (vocab_to_int, int_to_vocab)\n",
    "    \"\"\"\n",
    "    # create words set to remove duplicates    \n",
    "    counts = Counter(text)\n",
    "    vocab = sorted(counts, key=counts.get, reverse=True)\n",
    "\n",
    "    vocab_to_int = {word:i for i, word in enumerate(vocab)}\n",
    "    int_to_vocab = {i:word for i, word in enumerate(vocab)}\n",
    "    return vocab_to_int, int_to_vocab\n",
    "\n",
    "\n",
    "\"\"\"\n",
    "DON'T MODIFY ANYTHING IN THIS CELL THAT IS BELOW THIS LINE\n",
    "\"\"\"\n",
    "tests.test_create_lookup_tables(create_lookup_tables)"
   ]
  },
  {
   "cell_type": "markdown",
   "metadata": {
    "deletable": true,
    "editable": true
   },
   "source": [
    "### Tokenize Punctuation\n",
    "We'll be splitting the script into a word array using spaces as delimiters.  However, punctuations like periods and exclamation marks make it hard for the neural network to distinguish between the word \"bye\" and \"bye!\".\n",
    "\n",
    "Implement the function `token_lookup` to return a dict that will be used to tokenize symbols like \"!\" into \"||Exclamation_Mark||\".  Create a dictionary for the following symbols where the symbol is the key and value is the token:\n",
    "- Period ( . )\n",
    "- Comma ( , )\n",
    "- Quotation Mark ( \" )\n",
    "- Semicolon ( ; )\n",
    "- Exclamation mark ( ! )\n",
    "- Question mark ( ? )\n",
    "- Left Parentheses ( ( )\n",
    "- Right Parentheses ( ) )\n",
    "- Dash ( -- )\n",
    "- Return ( \\n )\n",
    "\n",
    "This dictionary will be used to token the symbols and add the delimiter (space) around it.  This separates the symbols as it's own word, making it easier for the neural network to predict on the next word. Make sure you don't use a token that could be confused as a word. Instead of using the token \"dash\", try using something like \"||dash||\"."
   ]
  },
  {
   "cell_type": "code",
   "execution_count": 29,
   "metadata": {
    "collapsed": false,
    "deletable": true,
    "editable": true
   },
   "outputs": [
    {
     "name": "stdout",
     "output_type": "stream",
     "text": [
      "Tests Passed\n"
     ]
    }
   ],
   "source": [
    "def token_lookup():\n",
    "    \"\"\"\n",
    "    Generate a dict to turn punctuation into a token.\n",
    "    :return: Tokenize dictionary where the key is the punctuation and the value is the token\n",
    "    \"\"\"\n",
    "    # TODO: Implement Function\n",
    "    tokenize_dict = {\n",
    "        '.': \"||Period||\",\n",
    "        ',': \"||Comma||\",\n",
    "        '\"': \"||Quotation_Mark||\",\n",
    "        ';': \"||Semicolon||\",\n",
    "        '!': \"||Exlamation_Mark||\",\n",
    "        '?': \"||Question_Mark||\",\n",
    "        '(': \"||Left_Parenthesis||\",\n",
    "        ')': \"||Right_Parenthesis||\",\n",
    "        '--': \"||Dash||\",\n",
    "        '\\n': \"||Return||\"\n",
    "    }\n",
    "    \n",
    "    \n",
    "    return tokenize_dict\n",
    "\n",
    "\"\"\"\n",
    "DON'T MODIFY ANYTHING IN THIS CELL THAT IS BELOW THIS LINE\n",
    "\"\"\"\n",
    "tests.test_tokenize(token_lookup)"
   ]
  },
  {
   "cell_type": "markdown",
   "metadata": {
    "deletable": true,
    "editable": true
   },
   "source": [
    "## Preprocess all the data and save it\n",
    "Running the code cell below will preprocess all the data and save it to file."
   ]
  },
  {
   "cell_type": "code",
   "execution_count": 30,
   "metadata": {
    "collapsed": false,
    "deletable": true,
    "editable": true
   },
   "outputs": [],
   "source": [
    "\"\"\"\n",
    "DON'T MODIFY ANYTHING IN THIS CELL\n",
    "\"\"\"\n",
    "# Preprocess Training, Validation, and Testing Data\n",
    "helper.preprocess_and_save_data(data_dir, token_lookup, create_lookup_tables)"
   ]
  },
  {
   "cell_type": "markdown",
   "metadata": {
    "deletable": true,
    "editable": true
   },
   "source": [
    "# Check Point\n",
    "This is your first checkpoint. If you ever decide to come back to this notebook or have to restart the notebook, you can start from here. The preprocessed data has been saved to disk."
   ]
  },
  {
   "cell_type": "code",
   "execution_count": 31,
   "metadata": {
    "collapsed": false,
    "deletable": true,
    "editable": true
   },
   "outputs": [],
   "source": [
    "\"\"\"\n",
    "DON'T MODIFY ANYTHING IN THIS CELL\n",
    "\"\"\"\n",
    "import helper\n",
    "import numpy as np\n",
    "import problem_unittests as tests\n",
    "\n",
    "int_text, vocab_to_int, int_to_vocab, token_dict = helper.load_preprocess()"
   ]
  },
  {
   "cell_type": "code",
   "execution_count": 32,
   "metadata": {
    "collapsed": false
   },
   "outputs": [
    {
     "name": "stdout",
     "output_type": "stream",
     "text": [
      "{'||period||': 0, '||return||': 1, '||comma||': 2, '||left_parenthesis||': 3, '||right_parenthesis||': 4, 'the': 5, 'i': 6, 'you': 7, '||exlamation_mark||': 8, 'moe_szyslak:': 9, '||question_mark||': 10, 'a': 11, 'homer_simpson:': 12, 'to': 13, 'and': 14, 'of': 15, 'my': 16, 'it': 17, 'that': 18, 'in': 19, '||quotation_mark||': 20, 'me': 21, 'is': 22, 'this': 23, \"i'm\": 24, 'for': 25, 'your': 26, 'homer': 27, 'on': 28, 'hey': 29, 'moe': 30, 'oh': 31, 'no': 32, 'lenny_leonard:': 33, 'what': 34, 'with': 35, 'yeah': 36, 'all': 37, 'just': 38, 'like': 39, 'but': 40, 'barney_gumble:': 41, 'so': 42, 'be': 43, 'here': 44, 'carl_carlson:': 45, \"don't\": 46, 'have': 47, 'up': 48, \"it's\": 49, 'well': 50, 'out': 51, 'do': 52, 'was': 53, 'got': 54, 'are': 55, 'get': 56, 'we': 57, 'uh': 58, \"that's\": 59, 'one': 60, \"you're\": 61, 'not': 62, 'now': 63, 'can': 64, 'know': 65, '||dash||': 66, 'at': 67, 'right': 68, '/': 69, 'how': 70, 'if': 71, 'back': 72, 'marge_simpson:': 73, 'about': 74, 'he': 75, 'from': 76, 'go': 77, 'gonna': 78, 'there': 79, 'they': 80, 'beer': 81, 'good': 82, 'who': 83, 'an': 84, 'man': 85, 'okay': 86, 'little': 87, 'his': 88, 'as': 89, 'some': 90, \"can't\": 91, 'then': 92, 'never': 93, \"i'll\": 94, 'think': 95, 'come': 96, 'could': 97, 'him': 98, \"i've\": 99, 'see': 100, 'want': 101, 'really': 102, 'look': 103, 'too': 104, 'guys': 105, 'been': 106, 'when': 107, 'make': 108, 'why': 109, 'ya': 110, 'bar': 111, 'her': 112, 'did': 113, 'time': 114, 'say': 115, 'ah': 116, 'or': 117, 'gotta': 118, 'marge': 119, 'take': 120, 'into': 121, 'love': 122, 'down': 123, 'more': 124, 'our': 125, 'am': 126, 'off': 127, 'guy': 128, 'sure': 129, 'barney': 130, 'two': 131, \"there's\": 132, 'thing': 133, 'lisa_simpson:': 134, 'would': 135, \"we're\": 136, 'where': 137, \"he's\": 138, 'had': 139, 'big': 140, 'tell': 141, 'let': 142, 'need': 143, 'money': 144, 'drink': 145, 'bart_simpson:': 146, \"what's\": 147, 'sorry': 148, 'over': 149, 'us': 150, 'something': 151, 'only': 152, 'ever': 153, 'by': 154, 'day': 155, 'will': 156, 'way': 157, 'wait': 158, 'she': 159, 'chief_wiggum:': 160, 'give': 161, 'even': 162, 'huh': 163, 'new': 164, \"i'd\": 165, 'god': 166, \"didn't\": 167, \"ain't\": 168, 'those': 169, 'great': 170, 'people': 171, 'phone': 172, \"moe's\": 173, 'eh': 174, 'has': 175, 'life': 176, 'much': 177, 'maybe': 178, 'lenny': 179, 'were': 180, 'than': 181, 'going': 182, 'mean': 183, 'place': 184, 'these': 185, 'should': 186, 'mr': 187, 'around': 188, \"you've\": 189, 'better': 190, 'wanna': 191, 'still': 192, 'help': 193, 'friend': 194, 'old': 195, 'home': 196, \"'em\": 197, 'name': 198, 'please': 199, 'night': 200, 'before': 201, 'noise': 202, 'last': 203, 'whoa': 204, 'tv': 205, 'aw': 206, 'seymour_skinner:': 207, 'boy': 208, 'face': 209, 'any': 210, 'made': 211, 'hello': 212, 'call': 213, 'thanks': 214, 'duff': 215, 'three': 216, 'drunk': 217, 'put': 218, \"'cause\": 219, 'listen': 220, 'their': 221, 'looking': 222, 'car': 223, 'bad': 224, 'again': 225, 'first': 226, 'very': 227, \"let's\": 228, 'best': 229, 'does': 230, 'wow': 231, 'yes': 232, 'another': 233, 'looks': 234, 'every': 235, 'ooh': 236, 'while': 237, 'them': 238, 'kent_brockman:': 239, 'said': 240, 'work': 241, 'wife': 242, 'other': 243, 'guess': 244, 'apu_nahasapeemapetilon:': 245, 'dad': 246, 'sweet': 247, \"won't\": 248, 'play': 249, 'feel': 250, 'tonight': 251, 'years': 252, 'singing': 253, 'springfield': 254, 'thought': 255, 'sobs': 256, 'everybody': 257, 'find': 258, 'voice': 259, \"they're\": 260, 'after': 261, 'dr': 262, 'things': 263, 'buy': 264, 'kids': 265, 'might': 266, 'check': 267, 'nice': 268, 'keep': 269, 'happy': 270, 'minute': 271, 'girl': 272, 'since': 273, 'head': 274, 'because': 275, 'shut': 276, 'show': 277, 'beat': 278, 'world': 279, 'sighs': 280, 'use': 281, 'bart': 282, \"who's\": 283, 'lisa': 284, 'sings': 285, 'chuckle': 286, 'friends': 287, 'always': 288, \"isn't\": 289, \"you'll\": 290, 'stupid': 291, 'kid': 292, 'c': 293, 'someone': 294, 'krusty_the_clown:': 295, 'ow': 296, 'which': 297, 'carl': 298, 'seen': 299, 'lot': 300, 'remember': 301, 'hundred': 302, 'anything': 303, 'laugh': 304, \"here's\": 305, 'talk': 306, 'job': 307, 'chuckles': 308, 'next': 309, 'glass': 310, 'through': 311, 'hell': 312, 'thank': 313, 'simpson': 314, 'laughs': 315, 'matter': 316, 'pretty': 317, 'five': 318, 'lost': 319, 'house': 320, 'says': 321, 'away': 322, 'hear': 323, 'long': 324, 'outta': 325, 'kind': 326, \"nothin'\": 327, 'hope': 328, 'woman': 329, 'happened': 330, 'believe': 331, 'tavern': 332, 'nervous': 333, 'once': 334, 'four': 335, 'family': 336, 'turn': 337, \"c'mon\": 338, '_montgomery_burns:': 339, 'waylon_smithers:': 340, 'book': 341, 'comes': 342, 'real': 343, 'wish': 344, \"homer's\": 345, 'stop': 346, 'ned_flanders:': 347, 'fat': 348, 'actually': 349, 'business': 350, 'myself': 351, 'idea': 352, 'ask': 353, 'game': 354, 'grampa_simpson:': 355, \"goin'\": 356, 'wants': 357, 'wrong': 358, \"doin'\": 359, 'used': 360, 'loud': 361, 'today': 362, 'party': 363, 'enough': 364, 'nobody': 365, 'burns': 366, \"we've\": 367, 'done': 368, 'problem': 369, 'town': 370, \"comin'\": 371, 'getting': 372, 'many': 373, \"wouldn't\": 374, \"she's\": 375, 'duffman:': 376, 'must': 377, 'everything': 378, 'hold': 379, 'doing': 380, 'free': 381, 'watch': 382, 'sounds': 383, 'try': 384, 'reading': 385, 'dollars': 386, 'na': 387, 'um': 388, 'bucks': 389, 'maggie': 390, 'took': 391, 'true': 392, 'thinking': 393, 'nah': 394, 'gee': 395, 'woo': 396, 'sound': 397, 'sell': 398, 'excuse': 399, 'makes': 400, 'everyone': 401, 'daughter': 402, 'secret': 403, 'stuff': 404, \"where's\": 405, 'chief': 406, 'gimme': 407, 'care': 408, 'wanted': 409, 'leave': 410, 'baby': 411, 'pay': 412, 'under': 413, 'most': 414, 'pants': 415, 'yourself': 416, 'beautiful': 417, 'canyonero': 418, 'being': 419, 'edna': 420, 'kill': 421, 'kemi:': 422, 'pick': 423, 'own': 424, 'mouth': 425, 'pal': 426, 'tough': 427, 'tipsy': 428, 'quickly': 429, 'left': 430, 'worry': 431, 'smithers': 432, 'went': 433, 'knew': 434, 'points': 435, 'save': 436, 'dead': 437, \"you'd\": 438, 'hurt': 439, 'dinner': 440, 'sad': 441, 'date': 442, 'school': 443, 'tomorrow': 444, 'till': 445, 'hoo': 446, 'drinking': 447, 'hate': 448, 'sign': 449, 'fine': 450, 'hi': 451, 'quit': 452, 'feeling': 453, 'win': 454, 'heard': 455, 'dog': 456, 'die': 457, 'camera': 458, 'told': 459, 'excited': 460, 'skinner': 461, 'funny': 462, 'gave': 463, 'break': 464, 'eyes': 465, 'came': 466, 'ladies': 467, 'saw': 468, 'gets': 469, 'booze': 470, 'forget': 471, \"couldn't\": 472, 'alcohol': 473, 'easy': 474, 'flaming': 475, 'without': 476, 'fire': 477, 'million': 478, \"aren't\": 479, 'calling': 480, 'eat': 481, 'sir': 482, 'loves': 483, 'barflies:': 484, 'twenty': 485, 'hand': 486, 'seven': 487, 'nuts': 488, 'super': 489, 'krusty': 490, 'clean': 491, 'gone': 492, 'gasp': 493, 'loser': 494, 'mad': 495, 'hands': 496, 'anyone': 497, 'jacques:': 498, 'cash': 499, 'kinda': 500, 'bring': 501, 'fight': 502, 'room': 503, 'kirk_van_houten:': 504, 'drive': 505, 'surprised': 506, 'burn': 507, 'mom': 508, 'noises': 509, 'small': 510, 'read': 511, 'artie_ziff:': 512, 'meet': 513, 'problems': 514, 'door': 515, 'happen': 516, \"wasn't\": 517, 'high': 518, 'behind': 519, 'cut': 520, 'called': 521, \"lookin'\": 522, \"haven't\": 523, 'course': 524, 'anyway': 525, \"talkin'\": 526, 'low': 527, \"we'll\": 528, 'trouble': 529, \"doesn't\": 530, 'coming': 531, 'sadly': 532, 'each': 533, 'six': 534, 'seymour': 535, 'gentlemen': 536, 'geez': 537, 'turns': 538, \"y'know\": 539, \"somethin'\": 540, 'chance': 541, 'tape': 542, 'already': 543, \"drinkin'\": 544, 'bartender': 545, 'professor_jonathan_frink:': 546, 'upset': 547, 'dear': 548, 'self': 549, \"it'll\": 550, 'end': 551, 'ugly': 552, 'machine': 553, 'eye': 554, 'larry:': 555, 'works': 556, 'fun': 557, 'disgusted': 558, 'hot': 559, 'bottle': 560, 'realizing': 561, 'sing': 562, 'song': 563, 'wiggum': 564, 'hours': 565, 'start': 566, 'moan': 567, 'outside': 568, 'mmmm': 569, 'sigh': 570, 'throat': 571, 'steal': 572, 'uh-oh': 573, 'heart': 574, 'close': 575, \"gettin'\": 576, 'blame': 577, 'trying': 578, 'change': 579, 'war': 580, 'dump': 581, 'whatever': 582, 'snake_jailbird:': 583, 'stay': 584, 'learn': 585, 'live': 586, 'stand': 587, 'lady': 588, 'keys': 589, 'least': 590, 'm': 591, 'spend': 592, 'crazy': 593, 'whole': 594, 'straight': 595, 'quiet': 596, 'talking': 597, ':': 598, 'watching': 599, 'worried': 600, 'worse': 601, 'the_rich_texan:': 602, 'bar_rag:': 603, 'barflies': 604, 'lousy': 605, 'butt': 606, 'less': 607, 'ten': 608, 'late': 609, 'learned': 610, 'drinks': 611, 'probably': 612, 'such': 613, 'stick': 614, 'perfect': 615, 'greatest': 616, 'shocked': 617, 'private': 618, 'playing': 619, 'may': 620, 'blue': 621, 'anymore': 622, 'goodbye': 623, 'bowl': 624, \"'bout\": 625, 'special': 626, 'poor': 627, 'light': 628, 'joe': 629, 'second': 630, 'thinks': 631, 'year': 632, 'girls': 633, 'morning': 634, 'gasps': 635, \"shouldn't\": 636, 'pull': 637, 'thousand': 638, 'soon': 639, 'times': 640, 'ma': 641, 'apu': 642, 'police': 643, 'crowd:': 644, 'person': 645, 'far': 646, 'alive': 647, 'married': 648, 'marriage': 649, 'air': 650, 'heh': 651, 'bit': 652, 'turned': 653, 'young': 654, 'mother': 655, 'either': 656, 'front': 657, 'else': 658, 'whip': 659, 'point': 660, 'annoyed': 661, 'tsk': 662, 'delete': 663, 'anybody': 664, 'store': 665, 'kick': 666, 'cool': 667, 'moron': 668, 'minutes': 669, 'buddy': 670, 'open': 671, 'picture': 672, 'goes': 673, 'uh-huh': 674, 'couple': 675, 'found': 676, 'blood': 677, 'boys': 678, 'letter': 679, 'nothing': 680, 'lucky': 681, 'smell': 682, 'feet': 683, 'taking': 684, 'both': 685, 'turning': 686, 'eight': 687, 'miss': 688, 'walk': 689, 'join': 690, 'president': 691, 'ticket': 692, 'later': 693, \"how'd\": 694, 'king': 695, 'knows': 696, 'lemme': 697, 'jacques': 698, 'ass': 699, 'throw': 700, 'serious': 701, 'box': 702, 'shot': 703, 'mayor_joe_quimby:': 704, 'beers': 705, 'barn': 706, 'tab': 707, 'exactly': 708, 'boxing': 709, 'yet': 710, 'nods': 711, 'duffman': 712, 'card': 713, 'christmas': 714, 'angry': 715, 'agnes_skinner:': 716, 'american': 717, 'arm': 718, 'rev': 719, 'pig': 720, 'shotgun': 721, 'mind': 722, 'alone': 723, 'instead': 724, 'fifty': 725, 'patty_bouvier:': 726, 'youse': 727, 'goodnight': 728, 'days': 729, 'somebody': 730, 'proudly': 731, 'kiss': 732, 'top': 733, 'number': 734, 'full': 735, 'dry': 736, 'food': 737, 'collette:': 738, 'warmly': 739, 'ahh': 740, 'plant': 741, 'friendly': 742, 'english': 743, 'saying': 744, 'mrs': 745, 'paint': 746, 'hide': 747, 'afraid': 748, 'accident': 749, 'black': 750, 'using': 751, 's': 752, 'deal': 753, 'ready': 754, 'amazed': 755, 'rummy': 756, 'dance': 757, 'eggs': 758, 'walking': 759, 'nine': 760, 'welcome': 761, 'o': 762, 'damn': 763, \"he'll\": 764, 'together': 765, '||semicolon||': 766, 'fellas': 767, 'alright': 768, 'send': 769, 'wire': 770, 'etc': 771, 'forever': 772, 'plus': 773, 'seems': 774, 'advice': 775, 'ned': 776, 'butts': 777, 'huge': 778, 'story': 779, 'ball': 780, 'himself': 781, 'favorite': 782, 'intrigued': 783, 'happier': 784, 'making': 785, 'table': 786, 'hang': 787, 'broke': 788, 'sotto': 789, 'crap': 790, 'move': 791, 'finally': 792, 'lucius:': 793, 'though': 794, 'return': 795, 'word': 796, 'ha': 797, 'hmm': 798, 'sitting': 799, 'fast': 800, 'weird': 801, 'scared': 802, 'grampa': 803, 'son': 804, 'news': 805, 'cold': 806, 'terrible': 807, 'smile': 808, 'words': 809, \"makin'\": 810, 'run': 811, 'screw': 812, 'city': 813, 'renee:': 814, 'pour': 815, 'round': 816, 'channel': 817, 'telling': 818, 'losers': 819, 'japanese': 820, 'tap': 821, 'glove': 822, 'la': 823, 'inside': 824, 'seat': 825, 'human': 826, \"ol'\": 827, 'comic_book_guy:': 828, 'moans': 829, \"kiddin'\": 830, 'glad': 831, 'horrible': 832, 'homie': 833, 'peanuts': 834, 'young_marge:': 835, 'selma_bouvier:': 836, 'street': 837, 'means': 838, 'narrator:': 839, 'warm_female_voice:': 840, 'ice': 841, 'normal': 842, 'belch': 843, 'dunno': 844, 'honest': 845, 'gumbel': 846, 'milk': 847, 'smells': 848, 'laughing': 849, 'music': 850, 'tip': 851, 'seconds': 852, 'early': 853, 'half': 854, 'slow': 855, 'forgot': 856, 'invented': 857, 'harv:': 858, 'fill': 859, 'eating': 860, 'thirty': 861, 'power': 862, 'company': 863, 'bet': 864, 'hair': 865, 'sent': 866, 'denver': 867, 'ones': 868, 'football_announcer:': 869, 'class': 870, 'won': 871, 'star': 872, 'state': 873, 'uncle': 874, 'stool': 875, 'sick': 876, 'along': 877, 'takes': 878, 'holding': 879, 'lying': 880, 'tinkle': 881, 'gives': 882, 'desperate': 883, 'holds': 884, '_julius_hibbert:': 885, 'except': 886, 'honey': 887, 'principal': 888, 'nigel_bakerbutcher:': 889, 'group': 890, 'joey': 891, 'worst': 892, 'flanders': 893, 'hit': 894, 'al': 895, 'romantic': 896, 'birthday': 897, 'shall': 898, 'pass': 899, 'men': 900, 'admit': 901, 'dangerous': 902, 'brought': 903, 'charge': 904, 'hard': 905, 'write': 906, 'fall': 907, 'bitter': 908, 'lives': 909, 'touched': 910, 'impressed': 911, 'sex': 912, 'strong': 913, 'sips': 914, 'fat_tony:': 915, 'tony': 916, 'set': 917, \"we'd\": 918, 'heaven': 919, 'same': 920, 'giving': 921, 'health': 922, 'kent': 923, 'truth': 924, 'bag': 925, 'hank_williams_jr': 926, 'crack': 927, 'treasure': 928, 'plan': 929, 'rat': 930, \"sayin'\": 931, \"that'll\": 932, 'szyslak': 933, 'mister': 934, 'week': 935, 'lowers': 936, 'loved': 937, 'supposed': 938, 'tune': 939, 'slap': 940, 'across': 941, 'plastic': 942, 'dumb': 943, 'baseball': 944, 'quick': 945, 'became': 946, 'jukebox': 947, 'gold': 948, 'manjula_nahasapeemapetilon:': 949, 'water': 950, 'safe': 951, 'health_inspector:': 952, 'numbers': 953, 'maya:': 954, 'bow': 955, 'lou:': 956, 'walther_hotenhoffer:': 957, 'omigod': 958, 'princess': 959, 'young_homer:': 960, 'mike': 961, 'catch': 962, \"how's\": 963, \"he'd\": 964, 'speech': 965, 'little_man:': 966, 'closed': 967, 'wallet': 968, 'wrote': 969, 'grand': 970, 'troll': 971, 'invited': 972, 'government': 973, 'joint': 974, 'club': 975, 'cutting': 976, 'service': 977, 'quietly': 978, 'movie': 979, 'doubt': 980, 'accent': 981, 'nein': 982, 'speaking': 983, 'bee': 984, 'pop': 985, 'treat': 986, 'wonderful': 987, 'games': 988, 'fellow': 989, 'cheer': 990, 'yea': 991, 'coaster': 992, 'sunday': 993, 'luck': 994, 'jack': 995, 'cop': 996, 'dallas': 997, 'short': 998, 'shirt': 999, 'lord': 1000, 'asked': 1001, 'offended': 1002, 'wha': 1003, \"smokin'_joe_frazier:\": 1004, 'cleaned': 1005, 'piece': 1006, 'felt': 1007, \"lisa's\": 1008, 'clown': 1009, 'announcer:': 1010, 'testing': 1011, 'shaking': 1012, 'glasses': 1013, \"callin'\": 1014, 'pipe': 1015, 'red': 1016, 'cost': 1017, 'wall': 1018, 'center': 1019, 'all:': 1020, 'represent': 1021, 'ago': 1022, 'chanting': 1023, 'ad': 1024, 'handsome': 1025, 'sharps': 1026, 'named': 1027, 'names': 1028, 'swear': 1029, 'hospital': 1030, 'children': 1031, 'rest': 1032, 'strap': 1033, 'fingers': 1034, 'suddenly': 1035, 'man:': 1036, 'puzzled': 1037, 'brilliant': 1038, 'soul': 1039, 'saved': 1040, 'pool': 1041, 'local': 1042, 'daddy': 1043, 'dank': 1044, 'ashamed': 1045, 'side': 1046, 'customers': 1047, 'disappointed': 1048, 'hated': 1049, 'horrified': 1050, 'tongue': 1051, 'window': 1052, 'until': 1053, 'truck': 1054, 'selma': 1055, 'owe': 1056, 'dude': 1057, 'wonder': 1058, \"tellin'\": 1059, 'punch': 1060, 'jeez': 1061, 'yep': 1062, 'empty': 1063, 'biggest': 1064, 'tired': 1065, 'drederick': 1066, 'against': 1067, 'changing': 1068, 'evening': 1069, 'clears': 1070, 'favor': 1071, 'hanging': 1072, 'gay': 1073, 'deer': 1074, 'designated': 1075, 'writing': 1076, 'beloved': 1077, 'wine': 1078, 'suit': 1079, 'confused': 1080, 'french': 1081, 'having': 1082, 'during': 1083, 'clear': 1084, 'sober': 1085, 'longer': 1086, 'chug': 1087, 'jar': 1088, 'brockman': 1089, 'absolutely': 1090, \"drivin'\": 1091, 'wheel': 1092, 'driving': 1093, 'part': 1094, 'park': 1095, 'i-i': 1096, 'unless': 1097, 'hopeful': 1098, 'stunned': 1099, 'also': 1100, \"world's\": 1101, 'running': 1102, 'broad': 1103, 'filthy': 1104, 'dame': 1105, 'boring': 1106, 'totally': 1107, 'none': 1108, 'surgery': 1109, 'survive': 1110, \"tryin'\": 1111, 'mayor': 1112, \"workin'\": 1113, 'isotopes': 1114, 'lose': 1115, 'detective_homer_simpson:': 1116, 'exasperated': 1117, \"guy's\": 1118, 'act': 1119, 'needs': 1120, 'given': 1121, 'counting': 1122, 'caught': 1123, 'cow': 1124, 'college': 1125, 'p': 1126, 'fish': 1127, 'women': 1128, 'third': 1129, 'mine': 1130, 'lessons': 1131, 'x': 1132, 'few': 1133, 'thumb': 1134, 'dying': 1135, 'stories': 1136, 'speak': 1137, 'beach': 1138, 'bed': 1139, 'artie': 1140, 'billy_the_kid:': 1141, 'bank': 1142, 'jerks': 1143, 'proud': 1144, \"one's\": 1145, \"sittin'\": 1146, 'sauce': 1147, 'suicide': 1148, 'duh': 1149, 'edna_krabappel-flanders:': 1150, 'sob': 1151, 'rope': 1152, \"i'm-so-stupid\": 1153, 'america': 1154, 'mouse': 1155, 'pity': 1156, 'nineteen': 1157, 'african': 1158, 'nuclear': 1159, 'calm': 1160, '_zander:': 1161, 'tree': 1162, 'lloyd:': 1163, '_hooper:': 1164, 'glen:': 1165, 'bender:': 1166, 'adult_bart:': 1167, 'tv_wife:': 1168, 'tv_husband:': 1169, 'film': 1170, 'rotch': 1171, 'cares': 1172, 'sits': 1173, 'follow': 1174, 'bars': 1175, 'chocolate': 1176, 'usually': 1177, 'closing': 1178, 'pulled': 1179, 'hurry': 1180, 'fifteen': 1181, 'gin': 1182, 'hits': 1183, 'spot': 1184, 'smiling': 1185, \"everyone's\": 1186, 'feels': 1187, 'pitcher': 1188, 'amazing': 1189, 'offer': 1190, 'minimum': 1191, 'restaurant': 1192, 'dollar': 1193, 'ingredient': 1194, 'career': 1195, 'market': 1196, 'stock': 1197, 'hans:': 1198, \"o'problem\": 1199, 'calls': 1200, 'embarrassed': 1201, \"today's\": 1202, 'nose': 1203, 'domestic': 1204, 'pointed': 1205, 'weekly': 1206, 'sarcastic': 1207, 'belches': 1208, 'forty': 1209, 'ruined': 1210, 'ourselves': 1211, 'original': 1212, 'situation': 1213, 'almost': 1214, 'field': 1215, 'buffalo': 1216, 'pit': 1217, 'pickled': 1218, 'couch': 1219, 'heavyweight': 1220, 'championship': 1221, 'whee': 1222, 'father': 1223, 'beauty': 1224, 'amanda': 1225, 'huggenkiss': 1226, 'ivana': 1227, 'plow': 1228, 'teenage_barney:': 1229, 'hero': 1230, 'starts': 1231, 'answer': 1232, 'enjoy': 1233, 'yesterday': 1234, 'fridge': 1235, 'agent': 1236, 'island': 1237, 'sly': 1238, 'adeleine': 1239, 'scream': 1240, 'question': 1241, 'arrest': 1242, \"what'll\": 1243, 'knock': 1244, 'figured': 1245, 'stillwater:': 1246, 'respect': 1247, 'fbi': 1248, 'hm': 1249, 'teach': 1250, 'professional': 1251, 'snake': 1252, 'flower': 1253, 'clothes': 1254, 'polite': 1255, 'tail': 1256, 'liver': 1257, 'legs': 1258, 'understand': 1259, 'pulls': 1260, 'line': 1261, 'woman:': 1262, 'meeting': 1263, 'hugh:': 1264, 'rather': 1265, 'pub': 1266, 'wear': 1267, 'loaded': 1268, 'sense': 1269, 'different': 1270, 'movies': 1271, 'magic': 1272, 'deep': 1273, \"they've\": 1274, 'ahead': 1275, 'breath': 1276, 'boat': 1277, 'working': 1278, 'kidding': 1279, 'burp': 1280, 'blow': 1281, \"livin'\": 1282, 'choice': 1283, 'test': 1284, 'opportunity': 1285, 'rich': 1286, 'brain': 1287, 'train': 1288, 'yard': 1289, 'hungry': 1290, 'match': 1291, 'body': 1292, 'tatum': 1293, 'sit': 1294, 'dramatic': 1295, \"buyin'\": 1296, 'bill': 1297, 'twelve': 1298, 'gas': 1299, 'quite': 1300, 'finger': 1301, 'lie': 1302, 'south': 1303, 'fix': 1304, 'whiny': 1305, \"o'clock\": 1306, 'drivers': 1307, 'drug': 1308, 'upbeat': 1309, 'sold': 1310, 'betty:': 1311, 'explaining': 1312, 'sexy': 1313, 'dang': 1314, 'started': 1315, 'egg': 1316, 'mug': 1317, 'months': 1318, 'chick': 1319, 'threw': 1320, 'stirring': 1321, 'husband': 1322, 'illegal': 1323, 'cover': 1324, 'folks': 1325, \"watchin'\": 1326, 'case': 1327, 'sports': 1328, 'smooth': 1329, 'computer': 1330, 'selling': 1331, 'ride': 1332, 'renee': 1333, 'flowers': 1334, 'girlfriend': 1335, 'distraught': 1336, 'pain': 1337, 'sobbing': 1338, 'raises': 1339, 'arms': 1340, 'stagy': 1341, 'procedure': 1342, 'able': 1343, 'lips': 1344, 'especially': 1345, 'fan': 1346, \"who'll\": 1347, 'dennis_conroy:': 1348, 'bottom': 1349, 'road': 1350, 'bye': 1351, 'wally:': 1352, 'flips': 1353, 'character': 1354, 'partner': 1355, 'guns': 1356, \"valentine's\": 1357, 'amid': 1358, 'yellow': 1359, 'radishes': 1360, 'u': 1361, \"bein'\": 1362, 'bald': 1363, 'castle': 1364, 'busy': 1365, 're:': 1366, 'seem': 1367, 'jerk': 1368, 'sincere': 1369, 'precious': 1370, 'burt': 1371, 'garbage': 1372, 'died': 1373, \"dad's\": 1374, 'whisper': 1375, 'lotta': 1376, 'secrets': 1377, 'whaddaya': 1378, 'sees': 1379, 'pickle': 1380, 'rob': 1381, 'coat': 1382, 'trip': 1383, 'ooo': 1384, 'band': 1385, 'neck': 1386, 'tom': 1387, 'gotten': 1388, 'buttons': 1389, 'eleven': 1390, 'à': 1391, 'cries': 1392, 'awkward': 1393, 'video': 1394, 'billboard': 1395, 'david_byrne:': 1396, 'france': 1397, 'sheepish': 1398, 'address': 1399, 'monster': 1400, 'meaningful': 1401, 'furious': 1402, 'new_health_inspector:': 1403, 'pipes': 1404, 'needed': 1405, 'moment': 1406, 'ominous': 1407, 'declan_desmond:': 1408, 'sister': 1409, 'milhouse_van_houten:': 1410, 'forget-me-shot': 1411, 'finding': 1412, 'shows': 1413, 'bees': 1414, 'vance': 1415, 'correct': 1416, 'pleased': 1417, 'cable': 1418, 'babies': 1419, 'clearly': 1420, 'yap': 1421, 'hoping': 1422, 'thoughtful': 1423, 'grim': 1424, 'frustrated': 1425, 'burps': 1426, 'therapy': 1427, 'foibles': 1428, 'books': 1429, 'twins': 1430, 'rag': 1431, 'keeps': 1432, 'dan_gillick:': 1433, 'ken:': 1434, \"carl's\": 1435, 'senator': 1436, 'senators': 1437, \"moe's_thoughts:\": 1438, 'teenage_bart:': 1439, 'eddie:': 1440, 'century': 1441, 'fox': 1442, 'corporation': 1443, 'lately': 1444, 'puke': 1445, 'struggling': 1446, 'crummy': 1447, 'tells': 1448, 'spit': 1449, \"'til\": 1450, 'unison': 1451, 'thoughts': 1452, 'finished': 1453, 'concerned': 1454, 'burning': 1455, 'hiya': 1456, 'junior': 1457, 'cigarette': 1458, 'sucked': 1459, 'harv': 1460, 'cough': 1461, 'its': 1462, 'delicious': 1463, 'noticing': 1464, 'above': 1465, 'expect': 1466, 'accurate': 1467, 'tips': 1468, 'pardon': 1469, 'idiot': 1470, 'covering': 1471, 'frankly': 1472, 'kept': 1473, 'k': 1474, 'twenty-five': 1475, 'become': 1476, 'german': 1477, 'fritz:': 1478, 'buying': 1479, 'brains': 1480, 'crank': 1481, \"bart's\": 1482, 'lots': 1483, \"they'll\": 1484, 'cheap': 1485, 'hug': 1486, 'sniffs': 1487, 'bowling': 1488, 'gift': 1489, 'bret:': 1490, 'guest': 1491, 'whose': 1492, 'shares': 1493, 'odd': 1494, 'hates': 1495, 'whatcha': 1496, 'touchdown': 1497, 'fork': 1498, 'keeping': 1499, 'careful': 1500, 'prime': 1501, 'palmerston': 1502, 'elder': 1503, 'pfft': 1504, 'lottery': 1505, 'sadistic_barfly:': 1506, 'cents': 1507, 'customer': 1508, 'step': 1509, 'holiday': 1510, 'religion': 1511, 'born': 1512, 'tv_father:': 1513, 'toss': 1514, 'jack_larson:': 1515, 'pageant': 1516, 'age': 1517, 'endorse': 1518, 'puff': 1519, \"where'd\": 1520, 'stopped': 1521, 'ruin': 1522, 'sec': 1523, 'shove': 1524, 'mistake': 1525, 'slip': 1526, 'pathetic': 1527, 'har': 1528, 'ring': 1529, 'checks': 1530, 'pointing': 1531, 'aside': 1532, 'ordered': 1533, 'dressed': 1534, 'bus': 1535, 'gal': 1536, 'afternoon': 1537, 'kwik-e-mart': 1538, 'coney': 1539, 'single': 1540, 'darts': 1541, \"havin'\": 1542, 'pause': 1543, '_babcock:': 1544, 'higher': 1545, 'reads': 1546, 'sexual': 1547, 'moments': 1548, 'alley': 1549, 'fault': 1550, 'hmmm': 1551, 'roll': 1552, 'form': 1553, 'register': 1554, 'prank': 1555, 'coffee': 1556, 'label': 1557, 'innocent': 1558, 'double': 1559, 'hurts': 1560, 'loan': 1561, 'leans': 1562, 'fool': 1563, 'covers': 1564, 'crawl': 1565, 'following': 1566, 'celebrities': 1567, 'consider': 1568, 'imagine': 1569, 'moved': 1570, 'fumes': 1571, 'oil': 1572, 'exhaust': 1573, 'gag': 1574, 'stole': 1575, 'killed': 1576, 'understanding': 1577, 'raising': 1578, 'natural': 1579, 'stools': 1580, 'texas': 1581, 'rid': 1582, 'barney-shaped_form:': 1583, 'snaps': 1584, 'bright': 1585, 'beginning': 1586, 'cute': 1587, 'evil': 1588, '&': 1589, 'exit': 1590, 'midnight': 1591, 'compliment': 1592, \"stinkin'\": 1593, 'glum': 1594, 'salad': 1595, 'complete': 1596, \"c'mere\": 1597, 'knocked': 1598, 'bob': 1599, 'fact': 1600, 'cannot': 1601, 'incredulous': 1602, 'fans': 1603, 'saturday': 1604, 'parking': 1605, 'general': 1606, 'trust': 1607, \"could've\": 1608, 'stayed': 1609, 'shape': 1610, 'taken': 1611, \"gentleman's\": 1612, \"barney's\": 1613, 'mafia': 1614, 'crime': 1615, 'indignant': 1616, 'entire': 1617, 'grow': 1618, 'modern': 1619, 'diet': 1620, 'shoot': 1621, 'enemy': 1622, 'accept': 1623, 'enemies': 1624, 'list': 1625, 'invite': 1626, 'lonely': 1627, 'singers:': 1628, 'toward': 1629, 'defensive': 1630, 'walks': 1631, 'snort': 1632, 'mechanical': 1633, 'suppose': 1634, 'sometime': 1635, 'fancy': 1636, 'kissing': 1637, 'per': 1638, 'traffic': 1639, 'peter': 1640, 'pained': 1641, 'extra': 1642, 'cheers': 1643, 'driver': 1644, 'program': 1645, 'inspector': 1646, 'heads': 1647, 'recommend': 1648, 'severe': 1649, 'checking': 1650, 'showing': 1651, 'fever': 1652, 'spending': 1653, 'switch': 1654, 'casual': 1655, 'rough': 1656, 'pissed': 1657, 'scene': 1658, 'church': 1659, 'threatening': 1660, 'turkey': 1661, 'scam': 1662, 'jesus': 1663, 'spinning': 1664, 'pats': 1665, \"seein'\": 1666, 'toilet': 1667, 'der': 1668, 'crowd': 1669, 'boo': 1670, 'wide': 1671, 'toasting': 1672, 'order': 1673, 'bunch': 1674, 'pays': 1675, 'law': 1676, 'wasting': 1677, 'corpses': 1678, 'sleep': 1679, 'screams': 1680, 'aww': 1681, 'seeing': 1682, 'military': 1683, 'hunter': 1684, 'reminds': 1685, 'panicky': 1686, 'ridiculous': 1687, 'campaign': 1688, 'public': 1689, \"they'd\": 1690, 'focus': 1691, 'knowing': 1692, 'jolly': 1693, 'upon': 1694, 'edison': 1695, 'played': 1696, 'middle': 1697, 'worked': 1698, 'james': 1699, 'hole': 1700, 'corner': 1701, 'summer': 1702, 'operation': 1703, 'comfortable': 1704, 'inspection': 1705, 'season': 1706, 'grunt': 1707, 'wooooo': 1708, 'history': 1709, 'team': 1710, 'grabbing': 1711, 'root': 1712, 'spanish': 1713, 'weeks': 1714, 'coach:': 1715, \"wife's\": 1716, 'leg': 1717, 'grabs': 1718, 'peace': 1719, 'toys': 1720, 'changed': 1721, 'international': 1722, 'who-o-oa': 1723, 'hour': 1724, 'men:': 1725, \"men's\": 1726, 'hilarious': 1727, 'frink': 1728, 'paying': 1729, 'searching': 1730, 'embarrassing': 1731, 'past': 1732, 'challenge': 1733, 'tears': 1734, 'cocktail': 1735, 'stadium': 1736, 'finest': 1737, 'license': 1738, 'ho': 1739, 'dynamite': 1740, 'rub': 1741, 'grunts': 1742, 'chinese': 1743, 'uncomfortable': 1744, 'helicopter': 1745, 'sweetly': 1746, 'fly': 1747, 'suck': 1748, 'fireball': 1749, 'mudflap': 1750, \"ridin'\": 1751, 'teeth': 1752, 'closer': 1753, 'happily': 1754, '_timothy_lovejoy:': 1755, 'chest': 1756, 'popular': 1757, 'directions': 1758, 'bought': 1759, 'tried': 1760, 'wearing': 1761, 'delighted': 1762, 'button': 1763, 'future': 1764, 'drunks': 1765, 'serve': 1766, 'spoken': 1767, 'thankful': 1768, 'looked': 1769, 'ancient': 1770, 'losing': 1771, 'lindsay_naegle:': 1772, 'teenage': 1773, 'ohmygod': 1774, 'uneasy': 1775, \"i-i'm\": 1776, 'terrified': 1777, 'scum': 1778, 'afford': 1779, 'anniversary': 1780, 'feed': 1781, 'starting': 1782, \"robbin'\": 1783, 'banks': 1784, 'fair': 1785, 'backwards': 1786, 'rats': 1787, 'staying': 1788, 'death': 1789, 'andy': 1790, 'mock': 1791, 'flatly': 1792, 'sisters': 1793, 'subject': 1794, 'likes': 1795, 'peach': 1796, 'miserable': 1797, 'jump': 1798, 'dive': 1799, 'bless': 1800, 'attention': 1801, 'paris': 1802, 'cards': 1803, 'ziffcorp': 1804, 'sec_agent_#1:': 1805, 'fraud': 1806, 'perhaps': 1807, 'ground': 1808, 'jail': 1809, 'ran': 1810, \"kids'\": 1811, 'gary_chalmers:': 1812, 'dancing': 1813, 'wiener': 1814, 'vomit': 1815, 'bike': 1816, 'floor': 1817, 'glen': 1818, 'breaking': 1819, 'british': 1820, 'letters': 1821, 'clone': 1822, 'tradition': 1823, 'push': 1824, 'vegas': 1825, 'system': 1826, 'bar-boy': 1827, 'foot': 1828, 'motel': 1829, 'awful': 1830, 'child': 1831, 'yee-haw': 1832, 'workers': 1833, 'then:': 1834, 'clientele': 1835, 'army': 1836, 'milhouse': 1837, 'greystash': 1838, 'dirt': 1839, 'doors': 1840, 'size': 1841, 'reason': 1842, 'feelings': 1843, 'mel': 1844, 'bite': 1845, 'powerful': 1846, 'wipe': 1847, 'image': 1848, 'pockets': 1849, 'share': 1850, 'jamaican': 1851, 'l': 1852, \"lenny's\": 1853, 'midge': 1854, 'gently': 1855, 'unlike': 1856, 'meant': 1857, 'sniffles': 1858, 'election': 1859, 'al_gore:': 1860, 'nobel': 1861, 'sadder': 1862, 'yo': 1863, 'unlucky': 1864, 'somewhere': 1865, 'met': 1866, 'relax': 1867, 'anguished': 1868, 'talk-sings': 1869, 'tastes': 1870, 'kang:': 1871, \"year's\": 1872, 'bitterly': 1873, 'woo-hoo': 1874, 'cameras': 1875, 'nards': 1876, 'gary:': 1877, 'fourth': 1878, 'scotch': 1879, 'drop': 1880, 'weak': 1881, 'opening': 1882, '_kissingher:': 1883, 'text': 1884, 'f': 1885, 'hall': 1886, 'wayne:': 1887, 'nation': 1888, 'kermit': 1889, 'belly': 1890, 'despite': 1891, 'r': 1892, 'theater': 1893, 'twenty-two': 1894, 'sixty-nine': 1895, 'source': 1896, 'brother': 1897, 'book_club_member:': 1898, 'literature': 1899, 'troy:': 1900, 'pocket': 1901, 'marvin': 1902, 'twentieth': 1903, 'reserved': 1904, 'carve': 1905, 'effervescent': 1906, 'social': 1907, 'vote': 1908, 'corkscrew': 1909, 'folk': 1910, 'neat': 1911, 'tick': 1912, 'effects': 1913, 'trick': 1914, 'judge': 1915, 'mumbling': 1916, 'closes': 1917, 'smoothly': 1918, 'gum': 1919, 'satisfaction': 1920, 'payments': 1921, 'distributor': 1922, 'spent': 1923, 'tester': 1924, 'gums': 1925, \"bartender's\": 1926, 'brightening': 1927, 'homers': 1928, 'syrup': 1929, 'knife': 1930, 'doll': 1931, 'charm': 1932, 'lighting': 1933, \"tester's\": 1934, 'busted': 1935, 'barkeep': 1936, 'bartenders': 1937, 'barf': 1938, 'measurements': 1939, 'benefits': 1940, 'prefer': 1941, 'hired': 1942, \"shan't\": 1943, 'regret': 1944, 'genius': 1945, 'mcstagger': 1946, 'successful': 1947, 'sale': 1948, 'yours': 1949, 'compliments': 1950, 'aerosmith': 1951, 'refund': 1952, 'henry': 1953, 'reserve': 1954, 'swill': 1955, 'ech': 1956, 'interested': 1957, 'owner': 1958, 'confident': 1959, '100': 1960, 'awwww': 1961, 'bucket': 1962, 'conspiratorial': 1963, 'teddy': 1964, 'bear': 1965, 'beneath': 1966, 'seek': 1967, 'bears': 1968, 'blend': 1969, 'greedy': 1970, 'sector': 1971, 'recently': 1972, 'shaken': 1973, 'recall': 1974, 'inspire': 1975, 'peanut': 1976, 'slyly': 1977, 'pleasure': 1978, 'thirteen': 1979, 'studio': 1980, 'apartment': 1981, 'listening': 1982, 'deeply': 1983, 'victory': 1984, 'bread': 1985, 'bets': 1986, 'troy': 1987, 'troy_mcclure:': 1988, 'bret': 1989, 'handle': 1990, 'retired': 1991, 'comedy': 1992, \"buffalo's\": 1993, 'excellent': 1994, 'riding': 1995, 'whistles': 1996, 'dan': 1997, 'wins': 1998, 'aggravated': 1999, 'teams': 2000, 'cowboys': 2001, 'clock': 2002, 'cars': 2003, \"maggie's\": 2004, 'handing': 2005, 'minister': 2006, 'wade_boggs:': 2007, 'jumps': 2008, 'poking': 2009, \"showin'\": 2010, 'gals': 2011, 'fudd': 2012, 'miles': 2013, 'finishing': 2014, 'dryer': 2015, 'feast': 2016, 'snake-handler': 2017, 'prove': 2018, 'laramie': 2019, 'cigarettes': 2020, 'prohibit': 2021, 'smoke': 2022, 'product': 2023, '250': 2024, 'animals': 2025, '_powers:': 2026, 'standards': 2027, 'b': 2028, 'sausage': 2029, 'ah-ha': 2030, 'sooner': 2031, 'linda': 2032, 'project': 2033, 'snow': 2034, \"fallin'\": 2035, 'prayer': 2036, 'wave': 2037, 'yoo': 2038, 'cheery': 2039, 'sack': 2040, 'chilly': 2041, 'willy': 2042, 'appear': 2043, 'remembered': 2044, 'snap': 2045, 't-shirt': 2046, 'plum': 2047, 'deserve': 2048, 'civic': 2049, 'ragtime': 2050, 'isle': 2051, 'babe': 2052, 'village': 2053, 'tenor:': 2054, 'paid': 2055, 'lib': 2056, 'remains': 2057, 'witty': 2058, 'served': 2059, 'cops': 2060, 'andalay': 2061, 'sometimes': 2062, 'based': 2063, 'realize': 2064, 'insightful': 2065, 'code': 2066, 'cueball': 2067, 'clinton': 2068, 'tang': 2069, \"it'd\": 2070, 'nasa': 2071, 'astronaut': 2072, 'shrugging': 2073, 'rap': 2074, 'advantage': 2075, 'generous': 2076, 'pin': 2077, 'cola': 2078, 'forbidden': 2079, 'present': 2080, 'entirely': 2081, 'bold': 2082, 'teacher': 2083, 'sugar': 2084, 'pleading': 2085, 'pulling': 2086, 'ohh': 2087, 'greetings': 2088, 'giggles': 2089, 'advance': 2090, 'gosh': 2091, 'bash': 2092, 'poet': 2093, 'alcoholic': 2094, 'large': 2095, 'pouring': 2096, 'honored': 2097, 'virtual': 2098, 'inflated': 2099, 'self-esteem': 2100, 'male_inspector:': 2101, 'detecting': 2102, 'rage': 2103, 'reasons': 2104, 'writers': 2105, 'alfalfa': 2106, 'murmur': 2107, 'hollywood': 2108, 'restaurants': 2109, 'pressure': 2110, 'inspired': 2111, 'memories': 2112, 'blew': 2113, 'pad': 2114, 'stinks': 2115, 'ahhh': 2116, 'rolling': 2117, 'wondering': 2118, 'ringing': 2119, 'ye': 2120, 'jebediah': 2121, 'cutie': 2122, 'bums': 2123, 'angel': 2124, 'blood-thirsty': 2125, 'pirate': 2126, 'jubilant': 2127, 'waylon': 2128, 'delivery': 2129, 'forward': 2130, 'darkest': 2131, 'calculate': 2132, 'results': 2133, 'billion': 2134, 'space': 2135, 'considering': 2136, 'freeze': 2137, 'reasonable': 2138, 'ha-ha': 2139, 'themselves': 2140, 'raise': 2141, 'oof': 2142, 'belt': 2143, 'steak': 2144, 'meal': 2145, 'awe': 2146, 'percent': 2147, 'manage': 2148, 'realized': 2149, \"hadn't\": 2150, 'boxer': 2151, 'gorgeous': 2152, \"meanin'\": 2153, 'lucius': 2154, 'famous': 2155, 'don': 2156, 'manager': 2157, 'somehow': 2158, 'row': 2159, 'politics': 2160, 'agreement': 2161, 'fighting': 2162, 'sandwich': 2163, 'punches': 2164, 'energy': 2165, 'hobo': 2166, 'nudge': 2167, 'awed': 2168, 'managing': 2169, 'champ': 2170, 'release': 2171, 'weary': 2172, 'rounds': 2173, 'freak': 2174, 'remembering': 2175, 'fondly': 2176, 'worth': 2177, 'lover': 2178, 'radio': 2179, 'borrow': 2180, 'granted': 2181, 'helped': 2182, 'built': 2183, 'solid': 2184, 'routine': 2185, 'mate': 2186, 'chum': 2187, 'acquaintance': 2188, 'quality': 2189, 'fox_mulder:': 2190, 'began': 2191, 'discussing': 2192, 'scully': 2193, 'penny': 2194, \"money's\": 2195, 'asking': 2196, 'mob': 2197, 'steel': 2198, 'broadway': 2199, 'sodas': 2200, 'neither': 2201, 'christopher': 2202, 'shooting': 2203, 'bags': 2204, 'hunting': 2205, \"patrick's\": 2206, 'kicked': 2207, 'written': 2208, 'crossed': 2209, 'morose': 2210, 'bam': 2211, 'yelling': 2212, 'love-matic': 2213, 'peppy': 2214, 'passed': 2215, 'floated': 2216, 'sweeter': 2217, 'buried': 2218, 'naked': 2219, 'dismissive': 2220, 'karaoke': 2221, 'near': 2222, 'expert': 2223, 'spread': 2224, 'germs': 2225, 'cent': 2226, 'caused': 2227, 'pope': 2228, 'reach': 2229, 'draw': 2230, 'costume': 2231, 'labels': 2232, 'straining': 2233, 'conditioner': 2234, 'sweetheart': 2235, 'margarita': 2236, 'planning': 2237, 'vacation': 2238, 'chase': 2239, 'blues': 2240, 'manjula': 2241, \"countin'\": 2242, 'freedom': 2243, 'reaching': 2244, 'bubbles': 2245, 'ways': 2246, \"ma'am\": 2247, 'devastated': 2248, 'grave': 2249, 'mic': 2250, 'products': 2251, 'price': 2252, 'cake': 2253, 'churchill': 2254, 'purse': 2255, 'businessman_#1:': 2256, 'firmly': 2257, 'utility': 2258, 'creeps': 2259, 'roomy': 2260, 'european': 2261, 'plenty': 2262, 'yogurt': 2263, 'porn': 2264, 'thoughtfully': 2265, 'seats': 2266, 'highway': 2267, 'commission': 2268, 'yards': 2269, 'pride': 2270, 'beam': 2271, 'mail': 2272, 'bride': 2273, 'fabulous': 2274, 'due': 2275, 'roses': 2276, 'kidney': 2277, 'dropped': 2278, 'dearest': 2279, 'warily': 2280, 'placing': 2281, \"town's\": 2282, 'charity': 2283, 'railroad': 2284, 'coward': 2285, 'medicine': 2286, 'sudden': 2287, 'attack': 2288, 'yell': 2289, 'forgive': 2290, 'puts': 2291, 'joined': 2292, 'joining': 2293, 'although': 2294, \"pope's\": 2295, 'ironed': 2296, 'blown': 2297, 'involved': 2298, 'agent_johnson:': 2299, 'involving': 2300, 'bush': 2301, 'charlie': 2302, 'lazy': 2303, 'message': 2304, 'seriously': 2305, 'mop': 2306, 'stands': 2307, 'ocean': 2308, 'bathing': 2309, 'increasingly': 2310, 'organ': 2311, 'jockey': 2312, 'grumpy': 2313, 'crying': 2314, \"springfield's\": 2315, 'bigger': 2316, 'cotton': 2317, 'balls': 2318, '6': 2319, 'promised': 2320, 'vodka': 2321, 'gentleman:': 2322, 'celebrity': 2323, 'bubble': 2324, 'brave': 2325, 'deadly': 2326, 'correcting': 2327, 'scare': 2328, 'eyeball': 2329, 'catching': 2330, 'mess': 2331, 'bathroom': 2332, 'all-star': 2333, \"'topes\": 2334, 'excitement': 2335, 'inspiring': 2336, \"game's\": 2337, 'pitch': 2338, 'director': 2339, 'rumaki': 2340, 'sports_announcer:': 2341, 'pointless': 2342, 'conference': 2343, \"team's\": 2344, 'atlanta': 2345, 'falcons': 2346, 'mmm': 2347, 'foil': 2348, 'yup': 2349, 'beating': 2350, 'simp-sonnnn': 2351, 'acting': 2352, 'gang': 2353, 'choking': 2354, 'murmurs': 2355, 'yourselves': 2356, 'easier': 2357, 'curious': 2358, 'matter-of-fact': 2359, 'kyoto': 2360, 'sea': 2361, 'fritz': 2362, 'drawing': 2363, 'justice': 2364, 'patterns': 2365, 'lights': 2366, 'hawking:': 2367, \"hangin'\": 2368, 'putting': 2369, 'tentative': 2370, 'umm': 2371, 'heavyset': 2372, 'insulted': 2373, 'tommy': 2374, 'honor': 2375, 'duel': 2376, 'fevered': 2377, 'between': 2378, 'thesaurus': 2379, 'danish': 2380, 'joking': 2381, 'laws': 2382, 'held': 2383, 'knees': 2384, 'throwing': 2385, 'seas': 2386, 'eyesore': 2387, 'jeff': 2388, 'ugliest': 2389, 'white': 2390, 'gargoyle': 2391, 'brow': 2392, 'pleasant': 2393, 'mount': 2394, 'carlson': 2395, 'harder': 2396, 'nearly': 2397, 'wash': 2398, 'beats': 2399, 'tax': 2400, 'trusted': 2401, 'poem': 2402, 'planet': 2403, 'professor': 2404, 'disgrace': 2405, 'stationery': 2406, 'flying': 2407, 'tanked-up': 2408, 'certain': 2409, \"bar's\": 2410, 'queer': 2411, 'guide': 2412, 'calmly': 2413, 'befouled': 2414, 'broom': 2415, 'explain': 2416, 'unfortunately': 2417, 'reynolds': 2418, 'jerry': 2419, 'solo': 2420, 'lowering': 2421, 'sinister': 2422, 'onions': 2423, 'talked': 2424, 'frosty': 2425, 'voice:': 2426, 'helen': 2427, 'bible': 2428, 'medical': 2429, \"chewin'\": 2430, 'shock': 2431, 'satisfied': 2432, 'effigy': 2433, 'jobs': 2434, 'mention': 2435, 'smart': 2436, 'dee-fense': 2437, 'twice': 2438, 'schnapps': 2439, 'comic': 2440, 'klingon': 2441, 'mm': 2442, 'fresh': 2443, 'loss': 2444, 'smurfs': 2445, 'wake': 2446, 'disapproving': 2447, 'informant': 2448, 'goods': 2449, 'smugglers': 2450, 'voice_on_transmitter:': 2451, 'answering': 2452, 'mcbain': 2453, \"father's\": 2454, 'taps': 2455, 'jets': 2456, 'eventually': 2457, 'morlocks': 2458, 'liar': 2459, \"weren't\": 2460, 'naturally': 2461, 'shaggy': 2462, 'gun': 2463, 'passion': 2464, 'bartending': 2465, 'painting': 2466, 'expression': 2467, 'contest': 2468, 'potato': 2469, 'ayyy': 2470, 'tabooger': 2471, 'ollie': 2472, 'deliberate': 2473, 'formico:': 2474, 'formico': 2475, 'thanksgiving': 2476, 'tofu': 2477, 'curds': 2478, 'ambrosia': 2479, 'terrific': 2480, 'cookies': 2481, 'admiring': 2482, 'anywhere': 2483, 'eighty-seven': 2484, 'palm': 2485, 'actors': 2486, 'brewed': 2487, 'hop': 2488, 'juice': 2489, 'agree': 2490, 'grandiose': 2491, 'boyfriend': 2492, 'spy': 2493, 'superior': 2494, 'rainier_wolfcastle:': 2495, 'authorized': 2496, 'impatient': 2497, 'bottles': 2498, 'salt': 2499, 'windex': 2500, 'koi': 2501, 'pond': 2502, 'drown': 2503, 'surprise': 2504, 'wang': 2505, 'dating': 2506, 'sat': 2507, 'drank': 2508, 'i-i-i': 2509, 'force': 2510, 'badges': 2511, 'admitting': 2512, 'pian-ee': 2513, 'shoo': 2514, 'grab': 2515, \"'im\": 2516, 'dough': 2517, 'emotional': 2518, 'color': 2519, 'skin': 2520, 'alphabet': 2521, 'smug': 2522, 'louder': 2523, 'fuss': 2524, '1895': 2525, 'soap': 2526, 'aging': 2527, 'whenever': 2528, 'denser': 2529, 'disco': 2530, 'complaining': 2531, 'magazine': 2532, 'young_moe:': 2533, 'memory': 2534, 'amount': 2535, 'appointment': 2536, 'bird': 2537, 'decide': 2538, 'lush': 2539, 'cruel': 2540, 'david': 2541, 'wishes': 2542, 'cream': 2543, \"cat's\": 2544, 'nope': 2545, 'boozy': 2546, 'dessert': 2547, 'crumble': 2548, 'cooler': 2549, 'delivery_boy:': 2550, 'bastard': 2551, 'mona_simpson:': 2552, 'stevie': 2553, 'woozy': 2554, 'gifts': 2555, 'diamond': 2556, 'woman_bystander:': 2557, 'ziff': 2558, 'fold': 2559, 'achem': 2560, 'd': 2561, 'securities': 2562, 'exchange': 2563, 'sec_agent_#2:': 2564, 'investor': 2565, 'confidence': 2566, 'nerve': 2567, 'prison': 2568, 'standing': 2569, 'bedroom': 2570, 'value': 2571, 'shakespeare': 2572, 'watered-down': 2573, 'underpants': 2574, 'needy': 2575, 'kindly': 2576, 'funds': 2577, 'lap': 2578, \"what're\": 2579, 'bugging': 2580, 'seemed': 2581, 'wedding': 2582, 'missed': 2583, 'shoulder': 2584, 'department': 2585, 'violations': 2586, 'roof': 2587, 'shutting': 2588, \"'tis\": 2589, 'shrugs': 2590, \"beer's\": 2591, 'changes': 2592, 'conversation': 2593, 'hotline': 2594, 'dials': 2595, 'allowed': 2596, 'sleeps': 2597, 'quotes': 2598, 'therefore': 2599, 'regulars': 2600, 'skirt': 2601, 'prepared': 2602, 'trapped': 2603, 'rule': 2604, 'pint': 2605, 'judge_snyder:': 2606, 'ale': 2607, 'suds': 2608, 'cat': 2609, 'moe-clone:': 2610, 'attitude': 2611, 'weirder': 2612, 'jerky': 2613, 'record': 2614, 'bourbon': 2615, 'ginger': 2616, 'sissy': 2617, 'wrestling': 2618, 'forehead': 2619, 'barely': 2620, 'flag': 2621, 'attempting': 2622, \"takin'\": 2623, 'camp': 2624, 'cheat': 2625, 'haw': 2626, \"payin'\": 2627, 'known': 2628, 'bridge': 2629, 'museum': 2630, 'coins': 2631, 'jailbird': 2632, 'wangs': 2633, 'photo': 2634, 'shoots': 2635, 'louie:': 2636, 'reporter:': 2637, 'irish': 2638, \"drawin'\": 2639, 'marmaduke': 2640, \"waitin'\": 2641, 'fragile': 2642, 'wolfe': 2643, 'wordloaf': 2644, 'festival': 2645, 'fictional': 2646, \"what'sa\": 2647, 'fausto': 2648, 'action': 2649, 'pretending': 2650, 'abandon': 2651, 'airport': 2652, 'mortgage': 2653, \"ladies'\": 2654, 'dames': 2655, 'appealing': 2656, 'patient': 2657, 'weirded-out': 2658, 'fanciest': 2659, 'towed': 2660, 'eighty-one': 2661, 'joke': 2662, 'grandmother': 2663, 'bully': 2664, 'mixed': 2665, 'stir': 2666, 'positive': 2667, 'slight': 2668, 'latin': 2669, 'complaint': 2670, 'obvious': 2671, 'thighs': 2672, 'internet': 2673, 'media': 2674, 'disappeared': 2675, 'candidate': 2676, 'dennis_kucinich:': 2677, 'lurleen': 2678, 'lurleen_lumpkin:': 2679, 'rock': 2680, \"someone's\": 2681, 'hangs': 2682, 'sneaky': 2683, 'winnings': 2684, 'krabappel': 2685, 'difficult': 2686, 'discuss': 2687, 'compared': 2688, 'decent': 2689, 'doreen': 2690, 'doreen:': 2691, \"marge's\": 2692, 'available': 2693, 'bashir': 2694, 'arab_man:': 2695, 'dress': 2696, 'grimly': 2697, 'lock': 2698, 'combine': 2699, 'queen': 2700, 'multiple': 2701, 'prize': 2702, 'alfred': 2703, 'shower': 2704, 'tiny': 2705, 'slice': 2706, 'playful': 2707, \"wonderin'\": 2708, 'defeated': 2709, 'maya': 2710, 'whether': 2711, 'awww': 2712, 'rhyme': 2713, 'un-sults': 2714, 'courage': 2715, 'reviews': 2716, 'hibbert': 2717, 'banquo': 2718, 'thought_bubble_homer:': 2719, 'tries': 2720, 'wing': 2721, 'helllp': 2722, 'lovely': 2723, 'cozy': 2724, 'begins': 2725, 'torn': 2726, 'warn': 2727, 'possibly': 2728, 'stranger:': 2729, 'gator:': 2730, 'corporate': 2731, 'industry': 2732, 'awesome': 2733, 'decency': 2734, 'extremely': 2735, 'saint': 2736, 'type': 2737, 'is:': 2738, 'partly': 2739, 'golf': 2740, 'ball-sized': 2741, 'hail': 2742, 'continuing': 2743, 'electronic': 2744, 'zero': 2745, 'tale': 2746, 'restroom': 2747, 'rules': 2748, 'sitar': 2749, 'smallest': 2750, 'sympathetic': 2751, 'slightly': 2752, 'soup': 2753, 'padre': 2754, 'lloyd': 2755, 'candy': 2756, 'scary': 2757, 'beep': 2758, 'strategy': 2759, 'answers': 2760, 'grienke': 2761, 'sport': 2762, 'doug:': 2763, 'sabermetrics': 2764, \"others'\": 2765, 'fixed': 2766, 'assistant': 2767, 'admiration': 2768, 'self-made': 2769, 'suspect': 2770, 'proposing': 2771, 'plans': 2772, 'hitler': 2773, 'dungeon': 2774, 'stern': 2775, 'waltz': 2776, 'suspicious': 2777, 'roz:': 2778, 'relieved': 2779, 'suing': 2780, 'therapist': 2781, 'skeptical': 2782, 'boneheaded': 2783, 'relationship': 2784, 'twin': 2785, 'dreamed': 2786, 'joey_kramer:': 2787, 'kramer': 2788, 'neighbor': 2789, 'completing': 2790, \"other's\": 2791, 'wayne': 2792, 'stealings': 2793, 'monkey': 2794, 'crew': 2795, \"children's\": 2796, 'underbridge': 2797, 'academy': 2798, 'neil_gaiman:': 2799, 'square': 2800, 'vulnerable': 2801, 'copy': 2802, 'trolls': 2803, 'vampires': 2804, \"hasn't\": 2805, 'lenny:': 2806, 'carl:': 2807, 'carll': 2808, 'website': 2809, 'safer': 2810, 'bedbugs': 2811, 'duty': 2812, 'intense': 2813, 'friendship': 2814, \"crawlin'\": 2815, 'maman': 2816, 'failed': 2817, 'lise:': 2818, 'marguerite:': 2819, 'cheese': 2820, 'degradation': 2821, 'violin': 2822, 'heading': 2823, 'raccoons': 2824, 'filled': 2825, 'rolled': 2826, 'trench': 2827, 'frog': 2828, 'poker': 2829, 'cowardly': 2830, 'outlook': 2831, 'motorcycle': 2832, 'ripcord': 2833, 'reached': 2834, 'so-called': 2835, '7-year-old_brockman:': 2836, 'muttering': 2837, 'plywood': 2838, 'hats': 2839, 'civilization': 2840, 'anarchy': 2841, 'w': 2842, \"readin'\": 2843, 'chicks': 2844, 'wooden': 2845, 'deacon': 2846, 'priest': 2847, 'important': 2848, 'vacuum': 2849, 'cleaner': 2850, 'tie': 2851, 'belong': 2852, 'dreams': 2853, 'elephants': 2854, 'brothers': 2855, 'wings': 2856, 'spied': 2857, 'bump': 2858, 'reliable': 2859, 'superhero': 2860, 'pigs': 2861, 'refresh': 2862, 'express': 2863, 'mall': 2864, 'santa': 2865, 'page': 2866, 'brassiest': 2867, 'nickels': 2868, 'laney_fontaine:': 2869, 'craphole': 2870, 'smile:': 2871, 'baritone': 2872, 'africa': 2873, 'snorts': 2874, 'wa': 2875, 'scrape': 2876, 'nigeria': 2877, 'level': 2878, 'nigerian': 2879, 'princesses': 2880, 'familiar': 2881, 'yawns': 2882, 'stuck': 2883, 'scooter': 2884, 'aged_moe:': 2885, 'teenage_homer:': 2886, 'grade': 2887, \"homer's_brain:\": 2888, 'punk': 2889, 'someday': 2890, 'boxing_announcer:': 2891, \"monroe's\": 2892, 'thru': 2893, 'koholic': 2894, \"dyin'\": 2895, 'tv_announcer:': 2896, 'patty': 2897, '[year': 2898, '1989]': 2899, '©': 2900, 'rights': 2901, 'elite': 2902, 'enhance': 2903, 'skills': 2904, 'politician': 2905, \"neighbor's\": 2906, 'right-handed': 2907, 'corkscrews': 2908, 'homer_': 2909, \"cont'd:\": 2910, 'led': 2911, 'richer': 2912, 'county': 2913, 'faces': 2914, 'profiling': 2915, 'paper': 2916, \"depressin'\": 2917, 'crisis': 2918, 'pictured': 2919, 'underwear': 2920, 'jury': 2921, 'lawyer': 2922, 'pretzel': 2923, 'patrons:': 2924, 'foam': 2925, 'spare': 2926, 'stiffening': 2927, 'trenchant': 2928, 'disappointing': 2929, 'jer': 2930, 'grudgingly': 2931, 'reed': 2932, 'whoo': 2933, 'instrument': 2934, 'sunk': 2935, 'patrons': 2936, 'figure': 2937, 'healthier': 2938, 'increased': 2939, 'togetherness': 2940, 'poison': 2941, 'purveyor': 2942, 'mind-numbing': 2943, 'intoxicants': 2944, 'unfamiliar': 2945, 'tonic': 2946, 'mix': 2947, 'bowie': 2948, 'nickel': 2949, 'coughs': 2950, 'phlegm': 2951, 'looser': 2952, 'sneeze': 2953, 'guard': 2954, 'chuckling': 2955, 'crowded': 2956, 'cracked': 2957, 'accepting': 2958, 'stamps': 2959, 'combination': 2960, 'patron_#1:': 2961, 'patron_#2:': 2962, 'store-bought': 2963, 'drollery': 2964, 'application': 2965, 'ons': 2966, 'salary': 2967, 'wage': 2968, 'meaningfully': 2969, 'fringe': 2970, 'unforgettable': 2971, 'weekend': 2972, 'vacations': 2973, 'someplace': 2974, 'moxie': 2975, 'methinks': 2976, 'bannister': 2977, \"mcstagger's\": 2978, 'emporium': 2979, 'composite': 2980, 'logos': 2981, 'mozzarella': 2982, 'proposition': 2983, 'chain': 2984, 'recipe': 2985, 'dice': 2986, 'sweat': 2987, 'dies': 2988, 'delivery_man:': 2989, 'cases': 2990, 'hooked': 2991, 'waitress': 2992, 'pursue': 2993, 'hundreds': 2994, 'thousands': 2995, 'cuz': 2996, \"duff's\": 2997, 'information': 2998, 'motto': 2999, 'full-time': 3000, 'swine': 3001, 'germany': 3002, 'east': 3003, 'west': 3004, 'cleveland': 3005, 'browns': 3006, 'monkeyshines': 3007, 'kinds': 3008, 'resist': 3009, 'musses': 3010, 'today/': 3011, 'marvelous': 3012, 'play/': 3013, 'trees': 3014, 'sees/': 3015, 'please/': 3016, 'picnic': 3017, 'pip': 3018, 'mirthless': 3019, 'damned': 3020, 'reptile': 3021, 'saucy': 3022, 'sieben-gruben': 3023, '7g': 3024, 'terminated': 3025, 'example': 3026, 'sing-song': 3027, 'heavens': 3028, 'stamp': 3029, 'slays': 3030, 'terror': 3031, 'determined': 3032, 'freshened': 3033, 'hourly': 3034, 'provide': 3035, 'coyly': 3036, 'h': 3037, 'justify': 3038, 'england': 3039, 'modest': 3040, 'malibu': 3041, 'stacey': 3042, 'kitchen': 3043, 'prints': 3044, 'feminist': 3045, 'newsletter': 3046, 'daaaaad': 3047, 'grumbling': 3048, 'usual': 3049, 'wad': 3050, 'bills': 3051, 'thirty-five': 3052, 'sagely': 3053, 'sweaty': 3054, 'son-of-a': 3055, \"ma's\": 3056, 'norway': 3057, 'brunch': 3058, 'spectacular': 3059, 'baloney': 3060, 'gotcha': 3061, 'eminence': 3062, 'bookie': 3063, \"bettin'\": 3064, 'football': 3065, 'forty-five': 3066, 'pre-game': 3067, 'actor': 3068, 'mcclure': 3069, 'sitcom': 3070, 'premiering': 3071, 'coincidentally': 3072, \"show's\": 3073, 'criminal': 3074, 'fell': 3075, 'script': 3076, 'recent': 3077, 'irs': 3078, 'sealed': 3079, \"drexel's\": 3080, 'kickoff': 3081, 'kicks': 3082, 'position': 3083, 'gambler': 3084, 'score': 3085, 'fourteen:': 3086, 'duff_announcer:': 3087, 'half-back': 3088, 'beer-dorf': 3089, 'ticks': 3090, 'scores': 3091, \"fans'll\": 3092, 'looting': 3093, 'lone': 3094, 'handoff': 3095, 'twenty-nine': 3096, 'scratching': 3097, 'chin': 3098, 'stinky': 3099, 'sniffing': 3100, \"england's\": 3101, 'boggs': 3102, 'scornfully': 3103, 'exploiter': 3104, 'ignorant': 3105, \"jackpot's\": 3106, 'spitting': 3107, 'boozehound': 3108, \"singin'\": 3109, 'young_barfly:': 3110, 'moonnnnnnnn': 3111, 'quarter': 3112, 'hillbillies': 3113, 'blind': 3114, \"smokin'\": 3115, 'cummerbund': 3116, 'tight': 3117, 'furniture': 3118, 'frazier': 3119, 'washer': 3120, 'religious': 3121, 'maximum': 3122, 'occupancy': 3123, 'slick': 3124, 'kneeling': 3125, 'unattractive': 3126, 'wheeeee': 3127, 'cutest': 3128, 'larson': 3129, 'sponsoring': 3130, 'regulations': 3131, 'advertising': 3132, 'smokes': 3133, 'carolina': 3134, 'crowned': 3135, 'host': 3136, 'maitre': 3137, \"d'\": 3138, 'glee': 3139, 'heartily': 3140, 'event': 3141, 'tv_daughter:': 3142, 'smoker': 3143, 'enter': 3144, 'blimp': 3145, 'scientists': 3146, \"bo's\": 3147, 'cavern': 3148, 'mobile': 3149, 'starving': 3150, 'dogs': 3151, 'rusty': 3152, 'dull': 3153, 'spilled': 3154, 'ashtray': 3155, 'slurps': 3156, 'captain:': 3157, 'freed': 3158, 'iranian': 3159, 'hostages': 3160, \"sat's\": 3161, 'wishing': 3162, 'diaper': 3163, 'ronstadt': 3164, 'linda_ronstadt:': 3165, 'kl5-4796': 3166, '/mr': 3167, 'boozer': 3168, 'intelligent': 3169, 'lachrymose': 3170, 'dyspeptic': 3171, 'ebullient': 3172, 'harvard': 3173, 'silent': 3174, 'admirer': 3175, 'snide': 3176, 'moesy': 3177, 'worthless': 3178, 'rub-a-dub': 3179, 'anthony_kiedis:': 3180, 'thirty-thousand': 3181, 'audience': 3182, 'restless': 3183, 'chili': 3184, 'peppers': 3185, 'klown': 3186, 'flea:': 3187, 'gig': 3188, 'problemo': 3189, \"wallet's\": 3190, 'stares': 3191, 'miss_lois_pennycandy:': 3192, 'ruby-studded': 3193, 'johnny_carson:': 3194, 'undies': 3195, '50%': 3196, 'sales': 3197, 'sweetest': 3198, 'entertainer': 3199, 'crowds': 3200, 'wild': 3201, 'farewell': 3202, 'shop': 3203, 'theatrical': 3204, 'distaste': 3205, 'officer': 3206, 'replace': 3207, 'nahasapeemapetilon': 3208, 'fit': 3209, 'marquee': 3210, 'luv': 3211, 'du': 3212, 'beaumarchais': 3213, 'dishonor': 3214, 'ancestors': 3215, 'applicant': 3216, 'killarney': 3217, 'mither': 3218, 'sang': 3219, 'tones': 3220, 'soft': 3221, 'swe-ee-ee-ee-eet': 3222, 'my-y-y-y-y-y': 3223, 'hanh': 3224, 'sounded': 3225, 'kako:': 3226, 'floating': 3227, 'perfume': 3228, \"man's\": 3229, 'hat': 3230, 'phasing': 3231, 'schabadoo': 3232, 'attracted': 3233, 'reciting': 3234, 'infatuation': 3235, 'physical': 3236, 'attraction': 3237, 'common': 3238, 'napkins': 3239, 'vigilante': 3240, 'handshake': 3241, 'eightball': 3242, 'twelveball': 3243, 'aboard': 3244, 'nooo': 3245, 'file': 3246, 'fiiiiile': 3247, 'necessary': 3248, 'astronauts': 3249, 'introduce': 3250, 'evils': 3251, 'unfair': 3252, 'wobble': 3253, 'caholic': 3254, 'pee': 3255, 'freely': 3256, 'crotch': 3257, 'ivanna': 3258, 'fondest': 3259, 'desire': 3260, 'invisible': 3261, 'donut': 3262, 'sacrilicious': 3263, 'indecipherable': 3264, 'goo': 3265, 'ideal': 3266, 'thoughtless': 3267, 'remain': 3268, 'nameless': 3269, 'spite': 3270, 'clips': 3271, 'awfully': 3272, 'flustered': 3273, \"ball's\": 3274, 'slender': 3275, 'feminine': 3276, 'tapered': 3277, 'lighter': 3278, 'delicate': 3279, 'brunswick': 3280, 'bowled': 3281, 'shifty': 3282, 'eyed': 3283, 'genuinely': 3284, 'enthused': 3285, 'patting': 3286, 'flames': 3287, \"burnin'\": 3288, 'soaked': 3289, \"messin'\": 3290, 'banned': 3291, 'sugar-me-do': 3292, 'caricature': 3293, 'mt': 3294, 'lushmore': 3295, 'juke': 3296, 'raining': 3297, 'oww': 3298, 'jokes': 3299, 'incognito': 3300, 'gr-aargh': 3301, 'exact': 3302, 'equal': 3303, 'astonishment': 3304, 'puffy': 3305, 'however': 3306, 'confidentially': 3307, 'collateral': 3308, 'shark': 3309, 'finance': 3310, 'sledge-hammer': 3311, 'othello': 3312, 'drinker': 3313, 'sensible': 3314, 'presently': 3315, 'beast': 3316, 'savagely': 3317, 'tender': 3318, 'scout': 3319, 'arrested:': 3320, 'heather': 3321, 'locklear': 3322, 'fortensky': 3323, 'hugh': 3324, 'cuff': 3325, 'links': 3326, 'traditions': 3327, 'enthusiasm': 3328, 'other_player:': 3329, \"fightin'\": 3330, 'dizzy': 3331, 'nauseous': 3332, 'female_inspector:': 3333, 'toxins': 3334, 'pumping': 3335, 'steely-eyed': 3336, 'ahhhh': 3337, 'rascals': 3338, 'smelly': 3339, 'shtick': 3340, 'faceful': 3341, 'soot': 3342, 'william': 3343, 'faulkner': 3344, 'aggie': 3345, 'director:': 3346, 'stagehand:': 3347, 'luckily': 3348, 'orphan': 3349, 'owned': 3350, 'assent': 3351, 'wealthy': 3352, 'merchants': 3353, 'forgiven': 3354, 'prices': 3355, 'flailing': 3356, 'agh': 3357, 'little_hibbert_girl:': 3358, 'mmm-hmm': 3359, 'cheesecake': 3360, 'depository': 3361, 'all-american': 3362, 'cooking': 3363, 'chairman': 3364, 'wok': 3365, 'relaxing': 3366, 'madman': 3367, 'cooker': 3368, 'feedbag': 3369, \"fryer's\": 3370, 'navy': 3371, 'flash-fry': 3372, 'whining': 3373, \"g'on\": 3374, 'extinguishers': 3375, 'cheering': 3376, \"aren'tcha\": 3377, '50-60': 3378, 'mistakes': 3379, 'mistresses': 3380, 'quimby_#2:': 3381, 'quimbys:': 3382, 'bell': 3383, 'support': 3384, 'prejudice': 3385, 'hero-phobia': 3386, 'sickens': 3387, 'jubilation': 3388, 'committee': 3389, 'vicious': 3390, 'distract': 3391, 'safely': 3392, 'choices:': 3393, 'barney-guarding': 3394, 'contemplated': 3395, 'truck_driver:': 3396, 'dracula': 3397, 'marry': 3398, 'jovial': 3399, 'sickly': 3400, 'ura': 3401, 'snotball': 3402, '70': 3403, 'voyager': 3404, 'craft': 3405, \"tab's\": 3406, '14': 3407, 'alls': 3408, 'halfway': 3409, 'muscle': 3410, \"wino's\": 3411, 'muffled': 3412, 'inches': 3413, 'bullet-proof': 3414, 'student': 3415, 'aggravazes': 3416, 'immiggants': 3417, 'bothered': 3418, 'language': 3419, 'sentimonies': 3420, \"jimbo's_dad:\": 3421, \"dolph's_dad:\": 3422, 'throws': 3423, 'ugh': 3424, \"kearney's_dad:\": 3425, \"somethin's\": 3426, \"fun's\": 3427, 'two-drink': 3428, 'punishment': 3429, 'three-man': 3430, \"poundin'\": 3431, \"kid's\": 3432, 'beatings': 3433, 'spirit': 3434, 'prizefighters': 3435, 'perking': 3436, 'boxers': 3437, 'lobster': 3438, 'dressing': 3439, 'limits': 3440, 'arise': 3441, 'clincher': 3442, 'sixty': 3443, 'wantcha': 3444, 'faith': 3445, '1979': 3446, 'office': 3447, 'presentable': 3448, 'gruesome': 3449, 'democrats': 3450, 'causes': 3451, 'damage': 3452, 'boxcar': 3453, 'brawled': 3454, 'boxcars': 3455, 'fighter': 3456, 'mitts': 3457, 'barbed': 3458, 'stinger': 3459, 'drawn': 3460, \"tramp's\": 3461, 'stops': 3462, 'punching': 3463, \"'cept\": 3464, 'bindle': 3465, \"now's\": 3466, 'delightful': 3467, 'glitterati': 3468, 'highest': 3469, 'priority': 3470, 'temporarily': 3471, 'incarcerated': 3472, 'pushing': 3473, 'stairs': 3474, 'impending': 3475, 'strategizing': 3476, 'glorious': 3477, 'shores': 3478, 'fistiana': 3479, 'comeback': 3480, \"donatin'\": 3481, 'stalwart': 3482, 'pugilist': 3483, 'fights': 3484, 'sustain': 3485, 'verticality': 3486, \"tatum'll\": 3487, 'fustigate': 3488, 'fustigation': 3489, 'choice:': 3490, 'faded': 3491, 'tar-paper': 3492, 'naively': 3493, 'champion': 3494, 'evasive': 3495, 'charged': 3496, 'landfill': 3497, 'burg': 3498, 'pussycat': 3499, 'doll-baby': 3500, 'starla': 3501, 'starla:': 3502, 'wigs': 3503, \"starla's\": 3504, 'temp': 3505, 'k-zug': 3506, \"'kay-zugg'\": 3507, '530': 3508, 'launch': 3509, 'demo': 3510, 'housework': 3511, 'self-centered': 3512, 'though:': 3513, 'thawing': 3514, 'station': 3515, 'sink': 3516, 'broken:': 3517, 'foundation': 3518, 'helpful': 3519, 'crony': 3520, 'sam:': 3521, 'sympathizer': 3522, 'bumblebee_man:': 3523, 'compadre': 3524, 'kearney_zzyzwicz:': 3525, 'associate': 3526, 'contemporary': 3527, 'well-wisher': 3528, 'specific': 3529, 'harm': 3530, 'friday': 3531, 'düff': 3532, 'doof': 3533, 'sweden': 3534, 'skoal': 3535, 'nasty': 3536, 'refreshing': 3537, 'breathalyzer': 3538, 'recreate': 3539, 'alien': 3540, 'wittgenstein': 3541, 'backgammon': 3542, 'dana_scully:': 3543, 'felony': 3544, 'packets': 3545, 'mustard': 3546, \"fine-lookin'\": 3547, 'remorseful': 3548, 'anyhow': 3549, 'agents': 3550, 'mulder': 3551, 'edgy': 3552, \"s'cuse\": 3553, 'dimly': 3554, 'generously': 3555, 'raking': 3556, 'nervously': 3557, 'syndicate': 3558, 'ambrose': 3559, 'burnside': 3560, 'stonewall': 3561, 'jackson': 3562, 'mill': 3563, \"industry's\": 3564, 'aerospace': 3565, 'railroads': 3566, 'knowingly': 3567, 'hoped': 3568, \"bart'd\": 3569, 'mystery': 3570, \"swishifyin'\": 3571, 'effect': 3572, \"mtv's\": 3573, 'lessee': 3574, \"shootin'\": 3575, \"man'd\": 3576, 'wars': 3577, 'warren': 3578, 'grandkids': 3579, 'considers': 3580, 'st': 3581, 'metal': 3582, 'busiest': 3583, 'cheapskates': 3584, 'ireland': 3585, 'menacing': 3586, 'yew': 3587, 'bathtub': 3588, 'mint': 3589, 'julep': 3590, 'jane': 3591, 'fonda': 3592, 'daniel': 3593, 'schorr': 3594, 'anderson': 3595, 'richard': 3596, \"nixon's\": 3597, 'expecting': 3598, 'chauffeur': 3599, 'lift': 3600, \"washin'\": 3601, 'desperately': 3602, 'belly-aching': 3603, 'wh': 3604, 'abe': 3605, 'dea-d-d-dead': 3606, 'stooges': 3607, 'shopping': 3608, 'cans': 3609, 'wise': 3610, 'socratic': 3611, 'swelling': 3612, 'mushy': 3613, 'hearts': 3614, 'pinball': 3615, 'western': 3616, 'dishrag': 3617, 'crab': 3618, 'talkers': 3619, 'jewish': 3620, 'catch-phrase': 3621, 'grrrreetings': 3622, 'darn': 3623, \"tootin'\": 3624, 'fink': 3625, 'ping-pong': 3626, 'plug': 3627, \"usin'\": 3628, \"phone's\": 3629, 'four-drink': 3630, 'test-': 3631, 'test-lady': 3632, \"g'ahead\": 3633, 'clammy': 3634, 'lovelorn': 3635, 'you-need-man': 3636, 'moe-near-now': 3637, 'go-near-': 3638, 'endorsement': 3639, 'breakfast': 3640, 'rush': 3641, \"'evening\": 3642, \"'morning\": 3643, 'chauffeur:': 3644, '91': 3645, 'accidents': 3646, 'choose': 3647, 'whoever': 3648, 'stays': 3649, 'noooooooooo': 3650, 'pantsless': 3651, 'duffed': 3652, 'creates': 3653, 'awareness': 3654, 'bottomless': 3655, 'cheerleaders:': 3656, 'and:': 3657, 'perfunctory': 3658, 'brusque': 3659, 'ehhh': 3660, 'swell': 3661, 'wholeheartedly': 3662, 'supports': 3663, 'shaky': 3664, 'lecture': 3665, 'villanova': 3666, 'streetcorner': 3667, 'anger': 3668, 'ought': 3669, 'parasol': 3670, 'congratulations': 3671, 'cockroach': 3672, 'displeased': 3673, 'man_at_bar:': 3674, \"scammin'\": 3675, 'easter': 3676, 'giant': 3677, 'rumor': 3678, 'depression': 3679, 'depressant': 3680, 'sight-unseen': 3681, 'twenty-four': 3682, 'chipper': 3683, 'dirge-like': 3684, 'blooded': 3685, 'bachelorhood': 3686, 'jasper_beardly:': 3687, 'hot-rod': 3688, 'souped': 3689, 'gear-head': 3690, 'six-barrel': 3691, 'hollye': 3692, 'carb': 3693, 'betcha': 3694, 'edelbrock': 3695, 'intakes': 3696, 'meyerhof': 3697, 'lifters': 3698, 'dignity': 3699, 'breakdown': 3700, 'society': 3701, 'dateline:': 3702, 'burglary': 3703, 'creature': 3704, 'intoxicated': 3705, 'marjorie': 3706, 'heart-broken': 3707, 'sweater': 3708, 'cajun': 3709, 'sneering': 3710, 'choke': 3711, 'enthusiastically': 3712, 'stomach': 3713, 'bushes': 3714, 'tapping': 3715, 'further': 3716, 'zinged': 3717, 'spews': 3718, 'orifice': 3719, 'indifference': 3720, 'clapping': 3721, \"hawkin'\": 3722, 'vincent': 3723, \"floatin'\": 3724, 'horrors': 3725, 'unfresh': 3726, 'winston': 3727, 'wienerschnitzel': 3728, 'madison': 3729, 'avenue': 3730, 'robbers': 3731, 'various': 3732, 'impeach': 3733, 'crooks': 3734, 'allowance': 3735, 'cats': 3736, '$42': 3737, 'bury': 3738, 'businessman_#2:': 3739, 'boston': 3740, 'suits': 3741, 'vehicle': 3742, 'oooo': 3743, 'ignoring': 3744, 'followed': 3745, 'begging': 3746, 'combines': 3747, 'handling': 3748, 'rugged': 3749, 'driveability': 3750, 'sturdy': 3751, '4x4': 3752, \"ya'\": 3753, 'cadillac': 3754, 'automobiles': 3755, 'beefs': 3756, 'fat-free': 3757, 'th-th-th-the': 3758, 'groan': 3759, 'jay:': 3760, 'shoulda': 3761, 'shill': 3762, 'indifferent': 3763, '35': 3764, 'hammer': 3765, 'country-fried': 3766, 'endorsed': 3767, 'federal': 3768, 'ruled': 3769, 'unsafe': 3770, 'chorus:': 3771, 'lanes': 3772, 'sixty-five': 3773, 'tons': 3774, 'unexplained': 3775, 'fires': 3776, 'courts': 3777, 'blinds': 3778, 'squirrel': 3779, 'squashing': 3780, \"smackin'\": 3781, 'canyoner-oooo': 3782, 'hyahh': 3783, 'blissful': 3784, 'hiding': 3785, 'rash': 3786, 'whatchacallit': 3787, 'homesick': 3788, 'diving': 3789, 'tourist': 3790, 'pennies': 3791, 'micronesian': 3792, 'swamp': 3793, 'mirror': 3794, 'puke-pail': 3795, \"fendin'\": 3796, 'starlets': 3797, 'pointy': 3798, 'ugliness': 3799, 'dozen': 3800, 'ram': 3801, 'players': 3802, 'maxed': 3803, 'tenuous': 3804, 'pinchpenny': 3805, 'besides': 3806, 'tabs': 3807, 'ungrateful': 3808, 'ingrates': 3809, \"renee's\": 3810, 'insured': 3811, 'wreck': 3812, 'awkwardly': 3813, 'insist': 3814, 'model': 3815, 'represents': 3816, 'olive': 3817, \"car's\": 3818, 'toy': 3819, 'waterfront': 3820, \"department's\": 3821, 'moonlight': 3822, 'cruise': 3823, 'righ': 3824, 'alibi': 3825, 'tracks': 3826, '10:15': 3827, 'wham': 3828, 'insurance': 3829, 'clams': 3830, 'troubles': 3831, 'betrayed': 3832, 'low-life': 3833, 'y-you': 3834, 'hmf': 3835, 'locked': 3836, 'clearing': 3837, 'graveyard': 3838, 'we-we-we': 3839, 'brandy': 3840, 'fwooof': 3841, 'hawaii': 3842, 'yelp': 3843, 'murderously': 3844, 'oh-ho': 3845, \"g'night\": 3846, 'mommy': 3847, 'sincerely': 3848, 'tearfully': 3849, 'beady': 3850, \"homer'll\": 3851, 'naval': 3852, 'strictly': 3853, 'forbids': 3854, 'hah': 3855, 'thorn': 3856, 'grants': 3857, 'wondered': 3858, \"that'd\": 3859, 'heatherton': 3860, 'tempting': 3861, 'agent_miller:': 3862, 'flashing': 3863, 'badge': 3864, 'united': 3865, 'states': 3866, 'wiping': 3867, 'signal': 3868, 'activity': 3869, 'cause': 3870, 'commit': 3871, 'crimes': 3872, 'fired': 3873, 'moonshine': 3874, 'basement': 3875, 'telemarketing': 3876, 'uhhhh': 3877, 'george': 3878, 'seething': 3879, 'charlie:': 3880, 'militia': 3881, 'sorts': 3882, 'officials': 3883, 'drag': 3884, 'high-definition': 3885, 'conspiracy': 3886, 'musta': 3887, 'ratted': 3888, 'transmission': 3889, 'disaster': 3890, 'wishful': 3891, 'elect': 3892, 'vengeful': 3893, 'slogan': 3894, 'appeals': 3895, 'slobs': 3896, 'triumphantly': 3897, 'u2:': 3898, 'sanitation': 3899, 'blokes': 3900, 'courteous': 3901, 'easygoing': 3902, 'the_edge:': 3903, 'overflowing': 3904, 'bono:': 3905, 'arse': 3906, 'knocks': 3907, 'omit': 3908, 'detail': 3909, 'spellbinding': 3910, 'thomas': 3911, 'dictating': 3912, 'fluoroscope': 3913, 'repeating': 3914, 'telegraph': 3915, 'breathless': 3916, 'firm': 3917, 'believer': 3918, 'fletcherism': 3919, 'heliotrope': 3920, 'alva': 3921, 'wore': 3922, 'pajamas': 3923, 'rubs': 3924, 'temples': 3925, 'menlo': 3926, 'tasimeter': 3927, 'ore': 3928, 'separator': 3929, 'watt': 3930, 'steam': 3931, 'engine': 3932, 'unusually': 3933, 'focused': 3934, 'squeal': 3935, 'waste': 3936, \"somebody's\": 3937, 'gus': 3938, 'yoink': 3939, 'peeved': 3940, 'citizens': 3941, 'murdered': 3942, 'watered': 3943, 'highball': 3944, 'derisive': 3945, 'grocery': 3946, 'absorbent': 3947, 'youuu': 3948, 'ointment': 3949, 'aisle': 3950, 'coy': 3951, 'kim_basinger:': 3952, 'alec_baldwin:': 3953, 'ron_howard:': 3954, 'statesmanlike': 3955, 'doctor': 3956, 'polenta': 3957, 'life-threatening': 3958, 'donor': 3959, 'sucker': 3960, 'lists': 3961, 'spine': 3962, 'vestigial': 3963, 'plaintive': 3964, 'buttocks': 3965, 'harvesting': 3966, 'eyeing': 3967, 'hostile': 3968, \"'round\": 3969, 'y': 3970, 'dime': 3971, 'quimby': 3972, 'puke-holes': 3973, 'cronies': 3974, 'düffenbraus': 3975, 'semi-imported': 3976, 'guzzles': 3977, 'generosity': 3978, 'greatly': 3979, 'appreciated': 3980, 'stagey': 3981, 'roach': 3982, 'hubub': 3983, 'sniper': 3984, 'blessing': 3985, 'disguise': 3986, 'ruuuule': 3987, 'die-hard': 3988, 'winded': 3989, \"brockman's\": 3990, 'microphone': 3991, 'woooooo': 3992, 'ga': 3993, 'ninth': 3994, 'outs': 3995, 'j': 3996, \"'s\": 3997, 'jumping': 3998, 'technical': 3999, 'stan': 4000, 'kadlubowski': 4001, 'injury': 4002, \"football's\": 4003, 'champs': 4004, 'harrowing': 4005, 'enjoys': 4006, 'scornful': 4007, 'bronco': 4008, 'nagurski': 4009, 'reconsidering': 4010, 'coupon': 4011, 'travel': 4012, 'agency': 4013, 'charter': 4014, 'dreamily': 4015, 'quarterback': 4016, 'wally': 4017, 'it:': 4018, 'count': 4019, 'broncos': 4020, 'hillary': 4021, 'adventure': 4022, 'assassination': 4023, 'scarf': 4024, 'lance': 4025, 'supervising': 4026, 'bumbling': 4027, 'sidekick': 4028, 'infiltrate': 4029, 'idiots': 4030, 'destroyed': 4031, 'shipment': 4032, 'indeedy': 4033, 'insulin': 4034, 'haplessly': 4035, \"spaghetti-o's\": 4036, 'dum-dum': 4037, 'unintelligent': 4038, 'shutup': 4039, 'diminish': 4040, 'bid': 4041, 'encore': 4042, 'encores': 4043, 'reactions': 4044, 'clap': 4045, 'erasers': 4046, 'sideshow_mel:': 4047, 'barbara': 4048, 'arts': 4049, 'stalking': 4050, 'bumped': 4051, 'sympathy': 4052, 'guiltily': 4053, 'maude': 4054, 'shriners': 4055, 'old_jewish_man:': 4056, 'traitor': 4057, 'astrid': 4058, 'dealer': 4059, 'gunter': 4060, 'cecil': 4061, 'hampstead-on-cecil-cecil': 4062, 'eurotrash': 4063, 'gunter:': 4064, 'adrift': 4065, 'decadent': 4066, 'luxury': 4067, 'meaningless': 4068, 'located': 4069, 'cecil_terwilliger:': 4070, 'hotel': 4071, 'practice': 4072, 'affectations': 4073, 'bon': 4074, 'soir': 4075, 'feld': 4076, 'priceless': 4077, 'sketch': 4078, 'certificate': 4079, 'authenticity': 4080, 'sketching': 4081, 'twelve-step': 4082, 'novelty': 4083, 'item': 4084, 'chosen': 4085, 'squadron': 4086, '8': 4087, 'monday': 4088, 'municipal': 4089, 'fortress': 4090, 'vengeance': 4091, 'studied': 4092, 'fastest': 4093, 'theory': 4094, 'donut-shaped': 4095, 'universe': 4096, 'intriguing': 4097, 'computer_voice_2:': 4098, 'larry': 4099, 'flynt': 4100, 'stink': 4101, \"hell's\": 4102, 'jazz': 4103, 'regretted': 4104, 'helpless': 4105, 'frescas': 4106, 'hushed': 4107, \"bladder's\": 4108, 'urine': 4109, 'demand': 4110, 'slaps': 4111, 'extreme': 4112, 'slapped': 4113, \"duelin'\": 4114, 'shack': 4115, \"b-52's:\": 4116, 'sat-is-fac-tion': 4117, 'feat': 4118, 'forgotten': 4119, 'depressed': 4120, 'shred': 4121, 'shreda': 4122, 'rivalry': 4123, 'spreads': 4124, 'wildfever': 4125, 'th': 4126, 'writer:': 4127, 'preparation': 4128, 'additional-seating-capacity': 4129, 'ivy-covered': 4130, 'founded': 4131, 'kegs': 4132, 'imported-sounding': 4133, 'tuborg': 4134, 'kings': 4135, 'accounta': 4136, 'sun': 4137, 'sky': 4138, 'sail': 4139, 'waters': 4140, 'theme': 4141, 'tyson/secretariat': 4142, 'wildest': 4143, 'calendars': 4144, 'liquor': 4145, 'examines': 4146, 'expired': 4147, '1973': 4148, 'rhode': 4149, 'signed': 4150, 'updated': 4151, 'poster': 4152, 'moe-lennium': 4153, 'sticker': 4154, 'viva': 4155, 'relative': 4156, 'stickers': 4157, 'uglier': 4158, 'pigtown': 4159, 'cauliflower': 4160, 'ear': 4161, 'lizard': 4162, 'caveman': 4163, 'snout': 4164, 'emphasis': 4165, 'maher': 4166, 'crapmore': 4167, 'kisser': 4168, 'spotting': 4169, 'windowshade': 4170, 'grope': 4171, 'softer': 4172, 'complicated': 4173, 'maintenance': 4174, \"neat's-foot\": 4175, 'hooters': 4176, 'wraps': 4177, 'crushed': 4178, 'hike': 4179, 'mabel': 4180, 'voted': 4181, 'chastity': 4182, 'bono': 4183, 'influence': 4184, 'glummy': 4185, 'shindig': 4186, 'videotaped': 4187, 'slot': 4188, 'package': 4189, 'tha': 4190, 'occasion': 4191, 'older': 4192, 'flew': 4193, 'upsetting': 4194, 'stage': 4195, 'talkative': 4196, 'coherent': 4197, 'yourse': 4198, 'soaking': 4199, 'shag': 4200, 'disgracefully': 4201, 'presents': 4202, 'without:': 4203, 'morning-after': 4204, 'boozebag': 4205, 'whirlybird': 4206, 'b-day': 4207, 'punkin': 4208, 'tanking': 4209, \"handwriting's\": 4210, 'afloat': 4211, 'santeria': 4212, 'breaks': 4213, 'straighten': 4214, 'finish': 4215, 'suspiciously': 4216, 'world-class': 4217, 'alcoholism': 4218, 'raging': 4219, 'barney-type': 4220, 'bad-mouth': 4221, 'catty': 4222, 'consulting': 4223, 'amends': 4224, 'disgraceful': 4225, 'behavior': 4226, 'barstools': 4227, 'closet': 4228, 'drop-off': 4229, 'bulletin': 4230, 'broken': 4231, 'trapping': 4232, 'youngsters': 4233, 'trucks': 4234, 'unavailable': 4235, 'blaze': 4236, 'burt_reynolds:': 4237, 'feisty': 4238, 'supreme': 4239, 'court': 4240, 'birth': 4241, 'competing': 4242, 'cross-country': 4243, 'race': 4244, 'flown': 4245, 'heroism': 4246, 'charges': 4247, 'binoculars': 4248, 'grieving': 4249, 'slab': 4250, 'tear': 4251, 'reluctantly': 4252, 'clenched': 4253, 'resigned': 4254, 'according': 4255, 'uses': 4256, 'appearance-altering': 4257, 'cosmetics': 4258, 'warned': 4259, 'tall': 4260, 'clandestine': 4261, 'disturbing': 4262, 'pulitzer': 4263, 'guinea': 4264, 'chew': 4265, 'telephone': 4266, 'experiments': 4267, 'ears': 4268, 'winces': 4269, 'hmmmm': 4270, 'dawning': 4271, 'appalled': 4272, 'fire_inspector:': 4273, 'brainiac': 4274, 'distinct': 4275, 'strain': 4276, 'anti-intellectualism': 4277, 'einstein': 4278, 'appendectomy': 4279, 'lipo': 4280, 'sampler': 4281, 'dramatically': 4282, 'crayon': 4283, 'art': 4284, 'carney': 4285, 'flourish': 4286, 'crayola': 4287, 'oblongata': 4288, 'deeper': 4289, 'pusillanimous': 4290, 'pilsner-pusher': 4291, 'inanely': 4292, 'extended': 4293, 'warranty': 4294, 'sacajawea': 4295, 'manatee': 4296, 'cranberry': 4297, 'aah': 4298, 'painted': 4299, 'choices': 4300, 'scanning': 4301, \"soakin's\": 4302, 'nectar': 4303, 'nitwit': 4304, \"knockin'\": 4305, 'badmouths': 4306, \"o'\": 4307, 'mindless': 4308, 'droning': 4309, 'befriend': 4310, \"raggin'\": 4311, 'conditioners': 4312, 'loneliness': 4313, 'guttural': 4314, 'heartless': 4315, 'owns': 4316, 'family-owned': 4317, 'eye-gouger': 4318, 'brine': 4319, 'massive': 4320, 'occasional': 4321, 'total': 4322, 'rip-off': 4323, 'gangrene': 4324, 'cup': 4325, \"coffee'll\": 4326, 'waking-up': 4327, 'instantly': 4328, \"nick's\": 4329, 'rude': 4330, 'hitchhike': 4331, 'emergency': 4332, 'dollface': 4333, 'nash': 4334, 'bridges': 4335, 'illegally': 4336, 'smuggled': 4337, '2nd_voice_on_transmitter:': 4338, '3rd_voice:': 4339, 'presses': 4340, 'snitch': 4341, 'lotsa': 4342, 'mission': 4343, 'fireworks': 4344, 'incriminating': 4345, 'recorder': 4346, 'hootie': 4347, 'blowfish': 4348, 'cheaper': 4349, 'blank': 4350, 'wells': 4351, 'aer': 4352, 'lingus': 4353, 'leprechaun': 4354, 'cursed': 4355, \"heat's\": 4356, 'dejected': 4357, 'slugger': 4358, 'italian': 4359, \"spyin'\": 4360, 'assumed': 4361, 'stupidest': 4362, 'valley': 4363, 'series': 4364, 'quitcher': 4365, 'bellyaching': 4366, 'dumb-asses': 4367, 'yak': 4368, \"d'ya\": 4369, 'shesh': 4370, 'smiled': 4371, 'nailed': 4372, 'jigger': 4373, 'illustrates': 4374, 'swigmore': 4375, 'fills': 4376, 'alma': 4377, 'mater': 4378, 'rekindle': 4379, 'urban': 4380, \"tinklin'\": 4381, 'chips': 4382, \"when's\": 4383, 'natured': 4384, 'splattered': 4385, 'fonzie': 4386, 'hemorrhage-amundo': 4387, 'yello': 4388, 'booger': 4389, 'dirty': 4390, 'teen': 4391, 'hardhat': 4392, 'wrecking': 4393, 'giggle': 4394, 'fainted': 4395, 'prettied': 4396, 'renew': 4397, 'zeal': 4398, 'dean': 4399, 'design': 4400, 'certified': 4401, 'contractors': 4402, 'pages': 4403, 'hippies': 4404, 'rem': 4405, 'apology': 4406, 'eco-fraud': 4407, 'reluctant': 4408, 'rainforest': 4409, 'peter_buck:': 4410, 'michael': 4411, 'supplying': 4412, 'mike_mills:': 4413, 'gluten': 4414, 'ate': 4415, 'michael_stipe:': 4416, 'mmmmm': 4417, 'alternative': 4418, 'rockers': 4419, 'gabriel': 4420, 'mortal': 4421, 'equivalent': 4422, 'gabriel:': 4423, 'temper': 4424, 'deliberately': 4425, 'girl-bart': 4426, 'loathe': 4427, 'knives': 4428, \"lady's\": 4429, \"'n'\": 4430, 'creme': 4431, 'martini': 4432, 'amber_dempsey:': 4433, 'annoying': 4434, 'night-crawlers': 4435, 'bragging': 4436, 'mole': 4437, 'wowww': 4438, 'amber': 4439, 'proves': 4440, 'buffet': 4441, 'clothespins': 4442, 'attach': 4443, 'clothespins:': 4444, 'swallowed': 4445, 'inserted': 4446, 'clipped': 4447, 'sixteen': 4448, 'magnanimous': 4449, \"clancy's\": 4450, 'op': 4451, 'lovers': 4452, 'newsweek': 4453, 'failure': 4454, 'thrust': 4455, 'trivia': 4456, 'lifetime': 4457, 'supply': 4458, 'chug-monkeys': 4459, 'beverage': 4460, 'hops': 4461, 'grains': 4462, 'grain': 4463, \"time's\": 4464, 'reading:': 4465, 'woulda': 4466, 'arrange': 4467, 'escort': 4468, 'orgasmville': 4469, 'enlightened': 4470, 'television': 4471, 'producers': 4472, 'booking': 4473, 'mid-seventies': 4474, 'alky': 4475, \"round's\": 4476, 'payday': 4477, 'rented': 4478, 'swings': 4479, \"battin'\": 4480, 'cage': 4481, 'perverted': 4482, 'winner': 4483, 'sprawl': 4484, 'hockey-fight': 4485, 'settled': 4486, \"what'd\": 4487, 'lookalike:': 4488, 'chuck': 4489, 'exited': 4490, 'trunk': 4491, 'rainier': 4492, 'wolfcastle': 4493, 'ab': 4494, 'roller': 4495, 'backward': 4496, 'leftover': 4497, 'lookalike': 4498, 'lookalikes': 4499, 'macaulay': 4500, 'culkin': 4501, 'killing': 4502, 'alpha-crow': 4503, 'enveloped': 4504, 'crow': 4505, 'crowbar': 4506, 'sloppy': 4507, 'wacky': 4508, 'tobacky': 4509, 'spacey': 4510, 'intervention': 4511, 'poisoning': 4512, 'excuses': 4513, 'funeral': 4514, 'interrupting': 4515, 'forty-seven': 4516, 'here-here-here': 4517, 'pepper': 4518, 'shaker': 4519, 'dash': 4520, 'dinks': 4521, 'squishee': 4522, 'canoodling': 4523, 'junkyard': 4524, 'rabbits': 4525, 'soothing': 4526, 'promise': 4527, 'tropical': 4528, 'windelle': 4529, 'muhammad': 4530, 'ali': 4531, 'anti-lock': 4532, 'brakes': 4533, 'johnny': 4534, 'mathis': 4535, 'versus': 4536, 'pepsi': 4537, 'meditative': 4538, 'lily-pond': 4539, 'fry': 4540, 'squirrels': 4541, 'super-genius': 4542, 'certainly': 4543, 'lenford': 4544, 'celebration': 4545, 'pasta': 4546, 'mini-beret': 4547, \"this'll\": 4548, 'speed': 4549, 'nos': 4550, 'killer': 4551, 'stab': 4552, 'simon': 4553, 'up-bup-bup': 4554, \"pickin'\": 4555, 'homer_doubles:': 4556, 'len-ny': 4557, 'piano': 4558, 'cell-ee': 4559, 'cattle': 4560, \"rustlin'\": 4561, \"calf's\": 4562, 'sneak': 4563, 'snatch': 4564, 'ghouls': 4565, 'grammy': 4566, 'judges': 4567, 'perfected': 4568, 'device': 4569, 'flayvin': 4570, 'space-time': 4571, 'continuum': 4572, \"wait'll\": 4573, 'wasted': 4574, 'plotz': 4575, 'absentminded': 4576, 'polishing': 4577, 'diapers': 4578, 'yuh-huh': 4579, 'alter': 4580, 'consciousness': 4581, 'glitz': 4582, 'glamour': 4583, 'beligerent': 4584, 'liable': 4585, 'taunting': 4586, 'accelerating': 4587, 'snapping': 4588, 'cab_driver:': 4589, 'newest': 4590, 'supermodel': 4591, 'longest': 4592, 'spit-backs': 4593, \"tonight's\": 4594, 'cock': 4595, 'scoffs': 4596, 'tokens': 4597, 'reality': 4598, 'gimmick': 4599, 'lincoln': 4600, 'kennedy': 4601, 'mckinley': 4602, 'simple': 4603, 'slit': 4604, 'quick-like': 4605, 'sideshow_bob:': 4606, 'haikus': 4607, 'skinheads': 4608, 'concentrate': 4609, 'detective': 4610, 'unbelievable': 4611, 'digging': 4612, 'intimacy': 4613, 'cobbling': 4614, 'shoes': 4615, 'schizophrenia': 4616, 'hiring': 4617, 'swan': 4618, 'delts': 4619, 'clench': 4620, 'bulked': 4621, 'managed': 4622, 'femininity': 4623, 'fierce': 4624, 'glyco-load': 4625, 'ripping': 4626, 'gel': 4627, 'frightened': 4628, 'sacrifice': 4629, 'period': 4630, 'delicately': 4631, 'yammering': 4632, 'pile': 4633, 'disco_stu:': 4634, 'stu': 4635, 'ducked': 4636, 'slim': 4637, 'bupkus': 4638, 'perplexed': 4639, 'rump': 4640, 'payback': 4641, 'revenge': 4642, 'subscriptions': 4643, 'brick': 4644, 'cerebral': 4645, 'booze-bags': 4646, 'victorious': 4647, 'gallon': 4648, 'icelandic': 4649, 'boyhood': 4650, 'anti-crime': 4651, 'dealie': 4652, 'streetlights': 4653, 'strongly': 4654, 'pro': 4655, 'con': 4656, \"i'unno\": 4657, 'superdad': 4658, 'crystal': 4659, 'cheaped': 4660, 'shelf': 4661, 'paramedic:': 4662, 'ingested': 4663, 'defiantly': 4664, 'ihop': 4665, 'burger': 4666, 'absentmindedly': 4667, \"doctor's\": 4668, 'neanderthal': 4669, 'taylor': 4670, 'ing': 4671, 'voters': 4672, 'november': 4673, 'practically': 4674, 'everywhere': 4675, 'resenting': 4676, 'appreciate': 4677, 'shout': 4678, 'f-l-a-n-r-d-s': 4679, 'flame': 4680, 'researching': 4681, 'indigenous': 4682, 'overhearing': 4683, 'delightfully': 4684, 'byrne': 4685, 'singer': 4686, 'artist': 4687, 'composer': 4688, 'wrestle': 4689, 'el': 4690, 'diablo': 4691, 'philip': 4692, 'rewound': 4693, 'produce': 4694, 'rolls': 4695, 'kahlua': 4696, 'fleabag': 4697, 'unsanitary': 4698, \"wearin'\": 4699, 'walked': 4700, 'dark': 4701, 'dreary': 4702, 'drunkening': 4703, 'hangover': 4704, 'barber': 4705, 'frat': 4706, 'julienne': 4707, 'potatoes': 4708, 'groin': 4709, 'shortcomings': 4710, 'banquet': 4711, 'poulet': 4712, 'au': 4713, 'vin': 4714, 'avec': 4715, 'champignons': 4716, 'kisses': 4717, 'botanical': 4718, 'gardens': 4719, 'blossoming': 4720, 'sumatran': 4721, 'occurs': 4722, 'customers-slash-only': 4723, 'replaced': 4724, \"mopin'\": 4725, 'alarm': 4726, 'tummies': 4727, 'elves:': 4728, 'cakes': 4729, 'pets': 4730, 'brotherhood': 4731, \"i'd'a\": 4732, 'pizza': 4733, \"y'money's\": 4734, 'counter': 4735, 'leonard': 4736, 'competitive': 4737, 'macgregor': 4738, 'musketeers': 4739, 'accusing': 4740, 'lungs': 4741, 'devils:': 4742, 'apulina': 4743, 'including': 4744, 'bouquet': 4745, 'earrings': 4746, 'hilton': 4747, \"city's\": 4748, 'society_matron:': 4749, 'remote': 4750, 'sharity': 4751, 'aristotle:': 4752, 'weep': 4753, 'mamma': 4754, 'flush-town': 4755, 'population': 4756, 'nonchalant': 4757, 'ninety-eight': 4758, 'outstanding': 4759, 'flush': 4760, 'jacks': 4761, 'multi-national': 4762, 'manipulation': 4763, 'macho': 4764, 'undermine': 4765, 'affects': 4766, 'majority': 4767, 'shareholder': 4768, 'inherent': 4769, 'legal': 4770, 'liability': 4771, 'malfeasance': 4772, 'result': 4773, 'deny': 4774, 'showed': 4775, 'louse': 4776, 'jogging': 4777, 'intruding': 4778, 'sending': 4779, 'swooning': 4780, 'odor': 4781, 'eaters': 4782, 'beanbag': 4783, 'temple': 4784, 'doom': 4785, 'gentle': 4786, 'nightmares': 4787, 'orders': 4788, 'contemptuous': 4789, 'chateau': 4790, 'latour': 4791, 'eighteen': 4792, 'eighty-six': 4793, 'initially': 4794, \"collector's\": 4795, 'bidet': 4796, 'ladder': 4797, 'fountain': 4798, 'in-in-in': 4799, 'chipped': 4800, 'nail': 4801, 'sticking': 4802, 'poke': 4803, 'bachelor': 4804, 'peaked': 4805, 'and/or': 4806, 'buddies': 4807, 'chug-a-lug': 4808, 'a-lug': 4809, 'disposal': 4810, 'boisterous': 4811, 'exciting': 4812, 'photographer': 4813, 'van': 4814, 'notch': 4815, 'wiggle': 4816, 'friction': 4817, 'killjoy': 4818, 'wussy': 4819, 'grinch': 4820, 'consoling': 4821, 'picked': 4822, 'zoomed': 4823, 'junebug': 4824, 'windshield': 4825, \"secret's\": 4826, 'bail': 4827, \"bringin'\": 4828, 'easily': 4829, 'sobriety': 4830, 'urge': 4831, 'sponsor': 4832, 'white_rabbit:': 4833, 'lorre': 4834, 'warmth': 4835, 'penmanship': 4836, 'sucks': 4837, 'anyhoo': 4838, 'cyrano': 4839, 'americans': 4840, 'permanent': 4841, 'visas': 4842, 'dutch': 4843, \"leavin'\": 4844, \"president's\": 4845, 'rebuttal': 4846, 'mull': 4847, 'mugs': 4848, \"thinkin'\": 4849, 'symphonies': 4850, 'fuhgetaboutit': 4851, 'filth': 4852, 'oughta': 4853, 'hideous': 4854, 'frankie': 4855, 'fella': 4856, 'dads': 4857, 'malted': 4858, 'tooth': 4859, 'blinded': 4860, \"soundin'\": 4861, 'thorough': 4862, 'winks': 4863, 'infestation': 4864, 'sanitary': 4865, 'utensils': 4866, 'hygienically': 4867, 'stored': 4868, 'parked': 4869, 'hydrant': 4870, 'exhale': 4871, 'whaddya': 4872, 'hunky': 4873, 'dory': 4874, 'rife': 4875, 'starters': 4876, 'predecessor': 4877, 'trash': 4878, 'wednesday': 4879, 'chicken': 4880, 'skins': 4881, 'dispenser': 4882, 'john': 4883, 'danny': 4884, 'mountain': 4885, \"summer's\": 4886, 'falling': 4887, 'bide': 4888, 'tribute': 4889, 'e': 4890, 'acceptance': 4891, 'hafta': 4892, 'reopen': 4893, 'crestfallen': 4894, 'nor': 4895, 'pen': 4896, 'parrot': 4897, 'brief': 4898, 'contact': 4899, 'blocked': 4900, 'protecting': 4901, 'investment': 4902, 'cigars': 4903, 'microwave': 4904, 'beans': 4905, 'stupidly': 4906, 'jerk-ass': 4907, 'doy': 4908, 'cheerier': 4909, 'darkness': 4910, 'tactful': 4911, 'remodel': 4912, \"changin'\": 4913, 'susie-q': 4914, 'face-macer': 4915, 'guff': 4916, 'grub': 4917, 'proper': 4918, 'old-time': 4919, 'whaaa': 4920, 'britannia': 4921, 'meatpies': 4922, 'lager': 4923, 'classy': 4924, 'asses': 4925, 'so-ng': 4926, 'arm-pittish': 4927, \"renovatin'\": 4928, 'drapes': 4929, \"idea's\": 4930, 'lindsay': 4931, 'naegle': 4932, 'mis-statement': 4933, 'allow': 4934, 'credit': 4935, 'bumpy-like': 4936, 'counterfeit': 4937, 'moe-clone': 4938, 'socialize': 4939, 'e-z': 4940, 'oopsie': 4941, \"enjoyin'\": 4942, 'adult': 4943, 'tickets': 4944, \"santa's\": 4945, 'sleigh-horses': 4946, 'sells': 4947, 'impress': 4948, \"liftin'\": 4949, 'dumbbell': 4950, 'forty-nine': 4951, 'ninety-nine': 4952, \"lefty's\": 4953, 'victim': 4954, 'hustle': 4955, \"breakin'\": 4956, 'nerd': 4957, 'sugar-free': 4958, 'flat': 4959, 'buds': 4960, 'goldarnit': 4961, 'life-partner': 4962, 'whup': 4963, 'yee-ha': 4964, 'gol-dangit': 4965, \"dimwit's\": 4966, 'kazoo': 4967, 'head-gunk': 4968, 'hears': 4969, 'cocking': 4970, 'texan': 4971, 're-al': 4972, 'moe-heads': 4973, 'polls': 4974, 'negative': 4975, 'ads': 4976, 'hurting': 4977, 'homeless': 4978, 'bum:': 4979, 'annual': 4980, 'w-a-3-q-i-zed': 4981, 'mason': 4982, 'arrived': 4983, \"rentin'\": 4984, 'las': 4985, 'nevada': 4986, 'stingy': 4987, 'rat-like': 4988, 'sued': 4989, 'settlement': 4990, 'partially': 4991, 'risqué': 4992, 'plane': 4993, 'soul-crushing': 4994, 'blackjack': 4995, 'nelson_muntz:': 4996, 'nelson': 4997, 'pair': 4998, 'paints': 4999, 'noggin': 5000, 'meanwhile': 5001, \"yieldin'\": 5002, 'moe_recording:': 5003, 'ew': 5004, 'considering:': 5005, \"table's\": 5006, 'wobbly': 5007, 'jam': 5008, 'ford': 5009, 'captain': 5010, 'kirk': 5011, 'five-fifteen': 5012, 'eternity': 5013, 'fortune': 5014, 'fica': 5015, 'helping': 5016, 'steamed': 5017, 'cappuccino': 5018, '-ry': 5019, 'otherwise': 5020, 'neighbors': 5021, 'wife-swapping': 5022, 'strolled': 5023, 'donation': 5024, 'lewis': 5025, 'notorious': 5026, 'idealistic': 5027, 'law-abiding': 5028, 'archaeologist': 5029, 'excavating': 5030, 'mayan': 5031, 'pyramid': 5032, 'unearth': 5033, 'pre-columbian': 5034, 'donate': 5035, 'statues': 5036, 'handed': 5037, 'dilemma': 5038, 'edner': 5039, \"playin'\": 5040, 'coin': 5041, 'poorer': 5042, 'worldly': 5043, 'possessions': 5044, \"'ceptin'\": 5045, 'nucular': 5046, 'obsessive-compulsive': 5047, 'powered': 5048, 'non-american': 5049, \"tv's\": 5050, 'misfire': 5051, 'prolonged': 5052, 'playoff': 5053, \"hobo's\": 5054, 'owes': 5055, 'fist': 5056, \"puttin'\": 5057, 'screws': 5058, \"tony's\": 5059, 'all-all-all': 5060, 'stars': 5061, 'firing': 5062, 'pure': 5063, 'polish': 5064, 'heck': 5065, \"challengin'\": 5066, 'sudoku': 5067, 'puzzle': 5068, 'numeral': 5069, 'repeated': 5070, 'column': 5071, 'salvation': 5072, 'cocks': 5073, 'stripes': 5074, 'repay': 5075, 'colonel:': 5076, 'fishing': 5077, \"listenin'\": 5078, 'bursts': 5079, 'published': 5080, 'author': 5081, 'earlier': 5082, 'newly-published': 5083, 'snail': 5084, 'trail': 5085, 'name:': 5086, 'bonfire': 5087, 'vanities': 5088, 'coined': 5089, 'phrase': 5090, 'radical': 5091, 'chic': 5092, \"squeezin'\": 5093, \"'roids\": 5094, 'vermont': 5095, 'thrilled': 5096, \"wouldn't-a\": 5097, 'outlive': 5098, 'wizard': 5099, 'upn': 5100, 'assert': 5101, 'herself': 5102, 'backbone': 5103, 'notices': 5104, 'unlocked': 5105, 'beeps': 5106, 'declan': 5107, 'fruit': 5108, 'oddest': 5109, 'thing:': 5110, 'affection': 5111, 'knuckle-dragging': 5112, 'sub-monkeys': 5113, \"sippin'\": 5114, 'cuckoo': 5115, 'de-scramble': 5116, 'scrutinizing': 5117, 'shoe': 5118, 'inserts': 5119, \"writin'\": 5120, 'creepy': 5121, 'kills': 5122, 'title:': 5123, 'pontiff': 5124, 'gargoyles': 5125, 'good-looking': 5126, 'open-casket': 5127, 'material': 5128, 'sour': 5129, 'paparazzo': 5130, 'joy': 5131, 'robin': 5132, 'williams': 5133, 'bits': 5134, 'co-sign': 5135, 'photos': 5136, 'turlet': 5137, 'attractive_woman_#1:': 5138, 'attractive_woman_#2:': 5139, 'trade': 5140, 'bras': 5141, 'panties': 5142, 'volunteer': 5143, 'assume': 5144, 'dentist': 5145, 'mary': 5146, \"school's\": 5147, 'bake': 5148, \"betsy'll\": 5149, 'runs': 5150, 'depending': 5151, 'strips': 5152, 'eggshell': 5153, 'malabar': 5154, 'ivory': 5155, 'mediterranean': 5156, 'ecru': 5157, 'tow': 5158, 'lobster-politans': 5159, 'smelling': 5160, 'one-hour': 5161, 'zone': 5162, 'correction': 5163, 'lobster-based': 5164, 'designer': 5165, 'laughter': 5166, 'unhook': 5167, 'moving': 5168, 'tow-talitarian': 5169, 'totalitarians': 5170, 'stalin': 5171, 'forced': 5172, 'labor': 5173, 'insensitive': 5174, 'winch': 5175, 'enforced': 5176, 'fatty': 5177, 'ralph': 5178, 'ralphie': 5179, 'tow-joes': 5180, 'territorial': 5181, \"family's\": 5182, 'remembers': 5183, 'process': 5184, 'splash': 5185, 'jaegermeister': 5186, 'add': 5187, 'sloe': 5188, 'triple-sec': 5189, 'quadruple-sec': 5190, 'gunk': 5191, \"dog's\": 5192, 'absolut': 5193, 'stripe': 5194, 'aquafresh': 5195, 'funniest': 5196, 'venom': 5197, 'louisiana': 5198, 'loboto-moth': 5199, 'sweetie': 5200, 'pregnancy': 5201, 'presto:': 5202, 'ultimate': 5203, 'bleacher': 5204, 'menace': 5205, 'swig': 5206, 'wipes': 5207, 'entering': 5208, 'forget-me-drinks': 5209, 'rickles': 5210, 'arabs': 5211, 'gibson': 5212, 'mexicans': 5213, 'grammys': 5214, 'hispanic_crowd:': 5215, 'jeers': 5216, 'sternly': 5217, 'disturbance': 5218, 'filed': 5219, 'infor': 5220, 'ripper': 5221, 'doppler': 5222, \"queen's\": 5223, 'surgeonnn': 5224, 'piling': 5225, 'unkempt': 5226, 'attractive': 5227, 'spits': 5228, 'bottoms': 5229, 'retain': 5230, 'misconstrue': 5231, \"cuckold's\": 5232, 'horns': 5233, 'moon-bounce': 5234, 'amiable': 5235, 'newsies': 5236, 'scruffy_blogger:': 5237, 'access': 5238, 'politicians': 5239, 'issues': 5240, 'declare': 5241, 'frontrunner': 5242, 'mansions': 5243, 'abolish': 5244, 'democracy': 5245, 'dictator': 5246, 'juan': 5247, 'perón': 5248, 'madonna': 5249, 'dennis': 5250, 'kucinich': 5251, 'twerpy': 5252, 'unbelievably': 5253, 'manuel': 5254, 'fake': 5255, 'moustache': 5256, 'ees': 5257, 'mild': 5258, 'backing': 5259, 'reminded': 5260, 'quarry': 5261, 'stones': 5262, 'woodchucks': 5263, 'mailbox': 5264, 'cell': 5265, 'butter': 5266, 'tasty': 5267, 'almond': 5268, 'listens': 5269, 'compromise:': 5270, 'luckiest': 5271, 'remaining': 5272, 'scratcher': 5273, 'kick-ass': 5274, 'shush': 5275, 'propose': 5276, 'willing': 5277, 'halvsies': 5278, 'lugs': 5279, 'splendid': 5280, 'weather': 5281, 'way:': 5282, 'tying': 5283, 'crippling': 5284, 'refinanced': 5285, 'twenty-six': 5286, 'cowboy': 5287, 'encouraged': 5288, 'half-day': 5289, 'encouraging': 5290, 'widow': 5291, 'option': 5292, 'pep': 5293, 'squad': 5294, 'cheered': 5295, 'runners': 5296, 'ninety-seven': 5297, 'break-up': 5298, 'cheated': 5299, 'showered': 5300, 'soaps': 5301, 'massage': 5302, 'oils': 5303, 'maiden': 5304, 'nicer': 5305, \"she'll\": 5306, 'parenting': 5307, 'childless': 5308, 'goodwill': 5309, 'attached': 5310, 'direction': 5311, \"mecca's\": 5312, \"don'tcha\": 5313, 'oughtta': 5314, 'dint': 5315, \"son's\": 5316, \"bashir's\": 5317, 'derek': 5318, 'jeter': 5319, 'mariah': 5320, 'carey': 5321, 'muslim': 5322, 'espousing': 5323, 'view': 5324, 'fbi_agent:': 5325, 'fayed': 5326, 'statue': 5327, \"liberty's\": 5328, 'principles': 5329, 'discriminate': 5330, 'employment': 5331, 'housing': 5332, 'patriotic': 5333, 'bauer': 5334, 'sanctuary': 5335, 'super-tough': 5336, 'africanized': 5337, 'honeys': 5338, 'environment': 5339, 'dna': 5340, 'strains': 5341, 'species': 5342, 'protesting': 5343, 'inclination': 5344, 'anonymous': 5345, 'partners': 5346, 'privacy': 5347, 'buzziness': 5348, 'connor-politan': 5349, 'oh-so-sophisticated': 5350, 'connor': 5351, 'kidneys': 5352, 'guilt': 5353, 'haircuts': 5354, 'graves': 5355, 'dig': 5356, 'ballot': 5357, 'gore': 5358, 'presidential': 5359, 'stolen': 5360, 'falsetto': 5361, 'albert': 5362, 'landlord': 5363, 'and-and': 5364, 'getaway': 5365, 'flanders:': 5366, 'expose': 5367, 'dateline': 5368, 'nominated': 5369, 'peabody': 5370, 'exclusive:': 5371, 'forty-two': 5372, 'evergreen': 5373, 'terrace': 5374, 'suburban': 5375, 'actress': 5376, 'billiard': 5377, \"spiffin'\": 5378, 'inquiries': 5379, 'enabling': 5380, 'mags': 5381, 'taught': 5382, 'abcs': 5383, 'a-b-': 5384, 'forgets': 5385, 'p-k': 5386, \"s'pose\": 5387, \"cleanin'\": 5388, 'month': 5389, \"she'd\": 5390, 'stood': 5391, 'regretful': 5392, 'term': 5393, 'tidy': 5394, 'benjamin': 5395, 'life-sized': 5396, 'legoland': 5397, \"stealin'\": 5398, 'chinese_restaurateur:': 5399, 'espn': 5400, 'ling': 5401, 'chow': 5402, 'passenger': 5403, 'incredible': 5404, 'thought_bubble_lenny:': 5405, \"somethin':\": 5406, 'generally': 5407, 'limericks': 5408, 'coast': 5409, 'massachusetts': 5410, 'nantucket': 5411, 'unusual': 5412, 'personal': 5413, 'characteristic': 5414, 'simplest': 5415, 'a-a-b-b-a': 5416, 'dumbass': 5417, 'whistling': 5418, 'nonchalantly': 5419, 'chained': 5420, 'tomato': 5421, 'tomahto': 5422, 'comedies': 5423, 'reckless': 5424, 'gesture': 5425, 'blows': 5426, 'sidelines': 5427, \"who'da\": 5428, 'chapter': 5429, 'insults': 5430, 'disguised': 5431, 'suspenders': 5432, 'circus': 5433, 'clown-like': 5434, 'insecure': 5435, 'envy-tations': 5436, 'hate-hugs': 5437, 'spamming': 5438, 'faint': 5439, 'praise': 5440, 'frozen': 5441, 'toledo': 5442, 'take-back': 5443, \"people's\": 5444, 'eager': 5445, 'happily:': 5446, 'community': 5447, 'playhouse': 5448, 'bathed': 5449, 'glowers': 5450, 'sticking-place': 5451, 'fail': 5452, 'x-men': 5453, '2': 5454, 'macbeth': 5455, 'mac-who': 5456, 'gulliver_dark:': 5457, 'bedridden': 5458, 'unable': 5459, 'toe': 5460, 'paintings': 5461, 'melodramatic': 5462, 'nonsense': 5463, 'training': 5464, 'bleeding': 5465, \"murphy's\": 5466, \"pressure's\": 5467, 'bon-bons': 5468, 'declared': 5469, 'microbrew': 5470, 'cobra': 5471, 'solves': 5472, 'cupid': 5473, 'unattended': 5474, 'fl': 5475, 'ventriloquism': 5476, 'approval': 5477, 'cure': 5478, 'ails': 5479, 'cuddling': 5480, 'steaming': 5481, 'cocoa': 5482, 'rainbows': 5483, 'surprised/thrilled': 5484, 'full-bodied': 5485, 'full-blooded': 5486, 'harmony': 5487, 'loyal': 5488, 'hemoglobin': 5489, \"disrobin'\": 5490, 'rosey': 5491, 'bubbles-in-my-nose-y': 5492, \"mo'\": 5493, 'musical': 5494, 'kodos:': 5495, 'measure': 5496, 'distance': 5497, 'unrelated': 5498, 'seductive': 5499, 'cologne': 5500, 'shaved': 5501, 'knuckles': 5502, 'shakes': 5503, 'handwriting': 5504, 'idioms': 5505, 'midge:': 5506, 'gayer': 5507, 'occurred': 5508, 'timbuk-tee': 5509, 'fast-paced': 5510, 'nibble': 5511, 'teriyaki': 5512, 'frenchman': 5513, 'spoon': 5514, 'duke': 5515, 'amnesia': 5516, 'missing': 5517, 'squeeze': 5518, 'irishman': 5519, 'pretends': 5520, \"o'reilly\": 5521, 'radiator': 5522, 'rebuilt': 5523, 'briefly': 5524, 'uncreeped-out': 5525, 'mines': 5526, 'taste': 5527, 'romance': 5528, 'perverse': 5529, 'hearse': 5530, 'civil': 5531, 'nurse': 5532, 'proof': 5533, 'simultaneous': 5534, 'i/you': 5535, 'finale': 5536, 'indicates': 5537, 'half-beer': 5538, 'enjoyed': 5539, 'halloween': 5540, 'treehouse': 5541, 'horror': 5542, 'xx': 5543, 'shhh': 5544, 'habitrail': 5545, 'donuts': 5546, 'meals': 5547, 'philosophical': 5548, 'southern': 5549, 'indeed': 5550, 'gator': 5551, 'mccall': 5552, 'recruiter': 5553, 'specializes': 5554, 'headhunters': 5555, 'valuable': 5556, 'protesters': 5557, 'marched': 5558, 'plants': 5559, 'radiation': 5560, \"poisonin'\": 5561, 'passports': 5562, 'loafers': 5563, 'hooray': 5564, 'nap': 5565, 'awake': 5566, 'meteor': 5567, 'flexible': 5568, 'marshmallow': 5569, 'dumbest': 5570, \"stabbin'\": 5571, 'humanity': 5572, 'mocking': 5573, 'official': 5574, 'releasing': 5575, 'hounds': 5576, 'releases': 5577, 'wolverines': 5578, 'horses': 5579, \"eatin'\": 5580, 'wish-meat': 5581, 'bust': 5582, 'exchanged': 5583, 'whispered': 5584, 'huddle': 5585, 'nursemaid': 5586, \"elmo's\": 5587, 'reunion': 5588, 'andrew': 5589, 'mccarthy': 5590, 'attend': 5591, 'lied': 5592, 'itchy': 5593, 'planted': 5594, 'chair': 5595, 'refill': 5596, 'cozies': 5597, 'sassy': 5598, 'cushions': 5599, 'cushion': 5600, 'flash': 5601, 'drives': 5602, 'data': 5603, 'hammy': 5604, 'estranged': 5605, \"tomorrow's\": 5606, 'forecast': 5607, 'cloudy': 5608, 'sunny': 5609, 'guessing': 5610, 'thunder': 5611, 'storms': 5612, 'exultant': 5613, 'ahem': 5614, 'wagering': 5615, 'installed': 5616, \"america's\": 5617, \"blowin'\": 5618, 'homeland': 5619, 'mm-hmm': 5620, 'tsking': 5621, 'presided': 5622, 'suave': 5623, 'debonair': 5624, 'offa': 5625, \"narratin'\": 5626, 'cricket': 5627, 'uniforms': 5628, 'rain': 5629, \"'pu\": 5630, 'she-pu': 5631, 'everyday': 5632, 'mimes': 5633, 'saving': 5634, 'gheet': 5635, 'darjeeling': 5636, 'limited': 5637, 'low-blow': 5638, 'boxer:': 5639, 'pre-recorded': 5640, 'rug': 5641, \"mother's\": 5642, 'panicked': 5643, 'carny:': 5644, 'teacup': 5645, 'whispers': 5646, 'rutabaga': 5647, 'putty': 5648, 'innocuous': 5649, 'flashbacks': 5650, 'ferry': 5651, 'pointedly': 5652, 'lovejoy': 5653, 'ralph_wiggum:': 5654, 'popping': 5655, 'man_with_crazy_beard:': 5656, 'outrageous': 5657, 'beard': 5658, 'expense': 5659, 'beards': 5660, \"askin'\": 5661, 'scatter': 5662, 'cockroaches': 5663, 'rip': 5664, 'stretch': 5665, 'tee': 5666, 'california': 5667, 'judgments': 5668, 'legally': 5669, 'side:': 5670, 'murdoch': 5671, 'rupert_murdoch:': 5672, 'jay': 5673, 'leno': 5674, 'jay_leno:': 5675, 'iran': 5676, 'weapon': 5677, 'rig': 5678, 'leak': 5679, 'disappear': 5680, 'nbc': 5681, 'howya': 5682, 'button-pusher': 5683, 'obama': 5684, 'booth': 5685, 'cliff': 5686, 'lee': 5687, 'zack': 5688, 'grenky': 5689, 'completely': 5690, 'colossal': 5691, 'exception:': 5692, 'inning': 5693, 'domed': 5694, 'bunion': 5695, 'notably': 5696, 'ineffective': 5697, 'portentous': 5698, 'dexterous': 5699, 'understood': 5700, 'poin-dexterous': 5701, 'laid': 5702, 'key': 5703, 'developed': 5704, 'statistician': 5705, 'bill_james:': 5706, 'taxes': 5707, 'eight-year-old': 5708, 'ballclub': 5709, 'sagacity': 5710, 'stengel': 5711, 'single-mindedness': 5712, 'steinbrenner': 5713, 'stein-stengel-': 5714, 'stats': 5715, 'ratio': 5716, 'occupied': 5717, 'sobo': 5718, 'conversion': 5719, 'factor': 5720, 'refreshingness': 5721, 'effervescence': 5722, 'benjamin:': 5723, 'minus': 5724, 'rueful': 5725, 'advertise': 5726, 'specials': 5727, 'scientific': 5728, 'annus': 5729, 'horribilis': 5730, 'resolution': 5731, 'fixes': 5732, 'courthouse': 5733, 'compare': 5734, 'exquisite': 5735, 'reward': 5736, 'planned': 5737, 'addiction': 5738, 'compels': 5739, 'executive': 5740, 'average-looking': 5741, '_burns_heads:': 5742, 'hangout': 5743, 'offense': 5744, 'whatchamacallit': 5745, 'swishkabobs': 5746, \"grandmother's\": 5747, 'urinal': 5748, \"getting'\": 5749, 'renovations': 5750, \"friend's\": 5751, 'lainie:': 5752, 'carlotta:': 5753, 'jägermeister': 5754, 'pink': 5755, 'lemonade': 5756, 'strawberry': 5757, 'chapstick': 5758, \"cupid's\": 5759, 'wazoo': 5760, 'drains': 5761, 'scram': 5762, 'crinkly': 5763, 'eva': 5764, 'braun:': 5765, \"man's_voice:\": 5766, 'huhza': 5767, '3': 5768, 'whoopi': 5769, 'seminar': 5770, 'motor': 5771, 'lodge': 5772, 'tornado': 5773, 'kissingher': 5774, 'earth': 5775, 'casting': 5776, 'pall': 5777, 'serum': 5778, 'walther': 5779, 'hotenhoffer': 5780, 'pharmaceutical': 5781, 'occupation': 5782, 'renders': 5783, 'tolerable': 5784, 'normals': 5785, 'irrelevant': 5786, 'elaborate': 5787, 'extract': 5788, 'synthesize': 5789, 'scrutinizes': 5790, 'grease': 5791, 'germans': 5792, 'when-i-get-a-hold-of-you': 5793, 'dammit': 5794, 'typed': 5795, 'rapidly': 5796, 'donated': 5797, 'haiti': 5798, \"y'see\": 5799, 'pushes': 5800, 'strangles': 5801, 'sue': 5802, 'hollowed-out': 5803, 'contented': 5804, 'phony': 5805, 'grin': 5806, 'plastered': 5807, 'freaky': 5808, 'slipped': 5809, 'mickey': 5810, 'churchy': 5811, 'brainheaded': 5812, 'fence': 5813, 'sheet': 5814, 'wistful': 5815, 'prayers': 5816, 'choked': 5817, 'iddilies': 5818, 'diddilies': 5819, 'christian': 5820, 'wuss': 5821, 'confession': 5822, 'make:': 5823, 'solely': 5824, 'noble': 5825, 'intention': 5826, 'two-thirds-empty': 5827, 'poetry': 5828, 'multi-purpose': 5829, 'email': 5830, 'edna-lover-one-seventy-two': 5831, 'lowest': 5832, \"edna's\": 5833, 'drummer': 5834, 'gulps': 5835, 'plucked': 5836, 'wikipedia': 5837, 'frankenstein': 5838, 'neighboreeno': 5839, 'plain': 5840, 'bagged': 5841, 'tiger': 5842, 'prompting': 5843, 'sen': 5844, 'cesss': 5845, 'surprising': 5846, 'entrance': 5847, 'jewelry': 5848, 'pronto': 5849, 'drawer': 5850, \"linin'\": 5851, 'presidents': 5852, 'upgrade': 5853, 'commanding': 5854, 'appropriate': 5855, 'reaction': 5856, 'sooo': 5857, 'fresco': 5858, \"speakin'\": 5859, 'farthest': 5860, 'drove': 5861, 'roz': 5862, 'ditched': 5863, 'lady-free': 5864, 'eighty-three': 5865, 'souvenir': 5866, 'sizes': 5867, 'hare-brained': 5868, 'schemes': 5869, 'pillows': 5870, 'adopted': 5871, 'capuchin': 5872, 'bonding': 5873, 'phase': 5874, 'safecracker': 5875, 'caper': 5876, 'fantasy': 5877, 'novel': 5878, 'brag': 5879, 'publish': 5880, 'modestly': 5881, 'lucinda': 5882, 'placed': 5883, 'fifth': 5884, 'shard': 5885, 'stained-glass': 5886, 'read:': 5887, \"'your\": 5888, 'parents': 5889, \"'\": 5890, 'gregor': 5891, 'understood:': 5892, 'journey': 5893, 'reader': 5894, 'selection': 5895, 'steampunk': 5896, 'frink-y': 5897, 'mock-up': 5898, 'title': 5899, 'tuna': 5900, 'itself': 5901, 'kansas': 5902, 'golden': 5903, 'literary': 5904, 'lis': 5905, 'milhouses': 5906, 'jacksons': 5907, 'xanders': 5908, 'aidens': 5909, 'dreamy': 5910, 'aiden': 5911, 'vampire': 5912, 'transylvania': 5913, 'prep': 5914, 'brooklyn': 5915, 'fuzzlepitch': 5916, 'bloodball': 5917, 'lame': 5918, 'publishers': 5919, 'sistine': 5920, 'chapel': 5921, 'mural': 5922, 'hems': 5923, 'haws': 5924, 'watched': 5925, 'bluff': 5926, 'conversations': 5927, 'annie': 5928, 'meaning': 5929, 'brain-switching': 5930, 'ceremony': 5931, 'sleeping': 5932, 'switched': 5933, 'dashes': 5934, 'lennyy': 5935, 'sheets': 5936, 'wind': 5937, 'dignified': 5938, 'stumble': 5939, 'typing': 5940, 'lead': 5941, 'pledge': 5942, 'allegiance': 5943, 'conclude': 5944, 'thanking': 5945, 'hosting': 5946, 'fumigated': 5947, 'er': 5948, 'adjourned': 5949, 'convenient': 5950, 'sangre': 5951, 'de': 5952, 'los': 5953, 'muertos': 5954, 'friend:': 5955, 'mexican': 5956, 'mexican_duffman:': 5957, 'ho-la': 5958, 'pepto-bismol': 5959, 'facebook': 5960, 'scrubbing': 5961, 'hardy': 5962, 'unhappy': 5963, 'taxi': 5964, 'wears': 5965, 'nemo': 5966, 'brace': 5967, 'lear': 5968, 'be-stainèd': 5969, 'swatch': 5970, 'gentles': 5971, 'begin': 5972, 'medieval': 5973, 'self-satisfied': 5974, 'tapestry': 5975, 'sponge:': 5976, 'gutenberg': 5977, 'bartholomé:': 5978, 'overstressed': 5979, 'helps': 5980, 'recap:': 5981, 'unjustly': 5982, 'lofty': 5983, 'perch': 5984, 'wound': 5985, 'barter': 5986, 'persia': 5987, 'raggie': 5988, 'continued': 5989, 'enterprising': 5990, 'seamstress': 5991, 'fledgling': 5992, 'thousand-year': 5993, 'grace': 5994, 'predictable': 5995, 'startled': 5996, 'sensitivity': 5997, 'jobless': 5998, 'washouts': 5999, 'error': 6000, 'blamed': 6001, 'rent': 6002, 'pizzicato': 6003, 'buyer': 6004, 'specified': 6005, 'stepped': 6006, 'done:': 6007, 'arguing': 6008, 'guts': 6009, 'rationalizing': 6010, 'pack': 6011, 'adjust': 6012, 'runaway': 6013, 'monorails': 6014, 'nascar': 6015, 'gordon': 6016, 'jeff_gordon:': 6017, \"plank's\": 6018, 'land': 6019, 'traitors': 6020, 'lou': 6021, 'eliminate': 6022, 'bulldozing': 6023, 'tire': 6024, 'sinkhole': 6025, 'administration': 6026, 'solved': 6027, 'fears': 6028, 'most:': 6029, \"s'okay\": 6030, 'nuked': 6031, 'swimmers': 6032, 'shame': 6033, 'wrap': 6034, 'plums': 6035, 'tin': 6036, 'philosophic': 6037, 'samples': 6038, 'shelbyville': 6039, 'sperm': 6040, 'necklace': 6041, 'eww': 6042, 'fund': 6043, 'lend': 6044, 'sesame': 6045, 'frogs': 6046, 'settles': 6047, 'woe:': 6048, 'gamble': 6049, \"daughter's\": 6050, 'fdic': 6051, 'grubby': 6052, 'site': 6053, 'onion': 6054, 'rings': 6055, 'badmouth': 6056, 'country': 6057, 'prettiest': 6058, \"aristotle's\": 6059, 'poetics': 6060, 'rice': 6061, 'promotion': 6062, 'poured': 6063, 'hooky': 6064, 'throats': 6065, 'grind': 6066, 'crunch': 6067, 'nature': 6068, 'dipping': 6069, 'edge': 6070, 'groveling': 6071, 'brown': 6072, 'wiggle-frowns': 6073, 'abusive': 6074, 'tolerance': 6075, 'dejected_barfly:': 6076, 'slurred': 6077, 'hammock': 6078, 'bleak': 6079, 'icy': 6080, 'chill': 6081, 'dropping': 6082, 'janette': 6083, 'cheryl': 6084, 'rotten': 6085, 'pretend': 6086, 'improv': 6087, 'imaginary': 6088, 'chip': 6089, 'ends': 6090, 'skydiving': 6091, \"pullin'\": 6092, 'app': 6093, 'random': 6094, 'occurrence': 6095, 'squeezed': 6096, 'sap': 6097, \"choosin'\": 6098, 'adequate': 6099, 'carnival': 6100, 'miracle': 6101, \"tree's\": 6102, 'disillusioned': 6103, 'reporter': 6104, 'kenny': 6105, 'brockelstein': 6106, 'investigating': 6107, 'cartoons': 6108, 'thirty-three': 6109, 'short_man:': 6110, 'gruff': 6111, 'rancid': 6112, 'innocence': 6113, 'man_with_tree_hat:': 6114, 'hoax': 6115, 'tree_hoper:': 6116, 'crappy': 6117, 'pretentious_rat_lover:': 6118, 'manchego': 6119, 'aziz': 6120, 'lurks': 6121, 'racially-diverse': 6122, 'network': 6123, 'experienced': 6124, 'acronyms': 6125, 'kinderhook': 6126, 'collapse': 6127, 'rome': 6128, 'inexorable': 6129, 'march': 6130, 'progress': 6131, '_eugene_blatz:': 6132, 'slaves': 6133, 'supermarket': 6134, 'starve': 6135, 'unsourced': 6136, 'undated': 6137, 'convinced': 6138, 'beyond': 6139, 'suspended': 6140, 'voodoo': 6141, 'curse': 6142, 'gestated': 6143, 'popped': 6144, 'acquitted': 6145, 'nightmare': 6146, 'in-ground': 6147, 'shades': 6148, 'grey': 6149, 'what-for': 6150, 'fiction': 6151, 'sheriff': 6152, 'kissed': 6153, 'said:': 6154, 'imitating': 6155, 'griffith': 6156, \"'now\": 6157, 'aunt': 6158, 'asks': 6159, \"fishin'\": 6160, \"hole'\": 6161, 'argue': 6162, 'stirrers': 6163, 'holy': 6164, 'faiths': 6165, 'easy-going': 6166, 'offshoot': 6167, 'protestantism': 6168, 'handler': 6169, \"thing's\": 6170, 'rims': 6171, 'ribbon': 6172, 'cherry': 6173, 'blurbs': 6174, 'sedaris': 6175, 'flack': 6176, 'pews': 6177, 'catholic': 6178, 'sexton': 6179, 'rector': 6180, 'whim': 6181, \"nothin's\": 6182, 'mid-conversation': 6183, 'padres': 6184, 'tigers': 6185, 'polygon': 6186, 'hexa-': 6187, 'octa-': 6188, 'decide:': 6189, 'loudly': 6190, \"beggin'\": 6191, 'legend': 6192, 'buzz': 6193, 'recorded': 6194, 'options': 6195, 'carefully': 6196, 'committing': 6197, 'press': 6198, 'life-extension': 6199, 'male_singers:': 6200, 'painless': 6201, 'brings': 6202, 'delays': 6203, 'ron': 6204, 'moe-ron': 6205, 'libraries': 6206, 'newspaper': 6207, 'rods': 6208, 'compressions': 6209, 'gees': 6210, 'singing/pushing': 6211, \"stayin'\": 6212, 'living': 6213, 'fools': 6214, 'lease': 6215, 'post-suicide': 6216, 'afterglow': 6217, 'shorter': 6218, 'applesauce': 6219, 'leaving': 6220, 'choked-up': 6221, 'passes': 6222, 'reentering': 6223, 'noosey': 6224, 'noose': 6225, 'worldview': 6226, 'cleaning': 6227, 'growing': 6228, 'carpet': 6229, 'layer': 6230, 'congoleum': 6231, 'hardwood': 6232, 'jig': 6233, 'improved': 6234, 'non-losers': 6235, 'getcha': 6236, 'aged': 6237, 'venture': 6238, 'capitalists': 6239, 'mostly': 6240, 'kentucky': 6241, 'kool': 6242, 'aid': 6243, 'fantastic': 6244, 'startup': 6245, 'branding': 6246, 'specialists': 6247, 'touch': 6248, 'rafter': 6249, 'comforting': 6250, 'holidays': 6251, 'expensive': 6252, 'beer:': 6253, 'platinum': 6254, 'paste': 6255, 'hairs': 6256, 'youth': 6257, 'babar': 6258, 'confidential': 6259, 'cousin': 6260, 'celeste': 6261, 'takeaway': 6262, 'royal': 6263, 'trainers': 6264, 'average': 6265, 'schmoe': 6266, \"can't-believe-how-bald-he-is\": 6267, 'science': 6268, 'exhibit': 6269, 'hunger': 6270, \"games'd\": 6271, 'womb': 6272, 'life:': 6273, 'ninety-six': 6274, \"number's\": 6275, 'winning': 6276, 'celebrate': 6277, \"ragin'\": 6278, 'mini-dumpsters': 6279, 'gasoline': 6280, 'build': 6281, 'swimming': 6282, 'freaking': 6283, \"cashin'\": 6284, 'safety': 6285, 'ripped': 6286, 'tense': 6287, 'voicemail': 6288, 'offensive': 6289, 'sickened': 6290, 'moolah-stealing': 6291, 'jackpot-thief': 6292, \"something's\": 6293, 'reflected': 6294, 'lenses': 6295, 'sunglasses': 6296, 'geyser': 6297, 'strokkur': 6298, 'geysir': 6299, 'minors': 6300, 'fat_in_the_hat:': 6301, 'pawed': 6302, 'skunk': 6303, 'furry': 6304, 'knit': 6305, 'thnord': 6306, 'leathery': 6307, 'hidden': 6308, 'selfish': 6309, 'radioactive': 6310, 'hellhole': 6311, 'superpower': 6312, 'whoa-ho': 6313, 'looooooooooooooooooong': 6314, 'experience': 6315, 'schedule': 6316, 'hers': 6317, 'ideas': 6318, 'divorced': 6319, 's-a-u-r-c-e': 6320, 'touches': 6321, 'earpiece': 6322, 'senators:': 6323, 'abercrombie': 6324, 'billingsley': 6325, 'beaumont': 6326, \"plaster's\": 6327, 'flaking': 6328, 'lay': 6329, \"stallin'\": 6330, 'groans': 6331, 'squeals': 6332, 'liser': 6333, 'cletus_spuckler:': 6334, 'conditioning': 6335, 'barkeeps': 6336, 'gin-slingers': 6337, 'beer-jerks': 6338, 'compete': 6339, 'stores': 6340, 'hooch': 6341, 'cap': 6342, 'masks': 6343, 'uninhibited': 6344, 'invulnerable': 6345, 'shuts': 6346, 'nick': 6347, 'fury': 6348, 'batmobile': 6349, 'wolveriskey': 6350, \"'ere\": 6351, 'portfolium': 6352, \"boy's\": 6353, 'knock-up': 6354, 'powers': 6355, 'created': 6356, 'virility': 6357, 'virile': 6358, \"brady's\": 6359, 'libido': 6360, 'rocks': 6361, 'sets': 6362, 'legs:': 6363, 'kidnaps': 6364, 'grateful': 6365, \"must've\": 6366, 'corn': 6367, 'eighty-five': 6368, 'goal': 6369, 'nfl_narrator:': 6370, 'breathtaking': 6371, 'ignorance': 6372, 'dislike': 6373, 'rookie': 6374, 'housewife': 6375, 'savvy': 6376, 'veteran': 6377, \"tv'll\": 6378, \"yesterday's\": 6379, 'whatsit': 6380, 'lifestyle': 6381, 'contract': 6382, 'fast-food': 6383, 'hibachi': 6384, \"how're\": 6385, 'transfer': 6386, 'hyper-credits': 6387, 'ding-a-ding-ding-ding-ding-ding-ding': 6388, 'ding-a-ding-ding-a-ding-ding': 6389, 'blade': 6390, 'spender': 6391, 'gossipy': 6392, 'jukebox_record:': 6393, 'robot': 6394, 'incapable': 6395, 'emotion': 6396, 'terrifying': 6397, 'quebec': 6398, 'nordiques': 6399, 'spooky': 6400, 'colorado': 6401, 'avalanche': 6402, \"toot's\": 6403, 'verdict': 6404, 'overturned': 6405, 'sequel': 6406, 'neon': 6407, 'repairman': 6408, 'bolting': 6409, 'wrapped': 6410, 'shoulders': 6411, 'si-lent': 6412, 'ho-ly': 6413, 'eve': 6414, \"startin'\": 6415, 'gift:': 6416, 'shrieks': 6417, 'angrily': 6418, 'wenceslas': 6419, 'karaoke_machine:': 6420, 'doooown': 6421, 'weight': 6422, 'thirty-nine': 6423, \"foolin'\": 6424, 'car:': 6425, 'habit': 6426, 'hateful': 6427, 'chubby': 6428, 'chunky': 6429, 'blobbo': 6430, 'slobbo': 6431, 'michelin': 6432, 'stay-puft': 6433, 'chumbawamba': 6434, 'balloon': 6435, 'papa': 6436, 'grandé': 6437, 'augustus': 6438, 'gloop': 6439, 'beached': 6440, 'whale': 6441, 'boned': 6442, 'wisconsin': 6443, 'skinny': 6444, 'butterball': 6445, 'dumptruck': 6446, 'jelly': 6447, 'pudgy': 6448, 'wudgy': 6449, 'lard': 6450, 'blubberino': 6451, 'buddha': 6452, 'tubman': 6453, 'ton': 6454, 'blob': 6455, 'saget': 6456, 'chub': 6457, 'hub': 6458, 'calvin': 6459, 'manfred': 6460, 'manboobs': 6461, '21': 6462, 'lump': 6463, 'fatso': 6464, 'harvey': 6465, 'obese': 6466, 'cannoli': 6467, 'mahatma': 6468, 'gumbo': 6469, 'salvador': 6470, 'deli': 6471, 'elmer': 6472, 'pantry': 6473, 'sponge': 6474, 'snackie': 6475, 'onassis': 6476, 'foodie': 6477, 'hoagie': 6478, 'carmichael': 6479, 'load': 6480, 'belts': 6481, 'homunculus': 6482, \"feelin's\": 6483, 'goblins': 6484, 'pridesters:': 6485, 'movement': 6486, 'drinking:': 6487, 'relaxed': 6488, 'apron': 6489, 'limber': 6490, \"tap-pullin'\": 6491, 'hook': 6492, 'sideshow': 6493, 'laney': 6494, 'fontaine': 6495, 'vulgar': 6496, 'fulla': 6497, 'jimmy': 6498, 'stewart': 6499, 'super-nice': 6500, \"can'tcha\": 6501, 'items': 6502, 'shells': 6503, 'lime': 6504, \"high-falutin'\": 6505, 'theatah': 6506, 'exits': 6507, 'sight': 6508, 'tomatoes': 6509, 'bachelorette': 6510, 'lady_duff:': 6511, 'hearing': 6512, 'interesting': 6513, 'clubs': 6514, \"lovers'\": 6515, 'spiritual': 6516, 'other_book_club_member:': 6517, 'liven': 6518, 'charming': 6519, 'whaaaa': 6520, 'bones': 6521, 'dazed': 6522, 'bounced': 6523, 'sass': 6524, 'heaving': 6525, \"coaster's\": 6526, 'mouths': 6527, \"snappin'\": 6528, 'ruint': 6529, \"i-i'll\": 6530, 'savings': 6531, 'rubbed': 6532, 'defected': 6533, 'north': 6534, 'korea': 6535, 'dae': 6536, 'pickles': 6537, 'background': 6538, 'ummmmmmmmm': 6539, 'ehhhhhhhh': 6540, 'errrrrrr': 6541, 'ehhhhhhhhh': 6542, 'ehhhhhh': 6543, 'kay': 6544, 'apply': 6545, 'jerking': 6546, 'chunk': 6547, 'oak': 6548, 'poplar': 6549, 'knowledge': 6550, 'wood': 6551, 'something:': 6552, 'elizabeth': 6553, 'languages': 6554, 'portuguese': 6555, 'eu': 6556, 'não': 6557, 'quero': 6558, 'dizer': 6559, 'para': 6560, 'mostrar': 6561, 'je': 6562, 'ne': 6563, 'veux': 6564, 'pas': 6565, 'montrer': 6566, 'refiero': 6567, 'presumir': 6568, 'watashi': 6569, 'koji': 6570, 'suru': 6571, 'wakede': 6572, 'arimasen': 6573, 'majesty': 6574, 'notice': 6575, 'repressed': 6576, 'spelling': 6577, 'grammar': 6578, 'ze-ro': 6579, 'kemi': 6580, 'prince': 6581, 'trashed': 6582, 'happens': 6583, 'cruiser': 6584, 'answered': 6585, 'tank': 6586, 'gil_gunderson:': 6587, 'mumble': 6588, 'conclusions': 6589, 'tied': 6590, 'jernt': 6591, 'elocution': 6592, 'pronounce': 6593, 'over-pronouncing': 6594, 'online': 6595, 'pernt': 6596, 'tease': 6597, 'thrown': 6598, 'rom': 6599, 'coms': 6600, 'wheels': 6601, 'witches': 6602, \"treatin'\": 6603, 'countryman': 6604, 'chinua': 6605, 'achebe': 6606, 'apart': 6607, 'ease': 6608, 'optimistic': 6609, 'amused': 6610, 'comment': 6611, 'eaten': 6612, 'string': 6613, 'eats': 6614, 'stretches': 6615, 'moon': 6616, 'dregs': 6617, 'bugs': 6618, 'mice': 6619, 'treats': 6620, 'bar:': 6621, 'cab': 6622, 'waist': 6623, 'shyly': 6624, 'lifts': 6625, 'index': 6626, 'examples': 6627, 'albeit': 6628, 'depressing': 6629, 'bedtime': 6630, 'premise': 6631, \"cheerin'\": 6632, 'pine': 6633, 'suffering': 6634, 'silence': 6635, 'rafters': 6636, 'badly': 6637, 'smiles': 6638, 'divine': 6639, 'four-star': 6640, 'brother-in-law': 6641, 'nachos': 6642, 'triangle': 6643, 'atari': 6644, 'oblivious': 6645, 'aims': 6646, 'dumpster': 6647, 'gags': 6648, 'psst': 6649, 'asleep': 6650, 'mellow': 6651, 'aghast': 6652, 'kirk_voice_milhouse:': 6653, 'milks': 6654, 'lumpa': 6655, 'coal': 6656, 'stocking': 6657, 'sucking': 6658, 'getup': 6659, 'part-time': 6660, 'selective': 6661, 'reaches': 6662, 'opens': 6663, 'whoops': 6664, 'explanation': 6665, 'anxious': 6666, 'bloodiest': 6667, 'thirsty': 6668, 'log': 6669, 'eddie': 6670, 'pretzels': 6671, 'peeping': 6672, 'toms': 6673, 'terrorizing': 6674, 'neighborhood': 6675, 'scent': 6676, 'bobo': 6677, 'wieners': 6678, 'figures': 6679, 'disappointment': 6680, 'onto': 6681, 'dealt': 6682, 'control': 6683, 'tremendous': 6684, 'tv-station_announcer:': 6685, 'this:': 6686, 'small_boy:': 6687, 'furiously': 6688, '_marvin_monroe:': 6689, 'monroe': 6690, 'gimmicks': 6691, 'pills': 6692, 'fad': 6693, 'diets': 6694, 'bliss': 6695, '1-800-555-hugs': 6696, \"life's\": 6697, 'heh-heh': 6698, 'runt': 6699, 'gut': 6700, 'tragedy': 6701, 'ohhhh': 6702, 'hottest': 6703, 'heave-ho': 6704, 'dingy': 6705, 'flophouse': 6706, 'yellow-belly': 6707, 'jackass': 6708, \"'er\": 6709, 'hunka': 6710, 'beef': 6711, 'contemplates': 6712, 'jams': 6713, 'yells': 6714, 'drunkenly': 6715, \"larry's\": 6716, 'difference': 6717, 'slop': 6718, 'hose': 6719, 'beings': 6720, 'candles': 6721, 'tablecloth': 6722, 'drift': 6723, 'deals': 6724, 'capitol': 6725, 'curiosity': 6726, \"c'mom\": 6727, 'employees': 6728, 'spouses': 6729, 'decision': 6730, 'simpsons': 6731, 'faced': 6732, \"should've\": 6733, 'listened': 6734, 'bites': 6735, 'oooh': 6736, \"costume's\": 6737, 'ape-like': 6738, 'saga': 6739, 'riveting': 6740, 'humiliation': 6741, \"rasputin's\": 6742, \"professor's\": 6743, 'patented': 6744, 'coma': 6745, 'show-off': 6746, 'muscles': 6747, 'engraved': 6748, 'richard:': 6749, 'audience:': 6750, 'ref': 6751, 'issuing': 6752, 'warning': 6753, 'rasputin': 6754, 'referee': 6755, 'permitting': 6756, 'smitty:': 6757, 'squabbled': 6758, 'washed': 6759, 'refreshment': 6760, 'trustworthy': 6761, 'sharing': 6762, 'birthplace': 6763, 'roy': 6764, 'scum-sucking': 6765, 'pus-bucket': 6766, 'eyeballs': 6767, 'often': 6768, 'bull': 6769, 'connection': 6770, 'lighten': 6771, 'ironic': 6772, 'snotty': 6773, 'sister-in-law': 6774, 'picky': 6775, 'blur': 6776, 'decided': 6777, 'happiness': 6778, 'pancakes': 6779, 'disdainful': 6780, 'heals': 6781, 'wounds': 6782}\n"
     ]
    }
   ],
   "source": [
    "print(vocab_to_int)"
   ]
  },
  {
   "cell_type": "markdown",
   "metadata": {
    "deletable": true,
    "editable": true
   },
   "source": [
    "## Build the Neural Network\n",
    "You'll build the components necessary to build a RNN by implementing the following functions below:\n",
    "- get_inputs\n",
    "- get_init_cell\n",
    "- get_embed\n",
    "- build_rnn\n",
    "- build_nn\n",
    "- get_batches\n",
    "\n",
    "### Check the Version of TensorFlow and Access to GPU"
   ]
  },
  {
   "cell_type": "code",
   "execution_count": 33,
   "metadata": {
    "collapsed": false
   },
   "outputs": [
    {
     "name": "stdout",
     "output_type": "stream",
     "text": [
      "TensorFlow Version: 1.0.0\n"
     ]
    },
    {
     "name": "stderr",
     "output_type": "stream",
     "text": [
      "/Users/marcocampana/anaconda3/envs/dlnd/lib/python3.6/site-packages/ipykernel/__main__.py:14: UserWarning: No GPU found. Please use a GPU to train your neural network.\n"
     ]
    }
   ],
   "source": [
    "\"\"\"\n",
    "DON'T MODIFY ANYTHING IN THIS CELL\n",
    "\"\"\"\n",
    "from distutils.version import LooseVersion\n",
    "import warnings\n",
    "import tensorflow as tf\n",
    "\n",
    "# Check TensorFlow Version\n",
    "assert LooseVersion(tf.__version__) >= LooseVersion('1.0'), 'Please use TensorFlow version 1.0 or newer'\n",
    "print('TensorFlow Version: {}'.format(tf.__version__))\n",
    "\n",
    "# Check for a GPU\n",
    "if not tf.test.gpu_device_name():\n",
    "    warnings.warn('No GPU found. Please use a GPU to train your neural network.')\n",
    "else:\n",
    "    print('Default GPU Device: {}'.format(tf.test.gpu_device_name()))"
   ]
  },
  {
   "cell_type": "markdown",
   "metadata": {},
   "source": [
    "### Input\n",
    "Implement the `get_inputs()` function to create TF Placeholders for the Neural Network.  It should create the following placeholders:\n",
    "- Input text placeholder named \"input\" using the [TF Placeholder](https://www.tensorflow.org/api_docs/python/tf/placeholder) `name` parameter.\n",
    "- Targets placeholder\n",
    "- Learning Rate placeholder\n",
    "\n",
    "Return the placeholders in the following the tuple `(Input, Targets, LearingRate)`"
   ]
  },
  {
   "cell_type": "code",
   "execution_count": 34,
   "metadata": {
    "collapsed": false,
    "deletable": true,
    "editable": true
   },
   "outputs": [
    {
     "name": "stdout",
     "output_type": "stream",
     "text": [
      "Tests Passed\n"
     ]
    }
   ],
   "source": [
    "def get_inputs():\n",
    "    \"\"\"\n",
    "    Create TF Placeholders for input, targets, and learning rate.\n",
    "    :return: Tuple (input, targets, learning rate)\n",
    "    \"\"\"\n",
    "    # TODO: Implement Function\n",
    "    input = tf.placeholder(tf.int32, [None, None], name=\"input\")\n",
    "    targets = tf.placeholder(tf.int32, [None, None], name=\"targets\")\n",
    "    learning_rate = tf.placeholder(tf.float32, None, name=\"learning_rate\")\n",
    "    return (input, targets, learning_rate)\n",
    "\n",
    "\n",
    "\"\"\"\n",
    "DON'T MODIFY ANYTHING IN THIS CELL THAT IS BELOW THIS LINE\n",
    "\"\"\"\n",
    "tests.test_get_inputs(get_inputs)"
   ]
  },
  {
   "cell_type": "markdown",
   "metadata": {
    "deletable": true,
    "editable": true
   },
   "source": [
    "### Build RNN Cell and Initialize\n",
    "Stack one or more [`BasicLSTMCells`](https://www.tensorflow.org/api_docs/python/tf/contrib/rnn/BasicLSTMCell) in a [`MultiRNNCell`](https://www.tensorflow.org/api_docs/python/tf/contrib/rnn/MultiRNNCell).\n",
    "- The Rnn size should be set using `rnn_size`\n",
    "- Initalize Cell State using the MultiRNNCell's [`zero_state()`](https://www.tensorflow.org/api_docs/python/tf/contrib/rnn/MultiRNNCell#zero_state) function\n",
    "    - Apply the name \"initial_state\" to the initial state using [`tf.identity()`](https://www.tensorflow.org/api_docs/python/tf/identity)\n",
    "\n",
    "Return the cell and initial state in the following tuple `(Cell, InitialState)`"
   ]
  },
  {
   "cell_type": "code",
   "execution_count": 43,
   "metadata": {
    "collapsed": false,
    "deletable": true,
    "editable": true
   },
   "outputs": [
    {
     "name": "stdout",
     "output_type": "stream",
     "text": [
      "Tests Passed\n"
     ]
    }
   ],
   "source": [
    "def get_init_cell(batch_size, rnn_size):\n",
    "    \"\"\"\n",
    "    Create an RNN Cell and initialize it.\n",
    "    :param batch_size: Size of batches\n",
    "    :param rnn_size: Size of RNNs\n",
    "    :return: Tuple (cell, initialize state)\n",
    "    \"\"\"\n",
    "\n",
    "    \n",
    "    num_layers = 10\n",
    "    keep_prob = 0.5\n",
    "\n",
    "    cell = tf.contrib.rnn.BasicLSTMCell(rnn_size)\n",
    "    drop = tf.contrib.rnn.DropoutWrapper(cell, output_keep_prob=keep_prob)\n",
    "    cell = tf.contrib.rnn.MultiRNNCell([drop] * num_layers)\n",
    "    initial_state = cell.zero_state(batch_size, tf.float32)\n",
    "    initial_state = tf.identity(initial_state, name = 'initial_state')\n",
    "\n",
    "    return cell, initial_state\n",
    "\n",
    "\n",
    "\"\"\"\n",
    "DON'T MODIFY ANYTHING IN THIS CELL THAT IS BELOW THIS LINE\n",
    "\"\"\"\n",
    "tests.test_get_init_cell(get_init_cell)"
   ]
  },
  {
   "cell_type": "markdown",
   "metadata": {
    "deletable": true,
    "editable": true
   },
   "source": [
    "### Word Embedding\n",
    "Apply embedding to `input_data` using TensorFlow.  Return the embedded sequence."
   ]
  },
  {
   "cell_type": "code",
   "execution_count": 36,
   "metadata": {
    "collapsed": false,
    "deletable": true,
    "editable": true
   },
   "outputs": [
    {
     "name": "stdout",
     "output_type": "stream",
     "text": [
      "Tests Passed\n"
     ]
    }
   ],
   "source": [
    "def get_embed(input_data, vocab_size, embed_dim):\n",
    "    \"\"\"\n",
    "    Create embedding for <input_data>.\n",
    "    :param input_data: TF placeholder for text input.\n",
    "    :param vocab_size: Number of words in vocabulary.\n",
    "    :param embed_dim: Number of embedding dimensions\n",
    "    :return: Embedded input.\n",
    "    \"\"\"\n",
    "    # TODO: Implement Function\n",
    "    embedding = tf.Variable(tf.random_uniform(shape = [vocab_size, embed_dim], minval = -1, maxval = 1))\n",
    "    embedded_input = tf.nn.embedding_lookup(embedding, input_data)\n",
    "\n",
    "    return embedded_input\n",
    "\n",
    "\"\"\"\n",
    "DON'T MODIFY ANYTHING IN THIS CELL THAT IS BELOW THIS LINE\n",
    "\"\"\"\n",
    "tests.test_get_embed(get_embed)"
   ]
  },
  {
   "cell_type": "markdown",
   "metadata": {
    "deletable": true,
    "editable": true
   },
   "source": [
    "### Build RNN\n",
    "You created a RNN Cell in the `get_init_cell()` function.  Time to use the cell to create a RNN.\n",
    "- Build the RNN using the [`tf.nn.dynamic_rnn()`](https://www.tensorflow.org/api_docs/python/tf/nn/dynamic_rnn)\n",
    " - Apply the name \"final_state\" to the final state using [`tf.identity()`](https://www.tensorflow.org/api_docs/python/tf/identity)\n",
    "\n",
    "Return the outputs and final_state state in the following tuple `(Outputs, FinalState)` "
   ]
  },
  {
   "cell_type": "code",
   "execution_count": 37,
   "metadata": {
    "collapsed": false,
    "deletable": true,
    "editable": true
   },
   "outputs": [
    {
     "name": "stdout",
     "output_type": "stream",
     "text": [
      "Tests Passed\n"
     ]
    }
   ],
   "source": [
    "def build_rnn(cell, inputs):\n",
    "    \"\"\"\n",
    "    Create a RNN using a RNN Cell\n",
    "    :param cell: RNN Cell\n",
    "    :param inputs: Input text data\n",
    "    :return: Tuple (Outputs, Final State)\n",
    "    \"\"\"\n",
    "    # TODO: Implement Function\n",
    "    outputs, final_state = tf.nn.dynamic_rnn(cell, inputs, dtype = 'float32')\n",
    "    final_state = tf.identity(final_state, name = 'final_state')\n",
    "\n",
    "    return outputs, final_state\n",
    "\n",
    "\n",
    "\"\"\"\n",
    "DON'T MODIFY ANYTHING IN THIS CELL THAT IS BELOW THIS LINE\n",
    "\"\"\"\n",
    "tests.test_build_rnn(build_rnn)"
   ]
  },
  {
   "cell_type": "markdown",
   "metadata": {
    "deletable": true,
    "editable": true
   },
   "source": [
    "### Build the Neural Network\n",
    "Apply the functions you implemented above to:\n",
    "- Apply embedding to `input_data` using your `get_embed(input_data, vocab_size, embed_dim)` function.\n",
    "- Build RNN using `cell` and your `build_rnn(cell, inputs)` function.\n",
    "- Apply a fully connected layer with a linear activation and `vocab_size` as the number of outputs.\n",
    "\n",
    "Return the logits and final state in the following tuple (Logits, FinalState) "
   ]
  },
  {
   "cell_type": "code",
   "execution_count": 38,
   "metadata": {
    "collapsed": false,
    "deletable": true,
    "editable": true
   },
   "outputs": [
    {
     "name": "stdout",
     "output_type": "stream",
     "text": [
      "Tests Passed\n"
     ]
    }
   ],
   "source": [
    "def build_nn(cell, rnn_size, input_data, vocab_size):\n",
    "    \"\"\"\n",
    "    Build part of the neural network\n",
    "    :param cell: RNN cell\n",
    "    :param rnn_size: Size of rnns\n",
    "    :param input_data: Input data\n",
    "    :param vocab_size: Vocabulary size\n",
    "    :return: Tuple (Logits, FinalState)\n",
    "    \"\"\"\n",
    "    # TODO: Implement Function\n",
    "    embed = get_embed(input_data, vocab_size, rnn_size)\n",
    "    outputs, finalstate = build_rnn(cell, embed)\n",
    "    logits = tf.contrib.layers.fully_connected(outputs, vocab_size, activation_fn = None)\n",
    "    return logits, finalstate\n",
    "\n",
    "\"\"\"\n",
    "DON'T MODIFY ANYTHING IN THIS CELL THAT IS BELOW THIS LINE\n",
    "\"\"\"\n",
    "tests.test_build_nn(build_nn)"
   ]
  },
  {
   "cell_type": "markdown",
   "metadata": {
    "deletable": true,
    "editable": true
   },
   "source": [
    "### Batches\n",
    "Implement `get_batches` to create batches of input and targets using `int_text`.  The batches should be a Numpy array with the shape `(number of batches, 2, batch size, sequence length)`. Each batch contains two elements:\n",
    "- The first element is a single batch of **input** with the shape `[batch size, sequence length]`\n",
    "- The second element is a single batch of **targets** with the shape `[batch size, sequence length]`\n",
    "\n",
    "If you can't fill the last batch with enough data, drop the last batch.\n",
    "\n",
    "For exmple, `get_batches([1, 2, 3, 4, 5, 6, 7, 8, 9, 10, 11, 12, 13, 14, 15], 2, 3)` would return a Numpy array of the following:\n",
    "```\n",
    "[\n",
    "  # First Batch\n",
    "  [\n",
    "    # Batch of Input\n",
    "    [[ 1  2  3], [ 7  8  9]],\n",
    "    # Batch of targets\n",
    "    [[ 2  3  4], [ 8  9 10]]\n",
    "  ],\n",
    " \n",
    "  # Second Batch\n",
    "  [\n",
    "    # Batch of Input\n",
    "    [[ 4  5  6], [10 11 12]],\n",
    "    # Batch of targets\n",
    "    [[ 5  6  7], [11 12 13]]\n",
    "  ]\n",
    "]\n",
    "```"
   ]
  },
  {
   "cell_type": "code",
   "execution_count": 39,
   "metadata": {
    "collapsed": false,
    "deletable": true,
    "editable": true
   },
   "outputs": [
    {
     "name": "stdout",
     "output_type": "stream",
     "text": [
      "Tests Passed\n"
     ]
    }
   ],
   "source": [
    "def get_batches(int_text, batch_size, seq_length):\n",
    "    \"\"\"\n",
    "    Return batches of input and target\n",
    "    :param int_text: Text with the words replaced by their ids\n",
    "    :param batch_size: The size of batch\n",
    "    :param seq_length: The length of sequence\n",
    "    :return: Batches as a Numpy array\n",
    "    \"\"\"\n",
    "    # TODO: Implement Function\n",
    "    n_batches = int(len(int_text) / (batch_size * seq_length))\n",
    "\n",
    "    # Using only full batches\n",
    "    x = np.array(int_text[: n_batches * batch_size * seq_length])\n",
    "    y = np.array(int_text[1: n_batches * batch_size * seq_length + 1])\n",
    "\n",
    "    x_batches = np.split(x.reshape(batch_size, -1), n_batches, 1)\n",
    "    y_batches = np.split(y.reshape(batch_size, -1), n_batches, 1)\n",
    "\n",
    "    return np.array(list(zip(x_batches, y_batches)))\n",
    "\n",
    "\n",
    "\"\"\"\n",
    "DON'T MODIFY ANYTHING IN THIS CELL THAT IS BELOW THIS LINE\n",
    "\"\"\"\n",
    "tests.test_get_batches(get_batches)"
   ]
  },
  {
   "cell_type": "markdown",
   "metadata": {
    "deletable": true,
    "editable": true
   },
   "source": [
    "## Neural Network Training\n",
    "### Hyperparameters\n",
    "Tune the following parameters:\n",
    "\n",
    "- Set `num_epochs` to the number of epochs.\n",
    "- Set `batch_size` to the batch size.\n",
    "- Set `rnn_size` to the size of the RNNs.\n",
    "- Set `seq_length` to the length of sequence.\n",
    "- Set `learning_rate` to the learning rate.\n",
    "- Set `show_every_n_batches` to the number of batches the neural network should print progress."
   ]
  },
  {
   "cell_type": "code",
   "execution_count": 40,
   "metadata": {
    "collapsed": true,
    "deletable": true,
    "editable": true
   },
   "outputs": [],
   "source": [
    "# Number of Epochs\n",
    "num_epochs = 1000\n",
    "# Batch Size\n",
    "batch_size = 1024\n",
    "# RNN Size\n",
    "rnn_size = 1024\n",
    "# Sequence Length\n",
    "seq_length = 15\n",
    "# Learning Rate\n",
    "learning_rate = 0.001\n",
    "# Show stats for every n number of batches\n",
    "show_every_n_batches = 10\n",
    "\n",
    "\"\"\"\n",
    "DON'T MODIFY ANYTHING IN THIS CELL THAT IS BELOW THIS LINE\n",
    "\"\"\"\n",
    "save_dir = './save'"
   ]
  },
  {
   "cell_type": "markdown",
   "metadata": {
    "deletable": true,
    "editable": true
   },
   "source": [
    "### Build the Graph\n",
    "Build the graph using the neural network you implemented."
   ]
  },
  {
   "cell_type": "code",
   "execution_count": 41,
   "metadata": {
    "collapsed": false,
    "deletable": true,
    "editable": true
   },
   "outputs": [],
   "source": [
    "\"\"\"\n",
    "DON'T MODIFY ANYTHING IN THIS CELL\n",
    "\"\"\"\n",
    "from tensorflow.contrib import seq2seq\n",
    "\n",
    "train_graph = tf.Graph()\n",
    "with train_graph.as_default():\n",
    "    vocab_size = len(int_to_vocab)\n",
    "    input_text, targets, lr = get_inputs()\n",
    "    input_data_shape = tf.shape(input_text)\n",
    "    cell, initial_state = get_init_cell(input_data_shape[0], rnn_size)\n",
    "    logits, final_state = build_nn(cell, rnn_size, input_text, vocab_size)\n",
    "\n",
    "    # Probabilities for generating words\n",
    "    probs = tf.nn.softmax(logits, name='probs')\n",
    "\n",
    "    # Loss function\n",
    "    cost = seq2seq.sequence_loss(\n",
    "        logits,\n",
    "        targets,\n",
    "        tf.ones([input_data_shape[0], input_data_shape[1]]))\n",
    "\n",
    "    # Optimizer\n",
    "    optimizer = tf.train.AdamOptimizer(lr)\n",
    "\n",
    "    # Gradient Clipping\n",
    "    gradients = optimizer.compute_gradients(cost)\n",
    "    capped_gradients = [(tf.clip_by_value(grad, -1., 1.), var) for grad, var in gradients]\n",
    "    train_op = optimizer.apply_gradients(capped_gradients)"
   ]
  },
  {
   "cell_type": "markdown",
   "metadata": {
    "deletable": true,
    "editable": true
   },
   "source": [
    "## Train\n",
    "Train the neural network on the preprocessed data.  If you have a hard time getting a good loss, check the [forms](https://discussions.udacity.com/) to see if anyone is having the same problem."
   ]
  },
  {
   "cell_type": "code",
   "execution_count": 42,
   "metadata": {
    "collapsed": false,
    "deletable": true,
    "editable": true
   },
   "outputs": [
    {
     "name": "stdout",
     "output_type": "stream",
     "text": [
      "Epoch   0 Batch    0/4   train_loss = 8.822\n"
     ]
    },
    {
     "ename": "KeyboardInterrupt",
     "evalue": "",
     "output_type": "error",
     "traceback": [
      "\u001b[0;31m---------------------------------------------------------------------------\u001b[0m",
      "\u001b[0;31mKeyboardInterrupt\u001b[0m                         Traceback (most recent call last)",
      "\u001b[0;32m<ipython-input-42-396c263e7e73>\u001b[0m in \u001b[0;36m<module>\u001b[0;34m()\u001b[0m\n\u001b[1;32m     16\u001b[0m                 \u001b[0minitial_state\u001b[0m\u001b[0;34m:\u001b[0m \u001b[0mstate\u001b[0m\u001b[0;34m,\u001b[0m\u001b[0;34m\u001b[0m\u001b[0m\n\u001b[1;32m     17\u001b[0m                 lr: learning_rate}\n\u001b[0;32m---> 18\u001b[0;31m             \u001b[0mtrain_loss\u001b[0m\u001b[0;34m,\u001b[0m \u001b[0mstate\u001b[0m\u001b[0;34m,\u001b[0m \u001b[0m_\u001b[0m \u001b[0;34m=\u001b[0m \u001b[0msess\u001b[0m\u001b[0;34m.\u001b[0m\u001b[0mrun\u001b[0m\u001b[0;34m(\u001b[0m\u001b[0;34m[\u001b[0m\u001b[0mcost\u001b[0m\u001b[0;34m,\u001b[0m \u001b[0mfinal_state\u001b[0m\u001b[0;34m,\u001b[0m \u001b[0mtrain_op\u001b[0m\u001b[0;34m]\u001b[0m\u001b[0;34m,\u001b[0m \u001b[0mfeed\u001b[0m\u001b[0;34m)\u001b[0m\u001b[0;34m\u001b[0m\u001b[0m\n\u001b[0m\u001b[1;32m     19\u001b[0m \u001b[0;34m\u001b[0m\u001b[0m\n\u001b[1;32m     20\u001b[0m             \u001b[0;31m# Show every <show_every_n_batches> batches\u001b[0m\u001b[0;34m\u001b[0m\u001b[0;34m\u001b[0m\u001b[0m\n",
      "\u001b[0;32m/Users/marcocampana/anaconda3/envs/dlnd/lib/python3.6/site-packages/tensorflow/python/client/session.py\u001b[0m in \u001b[0;36mrun\u001b[0;34m(self, fetches, feed_dict, options, run_metadata)\u001b[0m\n\u001b[1;32m    765\u001b[0m     \u001b[0;32mtry\u001b[0m\u001b[0;34m:\u001b[0m\u001b[0;34m\u001b[0m\u001b[0m\n\u001b[1;32m    766\u001b[0m       result = self._run(None, fetches, feed_dict, options_ptr,\n\u001b[0;32m--> 767\u001b[0;31m                          run_metadata_ptr)\n\u001b[0m\u001b[1;32m    768\u001b[0m       \u001b[0;32mif\u001b[0m \u001b[0mrun_metadata\u001b[0m\u001b[0;34m:\u001b[0m\u001b[0;34m\u001b[0m\u001b[0m\n\u001b[1;32m    769\u001b[0m         \u001b[0mproto_data\u001b[0m \u001b[0;34m=\u001b[0m \u001b[0mtf_session\u001b[0m\u001b[0;34m.\u001b[0m\u001b[0mTF_GetBuffer\u001b[0m\u001b[0;34m(\u001b[0m\u001b[0mrun_metadata_ptr\u001b[0m\u001b[0;34m)\u001b[0m\u001b[0;34m\u001b[0m\u001b[0m\n",
      "\u001b[0;32m/Users/marcocampana/anaconda3/envs/dlnd/lib/python3.6/site-packages/tensorflow/python/client/session.py\u001b[0m in \u001b[0;36m_run\u001b[0;34m(self, handle, fetches, feed_dict, options, run_metadata)\u001b[0m\n\u001b[1;32m    963\u001b[0m     \u001b[0;32mif\u001b[0m \u001b[0mfinal_fetches\u001b[0m \u001b[0;32mor\u001b[0m \u001b[0mfinal_targets\u001b[0m\u001b[0;34m:\u001b[0m\u001b[0;34m\u001b[0m\u001b[0m\n\u001b[1;32m    964\u001b[0m       results = self._do_run(handle, final_targets, final_fetches,\n\u001b[0;32m--> 965\u001b[0;31m                              feed_dict_string, options, run_metadata)\n\u001b[0m\u001b[1;32m    966\u001b[0m     \u001b[0;32melse\u001b[0m\u001b[0;34m:\u001b[0m\u001b[0;34m\u001b[0m\u001b[0m\n\u001b[1;32m    967\u001b[0m       \u001b[0mresults\u001b[0m \u001b[0;34m=\u001b[0m \u001b[0;34m[\u001b[0m\u001b[0;34m]\u001b[0m\u001b[0;34m\u001b[0m\u001b[0m\n",
      "\u001b[0;32m/Users/marcocampana/anaconda3/envs/dlnd/lib/python3.6/site-packages/tensorflow/python/client/session.py\u001b[0m in \u001b[0;36m_do_run\u001b[0;34m(self, handle, target_list, fetch_list, feed_dict, options, run_metadata)\u001b[0m\n\u001b[1;32m   1013\u001b[0m     \u001b[0;32mif\u001b[0m \u001b[0mhandle\u001b[0m \u001b[0;32mis\u001b[0m \u001b[0;32mNone\u001b[0m\u001b[0;34m:\u001b[0m\u001b[0;34m\u001b[0m\u001b[0m\n\u001b[1;32m   1014\u001b[0m       return self._do_call(_run_fn, self._session, feed_dict, fetch_list,\n\u001b[0;32m-> 1015\u001b[0;31m                            target_list, options, run_metadata)\n\u001b[0m\u001b[1;32m   1016\u001b[0m     \u001b[0;32melse\u001b[0m\u001b[0;34m:\u001b[0m\u001b[0;34m\u001b[0m\u001b[0m\n\u001b[1;32m   1017\u001b[0m       return self._do_call(_prun_fn, self._session, handle, feed_dict,\n",
      "\u001b[0;32m/Users/marcocampana/anaconda3/envs/dlnd/lib/python3.6/site-packages/tensorflow/python/client/session.py\u001b[0m in \u001b[0;36m_do_call\u001b[0;34m(self, fn, *args)\u001b[0m\n\u001b[1;32m   1020\u001b[0m   \u001b[0;32mdef\u001b[0m \u001b[0m_do_call\u001b[0m\u001b[0;34m(\u001b[0m\u001b[0mself\u001b[0m\u001b[0;34m,\u001b[0m \u001b[0mfn\u001b[0m\u001b[0;34m,\u001b[0m \u001b[0;34m*\u001b[0m\u001b[0margs\u001b[0m\u001b[0;34m)\u001b[0m\u001b[0;34m:\u001b[0m\u001b[0;34m\u001b[0m\u001b[0m\n\u001b[1;32m   1021\u001b[0m     \u001b[0;32mtry\u001b[0m\u001b[0;34m:\u001b[0m\u001b[0;34m\u001b[0m\u001b[0m\n\u001b[0;32m-> 1022\u001b[0;31m       \u001b[0;32mreturn\u001b[0m \u001b[0mfn\u001b[0m\u001b[0;34m(\u001b[0m\u001b[0;34m*\u001b[0m\u001b[0margs\u001b[0m\u001b[0;34m)\u001b[0m\u001b[0;34m\u001b[0m\u001b[0m\n\u001b[0m\u001b[1;32m   1023\u001b[0m     \u001b[0;32mexcept\u001b[0m \u001b[0merrors\u001b[0m\u001b[0;34m.\u001b[0m\u001b[0mOpError\u001b[0m \u001b[0;32mas\u001b[0m \u001b[0me\u001b[0m\u001b[0;34m:\u001b[0m\u001b[0;34m\u001b[0m\u001b[0m\n\u001b[1;32m   1024\u001b[0m       \u001b[0mmessage\u001b[0m \u001b[0;34m=\u001b[0m \u001b[0mcompat\u001b[0m\u001b[0;34m.\u001b[0m\u001b[0mas_text\u001b[0m\u001b[0;34m(\u001b[0m\u001b[0me\u001b[0m\u001b[0;34m.\u001b[0m\u001b[0mmessage\u001b[0m\u001b[0;34m)\u001b[0m\u001b[0;34m\u001b[0m\u001b[0m\n",
      "\u001b[0;32m/Users/marcocampana/anaconda3/envs/dlnd/lib/python3.6/site-packages/tensorflow/python/client/session.py\u001b[0m in \u001b[0;36m_run_fn\u001b[0;34m(session, feed_dict, fetch_list, target_list, options, run_metadata)\u001b[0m\n\u001b[1;32m   1002\u001b[0m         return tf_session.TF_Run(session, options,\n\u001b[1;32m   1003\u001b[0m                                  \u001b[0mfeed_dict\u001b[0m\u001b[0;34m,\u001b[0m \u001b[0mfetch_list\u001b[0m\u001b[0;34m,\u001b[0m \u001b[0mtarget_list\u001b[0m\u001b[0;34m,\u001b[0m\u001b[0;34m\u001b[0m\u001b[0m\n\u001b[0;32m-> 1004\u001b[0;31m                                  status, run_metadata)\n\u001b[0m\u001b[1;32m   1005\u001b[0m \u001b[0;34m\u001b[0m\u001b[0m\n\u001b[1;32m   1006\u001b[0m     \u001b[0;32mdef\u001b[0m \u001b[0m_prun_fn\u001b[0m\u001b[0;34m(\u001b[0m\u001b[0msession\u001b[0m\u001b[0;34m,\u001b[0m \u001b[0mhandle\u001b[0m\u001b[0;34m,\u001b[0m \u001b[0mfeed_dict\u001b[0m\u001b[0;34m,\u001b[0m \u001b[0mfetch_list\u001b[0m\u001b[0;34m)\u001b[0m\u001b[0;34m:\u001b[0m\u001b[0;34m\u001b[0m\u001b[0m\n",
      "\u001b[0;31mKeyboardInterrupt\u001b[0m: "
     ]
    }
   ],
   "source": [
    "\"\"\"\n",
    "DON'T MODIFY ANYTHING IN THIS CELL\n",
    "\"\"\"\n",
    "batches = get_batches(int_text, batch_size, seq_length)\n",
    "\n",
    "with tf.Session(graph=train_graph) as sess:\n",
    "    sess.run(tf.global_variables_initializer())\n",
    "\n",
    "    for epoch_i in range(num_epochs):\n",
    "        state = sess.run(initial_state, {input_text: batches[0][0]})\n",
    "\n",
    "        for batch_i, (x, y) in enumerate(batches):\n",
    "            feed = {\n",
    "                input_text: x,\n",
    "                targets: y,\n",
    "                initial_state: state,\n",
    "                lr: learning_rate}\n",
    "            train_loss, state, _ = sess.run([cost, final_state, train_op], feed)\n",
    "\n",
    "            # Show every <show_every_n_batches> batches\n",
    "            if (epoch_i * len(batches) + batch_i) % show_every_n_batches == 0:\n",
    "                print('Epoch {:>3} Batch {:>4}/{}   train_loss = {:.3f}'.format(\n",
    "                    epoch_i,\n",
    "                    batch_i,\n",
    "                    len(batches),\n",
    "                    train_loss))\n",
    "\n",
    "    # Save Model\n",
    "    saver = tf.train.Saver()\n",
    "    saver.save(sess, save_dir)\n",
    "    print('Model Trained and Saved')"
   ]
  },
  {
   "cell_type": "markdown",
   "metadata": {
    "deletable": true,
    "editable": true
   },
   "source": [
    "## Save Parameters\n",
    "Save `seq_length` and `save_dir` for generating a new TV script."
   ]
  },
  {
   "cell_type": "code",
   "execution_count": null,
   "metadata": {
    "collapsed": false,
    "deletable": true,
    "editable": true
   },
   "outputs": [],
   "source": [
    "\"\"\"\n",
    "DON'T MODIFY ANYTHING IN THIS CELL\n",
    "\"\"\"\n",
    "# Save parameters for checkpoint\n",
    "helper.save_params((seq_length, save_dir))"
   ]
  },
  {
   "cell_type": "markdown",
   "metadata": {
    "deletable": true,
    "editable": true
   },
   "source": [
    "# Checkpoint"
   ]
  },
  {
   "cell_type": "code",
   "execution_count": null,
   "metadata": {
    "collapsed": false,
    "deletable": true,
    "editable": true
   },
   "outputs": [],
   "source": [
    "\"\"\"\n",
    "DON'T MODIFY ANYTHING IN THIS CELL\n",
    "\"\"\"\n",
    "import tensorflow as tf\n",
    "import numpy as np\n",
    "import helper\n",
    "import problem_unittests as tests\n",
    "\n",
    "_, vocab_to_int, int_to_vocab, token_dict = helper.load_preprocess()\n",
    "seq_length, load_dir = helper.load_params()"
   ]
  },
  {
   "cell_type": "markdown",
   "metadata": {
    "deletable": true,
    "editable": true
   },
   "source": [
    "## Implement Generate Functions\n",
    "### Get Tensors\n",
    "Get tensors from `loaded_graph` using the function [`get_tensor_by_name()`](https://www.tensorflow.org/api_docs/python/tf/Graph#get_tensor_by_name).  Get the tensors using the following names:\n",
    "- \"input:0\"\n",
    "- \"initial_state:0\"\n",
    "- \"final_state:0\"\n",
    "- \"probs:0\"\n",
    "\n",
    "Return the tensors in the following tuple `(InputTensor, InitialStateTensor, FinalStateTensor, ProbsTensor)` "
   ]
  },
  {
   "cell_type": "code",
   "execution_count": null,
   "metadata": {
    "collapsed": false,
    "deletable": true,
    "editable": true
   },
   "outputs": [],
   "source": [
    "def get_tensors(loaded_graph):\n",
    "    \"\"\"\n",
    "    Get input, initial state, final state, and probabilities tensor from <loaded_graph>\n",
    "    :param loaded_graph: TensorFlow graph loaded from file\n",
    "    :return: Tuple (InputTensor, InitialStateTensor, FinalStateTensor, ProbsTensor)\n",
    "    \"\"\"\n",
    "    # TODO: Implement Function\n",
    "    return None, None, None, None\n",
    "\n",
    "\n",
    "\"\"\"\n",
    "DON'T MODIFY ANYTHING IN THIS CELL THAT IS BELOW THIS LINE\n",
    "\"\"\"\n",
    "tests.test_get_tensors(get_tensors)"
   ]
  },
  {
   "cell_type": "markdown",
   "metadata": {
    "deletable": true,
    "editable": true
   },
   "source": [
    "### Choose Word\n",
    "Implement the `pick_word()` function to select the next word using `probabilities`."
   ]
  },
  {
   "cell_type": "code",
   "execution_count": null,
   "metadata": {
    "collapsed": false,
    "deletable": true,
    "editable": true
   },
   "outputs": [],
   "source": [
    "def pick_word(probabilities, int_to_vocab):\n",
    "    \"\"\"\n",
    "    Pick the next word in the generated text\n",
    "    :param probabilities: Probabilites of the next word\n",
    "    :param int_to_vocab: Dictionary of word ids as the keys and words as the values\n",
    "    :return: String of the predicted word\n",
    "    \"\"\"\n",
    "    # TODO: Implement Function\n",
    "    return None\n",
    "\n",
    "\n",
    "\"\"\"\n",
    "DON'T MODIFY ANYTHING IN THIS CELL THAT IS BELOW THIS LINE\n",
    "\"\"\"\n",
    "tests.test_pick_word(pick_word)"
   ]
  },
  {
   "cell_type": "markdown",
   "metadata": {
    "deletable": true,
    "editable": true
   },
   "source": [
    "## Generate TV Script\n",
    "This will generate the TV script for you.  Set `gen_length` to the length of TV script you want to generate."
   ]
  },
  {
   "cell_type": "code",
   "execution_count": null,
   "metadata": {
    "collapsed": false,
    "deletable": true,
    "editable": true
   },
   "outputs": [],
   "source": [
    "gen_length = 200\n",
    "# homer_simpson, moe_szyslak, or Barney_Gumble\n",
    "prime_word = 'moe_szyslak'\n",
    "\n",
    "\"\"\"\n",
    "DON'T MODIFY ANYTHING IN THIS CELL THAT IS BELOW THIS LINE\n",
    "\"\"\"\n",
    "loaded_graph = tf.Graph()\n",
    "with tf.Session(graph=loaded_graph) as sess:\n",
    "    # Load saved model\n",
    "    loader = tf.train.import_meta_graph(load_dir + '.meta')\n",
    "    loader.restore(sess, load_dir)\n",
    "\n",
    "    # Get Tensors from loaded model\n",
    "    input_text, initial_state, final_state, probs = get_tensors(loaded_graph)\n",
    "\n",
    "    # Sentences generation setup\n",
    "    gen_sentences = [prime_word + ':']\n",
    "    prev_state = sess.run(initial_state, {input_text: np.array([[1]])})\n",
    "\n",
    "    # Generate sentences\n",
    "    for n in range(gen_length):\n",
    "        # Dynamic Input\n",
    "        dyn_input = [[vocab_to_int[word] for word in gen_sentences[-seq_length:]]]\n",
    "        dyn_seq_length = len(dyn_input[0])\n",
    "\n",
    "        # Get Prediction\n",
    "        probabilities, prev_state = sess.run(\n",
    "            [probs, final_state],\n",
    "            {input_text: dyn_input, initial_state: prev_state})\n",
    "        \n",
    "        pred_word = pick_word(probabilities[dyn_seq_length-1], int_to_vocab)\n",
    "\n",
    "        gen_sentences.append(pred_word)\n",
    "    \n",
    "    # Remove tokens\n",
    "    tv_script = ' '.join(gen_sentences)\n",
    "    for key, token in token_dict.items():\n",
    "        ending = ' ' if key in ['\\n', '(', '\"'] else ''\n",
    "        tv_script = tv_script.replace(' ' + token.lower(), key)\n",
    "    tv_script = tv_script.replace('\\n ', '\\n')\n",
    "    tv_script = tv_script.replace('( ', '(')\n",
    "        \n",
    "    print(tv_script)"
   ]
  },
  {
   "cell_type": "markdown",
   "metadata": {
    "deletable": true,
    "editable": true
   },
   "source": [
    "# The TV Script is Nonsensical\n",
    "It's ok if the TV script doesn't make any sense.  We trained on less than a megabyte of text.  In order to get good results, you'll have to use a smaller vocabulary or get more data.  Luckly there's more data!  As we mentioned in the begging of this project, this is a subset of [another dataset](https://www.kaggle.com/wcukierski/the-simpsons-by-the-data).  We didn't have you train on all the data, because that would take too long.  However, you are free to train your neural network on all the data.  After you complete the project, of course.\n",
    "# Submitting This Project\n",
    "When submitting this project, make sure to run all the cells before saving the notebook. Save the notebook file as \"dlnd_tv_script_generation.ipynb\" and save it as a HTML file under \"File\" -> \"Download as\". Include the \"helper.py\" and \"problem_unittests.py\" files in your submission."
   ]
  }
 ],
 "metadata": {
  "kernelspec": {
   "display_name": "Python 3",
   "language": "python",
   "name": "python3"
  },
  "language_info": {
   "codemirror_mode": {
    "name": "ipython",
    "version": 3
   },
   "file_extension": ".py",
   "mimetype": "text/x-python",
   "name": "python",
   "nbconvert_exporter": "python",
   "pygments_lexer": "ipython3",
   "version": "3.6.0"
  }
 },
 "nbformat": 4,
 "nbformat_minor": 0
}
