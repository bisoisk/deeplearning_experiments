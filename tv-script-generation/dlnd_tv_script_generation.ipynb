{
 "cells": [
  {
   "cell_type": "markdown",
   "metadata": {
    "deletable": true,
    "editable": true
   },
   "source": [
    "# TV Script Generation\n",
    "In this project, you'll generate your own [Simpsons](https://en.wikipedia.org/wiki/The_Simpsons) TV scripts using RNNs.  You'll be using part of the [Simpsons dataset](https://www.kaggle.com/wcukierski/the-simpsons-by-the-data) of scripts from 27 seasons.  The Neural Network you'll build will generate a new TV script for a scene at [Moe's Tavern](https://simpsonswiki.com/wiki/Moe's_Tavern).\n",
    "## Get the Data\n",
    "The data is already provided for you.  You'll be using a subset of the original dataset.  It consists of only the scenes in Moe's Tavern.  This doesn't include other versions of the tavern, like \"Moe's Cavern\", \"Flaming Moe's\", \"Uncle Moe's Family Feed-Bag\", etc.."
   ]
  },
  {
   "cell_type": "code",
   "execution_count": 1,
   "metadata": {
    "collapsed": false,
    "deletable": true,
    "editable": true
   },
   "outputs": [],
   "source": [
    "\"\"\"\n",
    "DON'T MODIFY ANYTHING IN THIS CELL\n",
    "\"\"\"\n",
    "import helper\n",
    "\n",
    "data_dir = './data/simpsons/moes_tavern_lines.txt'\n",
    "text = helper.load_data(data_dir)\n",
    "# Ignore notice, since we don't use it for analysing the data\n",
    "text = text[81:]"
   ]
  },
  {
   "cell_type": "markdown",
   "metadata": {
    "deletable": true,
    "editable": true
   },
   "source": [
    "## Explore the Data\n",
    "Play around with `view_sentence_range` to view different parts of the data."
   ]
  },
  {
   "cell_type": "code",
   "execution_count": 2,
   "metadata": {
    "collapsed": false,
    "deletable": true,
    "editable": true
   },
   "outputs": [
    {
     "name": "stdout",
     "output_type": "stream",
     "text": [
      "Dataset Stats\n",
      "Roughly the number of unique words: 11492\n",
      "Number of scenes: 262\n",
      "Average number of sentences in each scene: 15.248091603053435\n",
      "Number of lines: 4257\n",
      "Average number of words in each line: 11.50434578341555\n",
      "\n",
      "The sentences 0 to 10:\n",
      "Moe_Szyslak: (INTO PHONE) Moe's Tavern. Where the elite meet to drink.\n",
      "Bart_Simpson: Eh, yeah, hello, is Mike there? Last name, Rotch.\n",
      "Moe_Szyslak: (INTO PHONE) Hold on, I'll check. (TO BARFLIES) Mike Rotch. Mike Rotch. Hey, has anybody seen Mike Rotch, lately?\n",
      "Moe_Szyslak: (INTO PHONE) Listen you little puke. One of these days I'm gonna catch you, and I'm gonna carve my name on your back with an ice pick.\n",
      "Moe_Szyslak: What's the matter Homer? You're not your normal effervescent self.\n",
      "Homer_Simpson: I got my problems, Moe. Give me another one.\n",
      "Moe_Szyslak: Homer, hey, you should not drink to forget your problems.\n",
      "Barney_Gumble: Yeah, you should only drink to enhance your social skills.\n",
      "\n",
      "\n"
     ]
    }
   ],
   "source": [
    "view_sentence_range = (0, 10)\n",
    "\n",
    "\"\"\"\n",
    "DON'T MODIFY ANYTHING IN THIS CELL\n",
    "\"\"\"\n",
    "import numpy as np\n",
    "\n",
    "print('Dataset Stats')\n",
    "print('Roughly the number of unique words: {}'.format(len({word: None for word in text.split()})))\n",
    "scenes = text.split('\\n\\n')\n",
    "print('Number of scenes: {}'.format(len(scenes)))\n",
    "sentence_count_scene = [scene.count('\\n') for scene in scenes]\n",
    "print('Average number of sentences in each scene: {}'.format(np.average(sentence_count_scene)))\n",
    "\n",
    "sentences = [sentence for scene in scenes for sentence in scene.split('\\n')]\n",
    "print('Number of lines: {}'.format(len(sentences)))\n",
    "word_count_sentence = [len(sentence.split()) for sentence in sentences]\n",
    "print('Average number of words in each line: {}'.format(np.average(word_count_sentence)))\n",
    "\n",
    "print()\n",
    "print('The sentences {} to {}:'.format(*view_sentence_range))\n",
    "print('\\n'.join(text.split('\\n')[view_sentence_range[0]:view_sentence_range[1]]))"
   ]
  },
  {
   "cell_type": "markdown",
   "metadata": {
    "deletable": true,
    "editable": true
   },
   "source": [
    "## Implement Preprocessing Functions\n",
    "The first thing to do to any dataset is preprocessing.  Implement the following preprocessing functions below:\n",
    "- Lookup Table\n",
    "- Tokenize Punctuation\n",
    "\n",
    "### Lookup Table\n",
    "To create a word embedding, you first need to transform the words to ids.  In this function, create two dictionaries:\n",
    "- Dictionary to go from the words to an id, we'll call `vocab_to_int`\n",
    "- Dictionary to go from the id to word, we'll call `int_to_vocab`\n",
    "\n",
    "Return these dictionaries in the following tuple `(vocab_to_int, int_to_vocab)`"
   ]
  },
  {
   "cell_type": "code",
   "execution_count": 3,
   "metadata": {
    "collapsed": false,
    "deletable": true,
    "editable": true
   },
   "outputs": [
    {
     "name": "stdout",
     "output_type": "stream",
     "text": [
      "Tests Passed\n"
     ]
    }
   ],
   "source": [
    "import numpy as np\n",
    "import problem_unittests as tests\n",
    "from collections import Counter\n",
    "\n",
    "def create_lookup_tables(text):\n",
    "    \"\"\"\n",
    "    Create lookup tables for vocabulary\n",
    "    :param text: The text of tv scripts split into words\n",
    "    :return: A tuple of dicts (vocab_to_int, int_to_vocab)\n",
    "    \"\"\"\n",
    "    # create words set to remove duplicates    \n",
    "    counts = Counter(text)\n",
    "    vocab = sorted(counts, key=counts.get, reverse=True)\n",
    "\n",
    "    vocab_to_int = {word:i for i, word in enumerate(vocab)}\n",
    "    int_to_vocab = {i:word for i, word in enumerate(vocab)}\n",
    "    return vocab_to_int, int_to_vocab\n",
    "\n",
    "\n",
    "\"\"\"\n",
    "DON'T MODIFY ANYTHING IN THIS CELL THAT IS BELOW THIS LINE\n",
    "\"\"\"\n",
    "tests.test_create_lookup_tables(create_lookup_tables)"
   ]
  },
  {
   "cell_type": "markdown",
   "metadata": {
    "deletable": true,
    "editable": true
   },
   "source": [
    "### Tokenize Punctuation\n",
    "We'll be splitting the script into a word array using spaces as delimiters.  However, punctuations like periods and exclamation marks make it hard for the neural network to distinguish between the word \"bye\" and \"bye!\".\n",
    "\n",
    "Implement the function `token_lookup` to return a dict that will be used to tokenize symbols like \"!\" into \"||Exclamation_Mark||\".  Create a dictionary for the following symbols where the symbol is the key and value is the token:\n",
    "- Period ( . )\n",
    "- Comma ( , )\n",
    "- Quotation Mark ( \" )\n",
    "- Semicolon ( ; )\n",
    "- Exclamation mark ( ! )\n",
    "- Question mark ( ? )\n",
    "- Left Parentheses ( ( )\n",
    "- Right Parentheses ( ) )\n",
    "- Dash ( -- )\n",
    "- Return ( \\n )\n",
    "\n",
    "This dictionary will be used to token the symbols and add the delimiter (space) around it.  This separates the symbols as it's own word, making it easier for the neural network to predict on the next word. Make sure you don't use a token that could be confused as a word. Instead of using the token \"dash\", try using something like \"||dash||\"."
   ]
  },
  {
   "cell_type": "code",
   "execution_count": 4,
   "metadata": {
    "collapsed": false,
    "deletable": true,
    "editable": true
   },
   "outputs": [
    {
     "name": "stdout",
     "output_type": "stream",
     "text": [
      "Tests Passed\n"
     ]
    }
   ],
   "source": [
    "def token_lookup():\n",
    "    \"\"\"\n",
    "    Generate a dict to turn punctuation into a token.\n",
    "    :return: Tokenize dictionary where the key is the punctuation and the value is the token\n",
    "    \"\"\"\n",
    "    # TODO: Implement Function\n",
    "    tokenize_dict = {\n",
    "        '.': \"||Period||\",\n",
    "        ',': \"||Comma||\",\n",
    "        '\"': \"||Quotation_Mark||\",\n",
    "        ';': \"||Semicolon||\",\n",
    "        '!': \"||Exlamation_Mark||\",\n",
    "        '?': \"||Question_Mark||\",\n",
    "        '(': \"||Left_Parenthesis||\",\n",
    "        ')': \"||Right_Parenthesis||\",\n",
    "        '--': \"||Dash||\",\n",
    "        '\\n': \"||Return||\"\n",
    "    }\n",
    "    \n",
    "    \n",
    "    return tokenize_dict\n",
    "\n",
    "\"\"\"\n",
    "DON'T MODIFY ANYTHING IN THIS CELL THAT IS BELOW THIS LINE\n",
    "\"\"\"\n",
    "tests.test_tokenize(token_lookup)"
   ]
  },
  {
   "cell_type": "markdown",
   "metadata": {
    "deletable": true,
    "editable": true
   },
   "source": [
    "## Preprocess all the data and save it\n",
    "Running the code cell below will preprocess all the data and save it to file."
   ]
  },
  {
   "cell_type": "code",
   "execution_count": 5,
   "metadata": {
    "collapsed": false,
    "deletable": true,
    "editable": true
   },
   "outputs": [],
   "source": [
    "\"\"\"\n",
    "DON'T MODIFY ANYTHING IN THIS CELL\n",
    "\"\"\"\n",
    "# Preprocess Training, Validation, and Testing Data\n",
    "helper.preprocess_and_save_data(data_dir, token_lookup, create_lookup_tables)"
   ]
  },
  {
   "cell_type": "markdown",
   "metadata": {
    "deletable": true,
    "editable": true
   },
   "source": [
    "# Check Point\n",
    "This is your first checkpoint. If you ever decide to come back to this notebook or have to restart the notebook, you can start from here. The preprocessed data has been saved to disk."
   ]
  },
  {
   "cell_type": "code",
   "execution_count": 6,
   "metadata": {
    "collapsed": false,
    "deletable": true,
    "editable": true
   },
   "outputs": [],
   "source": [
    "\"\"\"\n",
    "DON'T MODIFY ANYTHING IN THIS CELL\n",
    "\"\"\"\n",
    "import helper\n",
    "import numpy as np\n",
    "import problem_unittests as tests\n",
    "\n",
    "int_text, vocab_to_int, int_to_vocab, token_dict = helper.load_preprocess()"
   ]
  },
  {
   "cell_type": "code",
   "execution_count": 7,
   "metadata": {
    "collapsed": false,
    "deletable": true,
    "editable": true
   },
   "outputs": [
    {
     "name": "stdout",
     "output_type": "stream",
     "text": [
      "{'noble': 2898, 'attached': 2899, 'nards': 1441, 'carmichael': 5551, 'splash': 2900, 'dump': 577, 'pure': 2901, 'splendid': 2928, 'oughta': 2903, 'problems': 513, 'bart': 280, 'larry:': 549, 'voters': 2904, 'dig': 2905, 'stops': 2906, 'seconds': 841, 'clapping': 2907, 'leno': 2908, 'thighs': 1903, 'november': 2909, 'indeedy': 2911, 'conference': 1904, 'sausage': 1905, 'entertainer': 3655, \"you're\": 61, 'placed': 2912, 'compromise:': 2913, 'montrer': 2914, 'jogging': 2915, 'checks': 1442, 'sap': 2916, 'absolut': 2917, '_kissingher:': 1443, 'jay': 2918, 'fortress': 2919, '250': 1906, 'priority': 2920, 'allow': 2921, 'buddy': 664, 'un-sults': 1907, \"g'on\": 2922, 'plastered': 2923, 'stairs': 2924, 'burning': 1444, 'focus': 1445, 'heart-broken': 2926, 'temper': 2927, 'blessing': 2929, 'raises': 1170, 'ass': 665, 'sisters': 1461, 'whether': 1909, 'cupid': 2930, 'lowering': 1910, \"what'sa\": 1911, 'caricature': 2931, 'morning': 640, 'understood:': 2932, 'sen': 2933, 'king': 666, 'marvelous': 2934, 'watt': 2935, 'bit': 607, 'sympathetic': 1912, 'snapping': 2937, 'eminence': 2938, 'warm_female_voice:': 729, 'come': 94, 'saying': 730, 'dry': 731, 'full': 732, 'awake': 2939, 'terrific': 1914, 'planning': 1915, 'ideas': 2940, 'hushed': 2941, 'heading': 1918, 'rat': 842, 'beam': 1917, 'payments': 1919, 'beer-dorf': 2943, 'contact': 2944, 'expense': 2945, 'piling': 2946, 'nitwit': 2947, 'newsies': 2948, 'restaurants': 1920, 'junior': 1447, 'package': 2949, \"brockman's\": 2951, 'lose': 961, 'self-made': 1921, 'bloodiest': 6725, 'straight': 550, 'easy-going': 2952, 'shoe': 2953, 'wok': 2954, 'guilt': 2955, 'sobbing': 1171, 'generosity': 2956, 'twins': 1172, 'lungs': 2957, 'windowshade': 2958, 'language': 2959, 'desperate': 843, 'tropical': 2960, 'playing': 604, 'rob': 1173, \"stallin'\": 2961, 'lying': 844, 'safety': 2962, 'joey_kramer:': 1923, 'carl:': 1924, 'crimes': 2963, 'philosophic': 2964, 'bull': 2965, 'exasperated': 962, 'stick': 605, 'party': 360, 'rather': 1174, 'ring': 1448, 'replaced': 5516, 'dateline:': 2966, \"shootin'\": 2967, 'multi-purpose': 2968, 'jeff': 1925, 'meteor': 3543, 'scientific': 2970, 'toe': 2971, 'charges': 2972, 'mickey': 2973, 'music': 845, 'then': 91, 'sour': 2974, 'hike': 3403, 'waylon_smithers:': 332, 'confidentially': 2975, 'muscle': 2976, 'anxious': 3105, 'christian': 2978, 'country-fried': 2979, 'statesmanlike': 2980, 'license': 1450, \"s'cuse\": 2981, 'ref': 2982, 'bar_rag:': 551, \"daughter's\": 3452, 'strains': 3461, 'fence': 2984, 'including': 3466, 'yours': 1926, 'marched': 2985, 'zone': 2986, 'lainie:': 2987, 'unhappy': 2988, 'hyper-credits': 2989, 'water': 887, \"sat's\": 2991, 'packets': 2992, 'news': 734, 'tale': 1927, 'doctor': 2993, 'ohhhh': 2994, 'care': 398, 'prayer': 1928, 'fatso': 2995, 'almost': 1175, 'contented': 2996, 'frink': 1451, 'does': 230, 'besides': 2997, 'whistling': 2998, 'bon': 2999, 'memories': 1929, 'sabermetrics': 1930, \"coffee'll\": 3000, 'brunch': 3001, 'job': 307, 'sleeping': 3002, 'cushion': 3003, 'haikus': 3004, 'jukebox_record:': 3864, 'nerd': 3005, 'certificate': 3006, 'brick': 3007, 'feminine': 3008, 'cheer': 1052, 'mariah': 3010, 'imaginary': 3011, 'tease': 3012, 'cash': 471, 'single-mindedness': 3013, 'bunch': 1452, 'runaway': 3014, 'blinded': 3015, 'weirder': 1931, 'whup': 3016, 'public': 1453, '530': 3017, 'stuff': 399, 'pep': 3018, 'sleeps': 2091, 'noooooooooo': 3020, 'activity': 3021, 'macho': 3022, 'mt': 3023, 'scene': 1748, 'remains': 1932, 'renew': 3025, 'happen': 537, 'dice': 6505, 'group': 848, 'nonchalantly': 3027, 'f': 1454, 'streetlights': 3028, 'fraud': 1455, 'their': 220, 'ticket': 667, 'jigger': 3029, 'covers': 1456, 'sinister': 1933, 'ahhh': 1934, 'crippling': 3030, 'blooded': 3107, 'figure': 3031, 'milk': 849, 'bulldozing': 4962, 'tuborg': 3682, 'jer': 3032, 'friday': 3033, 'polish': 3034, 'going': 181, 'onassis': 3753, 'lovelorn': 3036, 'now': 63, 'shriners': 3037, 'ahead': 1176, \"cat's\": 1935, 'hemorrhage-amundo': 5530, 'slipped': 3908, 'while': 233, \"men's\": 1553, 'blind': 3040, 'libido': 3041, 'aiden': 3042, 'fat': 333, 'lied': 3043, 'nein': 964, 'je': 3044, 'worldview': 3045, 'fica': 3046, 'legs': 1177, 'duel': 1936, 'plucked': 3047, 'truck_driver:': 3048, 'bike': 1457, 'fixed': 1937, 'jay_leno:': 3049, 'the_rich_texan:': 552, 'beer-jerks': 3050, 'amazing': 1209, 'guys': 105, 'ultimate': 3052, 'low': 521, 'more': 124, 'giving': 850, 'cooking': 3053, 'scrape': 1938, 'fledgling': 3054, 'mad': 472, 'scratching': 3055, 'hotenhoffer': 3056, 'pal': 429, 'belly-aching': 3058, 'wally:': 1178, 'uh-oh': 553, 'refreshingness': 3059, 'herself': 3060, 'index': 3881, 'different': 1180, 'fact': 1523, 'wisconsin': 3062, 'recall': 1939, 'arguing': 3063, 'novel': 3902, 'eliminate': 3065, 'badge': 3912, 'pepto-bismol': 3067, 'back': 72, 'wish-meat': 3069, 'villanova': 3070, 'urine': 3071, \"stabbin'\": 3072, 'dad': 246, 'excuse': 400, 'joking': 1941, 'hate-hugs': 3073, 'opens': 4877, \"buffalo's\": 1942, 'jerks': 1080, 'steak': 1943, 'rebuttal': 3074, 'twin': 1944, 'omit': 3075, 'butt': 606, 'weep': 4214, 'showing': 1459, 'drawing': 1945, 'crime': 1460, 'booze-bags': 3077, 'your': 26, 'twelve': 1181, 'tempting': 3078, 'denver': 851, 'reactions': 3080, 'joey': 888, \"beer's\": 1946, 'angel': 1947, 'pepper': 3082, 'spouses': 3083, 'astonishment': 3084, 'heaven': 852, 'genius': 1948, \"son's\": 3085, 'dance': 736, 'um': 379, 'seamstress': 3086, 'original': 1182, 'gorgeous': 1949, 'sly': 1183, 'sitcom': 3087, 'step': 1446, 'issues': 3088, \"gentleman's\": 1462, 'sometime': 1463, 'pfft': 1464, 'triumphantly': 3089, 'broncos': 3561, 'kentucky': 3091, 'broke': 737, 'uses': 3092, 'chili': 3093, 'lonely': 1465, 'gabriel': 3094, 'carl_carlson:': 45, 'grampa_simpson:': 349, 'glorious': 3095, 'tree': 966, 'bottoms': 3096, 'fulla': 3097, 'again': 221, 'belches': 1184, 'unsanitary': 3098, \"wallet's\": 3099, 'ahhhh': 3100, 'faced': 3101, 'omigod': 853, 'legoland': 3609, 'boys': 668, 'relax': 1593, 'astrid': 3103, 'committing': 3104, 'flatly': 1466, 'rich': 1185, 'temples': 3106, 'ominous': 1264, 'sober': 967, 'noggin': 3108, 'raining': 5540, 'sub-monkeys': 3110, \"i'unno\": 3111, 'dennis_kucinich:': 1950, 'grammar': 3112, 'changing': 1053, 'cuff': 3114, 'letters': 1467, 'zoomed': 3115, 'cuckoo': 3116, 'endorsed': 3117, 'handoff': 3118, 'pub': 1186, 'dumbest': 3119, 'tie': 2088, 'bowled': 3121, 'lizard': 3122, 'later': 669, 'panicked': 3123, 'reads': 1468, 'miracle': 3124, 'unbelievable': 3125, 'nickels': 1951, 'afloat': 3126, 'rem': 3127, 'rascals': 3128, 'weekend': 3129, 'root': 1469, \"wonderin'\": 2267, 'gruesome': 3130, \"'evening\": 3131, 'nordiques': 3132, 'realized': 1953, 'kiss': 783, 'nose': 1187, 'contract': 3921, 'people': 170, \"'er\": 3134, 'sixteen': 3135, 'japanese': 738, 'owes': 4525, 'thousand-year': 3136, 'smells': 854, 'unfortunately': 1955, 'enough': 367, 'cock': 5567, 'pizzicato': 6185, 'yellow': 1188, 'various': 4370, 'life-threatening': 3140, 'newsweek': 3141, 'speed': 3142, 'starla:': 3143, 'furniture': 2936, 'comment': 3144, 'gentle': 3145, 'boxers': 3147, 'd': 1957, 'steam': 3148, 'anonymous': 3149, 'all-all-all': 3150, '91': 3151, 'rip': 3152, 'think': 96, 'gentlemen': 515, 'agent_johnson:': 1960, 'hubub': 4460, 'wolfe': 1962, 'grace': 3153, 'crowds': 3154, 'broken': 3156, 'rub': 1749, \"weren't\": 1963, 'beaumont': 3158, 'infor': 3159, 'idiots': 3160, 'himself': 739, 'habit': 3161, 'tyson/secretariat': 3162, 'solo': 1964, 'gay': 1161, 'reporter:': 1966, 'ugliness': 4228, 'fancy': 1471, 'enjoyed': 3164, 'chinua': 3165, 'rag': 1189, 'muslim': 3166, \"tootin'\": 3167, 'iran': 3168, 'pleading': 1967, 'north': 3169, 'alfalfa': 2257, 'hmmmm': 3577, 'suing': 1969, 'dregs': 3171, 'hurt': 424, 'nahasapeemapetilon': 3172, 'chill': 3173, 'move': 740, 'alcoholic': 1970, 'over': 149, 'self-esteem': 1971, 'loyal': 3175, 'check': 268, 'cerebral': 4231, 'oak': 3176, 'join': 670, 'cards': 1472, 'peach': 1473, 'senator': 1190, 'occupied': 3177, 'hooked': 3178, 'yello': 3580, 'to': 13, 'macbeth': 3179, 'richard': 3180, 'nominated': 3181, 'not': 62, 'guess': 241, 'wanted': 401, 'flush-town': 3182, 'smuggled': 3183, \"fans'll\": 3184, '7-year-old_brockman:': 1974, 'simultaneous': 3185, 'haplessly': 2942, \"queen's\": 3187, 'exception:': 3188, 'grandkids': 3189, 'teacher': 1975, 'investment': 4749, 'eyed': 3190, 'bread': 1977, 'little_hibbert_girl:': 3191, 'lights': 1978, 'absolutely': 969, 'course': 516, 'scooter': 1980, 'mechanical': 1474, 'comic': 1981, 'television': 4234, \"moe's\": 176, 'oblongata': 3194, 'insulted': 1982, 'paintings': 3195, 'killjoy': 3196, 'wuss': 3197, 'muffled': 3198, 'occurred': 3199, 'lindsay_naegle:': 1475, \"didn't\": 167, 'incriminating': 3200, 'support': 3201, 'billingsley': 3202, 'peppers': 3821, \"ya'\": 3204, 'car': 222, 'transfer': 3205, 'dreamy': 3206, 'cares': 1191, \"meanin'\": 1983, 'bide': 3207, 'geyser': 3208, 'laughs': 308, 'er': 3209, 'riding': 1984, 'sacajawea': 3210, 'total': 3211, 'proper': 3642, 'outside': 555, 'shack': 4354, 'geysir': 3213, 'flourish': 5564, 'specializes': 3215, 'sex': 943, 'been': 106, 'exchanged': 3216, 'bathed': 3217, 'upset': 548, 'troy:': 1735, 'souped': 3218, 'yup': 1986, 'musta': 3586, 'monorails': 3219, 'chicks': 1987, 'behavior': 3220, 'faceful': 3221, 'mags': 3222, 'glad': 741, 'sizes': 3223, 'ivanna': 3224, \"now's\": 4949, 'ahh': 787, 'poem': 1988, 'man_at_bar:': 3226, 'forward': 1989, 'boston': 3227, 'recreate': 3228, 'lisa': 285, 'remodel': 3230, 'prove': 1990, 'correcting': 1991, 'jelly': 3231, 'except': 855, 'unkempt': 3232, 'frenchman': 4978, 'possibly': 1992, 'city': 742, 'patty': 1993, 'evergreen': 3234, 'singers:': 1476, 'give': 162, 'recap:': 3236, 'listens': 6176, 'doubt': 970, \"coaster's\": 3237, 'hail': 1994, 'cruel': 1995, 'orphan': 3238, 'faulkner': 3239, 'project': 1996, 'radiator': 3240, 'upbeat': 1193, 'ratio': 3241, '100': 1997, 'tow-joes': 3242, 'training': 3243, 'boisterous': 3244, 'who-o-oa': 1831, 'idiot': 1477, 'southern': 3246, 'eleven': 1194, 'nurse': 3247, 'rhode': 3248, 'sweetest': 3249, 'duty': 2281, 'for': 25, 'pile': 3250, 'horror': 3251, 'ridiculous': 1478, 'playoff': 3252, 'source': 1689, \"'your\": 3254, 'started': 1195, 'owns': 3255, '7g': 3256, 'barney': 130, 'wins': 2077, 'wondering': 1999, 'refreshment': 3259, 'goal': 3260, 'pipe': 971, 'boxcars': 3261, 'flack': 3262, 'disappeared': 2000, 'comes': 334, 'startup': 3263, 'sweetly': 1479, 'karaoke_machine:': 3264, \"puttin'\": 5150, 'sucks': 4248, 'warned': 3267, 'radishes': 1196, 'sickened': 3269, 'whaddaya': 1197, 'smelly': 3270, 'mystery': 3271, 'gallon': 3273, 'meal': 2001, 'desire': 3274, 'adventure': 3275, 'passes': 3276, 'hates': 1480, 'loser': 473, 'sperm': 3277, 'specials': 3278, 'knees': 2594, 'edgy': 6031, 'greetings': 2002, 'calling': 477, 'attractive_woman_#2:': 3279, 'elmer': 3280, 'fellas': 744, 'anyhow': 3281, 'part-time': 3282, 'calendars': 3283, 'ollie': 2003, 'pay': 402, 'fine': 444, 'kinda': 474, 'seething': 3284, 'where': 137, 'face-macer': 3285, 'dumpster': 5280, 'appendectomy': 3287, 'bus': 1482, 'signed': 3289, 'hibachi': 3290, 'recruiter': 3291, \"duff's\": 3293, 'awww': 2004, 'pickle': 1311, 'inflated': 2005, 'best': 226, 'xx': 3295, 'nap': 3296, 'stay': 588, 'intimacy': 3298, 'nods': 671, 'shaken': 1965, \"'now\": 3299, 'rife': 3300, 'each': 517, 'looks': 234, 'really': 100, 'consoling': 3302, 'it': 17, 'curse': 3303, 'gibson': 3304, 'pit': 1198, 'gayer': 3305, 'therapy': 1199, 'mouse': 972, 'arse': 3306, 'mayor': 1054, \"feelin's\": 3307, 'tolerable': 3308, 'badmouth': 3309, 'salary': 3310, 'lives': 944, 'supermarket': 3311, 'enjoys': 3312, 'cheated': 3313, 'moxie': 3314, 'tester': 2007, 'helps': 3315, 'loathe': 3316, 'para': 5464, 'homer': 27, 'anniversary': 1483, 'tatum': 1200, 'surprised': 475, 'vengeful': 3317, 'statue': 3318, '21': 3319, 'lookalike': 3320, 'act': 974, 'bold': 2008, 'arab_man:': 2009, \"gettin'\": 556, 'developed': 3321, 'family-owned': 3322, 'combination': 3323, 'exits': 3324, 'farthest': 3325, 'spoon': 3326, 'finger': 1201, 'ragtime': 2010, 'shoo': 2011, 'white': 2734, 'urban': 3327, 'whiny': 1258, 'cologne': 3328, 'fourteen:': 6235, 'bought': 1484, 'director:': 3329, 'nash': 3330, 'rat-like': 3331, 'inspired': 2012, 'journey': 3332, 'ooo': 1202, 'fixes': 3333, 'mumble': 3334, 'ignorant': 3335, 'heard': 445, 'credit': 3336, 'bulked': 3604, 'doppler': 3338, 'staying': 1879, \"tomorrow's\": 3340, 'if': 71, 'civil': 3341, 'recent': 3342, 'tremendous': 3343, 'harvey': 3344, 'prohibit': 2013, 'twenty': 486, 'whatever': 557, 'clone': 1485, 'forever': 745, 'bunion': 3346, 'ease': 3347, 'hello': 212, 'eddie': 3348, 'superpower': 3349, 'beligerent': 3350, 'toasting': 1486, \"somethin'\": 518, 'grope': 4271, 'bartending': 2601, 'uh-huh': 672, 'table': 746, 'nope': 2014, 'aside': 1487, 'quarter': 3353, 'gol-dangit': 3354, 'gasps': 608, 'cents': 1488, 'friction': 6208, 'knit': 3355, 'bathroom': 2016, 'judgments': 3356, 'fit': 3357, 'design': 3358, 'gangrene': 3359, 'fausto': 2017, 'loaded': 1203, 'passenger': 3360, 'detective_homer_simpson:': 1102, 'spent': 2417, \"carl's\": 1370, 'loud': 361, 'dejected_barfly:': 3363, 'card': 720, \"choosin'\": 4155, 'pushing': 3364, 'isotopes': 976, 'conversations': 3365, 'alva': 3366, 'looked': 1619, 'noises': 476, 'parasol': 3367, 'aerosmith': 2236, 'eurotrash': 3368, 'terror': 3369, 'share': 1489, 'gloop': 3370, 'count': 3371, 'girls': 609, 'yet': 673, 'frosty': 2262, 'arise': 3374, 'doors': 1575, 'unearth': 3375, 'eat': 493, 'legend': 3377, 'friend:': 5591, 'comic_book_guy:': 756, 'jaegermeister': 3379, 'mocking': 3380, 'seek': 2021, 'warren': 3381, 'mexican_duffman:': 3382, 'conspiratorial': 2022, 'juan': 3383, 'wipe': 1490, 'mixed': 2023, 'palmerston': 1491, 'ivory': 3384, '/mr': 3385, 'nobel': 1492, 'chip': 3386, 'puffy': 3387, 'sustain': 3388, 'pinball': 3389, 'running': 977, 'natural': 1493, 'tanked-up': 2024, 'annie': 3390, 'drop': 1494, \"marge's\": 2025, 'influence': 3391, 'christmas': 674, 'pickled': 1204, 'lush': 2371, 'sam:': 3393, 'reluctantly': 3394, 'lanes': 3395, 'wooden': 2026, 'bagged': 5173, 'willy': 2027, 'mudflap': 1495, 'scruffy_blogger:': 3398, 'absorbent': 3399, 'affectations': 3400, 'depressed': 3401, 'picture': 675, \"dog's\": 5442, 'caused': 2028, 'save': 423, 'alls': 3404, 'gator:': 2738, 'noticing': 1496, 'bourbon': 2029, 'nigerian': 2030, 'tubman': 3406, 'childless': 3407, 'already': 519, 'jolly': 1497, \"i-i'm\": 1498, 'naively': 3408, 'military': 1499, 'kissing': 1752, 'schemes': 3410, 'bad-mouth': 3411, 'everything': 362, 'throat': 599, 'magnanimous': 3413, 'its': 1500, 'admiring': 2031, 'reciting': 3414, 'santeria': 3415, 'seas': 2032, 'train': 1205, 'jane': 3417, 'thrilled': 3418, 'slays': 3419, 'showered': 3420, 'tastes': 1501, 'bites': 3421, 'alien': 3422, 'squadron': 3423, \"'em\": 193, 'lou': 3424, 'wally': 3425, 'direction': 3427, 'sale': 2033, \"bart's\": 1502, 'those': 168, 'want': 101, 'tickets': 3428, 'chapter': 3429, 'ruin': 1503, 'kneeling': 3430, 'spite': 3431, 'advertising': 3432, 'dismissive': 2034, 'droning': 3433, 'binoculars': 3434, 'jig': 3436, 'moan': 558, 'compared': 2035, 'ho-la': 3437, 'icy': 3438, 'divorced': 3439, 'romantic': 856, 'sexual': 1504, 'slit': 3440, 'online': 6165, 'important': 2036, 'horrified': 979, 'meals': 3441, 'refresh': 2037, 'hems': 3443, 'romance': 3444, 'arrange': 3445, 'extreme': 3446, 'eighty-seven': 2038, 'sassy': 3294, 'startled': 3447, 'ashamed': 980, 'west': 3448, \"goin'\": 350, 'rent': 4872, 'cobra': 3450, 'salad': 1505, 'vomit': 1506, 'dejected': 3451, 'fall': 846, 'when': 108, 'weird': 747, 'football': 3453, 'were': 179, 'average': 3455, 'filthy': 1112, 'junebug': 5604, 'philip': 3456, 'pulled': 1206, 'sponsor': 3457, 'got': 54, 'fills': 3747, 'club': 981, 'talking': 559, 'mulder': 3459, 'mate': 2040, 'grampa': 733, 'stamps': 6295, 'soir': 3463, 'krusty_the_clown:': 289, 'them': 235, 'mother': 610, 'hoping': 1207, 'health_inspector:': 948, 'monday': 3465, 'coming': 514, 'disappointing': 3467, \"tree's\": 3468, 'thrown': 3469, 'margarita': 2041, 'another': 236, 'referee': 3470, 'score': 3471, 'register': 1507, 'jägermeister': 3473, 'cream': 2042, 'bothered': 3474, 'jokes': 3475, 'twelveball': 6337, 'owner': 2044, 'yoo': 2045, 'spinning': 1508, \"smackin'\": 3477, 'everybody': 255, 'rupert_murdoch:': 3478, 'nearly': 2046, 'prints': 3479, 'hollye': 2950, 'delicate': 3481, 'official': 3482, \"year's\": 1509, 'bon-bons': 3483, 'fire_inspector:': 3484, 'huh': 163, 'friends': 282, 'roach': 3485, 'she': 159, \"must've\": 3486, 'asking': 2047, 'sadistic_barfly:': 1510, 'merchants': 3487, 'hated': 982, 'telephone': 3488, 'helicopter': 1511, 'coincidentally': 3489, 'ripping': 3490, \"it'd\": 2048, 'sixty-nine': 1512, \"yieldin'\": 3491, 'maya': 2049, 'familiar': 2050, 'slab': 3492, 'homers': 2051, 'beginning': 1513, 'drive': 479, 'gig': 3493, 'crack': 857, 'pigs': 2052, 'oil': 1514, 'furry': 3494, 'damn': 748, 'bauer': 4299, 'sunk': 3495, '6': 2053, 'bear': 2054, 'employees': 3496, 'wheels': 3497, 'mouths': 3498, 'laney_fontaine:': 2055, \"this'll\": 3499, 'covering': 1515, 'miss': 676, 'exactly': 688, 'forget': 495, 'sets': 3502, 'veux': 3503, 'background': 3504, 'new': 164, \"rustlin'\": 3505, 'let': 138, 'frescas': 3506, 'rage': 2056, 'nickel': 3507, 'remembered': 2057, 'followed': 5613, 'sucker': 3509, 'kl5-4796': 3511, 'edge': 3512, 'cutting': 983, 'whirlybird': 3513, 'book_club_member:': 1516, 'charlie': 2058, 'hired': 2059, 'devils:': 3514, 'coupon': 3079, 'multi-national': 4294, 'ga': 3516, 'monster': 1219, 'deeper': 3518, 'diet': 1517, 'smithers': 425, 'harv:': 858, 'products': 2423, 'doooown': 3520, 'car:': 3521, '_eugene_blatz:': 6324, 'cocktail': 1519, 'comfortable': 1520, 'daaaaad': 3522, 'correction': 3523, 'dead': 426, 'flaming': 481, 'forgets': 3525, 'enforced': 3527, 'billiard': 3528, 'steamed': 3529, 'gruff': 3530, 'he': 75, '_powers:': 2060, 'full-bodied': 3531, 'bags': 2061, 'infatuation': 3532, 'skirt': 2062, 'yards': 2064, 'restroom': 2892, 'delivery': 2065, 'marge': 116, 'western': 3534, 'sack': 2066, 'shindig': 3535, \"waitin'\": 2067, 'date': 446, 'squeeze': 3536, 'vacations': 3537, \"battin'\": 3538, 'big': 139, '||left_parenthesis||': 3, 'perhaps': 1853, 'religion': 1522, 'boxer': 2068, 'find': 256, 'goldarnit': 3539, 'hiring': 3540, 'intention': 3541, 'purveyor': 3641, 'recorder': 2969, 'yawns': 2069, 'morose': 2070, 'grieving': 5620, 'griffith': 3545, 'tapestry': 3546, 'go': 77, 'complaining': 2071, 'commission': 2072, 'amanda': 1208, 'lewis': 3547, 'launch': 3548, \"money's\": 2285, 'appointment': 2073, 'agent_miller:': 3549, 'indifference': 3550, 'forehead': 2720, 'grim': 1210, 'winces': 3551, 'ron': 3552, 'trustworthy': 3061, 'texas': 1524, 'rueful': 3553, 'screams': 1836, 'kitchen': 3555, 'sloppy': 3556, 'creates': 3557, 'cousin': 3558, 'offended': 984, 'ear': 3559, 're-al': 3560, 'patented': 3090, 'fifty': 677, 'smitty:': 3562, 'weather': 3563, 'unjustly': 3564, 'annoying': 3565, 'lady_duff:': 5568, 'poorer': 3567, 'bupkus': 3568, 'weirded-out': 2074, \"g'ahead\": 3569, 'sing-song': 3570, 'stinger': 3571, 'far': 611, 'payback': 3572, 'bellyaching': 3573, 'question': 1211, 'babar': 3574, 'percent': 2075, 'tobacky': 3575, 'almond': 3576, 'fritz': 1968, \"they'll\": 1525, 'business': 351, 'sales': 3578, 'wear': 1212, 'wantcha': 3579, 'blows': 3397, \"when's\": 3581, 'kickoff': 3582, 'relaxing': 3583, 'hiya': 1526, 'brassiest': 2076, 'crab': 3584, 'uninhibited': 3585, 'this': 23, 'dawning': 3587, '_marvin_monroe:': 3588, 'thrust': 3589, 'jerking': 3590, 'fwooof': 3591, 'youuu': 4396, 'delicately': 3592, 'premiering': 3593, 'grin': 3594, 'sharity': 6173, 'terrified': 1754, 'noise': 201, 'oooh': 3258, 'every': 237, 'peanut': 2135, 'option': 3596, \"ladies'\": 2078, \"that'll\": 859, 'infestation': 3597, 'explaining': 1213, 'level': 2079, 'rummy': 749, 'interrupting': 3598, 'conclude': 3288, 'lenny:': 2080, \"tony's\": 3599, 'clothespins:': 3600, 'dumb': 860, 'scared': 750, 'warn': 2081, 'cobbling': 3601, 'crew': 2082, 'same': 861, 'came': 447, 'swan': 3603, 'scram': 3337, 'breakfast': 3605, 'manjula_nahasapeemapetilon:': 862, 'something:': 3606, 'paints': 3607, 'windshield': 3608, 'acquitted': 6724, 'folks': 1215, 'kwik-e-mart': 1734, 'handling': 3610, 'possessions': 3611, 'disgraceful': 3612, 'mmmmm': 3613, 'left': 427, 'traffic': 1527, 'wiggle-frowns': 3614, 'hurry': 1216, 'booger': 3615, 'fountain': 3616, 'dan_gillick:': 1217, 'ninth': 3617, \"costume's\": 3416, 'peabody': 3618, 'seriously': 2083, 'fight': 482, 'depressing': 3619, 'guttural': 3620, \"children's\": 2084, 'libraries': 3621, 'occupation': 3622, 'brockman': 985, 'hm': 1218, 'ribbon': 3623, 'guide': 2085, 'champ': 2086, 'j': 3624, 'manjula': 2087, 'pridesters:': 3625, 'fireworks': 3626, \"friend's\": 3627, 'lady-free': 3628, '3': 3629, 'rest': 986, 'hank_williams_jr': 863, 'belts': 3630, 'hole': 1755, 'stretch': 3632, 'homunculus': 3633, 'cavern': 3634, 'scum': 1529, 'nevada': 3635, 'snotball': 3517, 'unsafe': 3636, 'au': 3637, 'rekindle': 3638, 'ping-pong': 3639, \"they've\": 1220, 'mistake': 1530, 'neat': 2089, 'padre': 2876, 'holy': 3640, 'expecting': 3542, 'bets': 2090, 'worry': 428, 'donut': 3643, \"plaster's\": 3644, 'chunk': 3645, \"america's\": 5661, \"kid's\": 3646, 'send': 751, 'massive': 3647, 'groin': 3648, 'view': 3649, 'huggenkiss': 1214, 'malted': 3019, 'example': 3651, 'blood-thirsty': 2092, 'none': 987, 'ails': 3653, 'accidents': 3654, 'head': 269, 'race': 4327, 'koholic': 2093, 'safer': 2874, 'paying': 1531, 'plenty': 2094, 'weary': 2095, 'considering:': 3657, 'crummy': 1750, 'sideshow': 3658, 'frog': 2096, 'paper': 3659, 'dammit': 5752, 'beards': 3661, 'turning': 678, 'chocolate': 1315, 'l': 1532, 'cap': 3662, 'hundreds': 3663, 'keep': 270, 'drinker': 3664, 'button': 1533, 'peter_buck:': 3665, 'morning-after': 6061, 'demo': 3666, 'charm': 2097, 'nectar': 3667, 'patriotic': 5636, 'sense': 1221, 'sob': 988, \"fine-lookin'\": 3669, 'bobo': 3670, 'dancing': 1535, 'chubby': 3671, 'cranberry': 3672, 'perfect': 613, 'locklear': 3673, 'clears': 989, 'poured': 3674, 'silent': 3675, 'hose': 3266, 'idioms': 3676, 'koji': 3677, 'taken': 1756, 'r': 1528, 'inspection': 1537, 'blimp': 3678, 'unsourced': 3679, 'holds': 864, 'whispers': 3680, 'slim': 3681, 'with': 35, 'slobbo': 3823, 'organ': 2099, 'dna': 3683, 'local': 990, 'cheesecake': 3684, 'inherent': 3685, \"collector's\": 3686, 'gentleman:': 2100, \"hell's\": 3687, 'latin': 2101, 'helpless': 3688, 'pizza': 3689, 'lap': 2102, \"nothin'\": 318, 'hard': 865, 'embarrassing': 1538, 'seats': 2103, 'sound': 382, 'low-blow': 3870, '14': 3691, 'refiero': 3692, 'collette:': 752, 'cocoa': 3879, 'firmly': 2105, 'putty': 3694, 'elizabeth': 3695, 'result': 3696, 'hmm': 753, 'scratcher': 3697, 'mmmm': 569, 'sips': 866, 'championship': 1222, \"nick's\": 3698, 'consciousness': 3699, 'hollywood': 2106, 'troubles': 5343, 'hot': 560, 'swelling': 3700, 'fourth': 1539, 'grabbing': 1540, 'fool': 1541, 'fast': 754, 'jackpot-thief': 3701, 'commanding': 3702, 'booth': 3703, \"guy's\": 991, \"somebody's\": 4337, 'triple-sec': 3704, 'process': 3705, 'defeated': 2732, 'agreement': 2107, 'aerospace': 3707, 'agent': 1223, 'things': 263, 'benjamin:': 3708, 'satisfied': 2185, 'costume': 2108, 'large': 2580, 'trick': 2353, 'free': 380, \"world's\": 992, 'usual': 3710, 'woman': 319, 'cotton': 2187, 'pulls': 1224, 'kodos:': 4338, 'murdoch': 3712, 'ginger': 2582, 'blissful': 3713, 'blamed': 3714, 'flag': 2110, 'produce': 4339, 'cuz': 3715, 'visas': 3716, 'branding': 3717, 'gin-slingers': 3718, \"drawin'\": 2111, \"'til\": 1544, 'dealer': 3719, 'plug': 3720, 'strolled': 3721, 'lookalikes': 3722, 'ha': 759, \"'tis\": 2112, \"it'll\": 561, 'louie:': 2113, 'leonard': 3723, 'self-centered': 3724, 'briefly': 3725, 'suck': 1545, 'recently': 2114, 'norway': 3726, 'quarry': 4079, 'beefs': 3728, 'computer': 1225, 'trenchant': 3729, 'larson': 3730, 'zero': 2115, 'marvin': 1546, 'pre-recorded': 5642, 'jack_larson:': 1547, 'adult': 3731, 'dirt': 1548, 'composite': 3732, 'somewhere': 1549, 'bury': 3733, 'punches': 2116, 'irrelevant': 3734, 'instrument': 4130, 'blow': 1227, 'ditched': 4135, 'snitch': 3736, 'coward': 2117, 'therefore': 2118, 'thesaurus': 2119, 'clincher': 3737, 'hounds': 3738, 'federal': 3739, 'prolonged': 3740, 'u2:': 4176, 'lend': 3742, '||question_mark||': 10, 'weapon': 4183, 'sobriety': 3743, 'power': 867, 'politician': 4188, 'gold': 868, 'society': 3745, 'talkers': 3746, 'flanders:': 3748, 'richard:': 3749, \"o'problem\": 1228, 'fault': 1551, 'reckless': 4204, 'spot': 1229, 'sister': 1230, 'a-lug': 3750, 'burt_reynolds:': 3751, 'blokes': 3752, 'de': 3035, 'debonair': 3754, 'plastic': 869, 'finding': 1231, 'wiggle': 4257, 'arrested:': 3755, 'poster': 3756, 'batmobile': 3757, 'mamma': 4728, \"monroe's\": 2121, 'get': 55, 'ambrosia': 2122, 'brewed': 2123, 'amends': 3758, 'kahlua': 3759, 'p': 994, 'deeply': 2124, 'haiti': 3760, 'certainly': 3761, 'spied': 2273, 'murderously': 3764, 'mustard': 3765, 'sweetie': 3038, \"poisonin'\": 3766, 'strong': 871, 'kinderhook': 3767, 'show': 271, \"eatin'\": 3769, 'girl': 272, 'invited': 995, 'key': 3770, 'sincerely': 3771, 'videotaped': 4364, 'spender': 3773, 'frogs': 3774, 'cleveland': 3775, 'dean': 4374, 'buzziness': 4347, 'travel': 3039, 'mess': 2126, 'feelings': 1536, 'homesick': 3776, 'threw': 1233, 'type': 1908, 'smallest': 2127, 'examples': 3778, 'municipal': 3779, 'experienced': 3780, 'ees': 3781, 'landlord': 3782, 'perking': 3783, 'somehow': 2128, 'snort': 1759, 'glasses': 996, 'virile': 4437, 'skinner': 453, 'feast': 2307, 'author': 3787, 'high': 520, 'marmaduke': 2129, 'nothing': 679, 'connection': 3788, 'hears': 3789, 'liven': 3790, 'allowed': 2130, 'clap': 3791, 'icelandic': 3792, 'carve': 2131, \"shouldn't\": 634, 'spits': 3794, 'coins': 2132, 'insightful': 2133, 'lipo': 5651, 'build': 4920, 'sweater': 3798, 'fires': 3799, 'agh': 3800, 'fudd': 2134, \"homer'll\": 3801, \"grandmother's\": 4518, 'saint': 2788, 'keys': 562, 'pond': 2098, 'hop': 2198, 'viva': 3802, 'side': 998, 'calls': 1420, 'reading': 386, 'studio': 2136, 'written': 2137, 'sky': 3803, 'gamble': 3804, 'moment': 1234, 'erasers': 3805, 'enabling': 3806, 'hitler': 2138, 'dint': 3807, 'plotz': 5600, 'smile': 757, 'boneheaded': 2139, 'saget': 4965, \"'n'\": 3808, 'maya:': 890, 'extract': 3809, 'numbers': 872, 'haw': 2342, 'pro': 3811, 'bucks': 381, 'effigy': 2140, 'bill': 1236, 'seen': 300, 'such': 635, 'mall': 2346, 'fevered': 2141, 'disguised': 3814, 'witty': 2142, 'umm': 2143, 'nuked': 3815, 'hook': 3816, 'joke': 2144, 'thorough': 3817, 'enlightened': 3818, \"i-i'll\": 3426, 'against': 1000, 'eco-fraud': 3820, 'delivery_boy:': 2364, 'friendship': 2145, 'occurrence': 3822, 'apron': 3824, 'address': 1237, 'aisle': 3825, 'grammys': 3826, 'mock': 1555, 'make': 107, 'name': 199, 'dropped': 2146, 'needed': 1238, 'alpha-crow': 2902, 'strips': 3828, 'absentminded': 4772, 'bonding': 3830, 'pen': 3831, 'blubberino': 3832, 'neighbor': 2147, 'disgusted': 563, 'makes': 404, 'aid': 3833, 'slight': 2382, 'mexican': 3834, 'celebration': 3051, 'jasper_beardly:': 3835, 'piece': 1001, \"y'money's\": 3836, 'mistresses': 3837, 'community': 3839, 'wishing': 3840, 'foibles': 1239, 'picked': 3841, 'puke': 1557, 'understand': 1335, 'swig': 4839, 'dea-d-d-dead': 3515, 'color': 2149, 'provide': 3843, 'juke': 4938, 'indeed': 3844, \"sittin'\": 1003, 'government': 965, 'eyes': 450, 'from': 76, 'sprawl': 6284, 'suffering': 3847, 'tabs': 3848, \"tonight's\": 3849, 'image': 1869, 'specific': 4898, \"fightin'\": 3851, 'sight-unseen': 3852, 'draw': 2150, 'anybody': 681, 'bindle': 3853, 'flown': 6617, 'excited': 451, 'cost': 1086, 'sweeter': 2152, 'splattered': 3854, 'wild': 3855, 'patty_bouvier:': 682, 'earth': 3856, 'banquo': 2153, 'france': 1240, 'awesome': 2154, 'lobster-politans': 4378, 'ripcord': 2614, 'degradation': 2155, 'alky': 3846, 'frankly': 1558, 'ripper': 3857, 'combines': 3858, 'room': 483, 'yuh-huh': 5010, 'incarcerated': 3861, 'reaches': 5014, 'bits': 3863, 'amnesia': 3865, 'hibbert': 2156, 'hero-phobia': 3866, 'chug': 1004, 'toss': 1560, 'moe': 30, 'k': 1458, 'led': 3867, 'david': 2446, 'otherwise': 3868, 'playhouse': 3869, 'jets': 2104, 'ebullient': 5056, 'disillusioned': 3872, 'kill': 405, 'quimby_#2:': 3873, 'detail': 3874, \"challengin'\": 3875, 'cecil_terwilliger:': 3876, 'dang': 1241, 'teenage_barney:': 1242, 'ding-a-ding-ding-a-ding-ding': 3929, 'lessons': 1005, 'birthday': 870, 'quickly': 430, \"he'd\": 1006, 'shoulder': 2159, 'businessman_#1:': 2160, 'literary': 3878, 'old-time': 3693, 'sistine': 3880, 'point': 614, 'sees': 1179, 'susie-q': 3882, 'hot-rod': 3883, 'favor': 1068, 'safely': 3884, 'softer': 3885, 'yourself': 406, \"toot's\": 3886, 'germany': 3888, 'dallas': 1069, 'english': 758, 'ancestors': 3890, 'charlie:': 3891, 'conclusions': 3892, 'boxing_announcer:': 2161, 'grab': 2162, 'disappointment': 3893, 'blend': 2409, 'booze': 456, 'child': 1561, 'stones': 3895, 'versus': 3896, 'filed': 3897, 'restless': 3898, 'teenage_bart:': 1334, 'washed': 3899, 'rules': 2164, 'vodka': 2832, 'help': 195, 'soaking': 3064, 'we-we-we': 3903, \"ma'am\": 2165, 'addiction': 5229, 'jobless': 3904, 'dime': 3905, \"rasputin's\": 3906, 'tough': 431, 'bedroom': 2166, 'youth': 3907, 'kick-ass': 3909, 'pre-game': 3910, 'clips': 4388, 'wash': 2167, 'men:': 1564, 'adjust': 3911, 'theme': 4519, 'trivia': 3914, 'tv_wife:': 1008, 'criminal': 3916, \"bringin'\": 3917, 'sunny': 3918, 'peaked': 3919, 'ninety-nine': 3920, 'less': 615, 'any': 208, 'easter': 3922, 'pretentious_rat_lover:': 5309, 'through': 309, 'jubilation': 3924, 'düff': 3925, 'blown': 2168, 'tanking': 4369, 'doreen': 2169, 'motor': 3795, 'increasingly': 2170, 'butterball': 3927, 'businessman_#2:': 3928, 'ura': 3068, 'brow': 2171, 'twelve-step': 3930, 'flustered': 3932, 'ned_flanders:': 335, 'snackie': 5611, 'perfume': 3933, 'mines': 3934, 'ugliest': 2173, 'around': 188, 'ron_howard:': 3935, 'mither': 3936, 'beautiful': 416, 'blue': 616, 'us': 146, 'eu': 3937, 'peeved': 3938, 'nuclear': 1082, 'either': 617, 'michael_stipe:': 3940, 'set': 875, 'trapped': 2175, 'classy': 3941, 'powered': 3942, 'earrings': 3943, 'james': 1565, \"one's\": 1044, 'cowardly': 2176, 'unforgettable': 3944, 'eww': 3945, 'private': 618, 'mabel': 3946, 'shutup': 3947, 'whaaaa': 3948, 'presses': 3949, 'inquiries': 5457, 'kidney': 2178, 'wiping': 3950, 'nagurski': 3951, 'fatty': 3952, 'chuckle': 281, 'pretend': 3954, 'spews': 3955, 'mason': 3956, 'movement': 5495, 'ralphie': 3958, 'kicks': 4377, 'flames': 5497, 'eight-year-old': 3960, 'treasure': 876, 'hammy': 3961, 'upon': 1567, \"dad's\": 1243, 'wudgy': 5510, 'roy': 3595, 'talked': 2842, 'rome': 5760, 'hops': 3964, 'boo': 1746, 'p-k': 3966, 'accurate': 1569, 'wrecking': 3967, \"tap-pullin'\": 3968, 'shrieks': 3969, 'day': 155, 'granted': 2443, 'puff': 1570, 'spamming': 3971, 'muscles': 3972, 'selective': 3973, 'much': 173, 'drunkenly': 5243, 'monkey': 2181, 'gabriel:': 3975, 'ziff': 2182, 'kansas': 3976, 'medical': 2564, 'pass': 877, 'finishing': 2183, 'subscriptions': 3977, 'frozen': 3978, 'slurred': 3979, 'celebrate': 3980, 'sees/': 3981, 'hilarious': 1572, 'arrest': 1244, 'blaze': 5614, 'singing': 247, 'wondered': 3982, 'sickens': 3983, 'listened': 3984, 'also': 1010, 'mini-dumpsters': 3985, 'shores': 3986, 'according': 3987, 'liquor': 3988, 'negative': 3989, 'drawer': 3990, 'foundation': 3991, 'o': 812, 'popular': 1573, 'sponge:': 3993, \"heat's\": 3994, 'elaborate': 3995, 'scanning': 3996, 'pasta': 3997, 'predictable': 5667, 'remembering': 2184, 'squirrel': 5045, 'ought': 3998, 'tall': 3999, 'opportunity': 1245, 'de-scramble': 5046, 'humiliation': 4000, 'bright': 1762, 'access': 4002, 'skoal': 4003, 'soap': 2186, 'frankenstein': 4004, 'price': 1958, 'permanent': 4007, 'mayan': 4009, 'innocence': 4010, 'thank': 310, 'used': 364, \"lovers'\": 4011, 'shirt': 1011, 'need': 141, \"life's\": 4012, 'knocks': 4013, 'backward': 4015, 'non-losers': 4016, 'scum-sucking': 4017, 'brightening': 2109, 'working': 1246, 'rusty': 4018, 'mug': 1247, 'therapist': 2188, 'appealing': 2189, 'gore': 4019, 'ad': 1029, 'wang': 2190, 'nursemaid': 4020, 'dating': 2191, 'nice': 274, 'landfill': 4021, 'song': 564, 'mona_simpson:': 2192, 'officials': 4022, 'madman': 4023, 'trying': 565, 'county': 4024, 'rights': 4025, 'wolverines': 4026, 'likes': 1578, 'dangerous': 878, 'caper': 4027, 'consulting': 4028, 'scary': 2193, 'soul-crushing': 4029, \"ma's\": 4030, \"wouldn't\": 366, 'wordloaf': 2194, 'jerry': 2770, 'heh-heh': 4031, \"something's\": 4032, 'so': 42, 'patient': 2196, 'rosey': 4033, 'devastated': 2197, 'crony': 4034, 'suit': 1012, 'pissed': 1580, 'deep': 1249, 'gasp': 484, 'suds': 2199, 'pleasure': 2662, 'waterfront': 3480, 'be-stainèd': 4036, 'lard': 4037, 'suave': 4735, 'territorial': 4038, 'picnic': 4039, 'all:': 1089, 'coy': 4040, 'switched': 4041, 'close': 593, 'abandon': 2668, 'violations': 2202, 'children': 1013, 'gary:': 1581, 'mint': 4044, 'hearse': 4045, 'boozy': 2203, 'bubbles': 2204, \"dimwit's\": 4046, 'plan': 879, 'pictured': 4048, 'reviews': 2259, 'neil_gaiman:': 1913, 'uhhhh': 6089, 'milks': 4051, 'victory': 2602, '_zander:': 1014, 'thoughtfully': 2206, 'ling': 4053, 'heals': 4054, 'wayne': 2207, 'grumbling': 4055, 'head-gunk': 4056, 'fast-food': 4057, 'senators': 1250, 'reporter': 5479, 'reached': 2208, 'regretted': 4058, 'semi-imported': 4059, 'yak': 4060, 'suspenders': 4061, 'losing': 1582, 'tired': 1015, 'utility': 2209, \"workin'\": 1016, 'donated': 4062, \"'morning\": 4063, 'customers': 1017, '||dash||': 66, 'why': 109, 'today': 374, 'singing/pushing': 4064, 'mr': 185, 'jumps': 2210, 'punk': 2211, 'dutch': 4065, 'nonsense': 4066, 'called': 522, 'cockroach': 4067, 'gordon': 4068, 'throw': 700, 'dials': 2212, 'rig': 4070, 'six': 532, 'pats': 1583, 'drank': 2213, 'funds': 2730, 'beat': 273, 'entirely': 2214, 'damned': 4072, 'drunks': 1584, 'politicians': 4073, 'maiden': 4074, 'barney-guarding': 4075, 'reserve': 2452, \"tramp's\": 4077, 'european': 2215, 'stupidly': 4078, 'is': 22, 'mobile': 3727, 'neighboreeno': 4081, 'courts': 4082, 'knowing': 1586, ':': 586, \"should've\": 4083, \"drinkin'\": 523, 'felt': 1018, 'intakes': 4084, 'chest': 1587, 'occupancy': 4085, 'circus': 4086, 'fictional': 2216, 'bumpy-like': 4087, 'logos': 4088, 'settled': 4089, 'nineteen': 1134, 'diving': 3460, 'game': 352, 'fanciest': 2763, 'phlegm': 4093, \"school's\": 4092, 'would': 134, 'awed': 2217, 'surprised/thrilled': 4094, 'rainforest': 4095, 'dumb-asses': 4096, 'rector': 4097, 'clothespins': 4098, 'testing': 1019, 'house': 320, 'anyhoo': 4099, 'early': 880, 'pitcher': 1252, 'quietly': 1063, 'moonnnnnnnn': 4101, 'cozies': 5700, \"buyin'\": 1253, 'resenting': 4103, 'blame': 566, 'samples': 4104, 'aw': 203, 'rationalizing': 4137, 'lorre': 6026, 'ecru': 4107, \"who's\": 283, 'so-called': 2786, 'contemplated': 4108, 'lodge': 3137, 'danny': 4110, 'cheaped': 4111, 'pawed': 4112, 'cheat': 2218, \"calf's\": 4113, 'kissingher': 2925, 'kay': 6051, 'tin': 4114, 'hellhole': 4115, 'pleasant': 2219, 'grudgingly': 4116, 'sacrifice': 4117, 'disturbing': 4118, 'klingon': 2220, 'sweat': 4598, 'smurfs': 2221, 'starters': 4119, 'special': 619, 'dealie': 4120, 'following': 1588, 'scam': 1589, 'advance': 2222, 'insensitive': 3900, 'random': 4121, 'belch': 881, 'specified': 4122, 'wagering': 4123, 'dunno': 882, 'action': 2223, 'tune': 883, 'non-american': 4124, 'and/or': 4125, 'sniper': 4126, 'disapproving': 2224, 'fifteen': 1255, 'snotty': 3859, 'determined': 6520, 'carpet': 4128, 'shag': 4129, 'civilization': 2225, 'snorts': 2226, \"bo's\": 3735, \"hawkin'\": 4131, 'yep': 1103, 'las': 4133, 'drop-off': 4134, 'latour': 4136, 'tongue': 1020, 'literature': 1591, 'comedy': 2227, 'and-and': 4138, 'female_inspector:': 4139, 'pour': 760, 'lists': 4140, 'chosen': 4141, 'craft': 4142, 'massachusetts': 4143, 'hiding': 4144, 'bible': 2228, 'happiness': 4145, 'drink': 151, 'coms': 4146, 'wheel': 1021, 'deliberately': 4147, 'baloney': 4410, 'blood': 685, 'derisive': 4149, 'toilet': 1700, 'rolling': 2887, 'aww': 1592, 'drag': 3102, 'moving': 4151, 'heart': 567, 'label': 1594, 'twerpy': 4152, 'accident': 761, 'faint': 4153, 'cleaner': 2230, 'praise': 4154, 'shutting': 2231, 'fella': 4156, 'pain': 1322, 'breaking': 1595, 'insist': 4762, 'bachelorhood': 4159, \"lady's\": 4160, 'eggs': 839, 'tear': 4162, 'sneaky': 2232, 'plants': 4163, 'darjeeling': 4164, 'rub-a-dub': 4165, 'reality': 4166, 'application': 4167, 'candles': 4168, 'beep': 2233, 'brainiac': 4169, 'backbone': 4412, 'fights': 4171, 'clown-like': 4172, 'legal': 4173, 'polite': 1256, 'archaeologist': 4174, 'french': 1022, 'outlive': 5035, 'vote': 2234, 'mention': 2235, 'bye': 1257, 'sleep': 1596, 'cutie': 2458, 'stillwater:': 1437, 'remorseful': 3741, 'hanh': 4177, 'laid': 5326, 'meatpies': 4178, \"others'\": 2237, 'rims': 4666, '2': 4179, 'england': 4180, 'faces': 4181, 'publishers': 4182, 'bow': 884, '||semicolon||': 762, 'glove': 755, 'chief': 408, 'collateral': 4184, 'hawaii': 4185, 'choice': 1259, 'walking': 763, 'cops': 2239, 'put': 213, 'holiday': 1597, 'portuguese': 4186, 'bigger': 2240, 'byrne': 4187, 'plane': 3744, 'steinbrenner': 4189, 'luck': 1023, 'excitement': 2241, 'offer': 1364, 'sink': 4190, 'tense': 4191, 'lucinda': 4941, 'this:': 4193, 'traditions': 4194, 'goes': 686, 'wh': 4195, 'halloween': 4196, 'al': 885, 'torn': 2242, 'kicked': 2243, 'loss': 2460, 'toms': 4198, 'honest': 886, 'perverse': 4199, 'flips': 1226, 'grandiose': 2244, 'position': 4200, 'propose': 4201, 'be': 43, 'warranty': 4202, 'mimes': 2990, 'prep': 4203, 'ayyy': 2120, 'boozer': 4205, 'spread': 2245, 'stirring': 1323, 'blurbs': 4206, \"poundin'\": 4207, 'round': 764, 'healthier': 4418, 'talk-sings': 1598, 'zeal': 4209, 'supermodel': 5361, 'pressure': 2247, 'situation': 1260, 'iddilies': 4210, 'love-matic': 2248, 'sweet': 248, 'sympathizer': 4211, 'ourselves': 1261, 'gin': 1262, 'jewish': 3057, \"how're\": 5447, 'standing': 2249, 'dinks': 4213, 'lis': 3076, 'dirge-like': 3081, 'storms': 4215, 'live': 576, 'guff': 4216, 'playful': 2250, 'spotting': 4217, 'lifts': 4218, 'cover': 1263, 'dreams': 2251, 'fund': 4219, 'darts': 1559, 'cozy': 2252, 'small': 485, \"town's\": 2253, 'you-need-man': 4220, 'outstanding': 4221, 'moe-heads': 4222, 'prejudice': 4223, 'disgrace': 2254, 'falsetto': 4224, 'wowww': 4225, 'freak': 2255, 'explain': 2256, 'kim_basinger:': 4226, 'everywhere': 4227, 'applesauce': 3163, \"president's\": 4229, 'thought_bubble_lenny:': 4230, 'high-definition': 3170, 'buried': 1972, 'man_with_crazy_beard:': 4232, 'barney_gumble:': 41, 'gentles': 4233, 'formico:': 2258, \"other's\": 2896, 'yo': 1600, 'stewart': 4235, 'promotion': 4236, 'dying': 1024, 'masks': 4237, 'asks': 4238, 'donate': 4239, 'indignant': 1601, 'domed': 4240, 'congratulations': 4241, 'pointed': 1265, 'pretty': 321, 'darn': 4243, 'reader': 4245, 'comedies': 4246, 'andy': 1602, 'test': 1266, 'six-barrel': 4247, 'answering': 2260, 'befriend': 3265, 'culkin': 4394, 'foam': 4250, 'neighborhood': 4251, 'watashi': 4252, 'hands': 501, 'soon': 620, 'priceless': 4254, 'scarf': 4255, 'equivalent': 4256, \"livin'\": 1232, 'improved': 4258, 'stars': 4259, 'supervising': 4260, 'veteran': 4261, 'sidelines': 4262, 'thousand': 621, 'blade': 5409, 'folk': 2261, 'holidays': 2910, 'face': 209, 'contemporary': 4267, \"'\": 4268, 'an': 84, 'associate': 4269, \"tv's\": 4270, 'hexa-': 4244, 'seminar': 3351, 'there': 79, 'funeral': 4272, 'teenage': 1603, 'inning': 4273, 'abusive': 3373, 'boggs': 3378, 'chew': 4274, 'clearing': 4275, 'fistiana': 4276, 'incredulous': 1604, 'hoo': 452, 'recipe': 4277, 'further': 4278, 'scotch': 1605, 'remaining': 4279, 'simpsons': 4280, 'yell': 2264, 'backwards': 1606, 'occasion': 4281, 'channel': 765, \"c'mere\": 1607, 'load': 4282, 'nervous': 336, 'noose': 4283, 'until': 1066, 'princess': 889, 'closes': 2265, 'cajun': 4285, 'ummmmmmmmm': 4286, 'part': 1025, 'overhearing': 4287, 'nigeria': 2266, 'courage': 1952, \"summer's\": 4288, 'read': 487, 'reed': 4289, 'positive': 2268, 'jovial': 4290, 'ho': 1608, 'eight': 687, 'lawyer': 4291, 'satisfaction': 2269, 'aggie': 4292, 'operation': 1837, 'place': 184, 'apology': 4293, 'dressed': 1676, 'clean': 480, 'three-man': 4295, 'smooth': 1267, 'surprise': 2462, 'menacing': 4297, 'aboard': 4298, 'naked': 2270, 'signal': 3533, 'station': 4300, 'go-near-': 4734, 'tap': 792, '1979': 4303, 'value': 2271, 'geez': 524, 'ballot': 4304, 'rolls': 4305, 'hanging': 1026, 'righ': 4306, 'vin': 4307, 'hootie': 3650, 'lips': 1268, 'asleep': 4308, 'sending': 4309, 'black': 766, 'burns': 365, \"spiffin'\": 4310, 'eggshell': 4311, 'snap': 2272, 'feld': 4312, 'eyeballs': 4313, 'small_boy:': 4315, 'change': 568, 'buds': 4316, 'espn': 4317, 'excavating': 4318, 'fl': 4319, 'touches': 4320, 'professional': 1269, 'goodwill': 4321, 'pages': 3763, 'when-i-get-a-hold-of-you': 4322, 'chastity': 4323, 'exquisite': 4324, 'crestfallen': 4325, 'knives': 4326, 'smiles': 6032, 'pained': 1609, 'maher': 4328, 'snide': 4329, 'shaker': 4330, 'team': 1610, 'carll': 2274, 'caveman': 4331, 'grumpy': 2275, 'host': 4332, \"high-falutin'\": 4333, 'george': 4334, 'connor': 4335, 'feat': 4336, 'pants': 403, 'life': 172, 'pretending': 2277, 'precious': 1270, 'vulnerable': 2278, 'bleeding': 3711, 'sharps': 993, 'which': 290, \"man'd\": 4341, 'woman_bystander:': 2279, 'myself': 353, 'wine': 1027, 'widow': 4342, 'cut': 525, 'drollery': 4343, 'homer_doubles:': 4344, 'kazoo': 4345, 'cure': 5779, 'amid': 1271, 'dreamily': 3974, 'become': 1552, 'fumes': 1470, 'acceptance': 4349, 'killer': 4350, 'drinks': 622, 'try': 383, 'domestic': 1281, 'hobo': 2338, 'pussycat': 4351, 'script': 4352, 'being': 409, 'forget-me-shot': 1272, 'hans:': 1273, 'glen:': 1164, 'character': 1274, 'peppy': 2283, 'health': 891, \"he's\": 142, 'chauffeur:': 4355, 'anti-lock': 4356, 'capitol': 4357, \"robbin'\": 1611, 'naegle': 4358, 'insecure': 4359, 'technical': 4360, 'near': 2284, 'chuckling': 4361, 'delts': 4362, 'i': 6, 'tapping': 4363, 'krusty': 488, 'sleigh-horses': 3772, 'thinking': 384, 'sec_agent_#1:': 1612, 'has': 174, 'ho-ly': 4265, 'fresh': 2286, 'gone': 489, 'corner': 1613, 'rented': 4365, 'code': 2287, 'pets': 4366, 'bitterly': 1614, 'majority': 4367, 'inspire': 2288, 'before': 198, 'taking': 684, 'right-handed': 3139, 'fastest': 4371, 'newly-published': 4372, 'jackson': 4373, 'foil': 2125, 'answered': 4375, 'shareholder': 4376, 'obvious': 2289, 'someday': 2180, 'fuzzlepitch': 3120, 'lowest': 3962, 'elephants': 2290, 'new_health_inspector:': 1275, 'sodas': 2291, 'beverage': 4379, 'tourist': 4380, 'clown': 1028, 'vicious': 4381, 'scent': 4382, 'gotcha': 4383, 'cletus_spuckler:': 4384, 'notices': 4385, 'wolveriskey': 3138, 'gift': 1577, 'amused': 4387, 'stagehand:': 4389, 'rounds': 2292, 'i-i-i': 2293, 'steal': 581, 'learn': 570, 'junkyard': 4390, 'leave': 410, 'mel': 1615, 'dads': 4392, 'amber_dempsey:': 4393, 'perfected': 4050, 'predecessor': 4395, 'happier': 782, 'krabappel': 2295, 'changes': 2296, 'sold': 1276, \"doesn't\": 526, 'thirty': 874, 'palm': 2297, 'replace': 5116, 'doll': 2298, 'statistician': 4398, \"linin'\": 4399, 'plow': 1277, 'swallowed': 5117, 'robin': 4401, 'klown': 4402, 'welcome': 767, 'saved': 1030, 'a-a-b-b-a': 4404, 'digging': 4405, 'appeals': 4406, 'items': 4407, 'shaved': 4408, 'heavyweight': 1278, 'ungrateful': 4132, '/': 69, 'thru': 2299, 'sneeze': 4148, 'chain': 4447, 'goodbye': 623, 'relative': 4411, 'tv_father:': 1616, 'highway': 2300, 'fluoroscope': 4170, 'al_gore:': 1617, 'warmth': 4413, 'kissed': 4414, 'plus': 829, 'plant': 768, 'spanish': 1618, 'instead': 689, 'maude': 4415, 'sing': 571, 'represents': 4416, 'weight': 4417, 'straining': 2301, 'dipping': 4208, 'two-drink': 4419, 'sniffles': 1599, 'whining': 4421, 'punishment': 4422, 'hurting': 4423, 'talk': 301, 'octa-': 4424, 'ahem': 4425, 'lucius': 2302, \"city's\": 4426, 'th': 4427, 'chic': 4428, 'louse': 4429, 'accent': 1002, 'sincere': 1279, 'pretzel': 4430, 'alma': 4431, 'consider': 1620, 'decide': 2303, 'delete': 624, 'might': 264, 'gumbo': 4432, 'losers': 769, 'sweaty': 4433, 'burp': 1280, \"showin'\": 2304, 'fire': 496, 'chairman': 3784, 'cleaning': 4435, 'push': 1621, 'whoopi': 4436, 'heads': 1622, \"ragin'\": 3785, 'laughter': 4693, 'frightened': 4438, 'pageant': 1810, 'fox_mulder:': 2282, 'tommy': 2305, 'four-star': 4439, 'proves': 4440, \"idea's\": 4441, 'rafters': 4368, 'happy': 275, 'ken:': 1282, 'strain': 4442, 'virility': 4443, 'mistakes': 4444, 'improv': 4386, \"ain't\": 169, 'ancient': 1624, 'intruding': 4445, 'under': 411, \"liberty's\": 4446, 'bring': 490, 'after': 257, 'sedaris': 4448, 'twice': 2308, 'casting': 4449, 'ask': 354, \"show's\": 4150, 'bank': 1031, 'manage': 1959, 'crunch': 4450, 'dentist': 4451, 'she-pu': 4452, 'supply': 4453, 'pouring': 2309, 'potato': 2310, 'daughter': 414, 'ingested': 4455, 'hispanic_crowd:': 4456, 'snake_jailbird:': 573, 'could': 97, 'elder': 1848, 'dispenser': 4458, 'spreads': 4459, 'fan': 1283, 'honor': 2311, 'solid': 1961, 'garbage': 1284, 'pick': 433, 'year': 612, '&': 1630, 'warmly': 770, 'ruined': 1235, 'arm-pittish': 4462, 'two': 131, 'beard': 4463, 'chance': 527, 'square': 2313, 'robot': 4464, 'mediterranean': 4465, 'selfish': 4576, 'rods': 4467, 'phone': 175, 'kramer': 2547, 'continuum': 4468, 'blocked': 4469, 'edna': 412, 'carny:': 4470, 'beeps': 4471, 'guinea': 4472, 'swishkabobs': 4473, 'red': 1032, 'pinchpenny': 4474, 'wobble': 4475, 'bumped': 4476, 'housewife': 4477, 'brotherhood': 4478, 'routine': 2314, 'vulgar': 4479, 'imported-sounding': 4480, 'crank': 1626, 'thankful': 1627, 'flush': 4618, 'guts': 4483, 'engine': 4484, 'wasting': 1628, 'protesters': 4485, 'benjamin': 4486, 'fishing': 3797, 'home': 194, 'campaign': 1629, 'whip': 625, 'groveling': 4488, 'heliotrope': 4489, \"makin'\": 771, 'loan': 1631, 'gambler': 4490, 'miles': 2315, 'ironed': 2317, 'won': 913, 'and:': 4492, 'case': 1368, 'complicated': 4494, 'super-nice': 4495, 'choices': 4496, 'headhunters': 4497, 'able': 1286, 'stock': 1344, 'actually': 355, 'grenky': 4498, 'africanized': 4499, 'dyspeptic': 4737, 'modern': 1632, 'remember': 302, 'glamour': 4501, 'based': 2318, 'microbrew': 4409, 'customers-slash-only': 4502, 'canoodling': 5985, 'yells': 4504, 'basement': 4505, 'texan': 4506, 'ambrose': 4780, 'twenty-nine': 4507, 'moon': 4508, 'eye-gouger': 4509, 'counterfeit': 3953, 'femininity': 4510, 'touched': 893, 'hostages': 4511, 'generous': 2319, 'uglier': 4512, 'mouth': 434, 'goods': 2320, 'i-i': 1033, 'trunk': 4513, 'apu': 626, 'engraved': 4514, 'tomahto': 4348, 'size': 1635, 'brakes': 4515, 'riveting': 4516, 'available': 2321, 'fridge': 1287, 'emphasis': 3850, 'characteristic': 4517, 'bottomless': 4698, 'sobs': 258, \"tv'll\": 4520, 'touchdown': 1554, 'marriage': 632, 'about': 74, 'carolina': 4523, 'once': 337, 'lift': 4524, 'shaking': 1116, 'lie': 1288, 'tick': 2474, 'had': 140, 'poisoning': 4527, 'idea': 356, 'leprechaun': 3913, 'spit-backs': 4529, 'difference': 4530, 'declared': 4531, 'checking': 1636, 'stripes': 4532, 'bugging': 2323, 'henry': 2655, 'tabooger': 2324, 'secrets': 1369, 'absentmindedly': 4534, 'information': 4535, 'judges': 4536, 'huge': 772, 'winch': 4948, \"can'tcha\": 4538, \"leavin'\": 4539, \"mo'\": 4540, 'tribute': 4541, 'mirror': 5653, 'willing': 4542, 'temple': 4543, \"you've\": 186, 'selling': 1290, 'argue': 4544, 'mic': 2325, 'ice': 894, 'shakespeare': 2326, 'luv': 4545, 'gut': 4546, 'museum': 2327, 'located': 4547, 'over-pronouncing': 4548, 'jernt': 4549, 'dee-fense': 2328, 'unfair': 4550, 'other_player:': 4551, 'militia': 4552, 'rocks': 4553, 'cecil': 4554, 'knew': 435, 'wistful': 4555, 'hotel': 4556, 'falling': 4557, 'matter': 322, 'stationery': 2329, 'braun:': 4558, 'truth': 895, 'chase': 2441, 'ferry': 4559, 'tiny': 2331, 'very': 228, 'hyahh': 4561, 'magic': 1291, 'scrutinizing': 4562, 'mahatma': 4563, 'pas': 5082, 'older': 4564, 'notch': 5087, 'record': 2333, \"isn't\": 292, 'lindsay': 5106, 'adequate': 4566, 'comforting': 4567, 'boned': 4568, 'flower': 1292, \"she'll\": 4569, 'spine': 4570, 'poison': 4571, 'screws': 4572, 'barflies': 627, 'creepy': 4573, 'in-in-in': 4574, 'sits': 1293, 'tape': 533, 'ball': 773, 'german': 1637, 'stole': 1625, 'augustus': 4577, 'gossipy': 4578, 'nooo': 4579, 'spellbinding': 4109, 'aziz': 4580, 'drives': 4607, 'dumptruck': 4582, 'medicine': 2335, 'adult_bart:': 1070, 'anything': 303, 'impress': 4583, 'dash': 4584, 'dilemma': 4585, 'stooges': 4586, 'disco_stu:': 4587, 'thought_bubble_homer:': 2336, 'zack': 4588, 'settles': 4589, 'sells': 4590, 'locked': 4591, 'fiiiiile': 5214, 'valuable': 4592, 'life-sized': 4593, 'thirty-five': 4594, \"springfield's\": 2337, 'pudgy': 4595, 'photos': 4596, 'flashing': 4597, 'la': 774, 'bottle': 575, \"you'd\": 432, 'list': 1712, 'profiling': 4600, 'deal': 743, 'tv_husband:': 1034, 'coin': 4601, 'aidens': 6467, 'odor': 4461, 'cronies': 4603, 'thought': 259, 'kemi:': 413, 'out': 51, 'fail': 4466, 'handed': 3212, 'smiled': 4605, 'diaper': 5783, 'barely': 2515, 'diminish': 5758, 'invite': 1639, 'monroe': 4606, \"'im\": 2339, 'extinguishers': 5339, 'teen': 4609, 'reward': 4610, 'donor': 4611, 'mccall': 4612, 'patron_#1:': 4613, 'ya': 110, \"stinkin'\": 1640, 'because': 276, 'invulnerable': 5368, 'swimmers': 4614, 'due': 2620, 'achem': 2340, 'flaking': 4615, 'my': 16, 'finest': 1641, 'exciting': 5000, 'week': 896, 'beauty': 1296, 'tigers': 5919, 'murmurs': 2341, 'lecture': 4616, 'bowling': 1642, 'counting': 1035, 'grabs': 1643, 'limericks': 4617, 'fortensky': 3810, 'wind': 5452, 'easy': 491, 'wake': 2343, 'brief': 4619, 'space-time': 3345, 'poetics': 4620, 'entrance': 4621, 'marge_simpson:': 73, 'nucular': 4622, 'pepsi': 4623, 'crystal': 4624, 'etc': 775, 'pig': 690, 'fierce': 4625, 'serve': 1644, 'plain': 4626, 'robbers': 4627, 'sheet': 4628, 'puzzle': 5147, 'perfunctory': 4630, 'spitting': 4631, 'stunned': 1036, 'million': 503, 'maximum': 4633, 'saucy': 4634, 'gags': 4635, 'exultant': 4636, 'effervescence': 4637, 'handsome': 1037, 'pin': 2344, 'showed': 4638, 'polishing': 4639, 'curious': 2560, 'entire': 1645, 'steaming': 4641, 'harder': 2561, 'groans': 4643, 'dingy': 4644, 'luckiest': 4487, 'selma_bouvier:': 776, 'too': 104, 'disappear': 4645, 'proudly': 777, 'writing': 1038, 'bono:': 4647, 'raking': 4648, 'nelson': 4649, 'compadre': 4650, 'shortcomings': 5603, 'challenge': 1646, 'worth': 2345, 'f-l-a-n-r-d-s': 3813, 'food': 778, 'spy': 2347, 'nine': 779, 'prepared': 2348, 'voice_on_transmitter:': 2349, 'homie': 780, 'inspiring': 2350, 'grimly': 2351, 'tornado': 4651, 'answers': 2352, 'brown': 4652, 'achebe': 4653, 'wall': 1100, 'coughs': 4655, 'begins': 2851, 'slick': 4656, 'socratic': 5470, 'puts': 2626, 'eighty-six': 4658, 'admit': 897, 'bite': 1647, 'reminded': 4659, 'rock': 2533, \"murphy's\": 4660, 'royal': 5664, 'longest': 4662, 'unhook': 4663, 'busiest': 4665, 'drown': 2355, 'harvard': 5670, 'fly': 1649, 'ugh': 4667, 'grub': 4668, 'love': 123, 'line': 1298, 'bathtub': 4670, 'offensive': 4672, 'walther_hotenhoffer:': 898, 'jump': 1854, 'beers': 691, 'patterns': 2356, 'law-abiding': 4674, 'results': 2357, 'squishee': 4675, 'smoothly': 2358, 'placing': 2359, 'ze-ro': 5770, 'stacey': 4677, 'venom': 4678, \"bettin'\": 4679, 'personal': 4680, 'players': 4917, 'stadium': 1650, 'kearney_zzyzwicz:': 4681, 'derek': 4682, 'safe': 899, 'larry': 4684, 'smugglers': 2360, 'leathery': 4685, 'castle': 1299, 'often': 5750, 'prefer': 2361, 'teacup': 4687, 'hooters': 4688, 'way': 156, 'fonda': 5215, 'trust': 1825, 'mill': 4689, 'hi': 454, \"squeezin'\": 4690, 'stan': 4691, \"beggin'\": 4692, 'multiple': 2362, 'maitre': 6417, 'cloudy': 4694, 'midge:': 4695, 'homeland': 4696, 'bannister': 4697, 'alfred': 2363, 'coal': 4047, 'program': 1651, 'half': 873, 'risqué': 4699, 'yogurt': 2365, 'modestly': 4700, 'international': 1652, 'future': 1694, \"lefty's\": 4703, 'snake-handler': 1985, 'forgiven': 5890, 'minister': 2366, 'youse': 692, 'somebody': 735, 'presents': 4704, 'sugar-me-do': 4705, 'term': 4706, 'kadlubowski': 4707, 'stalking': 4708, 'rump': 4709, 'girlfriend': 1300, 'th-th-th-the': 4711, 'hangout': 4712, 'start': 582, 'h': 5771, 'grateful': 4715, 'woman:': 1412, 'cleaned': 1041, 'sympathy': 4716, 'audience': 4718, 'stomach': 4719, 'person': 628, 'cruise': 4720, \"hangin'\": 2368, 'issuing': 5974, 'presidential': 4722, 'hmmm': 1653, 'manuel': 4723, 'alley': 1654, 'joy': 3186, 'shelbyville': 4724, 'movies': 1372, 'recorded': 5992, 'lemme': 693, 'waist': 6004, 'ignorance': 4726, 'enemy': 1655, 'pusillanimous': 4727, 'lise:': 2370, 'punching': 4729, 'skunk': 4730, 'principal': 900, 'prince': 4731, 'continued': 4732, 'jerk-ass': 4733, 'crowd': 1656, 'shoes': 4301, \"elmo's\": 4736, 'savvy': 4683, 'twentieth': 2372, 'hooray': 4738, 'knock': 1301, 'paparazzo': 4739, 'louisiana': 4740, 'chum': 2316, 'pharmaceutical': 4742, 'pancakes': 4887, 'quiet': 574, 'everyone': 420, 'taunting': 4744, 'learned': 629, 'baby': 415, 'button-pusher': 4745, 'universe': 4746, 'march': 4747, 'catty': 6106, 'tears': 1657, 'retain': 4750, 'genuinely': 6120, 'hangover': 4751, 'stocking': 4752, 'goodnight': 694, 'harmony': 4753, 'strap': 1042, 'wussy': 4754, 's': 781, 'scully': 2375, 'games': 1043, 'model': 3827, 'banquet': 4755, 'held': 2376, 'dear': 530, 'bridges': 4756, 'solved': 4757, \"b-52's:\": 3877, 'stirrers': 4758, 'soft': 4759, 'mitts': 4760, 'shoot': 1658, 'airport': 2377, 'insulin': 4761, 'funniest': 4503, 'beast': 4763, 'sit': 1302, 'look': 102, 'ventriloquism': 4765, 'zinged': 4766, 'whaaa': 4767, 'accelerating': 4768, 'nasty': 4769, 'hippies': 4770, 'treehouse': 4771, 'napkins': 3829, 'souvenir': 4773, 'tooth': 4774, 'feet': 695, 'broken:': 4775, 'leak': 4776, 'decency': 2610, 'burger': 4777, 'barflies:': 492, 'presidents': 5950, 'fondly': 2378, 'whoa': 204, 'ew': 4779, 'internet': 2379, \"lenny's\": 1633, 'gimmick': 4781, 'jamaican': 1667, 'louder': 2762, 'captain': 4783, 'hockey-fight': 4049, 'founded': 4785, 'rough': 1659, 'acronyms': 5615, 'immiggants': 4787, 'wedding': 2380, 'kisser': 4788, 'suspicious': 2381, \"how'd\": 696, 'twenty-five': 1556, 'weeks': 1634, 'offense': 4790, 'enemies': 1660, 'tokens': 4792, 'surgery': 1045, '||period||': 0, 'reserved': 2383, 'catch': 1046, 'compare': 4793, 'sorry': 145, 'darkest': 2384, 'full-time': 4794, 'manatee': 4795, 'joe': 630, 'homer_': 4796, 'distract': 4797, 'lager': 3786, \"secret's\": 4798, 'ticks': 4799, 'dungeon': 2386, 'rebuilt': 4800, 'illegally': 6410, 'coined': 4802, 'laramie': 2387, 'wednesday': 4803, 'tiger': 4804, 'says': 323, 'mob': 2388, 'murdered': 4805, 'lear': 4806, 'foodie': 4807, 'wife-swapping': 4808, 'please/': 4810, 'well-wisher': 4811, 'quero': 4812, 'menlo': 4813, 'eaters': 4814, 'bouquet': 4815, 'amiable': 4816, \"table's\": 4817, 'thanking': 4818, 'sings': 284, 'tavern': 344, 'beans': 4819, 'instantly': 4820, \"wouldn't-a\": 4821, 'wow': 231, 'call': 214, 'data': 4721, 'dignified': 6228, 'butter': 4353, 'paid': 2390, 'known': 2391, 'displeased': 4824, 'chilly': 2179, 'gonna': 78, 'ways': 2482, 'ore': 4825, 'blossoming': 4826, 'sugar': 2393, 'still': 187, 'attack': 2394, 'bender:': 1047, 'bumblebee_man:': 4827, 'laughing': 901, 'taxes': 5565, 'young_barfly:': 4828, \"'roids\": 4829, 'walther': 4830, 'encouraged': 4831, 'regret': 2395, 'tip': 902, 'danish': 2629, 'emotional': 2396, 'dollar': 1304, 'bash': 2397, 'ninety-eight': 4833, 'na': 385, 'mid-seventies': 4834, 'bleak': 4835, 'odd': 1661, 'coat': 1305, 'weekly': 1306, 'represent': 1048, 'neck': 1307, 'synthesize': 4836, 'bucket': 2398, 'edna-lover-one-seventy-two': 4837, 'chug-monkeys': 4838, 'stupid': 291, 'are': 56, 'discuss': 2399, 'wings': 2400, 'los': 4840, 'takes': 903, 'vacation': 2401, 'stumble': 4841, 'backing': 4842, 'creeps': 2402, \"we're\": 136, 'even': 161, 'managing': 2373, \"aren't\": 510, 'inanely': 4845, 'finish': 5789, 'handwriting': 4846, 'upsetting': 4847, 'donuts': 4848, 'sketch': 4849, 'exit': 1662, 'eye': 584, 'calm': 1049, 'parrot': 4850, 'stage': 4851, 'medieval': 4852, 'filled': 2403, \"hadn't\": 2404, 'afraid': 795, 'gargoyle': 2405, \"foolin'\": 4854, 'bars': 1308, 'up-bup-bup': 4855, 'duffman': 697, 'hunter': 1663, 'musketeers': 4856, 'slot': 4857, 'telling': 822, 'pennies': 4858, 'married': 631, 'virtual': 2406, 'turns': 531, 'cueball': 2407, 'evening': 1139, 'squad': 4859, 'brace': 4860, 'mushy': 4861, 'squabbled': 4862, 'mural': 4863, 'angrily': 4864, 'eve': 4865, 'jumping': 4866, 'urge': 4867, 'escort': 4868, 'stiffening': 4522, 'undies': 4869, 'mugs': 4870, 'laney': 4791, 'biggest': 1050, 'survive': 1051, 'dirty': 4871, 'turned': 633, 'roomy': 2408, 'brusque': 4873, 'wars': 4874, 'ehhhhhh': 4875, 'supreme': 3009, 'lucky': 698, 'investigating': 4876, \"bart'd\": 4878, 'drift': 4879, 'nantucket': 4880, \"renee's\": 4881, 'ruint': 4882, 'fruit': 4883, 'facebook': 3272, 'chained': 4884, 'discussing': 2410, 'underpants': 2411, 'young_marge:': 785, 'first': 227, 'sponge': 4886, 'aged': 2977, 'giggle': 4889, \"sippin'\": 4890, \"'round\": 4891, 'follow': 1310, 'bartholomé:': 4892, 'searching': 1664, \"fallin'\": 2412, 'moe-lennium': 4893, \"pickin'\": 4894, 'co-sign': 4895, 'cheese': 2369, 'luxury': 4896, 'teriyaki': 4897, 'normals': 3133, 'have': 47, 'kyoto': 1956, 'iranian': 4899, 'seems': 784, 'killarney': 4901, 'runt': 4902, 'b-day': 4903, 'windex': 2413, 'species': 4905, \"bartender's\": 2414, 'progress': 4906, \"what's\": 147, 'treats': 3602, 'cesss': 4908, \"mother's\": 4909, 'tactful': 4910, 'football_announcer:': 904, 'hunka': 4911, 'switch': 1665, 'triangle': 4912, 'creme': 4913, 'backgammon': 4914, 'obama': 4915, 'ooh': 238, 'experiments': 4916, 'moe_szyslak:': 9, 'sexton': 4918, 'anthony_kiedis:': 4919, 'y-you': 3566, 'graves': 4921, 'cakes': 4922, 'no': 32, 'broadway': 2640, 'throats': 4923, 'tuna': 4924, 'floating': 4925, \"ridin'\": 1585, 'newspaper': 4926, 'anguished': 1666, 'themselves': 2151, 'terminated': 4927, 'coherent': 4928, 'housework': 4929, \"doin'\": 357, 'lime': 4930, 'magazine': 2415, 'colonel:': 4080, 'getup': 4989, 'town': 375, 'abercrombie': 4931, 'casual': 1725, \"y'see\": 3301, \"cheerin'\": 4932, 'regulars': 2006, \"fryer's\": 4933, \"breakin'\": 4934, 'shot': 699, 'indecipherable': 4935, 'hoagie': 4936, 'brother-in-law': 4937, 'midnight': 1668, 'trench': 1998, 'crossed': 2416, \"round's\": 4939, 'cell-ee': 4940, 'inches': 4942, '[year': 4943, 'shred': 3361, 'sick': 906, 'illegal': 1254, 'cat': 2019, 'guest': 1669, 'updated': 3376, 'chapel': 4944, 'moe-clone': 4945, 'flew': 4946, 'along': 907, 'wood': 4947, 'alright': 786, 'releasing': 4537, 'roof': 2418, 'sensible': 3225, 'spare': 4950, 'having': 1055, 'road': 1192, 'initially': 4951, 'rid': 1670, \"enjoyin'\": 4952, 'renee:': 788, 'asked': 1073, 'him': 98, 'hers': 4954, 'knife': 2419, 'careful': 1671, 'drug': 1312, '3rd_voice:': 4955, 'own': 436, 'heavyset': 2043, 'happens': 4956, 'patrons:': 4957, 'gums': 2420, 'cause': 3229, 'barney-shaped_form:': 1590, 'duffed': 4958, 'rapidly': 4959, '_julius_hibbert:': 908, 'fat-free': 4960, 'politics': 2421, 'pointedly': 3501, 'hollowed-out': 4961, 'superior': 2422, 'paste': 3510, 'lighten': 3519, 'press': 4963, 'match': 1313, 'grandé': 4964, 'waylon': 2424, 'tasty': 4482, \"what'll\": 1314, 'skills': 4966, 'telegraph': 4967, 'alec_baldwin:': 4968, 'bowie': 4969, 'aghast': 4970, 'needs': 1056, 'unfamiliar': 4971, 'creature': 4972, 'yeah': 36, 'stalwart': 4973, 'eats': 4974, \"we've\": 368, 'clench': 6490, 'whistles': 2367, '-ry': 4975, 'deals': 4976, 'impressed': 909, 'acquaintance': 2426, 'cats': 4977, 'assert': 5978, 'agents': 3233, 'punch': 1057, 'forecast': 4979, 'andrew': 5843, 'narrator:': 789, 'commit': 4980, 'm': 578, 'dr': 260, 'mull': 4981, 'supposed': 910, 'month': 5818, 'depression': 4982, 'wraps': 4983, 'len-ny': 4984, 'stickers': 4985, 'pregnancy': 4986, 'kirk': 4987, 'clammy': 4988, 'bob': 1672, 'threatening': 1673, 'naturally': 2427, 'stengel': 3660, 'but': 40, 'squeals': 4990, 'boyhood': 4991, 'voted': 4992, 'okay': 86, 'ladder': 4993, 'season': 1674, 'glee': 4994, 'abcs': 5822, 'crotch': 4996, \"cuckold's\": 4997, 'lloyd:': 1058, 'pity': 1059, 'pride': 2428, 'bills': 4998, 'mind-numbing': 4999, 'peace': 1542, 'scout': 5001, 'of': 15, 'century': 1675, 'buttocks': 5002, 'winston': 5191, \"father's\": 2429, 'bears': 2430, 'filth': 5003, '8': 3235, 'movie': 1060, 'schizophrenia': 5004, 'john': 5005, 'whole': 579, 'buttons': 1317, 'malfeasance': 5006, 'pip': 5007, 'do': 52, 'great': 171, 'burglary': 5008, 'money': 144, 'mm-hmm': 5009, 'outlook': 2431, 'necessary': 3860, 'name:': 5011, 'nudge': 2432, 'email': 5824, 'ford': 5013, 'dozen': 3793, 'drummer': 3862, 'gregor': 5015, 'eighty-one': 2815, 'unless': 999, 'brother': 1770, 'howya': 5016, 'oopsie': 5018, 'crazy': 580, 'olive': 5019, 'sucking': 3812, 'rings': 5020, 'hearing': 3819, 'crowned': 5021, 'wallet': 1061, 'message': 2806, 'hillary': 5023, 'directions': 1678, 'sitar': 2433, 'moonshine': 3845, 'hundred': 304, 'liable': 6473, 'completing': 2434, 'usually': 1318, 'buying': 1679, 'indifferent': 5024, 'lotta': 1319, 'shipment': 5025, 'pad': 2486, 'deacon': 2693, \"where'd\": 1680, \"industry's\": 5027, 'suddenly': 1062, 'hate': 455, 'wrestling': 2436, 'scornful': 5028, 'wing': 1973, 'b': 2437, 'drunkening': 5029, 'kenny': 5030, 'helped': 2438, 'hawking:': 2439, 'dishonor': 5031, 'intelligent': 5032, 'sue': 5033, 'owned': 5034, 'ah': 117, 'superhero': 2440, 'bones': 4481, 'ing': 5036, \"team's\": 2330, 'op': 5037, 'expose': 5038, 'sec_agent_#2:': 2442, 'painless': 3970, 'connor-politan': 5832, 'they': 80, 'protecting': 5040, 'wheeeee': 5041, 'justify': 5042, 'knowingly': 5043, 'gun': 2444, 'so-ng': 5044, 'reason': 1574, 'wrapped': 3887, 'invented': 911, 'subject': 1681, 'wittgenstein': 5047, 'living': 5048, \"raggin'\": 5049, 'kings': 5050, 'partly': 2445, 'began': 2157, 'other': 242, 'freely': 5051, 'tight': 5052, 'exchange': 2447, 'voice:': 2448, 'grave': 2449, 'appear': 2450, 'bake': 5053, 'career': 1320, 'brandy': 5054, 'deny': 5055, 'missing': 3871, 'polygon': 4069, 'lump': 5057, 'pull': 653, 'faiths': 4076, 'hunger': 5058, 'short': 1142, 'charge': 912, 'dramatically': 5059, 'bras': 5060, 'imitating': 4100, 'competitive': 5061, 'hero': 1321, 'fayed': 5062, 'stu': 5063, 'cheerleaders:': 5064, \"getting'\": 5065, 'onions': 2454, 'surgeonnn': 5066, 'environment': 5067, 'hafta': 5068, \"soakin's\": 6478, 'schedule': 5070, 'bird': 2455, 'street': 790, 'heaving': 5120, 'standards': 2456, 'nerve': 2457, 'spectacular': 5071, 'parked': 5072, 'tee': 4175, 'hall': 1860, 'shares': 1683, 'assistant': 2459, 'sagely': 5073, 'chinese': 1684, 'heh': 636, 'penmanship': 5074, 'leaving': 4197, 'distinct': 5075, 'dignity': 5076, 'wishes': 2246, 'please': 200, 'toys': 1685, 'oughtta': 5077, 'mini-beret': 5078, 'lurks': 5079, '1989]': 5206, 'above': 1686, \"swishifyin'\": 5081, \"hasn't\": 2332, 'son': 791, 'bulletin': 5083, 'mortal': 4391, 'feeling': 457, 'shut': 277, 'dame': 1065, 'given': 1150, 'stretches': 4249, 'getcha': 4314, 'then:': 1687, 'stink': 5088, 'barney-type': 5089, 'badmouths': 5090, 'manager': 2229, 'extended': 5091, \"thing's\": 4284, \"kiddin'\": 796, 'flash-fry': 5093, 'driver': 1688, 'charming': 5096, 'matter-of-fact': 2461, 'innocuous': 4296, \"mecca's\": 4302, 'heather': 3253, 'rafter': 5098, 'title': 5099, 'radio': 2463, 'turlet': 5211, 'slice': 2148, 'hangs': 2465, 'warily': 2466, 'american': 701, 'sat-is-fac-tion': 5101, 'cheered': 5102, 'salt': 2467, 'pajamas': 5103, 'mild': 5104, 'dreary': 5105, 'extremely': 2334, 'crap': 793, \"everyone's\": 1324, 'hide': 794, 'reentering': 5107, 'published': 5828, 'refund': 2810, 'encore': 5108, 'field': 1374, 'greatly': 5110, 'pronounce': 5111, 'sorts': 5112, 'lurleen': 2294, 'dull': 5113, 'jeers': 5114, 'dizer': 5115, 'handshake': 4397, 'compete': 4400, \"fun's\": 5118, 'gumbel': 905, 'hearts': 5119, 'ye': 2468, '©': 5121, 'super-genius': 5122, 'damage': 5123, 'papa': 5124, 'regulations': 4434, 'conversion': 5125, 'nfl_narrator:': 5126, '||return||': 1, 'luckily': 5127, 'two-thirds-empty': 5128, 'rolled': 2469, 'pockets': 1690, 'planned': 5129, 'choice:': 5130, 'dan': 2470, 'prizefighters': 5131, 'real': 338, 'ah-ha': 2471, 'mcstagger': 2472, 'oblivious': 5133, 'swatch': 5134, 'churchy': 4491, 'lay': 5135, 'jack': 1007, 'stamp': 5136, 'british': 1691, 'sniffing': 6508, 'pian-ee': 2473, 'smell': 702, 'cheerier': 4526, 'cola': 2475, 'mayor_joe_quimby:': 703, 'rom': 5138, 'cursed': 4560, 'device': 4575, 'distraught': 1325, 'crowded': 5870, 'sangre': 5139, 'evil': 1692, 'schorr': 5140, 'unintelligent': 5141, 'kent_brockman:': 239, '_burns_heads:': 5142, 'crushed': 5143, 'squashing': 5144, 'half-day': 3889, 'ruled': 5145, \"pressure's\": 5146, 'flowers': 1326, 'stealings': 2306, 'smiling': 1433, 'occurs': 5148, 'boyfriend': 2476, 'colorado': 5149, 'peter': 1693, 'linda': 2477, \"let's\": 229, 'obese': 3762, 'sponsoring': 5151, 'invisible': 5152, 'hourly': 5153, 'salvador': 4702, 'chipper': 5154, 'bump': 2478, 'platinum': 4710, 'renders': 4713, \"spyin'\": 5155, 'expression': 2479, 'stagy': 1327, 'authorized': 2496, 'languages': 5156, 'refinanced': 5157, 'whee': 1328, 'gotten': 1294, 'leftover': 5158, 'jerky': 2480, 'swine': 5159, 'shape': 1696, 'third': 1071, 'clearly': 1329, 'roz:': 2481, 'suits': 5160, 'apulina': 5161, 'thing:': 5162, 'proud': 1072, 'tips': 1697, 'wants': 358, \"bein'\": 1330, 'tenor:': 1954, 'sigh': 583, 'band': 1303, 'series': 5163, 'panicky': 1698, 'foot': 1699, 'fontaine': 5164, 'detective': 5165, 'girl-bart': 5166, 'encouraging': 4844, \"wino's\": 4853, 'wage': 5167, 'take-back': 5168, 'failure': 5169, 'way:': 5170, 'teams': 2483, 'open-casket': 5171, 'champignons': 5172, 'overturned': 4888, 'hooch': 5174, 'considers': 5175, 'coast': 5176, 'other_book_club_member:': 5177, 'billboard': 1331, 'voice': 261, 'between': 2484, \"cleanin'\": 5178, 'rookie': 5179, 'einstein': 5861, 'wayne:': 1701, 'tummies': 5180, 'intoxicants': 5181, 'end': 585, 'court': 5182, 'wells': 3894, 'said:': 5183, 'cruiser': 5184, 'x-men': 5185, 'kool': 5186, 'encores': 4885, 'bookie': 5187, 'awe': 2163, 'lily-pond': 5188, 'mock-up': 5189, 'dogs': 5190, \"bar's\": 2485, 'brain': 1316, 'avec': 5192, 'attend': 5193, 'ballclub': 5194, 'cans': 5195, 'trail': 5196, 'brain-switching': 5197, 'philosophical': 5198, 'othello': 5199, \"soundin'\": 5026, 'frankie': 5200, 'helllp': 2487, \"valentine's\": 1332, 'oof': 2488, \"somethin':\": 5201, 'stranger:': 2489, 'yea': 1074, 'scream': 1333, 'rev': 704, 'gr-aargh': 5202, 'fist': 5203, \"handwriting's\": 5204, 'payday': 5205, 'hoped': 5080, 'ma': 637, 'gift:': 5085, \"liftin'\": 5207, 'doom': 4420, 'states': 5208, \"yesterday's\": 5209, 'contractors': 5092, \"mtv's\": 5210, 'prettiest': 5100, 'rats': 1703, 'number': 797, 'family': 339, 'billion': 2490, 'lisa_simpson:': 135, 'scornfully': 5212, 'drinking:': 5213, 'barkeep': 2491, 'watched': 5132, 'quebec': 5137, 'lemonade': 5216, 'rickles': 5866, 'motorcycle': 2493, 'fantastic': 5217, 'partially': 5218, 'navy': 5219, 'difficult': 2494, 'highest': 5220, 'parenting': 5221, 'belly': 1576, 'homer_simpson:': 12, 'popped': 5222, 'nation': 1695, 'grains': 5223, 'man_with_tree_hat:': 5224, 'cow': 1075, 'senators:': 5225, \"she'd\": 5226, 'quimbys:': 5227, 'shock': 2497, 'investor': 2498, 'middle': 1704, 'utensils': 5228, 'machine': 587, 'teach': 1336, 'tab': 683, 'slogan': 5230, \"'ceptin'\": 5231, 'frazier': 3409, \"they'd\": 1705, 'prime': 1706, 'glyco-load': 5232, 'modest': 5233, 'hmf': 5234, 'sounded': 5235, \"'kay-zugg'\": 5236, 'shtick': 5237, 'failed': 2499, 'huhza': 5238, 'without': 497, 'artie_ziff:': 498, 'protesting': 5239, 'halvsies': 5240, 'names': 1076, 'railroads': 5241, 'jury': 5242, 'fustigate': 5244, 'population': 5245, \"tab's\": 5246, \"there's\": 132, 'cummerbund': 5247, 'infiltrate': 5248, 'courteous': 4521, 'der': 1707, 'shuts': 5296, 'fill': 914, 'ghouls': 5250, 'only': 152, 'hopeful': 1077, \"you'll\": 293, 'roz': 5251, 'witches': 4900, 'elect': 5252, 'muhammad': 6108, 'intriguing': 5253, 'fair': 1708, 'couch': 1337, 'pretends': 5254, 'here-here-here': 5255, 'promised': 2501, 'wearing': 1709, \"wife's\": 1710, 'kidneys': 5256, 'focused': 5257, 'woozy': 2502, 'fink': 5258, 'causes': 5259, 'trashed': 5260, 'wakede': 5261, 'forbidden': 2503, 'depending': 5262, 'pitch': 2504, 'boozehound': 5263, 'shame': 5264, 'expect': 1711, 'sandwich': 2505, 'frink-y': 5265, 'johnny': 5266, 'keeping': 1677, 'ab': 5267, 'a-b-': 4599, 'history': 1713, 'quite': 1338, 'dames': 2506, 'tender': 5268, 'shells': 5269, 'envy-tations': 5270, 'good': 82, 'bee': 1078, 'sent': 915, 'that': 18, 'breaks': 5272, 'inside': 798, 'found': 725, 'w-a-3-q-i-zed': 5273, 'dae': 5274, 'midge': 1714, 'glummy': 5275, 'fix': 1339, \"edna's\": 4671, 'someplace': 5276, 'juice': 2507, 'shakes': 5277, \"writin'\": 5278, 'giggles': 2508, 'believer': 5279, 'dies': 5281, 'some': 90, 'mister': 916, 'resolution': 5282, \"clancy's\": 5283, 'clothes': 1341, 'indigenous': 5284, 'bums': 2509, \"time's\": 5285, 'limits': 5286, 'single': 1715, 'slap': 917, 'buddha': 5287, 'tells': 1716, \"doctor's\": 5288, 'avenue': 5289, 'looting': 5290, 'god': 165, 'dollars': 387, 'sadly': 534, 'starve': 4242, 'capuchin': 5292, '_babcock:': 1717, 'electronic': 2510, 'read:': 5293, 'lifetime': 5294, 'cab': 5295, 'shop': 5297, 'wounds': 5298, 'effervescent': 2511, 'dressing': 5299, 'drawn': 5300, 'fragile': 2512, 'mommy': 5301, 'anyone': 499, 'anti-intellectualism': 5302, 'adrift': 5303, \"ball's\": 5304, 'sun': 5305, 'jimmy': 5306, 'copy': 2513, 'stays': 5307, 'cool': 705, 'pretzels': 5308, 'doof': 3923, 'cigarette': 1718, 'golden': 5310, 'smart': 2514, 'nuts': 505, 'toxins': 4604, \"wearin'\": 5312, 'jubilant': 1940, 'chumbawamba': 5314, 'mole': 5315, 'toward': 1719, 'bursts': 5316, \"what're\": 2500, 'legs:': 5318, 'advice': 799, 'fools': 5319, 'awkward': 1295, 'kemi': 5320, 'queen': 2893, 'noosey': 5660, 'drains': 5662, 'tow-talitarian': 5323, 'wazoo': 5665, \"professor's\": 5324, 'spiritual': 5325, 'severe': 1720, 'seeing': 1721, 'like': 39, 'sang': 5888, 'years': 249, 'maybe': 177, 'thawing': 5328, 'killed': 1722, 'horns': 5329, 'return': 800, 'reconsidering': 5330, 'assumed': 5331, 'bag': 918, 'wha': 1079, 'idealistic': 5332, 'intense': 2517, 'tenuous': 5333, 'sure': 129, 'toy': 3901, \"wasn't\": 535, 'ashtray': 5334, 'confession': 3963, 'world-class': 5335, 'friendly': 801, 'bless': 1723, 'kindly': 2518, 'trolls': 2519, 'roller': 5336, 'ground': 1772, \"'topes\": 2520, 'phasing': 5337, 'afterglow': 5338, 'parents': 3372, 'xanders': 5705, 'died': 1342, 'goblins': 3526, 'refill': 5786, 'ivy-covered': 5344, 'leans': 1724, 'permitting': 5583, 'never': 93, 'common': 3297, 'sampler': 5345, 'worthless': 5346, 'lobster': 5817, 'earpiece': 5348, 'hit': 919, 'assassination': 5349, \"england's\": 5350, 'wobbly': 5351, 'punkin': 5352, 'horrible': 813, 'shoulda': 5353, 'porn': 2521, \"i'm\": 24, 'y': 5354, 'hope': 324, 'weak': 1787, 'dude': 1081, 'thirteen': 2522, 'decide:': 5356, 'mostrar': 5357, 'presumir': 5358, 'grey': 5359, 'pall': 5360, 'bart_simpson:': 148, 'links': 3286, 'than': 182, 'pointless': 2523, 'minus': 5453, 'beady': 5362, 'meanwhile': 5918, 'sheepish': 1343, 'burg': 5364, 'yelling': 2524, \"he'll\": 803, 'daniel': 5365, 'repressed': 5366, 'pilsner-pusher': 5367, 'honored': 2312, 'seymour': 528, 'flat': 5369, 'works': 589, 'shocked': 638, 'pills': 5947, 'ha-ha': 2525, 'our': 125, 'premise': 5371, 'expert': 2670, \"payin'\": 2526, 'am': 126, 'aggravated': 2527, 'accept': 1726, 'cheering': 5373, 'evils': 5374, 'expensive': 3472, 'happily': 1727, 'onto': 5376, 'lovejoy': 6291, 'germans': 5377, 'lifestyle': 5378, \"haven't\": 536, 'beatings': 5379, 'anderson': 5381, 'horrors': 6049, 'malabar': 5382, \"tatum'll\": 5383, 'appearance-altering': 5385, 'yoink': 5386, 'tank': 5387, 'chug-a-lug': 5388, 'mind': 706, \"burnin'\": 5389, 'compliments': 2528, 'chauffeur': 5390, 'life:': 5391, 'tinkle': 921, 'moe-near-now': 5392, 'steely-eyed': 5393, 'grocery': 5394, 'prank': 1728, 'schabadoo': 5395, 'stern': 2529, 'theater': 1729, 'wad': 5396, 'con': 5397, 'wave': 2719, 'told': 463, 'son-of-a': 5399, 'temp': 5400, 'pernt': 5401, 'rope': 1147, 'protestantism': 5402, 'die': 458, 'old_jewish_man:': 5403, 'hats': 2530, 'ihop': 3939, 'tv_announcer:': 2531, 'quimby': 5406, 'pantsless': 5407, 'winded': 5408, 'rug': 5410, 'beneath': 2889, 'thousands': 5412, 'looser': 5413, 'alone': 707, 'chips': 6307, 'ten': 639, 'bubble': 2532, 'impeach': 5414, 'musical': 6643, 'ocean': 2322, 'ralph': 5415, 'duh': 1148, 'struggling': 1730, 'outrageous': 5417, 'understood': 5418, 'down': 121, 'spooky': 5419, 'delays': 6482, 'bluff': 5420, 'saga': 5421, 'hidden': 5422, 'drederick': 1083, 'researching': 5423, 'kids': 265, 'memory': 2534, 'occasional': 5424, 'means': 804, 'insured': 5425, 'getting': 369, 'ehhh': 5426, 'tow': 5427, 'necklace': 5428, 'popping': 5429, 'cooker': 5430, 'shades': 5431, 'uh': 58, 'annus': 5432, 'product': 2535, 'yourse': 5433, 'jam': 5434, 'mumbling': 2536, 'labels': 2537, 'prompting': 5435, 'doing': 389, 'wrote': 1084, 'portfolium': 5436, 'sail': 5437, 'window': 1085, 'double': 1731, 'muertos': 5438, 'burps': 1353, 'chair': 5907, 'feed': 1733, 'soaps': 5439, 'peanuts': 805, 'felony': 5440, 'film': 1345, 'or': 118, 'horses': 5441, 'trade': 5443, 'months': 1346, 'break': 459, 'arabs': 5444, 'tha': 5445, 'vengeance': 5446, 'baritone': 1922, 'williams': 5448, 'barbed': 6396, 'barter': 5449, 'mansions': 5450, 'run': 806, 'penny': 2538, 'ehhhhhhhhh': 5451, 'trusted': 2660, 'haws': 3442, 'appreciate': 5454, 'piano': 5455, 'unusually': 5456, 'how': 70, \"chewin'\": 2177, 'pause': 1736, 'exhibit': 5458, 'pumping': 5459, 'thanks': 215, 'compels': 5460, 'burt': 1347, 'bell': 5461, 'talkative': 5462, 'funny': 467, 'starts': 1348, 'fritz:': 1737, 'seem': 1349, 'groan': 5463, 'lot': 299, 'metal': 5465, 'cries': 1417, 'capitalists': 5069, 'doll-baby': 5467, 'deliberate': 2539, 'fox': 1738, 'taps': 2540, 'trash': 5469, 'patting': 5763, 'dumbass': 5471, 'madison': 5472, 'lighter': 5473, 'releases': 5474, 'killing': 5475, 'successful': 2172, 'hungry': 1350, 'wishful': 5476, 'nightmare': 5477, 'jacks': 5478, 'spit': 1739, 'rockers': 5480, 'choked': 5481, 'tomatoes': 5482, 'tons': 5483, 'hammer': 5484, 'charged': 5485, 'diddilies': 5486, 'smelling': 5487, 'growing': 5488, \"brady's\": 5489, 'handing': 2542, 'pointing': 1740, 'sudoku': 5490, 'malibu': 5491, 'hardy': 5492, 'ruby-studded': 5493, 'darkness': 5494, 'composer': 5291, 'duff': 216, 'fleabag': 5496, 'forgotten': 3959, 'freaking': 5498, 'scare': 2543, 'must': 370, 'company': 922, 'lousy': 661, 'website': 2544, 'adeleine': 1351, 'sued': 5500, 'me': 21, \"could've\": 1741, 'ago': 1088, 'starla': 6698, 'whatcha': 1742, 'apu_nahasapeemapetilon:': 244, 'puzzled': 997, 'glowers': 5502, 'animals': 2546, 'nemo': 5972, 'fat_tony:': 892, 'reminds': 1743, 'floated': 2549, 'scores': 5503, 'w': 2550, \"duelin'\": 5504, 'met': 1744, 'manboobs': 5505, 'trip': 1352, 'divine': 5506, 'notably': 5507, 'attention': 1745, 'sticking': 4629, 'fonzie': 5509, 'changed': 1568, 'dealt': 5511, 'overstressed': 4014, 'mckinley': 5512, 'stopped': 1648, 'agnes_skinner:': 708, 'knuckle-dragging': 5513, 'disposal': 4158, 'habitrail': 5921, 'many': 371, 'young_moe:': 2551, 'complete': 1571, 'world': 267, 'sat': 2552, 'cake': 2740, 'liability': 4632, 'selma': 1090, 'candidate': 2553, 'unlocked': 5514, 'fighting': 2554, 'camera': 461, 'martini': 5515, 'bret:': 1449, 'sketching': 5517, 'corn': 4263, 'meaningless': 5518, 'mice': 5519, 'practice': 5520, 'democracy': 3965, 'jeter': 5521, 'inspector': 1747, 'carney': 5522, 'stupidest': 5523, 'stop': 341, 'offshoot': 5524, 'heck': 5525, 'stuck': 2555, 'by': 153, 'worried': 590, 'guessing': 3024, 'transylvania': 3026, 'firm': 5526, 'floor': 1827, 'radioactive': 5528, 'social': 2556, 'cuddling': 5529, 'dog': 442, 'hilton': 5531, 'sexy': 1354, 'befouled': 2557, 'what': 34, 'gluten': 5532, 'rhyme': 2174, 'whatchacallit': 5533, 'slop': 5534, 'cent': 2558, 'u': 1355, 'wigs': 5535, 'reach': 2559, 'ears': 5536, 'huddle': 5537, 'lofty': 5538, 'lugs': 4640, 'east': 5539, 'exact': 3109, 'exclusive:': 5541, '_hooper:': 1091, 'clear': 1092, 'nervously': 5542, 'rancid': 5543, 'trucks': 5544, 'fortune': 5545, \"s'okay\": 5546, 'forty-seven': 5547, 'outta': 325, 'test-': 5548, 'gulps': 5549, 'light': 641, 'grind': 5550, 'eddie:': 1309, 'skinny': 5552, 'tidy': 5553, 'silence': 3157, \"phone's\": 5554, 'birthplace': 5555, 'numeral': 4642, 'hits': 1356, 'war': 591, 'mrs': 807, 'betrayed': 5556, 'yourselves': 2562, 'festival': 2563, 'whim': 5557, 'make:': 5558, 'presentable': 5559, 'art': 5560, 'soaked': 5561, 'driving': 1093, 'wrestle': 5562, 'hitchhike': 5563, 'loved': 923, 'stepped': 3214, 'chanting': 1154, 'clenched': 5566, 'eating': 924, 'orgasmville': 4822, 'bride': 2565, 'making': 808, 'carey': 5569, \"fendin'\": 5571, 'self': 592, 'meaningfully': 5572, 'dress': 2566, 'cheapskates': 5573, 'nigel_bakerbutcher:': 925, 'smug': 2567, 'conspiracy': 5574, 'jobs': 2568, 'crisis': 5575, 'crapmore': 5576, 'swigmore': 5577, \"that's\": 59, \"stayin'\": 5578, 'enthused': 5579, 'blank': 5580, 'fantasy': 5581, 'eighty-three': 5582, 'actors': 2569, 'polenta': 5584, 'tony': 926, 'typing': 5585, 'milhouse_van_houten:': 1357, 'bid': 5586, 'windelle': 5587, 'confused': 1094, 'next': 311, 'women': 1098, 'committee': 5588, 'employment': 3292, 'traitors': 5589, 'szyslak': 927, 'sobo': 5590, 'raccoons': 2020, 'gestated': 5592, 'one-hour': 5593, 'murmur': 2570, 'eighty-five': 5594, 'his': 87, 'korea': 5595, 'favorite': 809, 'sumatran': 5596, 'lingus': 3155, 'spilled': 5597, 'perplexed': 5598, 'crooks': 5599, 'reaction': 3435, 'here': 44, 'bar:': 5601, 'victorious': 5602, 'tonight': 250, 'relieved': 2039, 'last': 205, 'gang': 2571, 'rubs': 5605, 'worldly': 5606, 'win': 462, 'wrong': 359, 'beyond': 5607, 'milhouses': 5608, 'shove': 1753, 'sequel': 3668, 'drove': 5609, 'decision': 5610, 'racially-diverse': 5612, 'thanksgiving': 2572, 'ideal': 3508, 'gas': 1358, 'x': 1009, 'belong': 2573, 'shark': 5936, 'decadent': 5617, 'glitterati': 5618, 'reasons': 2574, 'rivalry': 5619, 'cracked': 3544, 'speaking': 1095, 'though': 810, 'rabbits': 5621, 'bathing': 2575, 'rewound': 5622, 'winnings': 2722, 'shyly': 5623, 'marshmallow': 5633, 'madonna': 5624, 'hospital': 1096, 'trouble': 538, \"'s\": 5625, 'designated': 1064, 'canyonero': 417, 'sooo': 5626, 'mmm': 2869, 'delightfully': 5627, 'grants': 3339, 'ninety-six': 5628, 'valley': 5629, 'hold': 390, 'ronstadt': 5630, 'industry': 2576, 'majesty': 5631, 'open': 710, 'rush': 3631, 'endorsement': 5632, 'stool': 928, 'say': 114, 'lame': 3245, 'closer': 1566, 'moans': 811, 'repeating': 3652, 'jar': 1099, 'whoo': 5634, 'emporium': 5635, 'pocket': 1534, 'bronco': 5637, 'swooning': 5638, 'bachelor': 4654, 'shush': 5017, 'present': 2577, 'loves': 494, 'professor': 2578, 'plum': 2579, 'charter': 5639, 'cable': 1359, \"who'll\": 1360, 'dive': 1757, 'beloved': 1101, 'raising': 1797, 'emotion': 3709, 'civic': 2581, 'pus-bucket': 3524, 'feedbag': 5641, 'tree_hoper:': 5317, 'tries': 2583, 'alphabet': 2276, 'el': 5643, 'endorse': 1758, 'takeaway': 5644, 'kako:': 5645, 'desperately': 5646, 'alternative': 5647, 'passports': 5648, 'hub': 5649, 'crappy': 5342, 'gees': 3796, 'cowboys': 2584, 'africa': 2585, 'installed': 5652, 'accusing': 4035, 'file': 5654, 'dimly': 5655, 'corkscrew': 2586, 'smile:': 2587, 'played': 1760, 'pursue': 5656, 'stained-glass': 5657, 'certain': 2588, \"aren'tcha\": 5658, 'cocking': 5659, 'wasted': 5322, 'speech': 978, 'meeting': 1361, 'rumaki': 2589, 'stein-stengel-': 5945, 'male_inspector:': 2590, 'lobster-based': 5663, 'class': 929, 'writers': 2516, 'diamond': 2591, 'media': 2835, 'pirate': 2592, 'barstools': 5313, 'distributor': 2593, 'sell': 407, \"watchin'\": 1362, 'may': 642, 'freed': 5669, 'liser': 3931, 'selection': 5671, 'store': 711, 'choking': 2595, 'poulet': 3957, 'wooooo': 1751, \"homer's\": 342, 'puke-pail': 5674, 'mcbain': 2596, 'tying': 5675, 'sensitivity': 5676, 'hunky': 5677, 'counter': 5678, 'tv_daughter:': 5679, 'jeff_gordon:': 5680, 'looooooooooooooooooong': 3992, 'shaggy': 2597, 'into': 122, 'poker': 2598, 'stalin': 5681, 'trees': 4669, 'admiration': 2599, 'wears': 5682, 'superdad': 5683, 'sunglasses': 5684, 'alarm': 5685, 'delightful': 5321, 'heave-ho': 5686, 'barn': 712, 'prize': 2600, 'whispered': 5687, \"how's\": 1097, 'ehhhhhhhh': 4042, 'oooo': 4346, 'fired': 5689, 'helping': 5690, 'wham': 3352, 'tsking': 5691, 'fry': 4052, 'collapse': 5692, 'pack': 5693, 'ones': 930, 'tomato': 5694, 'tasimeter': 5695, 'gunter': 5696, 'vegas': 1761, \"g'night\": 5697, 'burn': 500, 'feels': 1363, 'missed': 2280, 'brockelstein': 5699, 'awfully': 4102, 'julienne': 5327, 'the_edge:': 4001, 'play': 251, 'flashbacks': 5701, 'yee-ha': 5702, 'woulda': 5703, 'reopen': 5704, 'general': 1763, 'poor': 643, 'canyoner-oooo': 4127, 'afford': 1765, \"knockin'\": 5706, 'perón': 5707, 'insults': 5708, 'harrowing': 5709, 'measure': 5710, 'brains': 1766, 'presently': 4192, 'cosmetics': 5711, 'men': 931, 'police': 644, 'arm': 713, 'greedy': 2604, 'whoever': 5712, 'bloodball': 5713, 'kidnaps': 5714, 'academy': 2605, 'whale': 5715, 'mellow': 5716, 'portentous': 5717, 'banks': 1563, 'saving': 4253, 'cup': 5718, 'syrup': 2606, 'vampires': 2607, 'youngsters': 5719, 'star': 847, 'rash': 5720, 'minimum': 1365, 'eternity': 5721, 'presided': 5722, 'across': 932, 'strategizing': 5723, 'miserable': 1767, 'mccarthy': 5724, 'mid-conversation': 4676, 'anyway': 539, 'vincent': 5725, 't-shirt': 2608, 'irs': 5726, 'don': 2609, 'flynt': 5727, 'woodchucks': 4608, 'stir': 2839, 'freedom': 2612, 'avalanche': 5729, 'hug': 1768, 'jukebox': 933, 'wieners': 5730, 'sighs': 286, 'quarterback': 5731, 'thinks': 645, 'sports': 1366, 'ineffective': 6138, 'shrugging': 2613, \"floatin'\": 5372, 'countryman': 5733, 'contemplates': 4403, 'celeste': 4809, 'furious': 1384, 'serious': 709, 'right': 68, 'corporate': 2616, 'sec': 1769, 'sagacity': 5735, 'ordered': 1902, 'santa': 2617, 'tv': 206, 'hosting': 5736, 'wholeheartedly': 5737, 'sir': 502, 'champs': 5738, 'sticker': 5739, 'watered': 5740, 'janette': 4454, 'sternly': 5741, 'spend': 594, \"starla's\": 6100, 'duff_announcer:': 5742, 'father': 1367, 'attraction': 5744, 'chow': 4493, 'three': 217, '35': 5745, 'marry': 5746, 'choose': 5747, 'photo': 2018, 'hottest': 5748, 'store-bought': 5749, 'pine': 4533, 'least': 595, 'chin': 4686, 'courthouse': 3362, 'manipulation': 5751, 'death': 1771, 'dracula': 5753, 'beaumarchais': 5754, 'voicemail': 5404, 'both': 714, 'sneering': 3500, 'awkwardly': 5755, 'lighting': 2619, 'sentimonies': 5756, 'arimasen': 5757, 'extra': 1638, 'tones': 5759, 'did': 113, 'slaps': 5761, 'mix': 5762, 'combine': 2621, 'involved': 2830, 'apartment': 2622, 'top': 815, 'dumbbell': 5764, 'gals': 2623, 'jacksons': 4212, 'cooler': 2624, 'hear': 326, 'short_man:': 5765, 'thirsty': 5766, 'anywhere': 2625, \"she's\": 378, 'taste': 4657, 'lucius:': 816, 'ow': 298, 'away': 317, 'beats': 2205, 'abe': 5768, 'made': 210, 'churchill': 2627, 'wildest': 5769, 'word': 802, 'curds': 2541, 'up': 48, 'crayon': 6043, 'shhh': 5772, 'slip': 1773, 'gardens': 5732, 'spacey': 5773, 'die-hard': 5774, 'ralph_wiggum:': 5775, 'understanding': 1774, 'past': 1775, 'detecting': 2628, 'half-back': 5776, 'wikipedia': 5777, 'fad': 6083, \"santa's\": 5340, 'getaway': 4784, 'mostly': 5780, 'turn': 343, 'excuses': 5781, \"jimbo's_dad:\": 5782, 'dum-dum': 5341, 's-a-u-r-c-e': 5784, 'guzzles': 5785, 'mail': 2389, 'slow': 934, 'shall': 935, 'surprising': 4832, 'was': 53, 'created': 5405, 'hemoglobin': 5787, 'entering': 5788, '||quotation_mark||': 20, 'gifts': 2695, \"askin'\": 5790, 'breakdown': 5791, 'winning': 5792, 'novelty': 5793, 'cherry': 5794, 'realize': 2630, 'grienke': 2631, 'togetherness': 5796, 'woo': 391, 'mine': 1104, 'average-looking': 5797, 'lennyy': 5798, 'intrigued': 817, 'skydiving': 5799, 'distance': 5800, \"dyin'\": 2632, 'heartless': 5801, 'nibble': 5802, 'harv': 1776, 'snout': 5803, 'falcons': 2633, 'butts': 818, 'formico': 2634, 'involving': 2635, \"drexel's\": 5804, 'male_singers:': 5805, 'micronesian': 5806, 'ninety-seven': 5807, 'chuckles': 312, 'one': 60, 'convenient': 5808, 'unavailable': 5809, \"plank's\": 5810, 'mike_mills:': 5811, 'calmly': 2636, 'wife': 243, 'grand': 1039, 'insurance': 5812, 'everyday': 5813, 'break-up': 5814, 'fbi': 1371, 'notorious': 5815, 'bully': 2637, 'bolting': 5816, \"o'\": 5668, 'bald': 1248, 'stayed': 1777, 'patrons': 5819, 'stonewall': 5820, 'whoa-ho': 5821, 'macgregor': 4995, 'authenticity': 5823, 'whatsit': 5012, 'skinheads': 5825, 'experience': 5826, 'taylor': 5827, 'jewelry': 5650, 'crumble': 2638, 'slugger': 5829, 'computer_voice_2:': 5971, 'lifters': 5830, 'little_man:': 1156, 'disgracefully': 5831, 'crayola': 5039, 'teeth': 1778, \"depressin'\": 5833, 'earlier': 5834, 'awwww': 1979, 'closing': 1373, 'broad': 1106, 'fears': 5835, 'bugs': 5836, 'beer:': 5837, 'kermit': 1779, 'play/': 5838, 'lib': 2639, 'depository': 5839, 'impending': 5094, 'turkey': 1780, \"treatin'\": 4673, 'glass': 313, \"games'd\": 5109, 'rotten': 5841, 'army': 1781, 'story': 819, 'dexterous': 5842, 'venture': 3768, 'mailbox': 5844, 'clinton': 2641, 'disturbance': 5845, 'babies': 1289, 'shoots': 2642, 'minute': 278, 'row': 2643, 'page': 2644, 'disco': 2645, 'chapstick': 5846, 'inserted': 5847, 'charity': 2646, 'guns': 1285, 'pledge': 5849, 'raise': 2647, 'frontrunner': 5850, 'figures': 5851, 'ram': 5852, '1973': 5853, 'per': 1782, 'disguise': 5854, 'tragedy': 5855, 'johnny_carson:': 5856, 'indicates': 5857, 'enhance': 5858, 'stand': 597, 'opening': 1783, 'inserts': 5859, 'white_rabbit:': 5860, 'higher': 1784, 'allegiance': 6602, 'miss_lois_pennycandy:': 5862, 'mom': 504, 'suppose': 1579, 'most:': 5863, 'door': 540, 'harm': 5864, 'unison': 1785, 'corpses': 1786, 'swimming': 5865, \"someone's\": 2492, 'pleased': 1375, 'edelbrock': 5867, \"mcstagger's\": 5868, \"smokin'_joe_frazier:\": 1107, 'declan_desmond:': 1385, 'rice': 3192, 'layer': 5871, \"man's\": 5872, 'bidet': 5873, 'amber': 5874, 'denser': 2648, 'suspiciously': 5249, 'generally': 5876, \"pullin'\": 5877, 'crow': 5355, 'four-drink': 5878, 'well': 50, 'marquee': 5879, 'four': 345, 'waste': 5880, 'built': 2649, 'railroad': 2650, 'declan': 4907, 'onion': 5881, 'golf': 2651, 'rotch': 1376, 'finale': 5882, 'generously': 5883, 'hang': 820, 'although': 2652, 'enterprising': 5884, 'diets': 5311, 'complaint': 2653, 'lovely': 2654, 'administration': 5885, 'gave': 448, 'ech': 2656, 'seemed': 2657, 'knock-up': 5887, 'you': 7, 'flanders': 955, \"callin'\": 1108, 'totally': 1040, 'resist': 5891, 'goo': 5892, 'lushmore': 5893, 'pigtown': 5894, 'liar': 2658, 'ran': 1788, 'shreda': 5895, 'answer': 1377, 'gator': 5896, 'applicant': 5897, 'faded': 5898, 'who': 83, 'rugged': 5899, 'potatoes': 5900, 'mountain': 6642, 'wire': 821, 'glen': 1789, 'steel': 2659, 'contemptuous': 5411, 'nightmares': 5903, 'remote': 5904, 'ton': 5905, 'drivers': 1378, 'loudly': 5906, 'election': 1732, \"stealin'\": 5908, 'e-z': 5909, 'sixty': 5910, 'shifty': 5911, 'gimme': 419, 'egg': 1425, 'ladies': 460, 'e': 3402, 'stingy': 5913, 'science': 5914, 'jeez': 1109, 'certified': 5915, \"o'clock\": 1379, 'fish': 1110, 'proposition': 5916, 'ride': 1380, 'fans': 1790, 'tell': 143, 'crawl': 1791, 'watered-down': 2545, 'psst': 5917, 'karaoke': 2425, 'strategy': 2661, 'exhaust': 1792, 'skins': 5363, \"aristotle's\": 5920, 'off': 127, 'chinese_restaurateur:': 5922, 'har': 1793, 'musses': 5923, 'balloon': 5924, \"renovatin'\": 3392, 'pays': 1794, 'snatch': 5925, '2nd_voice_on_transmitter:': 5926, 'putting': 2663, 'test-lady': 5927, 'speak': 1111, 'five': 316, 'traitor': 5928, 'kept': 1795, 'fondest': 5929, 'perch': 5930, 'partner': 1381, 'heroism': 5931, 'rap': 2664, 'life-extension': 5932, 'dreamed': 2665, 'slightly': 2201, 'snail': 5934, 'sanctuary': 5935, 'equal': 5616, 'jackass': 5937, 'cliff': 5938, 'monkeyshines': 5939, 'honey': 936, 'walked': 5940, 'annoyed': 646, 'billy_the_kid:': 1113, 'settlement': 5941, 'cute': 1796, 'nick': 5640, 'springfield': 252, 'britannia': 5942, 'david_byrne:': 1382, 'workers': 1798, 'seven': 506, 'all-american': 5943, 'done': 372, 'chub': 5944, 'strawberry': 3396, 'nobody': 373, 'humanity': 4714, 'solves': 5946, 'maggie': 392, 'andalay': 2666, 'ugly': 598, 'slurps': 5370, 'eager': 5948, 'salvation': 5949, 'nah': 393, 'tire': 4646, 'freeze': 2667, 'haircuts': 5951, 'chick': 1383, 'maxed': 5953, \"takin'\": 2852, 'schnapps': 2766, 'congoleum': 5955, 'repairman': 5956, 'lazy': 2615, 'thoughtless': 5957, 'parking': 1799, 'post-suicide': 5958, 'bedbugs': 2669, 'dazed': 5959, 'words': 823, 'wizard': 5960, 'woe:': 5961, 'hair': 920, 'edna_krabappel-flanders:': 1114, 'agree': 2671, 'declare': 5962, 'enthusiasm': 5963, \"neat's-foot\": 5964, '10:15': 5965, 'twenty-six': 5989, \"tinklin'\": 5967, 'yee-haw': 1800, 'lotsa': 5968, 'presto:': 5969, 'ratted': 5970, 'roll': 1801, 'mike': 1105, 'lottery': 1802, 'forgot': 937, 'conditioner': 2672, 'loafers': 5973, 'tipsy': 439, 'wonder': 1115, 'tax': 2673, \"'pu\": 5975, 'squirrels': 5976, 'forced': 5869, 'quadruple-sec': 5977, 'incredible': 5468, 'taxi': 5979, 'easygoing': 5980, 'milhouse': 1881, 'sarcastic': 1386, 'gently': 1803, 'carb': 5375, 'judge_snyder:': 2782, 'sight': 5982, 'should': 189, 'touch': 5983, 'incognito': 5984, 'kennedy': 4602, 'hey': 28, 'lady': 601, 'gotta': 119, 'book': 346, 'confidential': 5986, 'pint': 2677, 'said': 240, 'nail': 5988, 'housing': 5966, 'empty': 1117, 'mac-who': 5990, 'craphole': 2674, 'religious': 5991, 'germs': 2675, 'gasoline': 5993, 'throwing': 2676, 'spelling': 5743, 'force': 2678, 'eyeing': 5994, 'meant': 1804, 'work': 245, 'bragging': 5995, 'sanitation': 5996, 'newsletter': 5997, 'quitcher': 5998, 'misfire': 5999, 'wound': 6000, 'pontiff': 6034, 'ate': 6001, 'grunt': 1805, 'fat_in_the_hat:': 6037, 'full-blooded': 6003, \"tryin'\": 1118, 'plaintive': 6005, 'on': 29, 'lenford': 6006, 'nelson_muntz:': 6007, 'hah': 6008, 'distaste': 6009, 'writer:': 6010, 'roses': 2679, 'using': 824, 'mop': 2680, 'order': 1806, 'accounta': 6011, 'embarrassed': 1388, 'listen': 223, 'cutest': 6012, 'fustigation': 6013, 'bliss': 6014, 'oh-ho': 6015, 'rule': 2681, 'meaning': 6016, 'pop': 1119, 'these': 190, 'convinced': 6017, 'vacuum': 2682, 'unrelated': 6018, 'doug:': 2683, 'low-life': 6104, 'linda_ronstadt:': 6020, 'hoax': 6021, \"o'reilly\": 6022, 'brilliant': 1120, 'long': 327, 'show-off': 6023, 'jailbird': 2721, 'marguerite:': 2684, \"'bout\": 647, 'though:': 6025, 'moustache': 6323, 'fdic': 6027, 'grunts': 1807, 'mexicans': 6029, 'advantage': 2685, 'smoke': 2686, 'interesting': 6030, 'sign': 449, 'perverted': 4005, 'thoughts': 1808, 'heartily': 6033, \"today's\": 1387, 'grow': 1809, 'ohh': 2687, 'stay-puft': 6035, 'runs': 3412, 'estranged': 6036, 'driveability': 6002, '50%': 6038, 'expired': 6039, 'bed': 1121, 'fresco': 6040, 'clock': 2688, 'life-partner': 6041, 'macaulay': 6042, 'coffee': 1702, \"patrick's\": 2689, 'longer': 1122, 'student': 5848, 'fell': 6044, 'graveyard': 6045, 'lenny': 178, 'sister-in-law': 6046, 'measurements': 2690, 'helen': 2691, 'swe-ee-ee-ee-eet': 6047, \"tellin'\": 1123, 'imagine': 1811, 'kid': 294, 'bartenders': 2692, 'saturday': 1812, 'unattended': 6048, 'publish': 4340, 'title:': 6050, 'choke': 3203, 'cushions': 4664, 'undermine': 6052, 'naval': 6053, 'uncomfortable': 1813, \"y'know\": 529, 'boring': 968, 'clipped': 6054, 'blobbo': 6055, '1895': 2696, 'adjourned': 6056, 'beach': 963, 'buddies': 6057, 'completely': 6058, 'better': 191, 'wipes': 6059, 'lou:': 938, 'knuckles': 6060, 'bachelorette': 5271, 'hardwood': 6062, 'nos': 6063, 'bottles': 2697, 'eightball': 6064, \"here's\": 305, 'chief_wiggum:': 160, 'laws': 2698, 'snaps': 1815, 'enveloped': 6065, 'simon': 6066, 'minutes': 715, 'energy': 2699, \"d'\": 6067, 'halfway': 3926, 'feminist': 6068, 'dennis': 6069, 'lost': 328, 'joined': 2701, 'temporarily': 6070, 'melodramatic': 6071, 'glum': 1816, 'forbids': 5840, 'soul': 1124, 'shooting': 2702, 'gives': 939, 'resigned': 6072, 'concentrate': 6073, 'moments': 1817, 'agency': 6074, 'plans': 2703, 'enjoy': 1251, 'alive': 648, 'seymour_skinner:': 207, 'artie': 1125, 'hare-brained': 6075, 'lenny_leonard:': 33, 'jockey': 2705, 'jacques:': 507, 'gheet': 6076, 'hugh:': 1389, 'stood': 4725, 'neighbors': 6077, 'clientele': 1818, 'wait': 158, 'sass': 6078, 'in-ground': 6079, 'shower': 2706, 'moonlight': 5688, 'hell': 314, 'lovers': 4741, 'squeezed': 6081, 'see': 103, 'gag': 1819, 'baseball': 940, 'broom': 2707, 'exited': 6537, 'stinks': 2708, 'supports': 6084, 'snake': 1390, 'always': 287, 'shorter': 5728, 'raging': 6085, 'wise': 5398, \"won't\": 253, 'painting': 2709, 'principles': 6086, 'fireball': 1820, 'sadder': 1821, 'freshened': 6087, 'catching': 2710, 'fingers': 1127, 'paris': 1878, 'practically': 3842, 'alcoholism': 5466, 'good-looking': 6090, 'it:': 6091, 'corporation': 1893, \"that'd\": 6092, 'tablecloth': 6093, 'gal': 1822, 'lurleen_lumpkin:': 2755, 'terrifying': 4764, 'paramedic:': 3690, 'lincoln': 6094, 'disaster': 6095, 'thirty-thousand': 6096, 'nbc': 6097, 'ads': 6098, 'planet': 2354, 'worked': 1823, 'verdict': 6099, 'passion': 2881, 'diablo': 6716, 'poin-dexterous': 6101, 'boxing': 716, 'write': 941, 'soothing': 6102, 'trapping': 6103, 'troy': 2878, 'intervention': 6019, 'wangs': 2712, 'belt': 2713, \"snappin'\": 6298, 'hugh': 6107, 'hygienically': 6754, 'begin': 6109, \"we'll\": 541, 'wrap': 6110, 'pillows': 6111, 'interested': 2714, 'mathis': 6112, 'unattractive': 6113, 'cappuccino': 6114, 'gutenberg': 6115, 'symphonies': 6116, 'smokes': 6117, 'fletcherism': 6118, 'amount': 2715, 're:': 1391, 'wildfever': 6119, 'listening': 2374, 'beating': 2716, 'time': 115, 'respect': 1392, 'whaddya': 6121, \"countin'\": 2717, 'safecracker': 6122, 'bubbles-in-my-nose-y': 6123, 'express': 2718, 'late': 649, 'slapped': 6124, \"football's\": 6125, 'persia': 6126, 'error': 6127, 'whisper': 1393, 'reliable': 2849, 'sideshow_bob:': 6128, 'awful': 1824, 'peeping': 6129, 'typed': 6130, 'gear-head': 6024, 'offa': 6131, 'demand': 6132, 'treat': 1128, 'school': 464, \"hole'\": 2983, 'boat': 1394, 'land': 6133, 'aristotle:': 6134, 'stools': 1826, 'barkeeps': 6135, 'whoops': 6136, 'managed': 6137, 'illustrates': 4661, 'freaky': 6139, 'pews': 6140, \"i'll\": 95, 'theatrical': 6141, 'oh-so-sophisticated': 4006, 'appalled': 6142, 'ends': 6143, 'shesh': 6028, 'optimistic': 6144, 'drapes': 6145, 'hydrant': 6146, 'sucked': 1828, 'kinds': 6148, 'times': 650, 'flea:': 6149, 'suspended': 6150, 'rainbows': 6151, 'alibi': 6152, 'st': 6153, 'edner': 6154, 'bush': 2464, 'gets': 465, 'queer': 2618, 'sesame': 6155, 'kegs': 6156, 'pipes': 1395, 'highball': 6157, 'lenses': 6158, 'yammering': 6159, 'couple': 717, 'can': 64, 'elite': 6160, 'especially': 1396, 'massage': 6161, 'meet': 542, 'spending': 1829, 'kirk_voice_milhouse:': 6162, 'cattle': 6163, 'aging': 2723, 'quit': 466, 'attempting': 2724, 'material': 6164, 'letter': 718, 'plywood': 2725, 'womb': 3174, 'botanical': 6166, 'reasonable': 2727, 'kills': 6167, 'bumbling': 6168, 'believe': 329, \"mopin'\": 6169, 'blew': 1976, 'professor_jonathan_frink:': 543, 'take': 120, 'shrugs': 2728, \"wait'll\": 6170, 'uncreeped-out': 6171, \"listenin'\": 6172, 'state': 942, 'gee': 388, 'eventually': 2729, 'hammock': 4043, 'sacrilicious': 4500, \"kearney's_dad:\": 5875, 'dictator': 6174, 'someone': 296, 'banned': 6175, 'reluctant': 4071, 'director': 2731, 'carl': 295, 'booking': 6177, '_timothy_lovejoy:': 1830, 'as': 89, 'tearfully': 6178, 'theatah': 6179, 'emergency': 6180, 'captain:': 3257, '_montgomery_burns:': 347, 'truck': 1129, 'schmoe': 3268, 'acting': 2733, 'chuck': 6181, 'officer': 6182, 'oww': 6183, 'swamp': 6184, 'fury': 4008, 'radiation': 6186, 'country': 6187, 'wide': 1832, '70': 6188, 'rumor': 6189, 'dramatic': 1397, 'meyerhof': 6190, 'wonderful': 973, 'stagey': 6191, 'oh': 31, 'holding': 945, 'intoxicated': 4743, 'itchy': 6192, 'kirk_van_houten:': 508, 'faith': 6193, 'moron': 719, 'browns': 6194, 'sea': 2735, 'clubs': 6195, 'legally': 6196, 'sector': 2865, 'thomas': 6198, 'allowance': 6199, 'prison': 2736, 'what-for': 6200, 'fellow': 975, 'rude': 6201, 'tradition': 1833, 'shoulders': 6202, 'tail': 1398, 'finally': 827, 'lover': 2737, 'orifice': 6203, 'closed': 1130, 'urinal': 6204, 'string': 6205, 'savagely': 6206, 'vanities': 3405, 'in': 19, \"nixon's\": 6207, 'something': 150, 'bastard': 2739, 'period': 3449, 'dynamite': 1834, 'disdainful': 6209, 'went': 440, 'photographer': 6210, 'simp-sonnnn': 2741, 'swill': 2742, 'disappointed': 1131, 'during': 1132, 'astronauts': 6211, 'arms': 1399, \"nothin's\": 6212, 'swell': 6213, 'aged_moe:': 2743, 'bedridden': 6214, 'sticking-place': 6215, 'beanbag': 6216, \"blowin'\": 6217, 'blowfish': 6218, 'options': 6219, 'mount': 2744, \"disrobin'\": 6220, 'elves:': 6221, 'espousing': 3706, 'sloe': 6222, 'decent': 2745, 'irishman': 6223, 'suspect': 2746, 'stats': 6224, 'busy': 1400, 'hostile': 6225, 'cowboy': 6226, 'california': 6227, 'simple': 3113, 'unlucky': 1835, 'seductive': 6229, 'duke': 6230, 'hand': 478, 'brooklyn': 6231, \"shan't\": 2747, 'adopted': 6232, \"i've\": 99, 'pointy': 6233, 'wienerschnitzel': 4701, 'albert': 6236, 'gus': 3554, \"sayin'\": 946, 'heatherton': 6237, 'mmm-hmm': 6238, 'timbuk-tee': 6239, 'swings': 6240, 'sickly': 6241, 'tracks': 6242, 'thnord': 6243, 'space': 2748, 'michael': 6244, 'curiosity': 6245, 'slyly': 2749, \"family's\": 6246, 'scrutinizes': 6247, 'hustle': 6248, 'despite': 1838, 'poplar': 6249, 'executive': 6250, 'strongly': 6251, 'uncle': 947, \"scammin'\": 3454, 'upn': 6252, 'sport': 2750, 'dictating': 6253, 'served': 2751, 'knocked': 1839, 'eaten': 6254, 'ignoring': 6255, 'grain': 6256, 'mission': 6257, 'joining': 2752, 'fiction': 6258, 'effect': 6259, 'transmission': 6260, 'hurts': 1840, 'thirty-nine': 6261, 'yellow-belly': 6262, 'restaurant': 1401, 'duffman:': 376, 'revenge': 6263, 'effects': 2753, '1-800-555-hugs': 6264, 'tar-paper': 6265, 'barf': 2754, \"who'da\": 6267, 'incapable': 5952, 'puke-holes': 6269, 'south': 1402, 'rutabaga': 3458, \"couldn't\": 509, 'app': 6270, 'bill_james:': 6271, 'flash': 6272, 'swear': 1133, 'additional-seating-capacity': 4778, \"messin'\": 6273, 'whose': 1841, 'body': 1403, 'injury': 6274, 'thirty-three': 6275, 'spoken': 1842, 'gel': 6276, 'kick': 680, 'delivery_man:': 6277, 'privacy': 6278, 'shopping': 6279, 'rasputin': 6280, 'choices:': 6281, 'eh': 180, 'tolerance': 6282, 'aquafresh': 6283, \"kids'\": 1843, 'sinkhole': 3838, 'celebrity': 2757, 'sad': 438, 'dinner': 441, 'dislike': 6285, 'buffalo': 1404, 'wolfcastle': 6286, \"singin'\": 6287, 'lee': 6288, 'gil_gunderson:': 6289, 'richer': 5673, 'buzz': 6290, 'hours': 572, 'grade': 2158, 'suburban': 6292, 'misconstrue': 4091, 'doreen:': 2758, 'remembers': 6293, 'event': 6294, 'deserve': 2759, 'nauseous': 3462, 'confident': 2760, 'maman': 2761, 'mis-statement': 4782, 'drinking': 468, 'designer': 6296, 'beer': 81, '50-60': 4264, 'pugilist': 6297, 'procedure': 1405, 'atlanta': 2764, 'cigarettes': 2765, 'attach': 3066, 'catch-phrase': 6299, 'waitress': 6300, 'worse': 600, 'ducked': 6301, 'purse': 2767, 'fuhgetaboutit': 6302, 'whatchamacallit': 6303, 'gunk': 6304, 'studied': 6305, 'five-fifteen': 6306, 'underbridge': 2435, 'kidding': 1406, 'soot': 6308, 'towed': 2768, 'poke': 6719, 'thumb': 1135, 'menace': 6309, 'buffet': 6310, 'nameless': 6311, 'gum': 2769, 'introduce': 3464, 'strangles': 5097, 'neither': 2195, 'yew': 6312, 'pronto': 6313, 'excellent': 2771, \"bashir's\": 6314, 'forty-nine': 6315, \"pope's\": 2772, 'lance': 6316, 'manchego': 6317, 'yes': 232, 'lock': 2694, 'kisses': 6318, 'glitz': 6319, 'labor': 6320, 'ale': 2773, 'nonchalant': 6321, 'brought': 949, 'lone': 4786, 'rain': 6322, 'cauliflower': 4106, 'aunt': 4266, \"readin'\": 2775, \"tester's\": 2776, 'straighten': 6325, 'balls': 2777, 'frustrated': 1407, 'uniforms': 6326, 'telemarketing': 6327, 'happily:': 6328, 'regretful': 6329, 'shill': 6330, 'grrrreetings': 6331, 'problem': 377, 'mafia': 1844, 'relaxed': 6332, 'microphone': 6333, 'singer': 6334, 'jazz': 6433, 'aggravazes': 6335, 'kucinich': 6336, 'repeated': 3656, 'terrorizing': 6338, 'elocution': 6340, 'benefits': 2778, 'compliment': 1845, 'sneak': 6341, \"jackpot's\": 6342, 'repay': 6343, 'admirer': 6344, 'guard': 6345, 'errrrrrr': 6346, 'boozebag': 6347, 'boxer:': 4789, 'jay:': 6349, 'fainted': 6350, 'cigars': 6351, \"lisa's\": 1136, 'solely': 6352, 'dank': 1137, 'vestigial': 6353, 'defiantly': 6354, 'remain': 6355, \"don't\": 46, 'together': 825, 'guy': 128, \"'ere\": 6356, 'tied': 5886, 'renovations': 6357, 'evasive': 6358, 'cell': 6359, 'partners': 6360, 'unbelievably': 6361, 'cold': 828, 'grubby': 6362, 'continuing': 2779, 'however': 6363, 'badges': 2780, 'inexorable': 6364, 'cage': 6365, 'rainier_wolfcastle:': 2781, \"number's\": 6366, 'italian': 6367, \"cupid's\": 6368, 'stored': 6369, 'doy': 6370, 'correct': 1408, 'blackjack': 6371, 'vigilante': 6372, 'albeit': 6373, 'apart': 6374, 'sharing': 6375, 'flexible': 6376, \"comin'\": 363, 'today/': 6377, 'loneliness': 6378, 'finance': 6379, 'super': 511, 'fork': 1847, 'bounced': 5527, 'actress': 6380, '$42': 6381, 'stares': 6382, 'eyeball': 2726, 'furiously': 6383, 'since': 279, 'totalitarians': 6384, 'giant': 6385, 'neanderthal': 6386, 'pulitzer': 6387, 'site': 6388, 'scoffs': 6389, 'fumigated': 6390, 'all-star': 2783, 'underwear': 6391, 'strictly': 6392, 'thunder': 4457, 'mortgage': 2784, \"i'm-so-stupid\": 1138, 'terrace': 6393, 'cheers': 1814, 'fold': 2785, 'du': 6394, 'bartender': 544, 'buy': 266, 'coyly': 5698, 'jesus': 1849, 'president': 721, 'ding-a-ding-ding-ding-ding-ding-ding': 6395, 'yap': 1297, 'donut-shaped': 6397, 'lookalike:': 6398, 'night': 202, 'catholic': 6399, 'bees': 1409, 'dearest': 2385, 'handle': 2787, 'anger': 6400, 'harvesting': 6401, 'ohmygod': 1850, 'limited': 6402, \"seein'\": 1764, 'admitting': 2789, 'pair': 6403, 'irish': 2790, 'thing': 133, '||exlamation_mark||': 8, 'forty-five': 6404, 'books': 1410, 'natured': 6405, 'fbi_agent:': 6406, 'poking': 2791, 'shaky': 6407, 'pushes': 6408, 'violin': 2792, 'walks': 1851, 'twenty-two': 1852, 'starving': 6732, 'bushes': 6409, 'we': 57, 'retired': 2793, 'reynolds': 2794, 'exploiter': 4801, 'dashes': 6411, 'streetcorner': 6412, 'dizzy': 6413, 'sledge-hammer': 6414, 'bret': 2795, 'market': 1411, '||comma||': 2, 'forty-two': 6734, 'nature': 6415, \"larry's\": 6416, \"maggie's\": 2796, 'jebediah': 2797, 'finished': 1855, 'koi': 2015, 'moe-clone:': 2798, 'discriminate': 6418, 'quick': 950, 'suicide': 1140, 'assent': 6419, 'stab': 4581, 'ape-like': 6421, \"betsy'll\": 6422, 'nicer': 6423, 'serum': 6424, 'destroyed': 6425, 'easier': 2799, \"it's\": 49, 'pulling': 2700, 'increased': 6268, 'tried': 1856, 'screw': 830, 'gargoyles': 6426, 'kent': 951, 'without:': 6735, \"they're\": 262, 'brave': 2879, 'moesy': 6428, 'depressant': 6429, 'boy': 211, 'helpful': 6430, 'else': 651, 'tonic': 6431, 'atari': 6432, 'snow': 2774, 'arts': 6434, 'william': 6435, 'dory': 6436, 'motel': 1857, 'cannot': 1858, 'manfred': 6339, 'bullet-proof': 6438, 'refreshing': 6439, \"can't\": 92, 'audience:': 6348, 'farewell': 6440, 'reading:': 4843, 'half-beer': 6441, 'nor': 6442, 'mcclure': 6443, 'cross-country': 5734, 'friend': 196, 'sweetheart': 2800, 'moe_recording:': 6444, 'guiltily': 6445, 'hillbillies': 6446, 'maintenance': 6447, 'stands': 2801, 'cookies': 2802, 'hateful': 6448, 'artist': 6449, 'corkscrews': 6450, 'feel': 254, 'front': 652, 'walk': 722, 'dennis_conroy:': 1413, 'picky': 6451, 'assume': 6452, 'ironic': 6453, 'morlocks': 2803, 'lead': 6454, 'conditioners': 6455, 'pre-columbian': 6456, 'citizens': 6457, 'pee': 6458, \"game's\": 2263, 'pantry': 6459, 'stolen': 6460, 'mozzarella': 6461, 'alter': 6462, 'yesterday': 1414, 'clams': 6463, 'coney': 1859, 'aah': 6464, 'chorus:': 6465, 'unable': 6466, 'democrats': 5987, 'scatter': 6468, 'carlson': 2804, 'man': 85, 'breathalyzer': 6469, 'hat': 6470, 'waltz': 2805, 'isle': 2704, 'drunk': 218, 'waking-up': 6471, 'sideshow_mel:': 5022, 'polls': 6472, 'advertise': 6609, 'ceremony': 6474, 'priest': 2807, 'terrible': 832, 'beings': 6475, 'took': 394, 'passed': 2808, 'simpson': 315, 'african': 1141, 'não': 6476, 'forty': 1415, \"crawlin'\": 2809, \"lookin'\": 545, 'old': 197, 'release': 2451, 'village': 2453, 'conditioning': 6477, 'coma': 6738, 'daddy': 1143, 'saw': 469, '4x4': 6479, 'chunky': 6480, 'appreciated': 6481, 'island': 1416, 'suru': 5095, 'comeback': 6483, 'cop': 1067, 'fabulous': 2811, 'caught': 1144, 'rainier': 6484, 'throws': 6485, 'blur': 6486, 'famous': 2812, 'scrubbing': 6487, 'greatest': 654, 'sniffs': 1861, 'obsessive-compulsive': 6488, \"somethin's\": 6489, 'cockroaches': 3146, \"startin'\": 6491, 'jacques': 723, 'innocent': 1862, 'network': 6492, 'conversation': 2813, 'blues': 2814, 'woooooo': 6493, 'lately': 1863, 'bum:': 6494, 'grinch': 6495, 'behind': 546, 'blob': 5570, 'hairs': 6496, 'tomorrow': 470, 'promise': 6497, \"cashin'\": 6498, 'fighter': 6499, \"talkin'\": 547, 'stores': 6500, 'system': 1864, 'figured': 1418, 'lumpa': 6501, \"'cept\": 6502, 'tapered': 6503, 'wish': 340, 'know': 65, 'carefully': 6504, 'department': 2816, 'man:': 1145, \"fishin'\": 3476, 'buyer': 6506, 'alcohol': 512, 'cough': 1865, 'padres': 6507, 'troy_mcclure:': 2495, 'society_matron:': 6509, 'contest': 2817, 'customer': 1866, 'dessert': 2818, 'patron_#2:': 6510, 'afternoon': 1867, 'c': 297, 'ons': 6511, 'celebrities': 1868, 'aer': 6512, 'box': 724, 'sitting': 833, \"hobo's\": 6513, 'laugh': 306, 'gosh': 2819, 'unlike': 1623, 'tom': 1340, 'sissy': 2820, 'flying': 2821, 'cheryl': 6514, \"c'mom\": 6515, 'decided': 6516, 'angry': 726, 'wa': 2822, 'hotline': 2823, 'leg': 1870, 'stripe': 6517, 'sieben-gruben': 6518, 'examines': 6519, 'dough': 2824, 'crowbar': 6080, 'radical': 6521, 'relationship': 2825, 'oils': 6522, 'mary': 6523, 'wiener': 1871, 'bottom': 1419, 'arrived': 6524, 'lord': 1146, 'soup': 2826, 'meditative': 4823, 'lease': 6525, 'wenceslas': 6526, 'toledo': 6527, 'abolish': 6528, 'days': 834, 'young_homer:': 952, 'done:': 6529, 'tentative': 2392, 'anymore': 655, 'dropping': 6530, 'bar': 111, 'gesture': 6531, 'betcha': 5416, 'stevie': 2827, 'nascar': 6532, 'painted': 6533, \"people's\": 4748, 'verticality': 6534, 'fifth': 6535, 'college': 1149, 'slender': 5347, 'bedtime': 6536, 'champion': 6082, 'nailed': 6538, \"we'd\": 953, \"s'pose\": 6539, \"c'mon\": 348, 'pyramid': 6540, 'proof': 6753, 'joint': 1087, 'factor': 6541, 'borrow': 2828, 'and': 14, 'taught': 6542, 'attractive_woman_#1:': 6543, \"spaghetti-o's\": 6544, 'cricket': 6545, 'bam': 2877, 'deli': 5795, 'true': 395, 'supplying': 6546, 'accepting': 6547, 'is:': 2829, 'second': 656, 'trainers': 6548, 'chipped': 3777, 'wreck': 6549, 'sheets': 6550, 'burnside': 6551, \"man's_voice:\": 6552, \"thinkin'\": 6553, 'fringe': 6554, 'human': 835, 'prayers': 3193, \"usin'\": 6555, 'secret': 421, 'julep': 6556, 'chateau': 6557, 'apply': 6558, 'sauce': 1151, 'savings': 6559, 'heavens': 6560, 'sotto': 836, 'flayvin': 6561, 'ruuuule': 6562, 'named': 1152, 'worst': 954, 'breathless': 6563, 'voodoo': 6564, \"cont'd:\": 6565, 'america': 1153, 'watch': 396, 'victim': 6566, 'park': 1126, 'bar-boy': 1872, 'separator': 6567, 'born': 1873, 'yard': 1421, 'flophouse': 6568, 'column': 6569, 'sixty-five': 6570, 'düffenbraus': 6571, \"changin'\": 6572, 'cars': 2831, 'phony': 6573, 'pardon': 1874, 'affects': 6574, 'my-y-y-y-y-y': 6575, 'shard': 6576, 'shout': 6577, 'starlets': 6578, 'dateline': 6579, 'feisty': 6580, 'paint': 837, 'wore': 6581, 'ne': 4904, 'cannoli': 6582, \"d'ya\": 6583, 'coaster': 1155, 'defected': 6584, 'cab_driver:': 5933, 'inclination': 6585, 'twenty-four': 6586, 'gary_chalmers:': 1875, \"playin'\": 6587, 'skeptical': 2833, 'sturdy': 6588, 'control': 6589, 'text': 1876, 'dryer': 2834, 'dark': 5666, 'whenever': 2836, 'plums': 6590, 'vampire': 6591, 'bridge': 2837, 'dollface': 6592, 'gimmicks': 6593, 'cadillac': 6594, 'van': 6595, 'her': 112, 'brothers': 2603, 'most': 422, 'ingredient': 1422, 'barber': 6596, 'syndicate': 6597, 'just': 38, 'night-crawlers': 6598, 'vance': 1423, 'k-zug': 6599, 'seat': 838, 'age': 1543, 'nachos': 6600, 'impatient': 2838, 'producers': 6601, 'fast-paced': 6603, 'attitude': 2611, 'outs': 6604, 'sheriff': 6605, 'husband': 1424, 'i/you': 6606, 'dana_scully:': 6607, 'ireland': 6608, 'stinky': 6610, \"what'd\": 6611, 'mater': 6612, 'christopher': 2840, 'enter': 6613, \"dolph's_dad:\": 6614, 'compressions': 6615, 'specialists': 6616, 'ned': 814, 'probably': 657, 'jail': 1877, 'ripped': 6618, 'tsk': 658, 'upgrade': 5767, 'neon': 6266, 'sugar-free': 6088, 'use': 288, 'pope': 2841, 'quality': 2063, 'tofu': 2843, 'washouts': 6619, 'powerful': 1682, 'prettied': 6620, 'minors': 6621, 'air': 659, 'clandestine': 6622, 'limber': 6623, 'sidekick': 6624, 'powers': 6625, 'hunting': 2844, 'ball-sized': 2845, 'firing': 6626, 'grease': 6627, 'theory': 6628, 'colossal': 6629, \"neighbor's\": 6630, 'affection': 6631, \"where's\": 418, 'brag': 6147, \"donatin'\": 6632, 'wiggum': 554, 'ingrates': 6633, 'informant': 2846, 'sometimes': 2200, 'squeal': 6634, 'sweden': 6635, 'runners': 6636, 'diapers': 6637, 'anti-crime': 6638, \"boy's\": 6639, 'warning': 6640, 'shelf': 6641, \"department's\": 5889, 'forgive': 2847, 'mirthless': 5901, 'donation': 5902, 'si-lent': 6644, 'undated': 6645, 'appropriate': 5912, 'choked-up': 6646, 'knowledge': 6647, 'considering': 2848, 'approval': 6648, 'service': 1157, 'spirit': 6649, 'edison': 1880, 'washer': 6650, 'prices': 6651, 'troll': 1158, 'bashir': 2850, 'attracted': 5086, 'ivana': 1426, 'center': 1159, 'physical': 6652, 'sealed': 6653, 'brings': 5954, 'sounds': 397, 'sports_announcer:': 2853, 'bowl': 660, 'moon-bounce': 6654, 'lloyd': 2854, 'poetry': 6655, 'quotes': 2855, 'tang': 2856, 'homeless': 6656, 'problemo': 5981, 'brawled': 6657, 'gulliver_dark:': 6658, 'bleacher': 6659, 'lachrymose': 3915, 'watching': 602, 'bust': 6660, \"smokin'\": 6661, 'shows': 1427, 'cheery': 2857, 'notice': 6662, 'cyrano': 6663, 'betty:': 1428, 'hardhat': 6664, 'skin': 2858, 'crinkly': 5778, 'video': 1429, 'happened': 330, 'needy': 2859, 'scientists': 6665, 'preparation': 6666, 'muttering': 2860, 'starting': 1550, 'side:': 6667, 'moe-ron': 6668, 'voyager': 4157, 'chicken': 6669, 'beached': 6670, 'announcer:': 1160, 'annual': 6671, 'pathetic': 1882, 'caholic': 6672, 'waters': 6673, 'office': 6674, 'kind': 331, 'greystash': 1883, 'ali': 6675, 'reflected': 6676, 'item': 6677, 'awareness': 5499, 'candy': 2861, 'forget-me-drinks': 6678, 'unexplained': 6679, 'self-satisfied': 6680, 'eyesore': 2862, 'vehicle': 6681, 'fake': 6682, 'thoughtful': 1430, 'à': 1431, 'begging': 6683, 'summer': 1884, 'strokkur': 6684, 'boxcar': 5672, 'mean': 183, 'sooner': 2863, 'fun': 603, 'reptile': 6686, 'frat': 6687, 'winner': 6688, 'simplest': 6689, 'wanna': 192, 'at': 67, 'eighteen': 6690, 'socialize': 6691, 'blinds': 6692, 'barbara': 6693, 'handler': 6694, 'vermont': 4161, 'crying': 2864, 'little': 88, 'rip-off': 6695, \"bladder's\": 6696, 'delicious': 1885, 'coach:': 1886, 'unusual': 6697, \"can't-believe-how-bald-he-is\": 6197, 'renee': 1432, 'calculate': 2866, 'recommend': 1887, 'honeys': 5501, 'thorn': 6699, 'dishrag': 4717, 'amazed': 840, 'camp': 2756, 'anarchy': 2867, 'confidence': 2868, 'mindless': 6700, 'motto': 6701, 'bono': 6234, 'flailing': 6702, 'aims': 6703, 'phrase': 6704, 'till': 443, 'marjorie': 6705, 'lowers': 956, \"'cause\": 219, 'phase': 6706, 'bonfire': 6707, 'delighted': 1888, 'winks': 6708, 'hooky': 6709, 'reunion': 6710, 'easily': 6711, 'cheap': 1889, 'mm': 2870, 'wade_boggs:': 2871, 'united': 6712, 'horribilis': 6713, 'cocks': 6714, 'smoker': 6715, 'fuss': 2872, \"ol'\": 826, 'breathtaking': 6717, 'loboto-moth': 6718, 'form': 1521, 'liver': 1434, 'looking': 224, 'lots': 1890, 'knows': 727, 'bad': 225, 'brainheaded': 6720, \"homer's_brain:\": 2873, 'steampunk': 6721, 'jams': 6722, 'crowd:': 662, 'hideous': 6723, 'enthusiastically': 4528, 'cameras': 1846, 'the': 5, 'newest': 5508, 'proposing': 2875, 'automobiles': 6726, 'badly': 5380, \"narratin'\": 6727, 'quick-like': 6728, 'explanation': 6729, 'keeps': 1435, 'bail': 6730, 'itself': 6731, 'young': 663, 'raggie': 4105, 'gunter:': 6733, \"barney's\": 1518, 'moved': 1891, 'ringing': 2548, 'reaching': 2711, 'kang:': 1892, \"car's\": 6427, 'ready': 831, 'princesses': 2880, 'lessee': 6437, 'americans': 6736, 'panties': 6737, 'few': 1162, 'babe': 2882, 'justice': 2883, 'wacky': 6739, 'nasa': 2884, 'bitter': 957, 'birth': 6740, 'poet': 2885, 'pickles': 6741, 'uneasy': 1481, 'ointment': 6742, \"speakin'\": 6743, 'wealthy': 6744, 'will': 157, 'orders': 6745, 'breath': 1436, 'hour': 1894, 'owe': 1163, 'overflowing': 6105, 'brunswick': 6746, 'add': 6747, 'asses': 6748, 'methinks': 6749, 'exhale': 6750, 'church': 1895, 'securities': 2886, 'statues': 6751, 'calvin': 4090, 'a': 11, 'actor': 6752, 'teenage_homer:': 1916, 'michelin': 5384, \"i'd'a\": 6755, 'tv-station_announcer:': 6756, 'judge': 2888, 'jerk': 1438, 'planted': 6757, 'brine': 6758, 'carnival': 6759, 'carlotta:': 6760, 'bet': 958, 'super-tough': 6761, \"washin'\": 5084, 'log': 6762, 'competing': 6763, 'pink': 6764, 'sudden': 2890, 'busted': 2238, 'attractive': 6765, \"moe's_thoughts:\": 1439, 'grandmother': 2891, 'yelp': 4565, 'slobs': 6766, 'woo-hoo': 1896, 'cheaper': 6767, 'flame': 6768, 'became': 959, 'cartoons': 6420, 'meaningful': 1440, 'concerned': 1897, 'sanitary': 6769, 'normal': 960, 'closet': 4953, 'law': 1898, 'microwave': 6770, \"drivin'\": 1165, 'oddest': 6771, 'ziffcorp': 1562, 'slaves': 6772, 'all': 37, 'rubbed': 6773, 'defensive': 1899, 'grammy': 6774, 'ever': 154, \"don'tcha\": 6775, 'beef': 6776, 'cases': 6777, \"rentin'\": 6778, \"i'd\": 166, 'shotgun': 728, 'fever': 1900, 'moolah-stealing': 6779, 'realizing': 596, 'eva': 6780, 'deer': 1166, 'stories': 1167, 'astronaut': 2894, 'hampstead-on-cecil-cecil': 6781, 'unfresh': 6782, 'volunteer': 6685, 'deadly': 2895, '||right_parenthesis||': 4, 'sunday': 1168, \"havin'\": 1901, 'pool': 1169, 'points': 437, 'teddy': 2897}\n"
     ]
    }
   ],
   "source": [
    "print(vocab_to_int)"
   ]
  },
  {
   "cell_type": "markdown",
   "metadata": {
    "deletable": true,
    "editable": true
   },
   "source": [
    "## Build the Neural Network\n",
    "You'll build the components necessary to build a RNN by implementing the following functions below:\n",
    "- get_inputs\n",
    "- get_init_cell\n",
    "- get_embed\n",
    "- build_rnn\n",
    "- build_nn\n",
    "- get_batches\n",
    "\n",
    "### Check the Version of TensorFlow and Access to GPU"
   ]
  },
  {
   "cell_type": "code",
   "execution_count": 8,
   "metadata": {
    "collapsed": false,
    "deletable": true,
    "editable": true
   },
   "outputs": [
    {
     "name": "stdout",
     "output_type": "stream",
     "text": [
      "TensorFlow Version: 1.0.0\n",
      "Default GPU Device: /gpu:0\n"
     ]
    }
   ],
   "source": [
    "\"\"\"\n",
    "DON'T MODIFY ANYTHING IN THIS CELL\n",
    "\"\"\"\n",
    "from distutils.version import LooseVersion\n",
    "import warnings\n",
    "import tensorflow as tf\n",
    "\n",
    "# Check TensorFlow Version\n",
    "assert LooseVersion(tf.__version__) >= LooseVersion('1.0'), 'Please use TensorFlow version 1.0 or newer'\n",
    "print('TensorFlow Version: {}'.format(tf.__version__))\n",
    "\n",
    "# Check for a GPU\n",
    "if not tf.test.gpu_device_name():\n",
    "    warnings.warn('No GPU found. Please use a GPU to train your neural network.')\n",
    "else:\n",
    "    print('Default GPU Device: {}'.format(tf.test.gpu_device_name()))"
   ]
  },
  {
   "cell_type": "markdown",
   "metadata": {
    "deletable": true,
    "editable": true
   },
   "source": [
    "### Input\n",
    "Implement the `get_inputs()` function to create TF Placeholders for the Neural Network.  It should create the following placeholders:\n",
    "- Input text placeholder named \"input\" using the [TF Placeholder](https://www.tensorflow.org/api_docs/python/tf/placeholder) `name` parameter.\n",
    "- Targets placeholder\n",
    "- Learning Rate placeholder\n",
    "\n",
    "Return the placeholders in the following the tuple `(Input, Targets, LearingRate)`"
   ]
  },
  {
   "cell_type": "code",
   "execution_count": 9,
   "metadata": {
    "collapsed": false,
    "deletable": true,
    "editable": true
   },
   "outputs": [
    {
     "name": "stdout",
     "output_type": "stream",
     "text": [
      "Tests Passed\n"
     ]
    }
   ],
   "source": [
    "def get_inputs():\n",
    "    \"\"\"\n",
    "    Create TF Placeholders for input, targets, and learning rate.\n",
    "    :return: Tuple (input, targets, learning rate)\n",
    "    \"\"\"\n",
    "    # TODO: Implement Function\n",
    "    input = tf.placeholder(tf.int32, [None, None], name=\"input\")\n",
    "    targets = tf.placeholder(tf.int32, [None, None], name=\"targets\")\n",
    "    learning_rate = tf.placeholder(tf.float32, None, name=\"learning_rate\")\n",
    "    return (input, targets, learning_rate)\n",
    "\n",
    "\n",
    "\"\"\"\n",
    "DON'T MODIFY ANYTHING IN THIS CELL THAT IS BELOW THIS LINE\n",
    "\"\"\"\n",
    "tests.test_get_inputs(get_inputs)"
   ]
  },
  {
   "cell_type": "markdown",
   "metadata": {
    "deletable": true,
    "editable": true
   },
   "source": [
    "### Build RNN Cell and Initialize\n",
    "Stack one or more [`BasicLSTMCells`](https://www.tensorflow.org/api_docs/python/tf/contrib/rnn/BasicLSTMCell) in a [`MultiRNNCell`](https://www.tensorflow.org/api_docs/python/tf/contrib/rnn/MultiRNNCell).\n",
    "- The Rnn size should be set using `rnn_size`\n",
    "- Initalize Cell State using the MultiRNNCell's [`zero_state()`](https://www.tensorflow.org/api_docs/python/tf/contrib/rnn/MultiRNNCell#zero_state) function\n",
    "    - Apply the name \"initial_state\" to the initial state using [`tf.identity()`](https://www.tensorflow.org/api_docs/python/tf/identity)\n",
    "\n",
    "Return the cell and initial state in the following tuple `(Cell, InitialState)`"
   ]
  },
  {
   "cell_type": "code",
   "execution_count": 10,
   "metadata": {
    "collapsed": false,
    "deletable": true,
    "editable": true
   },
   "outputs": [
    {
     "name": "stdout",
     "output_type": "stream",
     "text": [
      "Tests Passed\n"
     ]
    }
   ],
   "source": [
    "def get_init_cell(batch_size, rnn_size):\n",
    "    \"\"\"\n",
    "    Create an RNN Cell and initialize it.\n",
    "    :param batch_size: Size of batches\n",
    "    :param rnn_size: Size of RNNs\n",
    "    :return: Tuple (cell, initialize state)\n",
    "    \"\"\"\n",
    "\n",
    "    \n",
    "    num_layers = 10\n",
    "    keep_prob = 0.5\n",
    "\n",
    "    cell = tf.contrib.rnn.BasicLSTMCell(rnn_size)\n",
    "    drop = tf.contrib.rnn.DropoutWrapper(cell, output_keep_prob=keep_prob)\n",
    "    cell = tf.contrib.rnn.MultiRNNCell([drop] * num_layers)\n",
    "    initial_state = cell.zero_state(batch_size, tf.float32)\n",
    "    initial_state = tf.identity(initial_state, name = 'initial_state')\n",
    "\n",
    "    return cell, initial_state\n",
    "\n",
    "\n",
    "\"\"\"\n",
    "DON'T MODIFY ANYTHING IN THIS CELL THAT IS BELOW THIS LINE\n",
    "\"\"\"\n",
    "tests.test_get_init_cell(get_init_cell)"
   ]
  },
  {
   "cell_type": "markdown",
   "metadata": {
    "deletable": true,
    "editable": true
   },
   "source": [
    "### Word Embedding\n",
    "Apply embedding to `input_data` using TensorFlow.  Return the embedded sequence."
   ]
  },
  {
   "cell_type": "code",
   "execution_count": 11,
   "metadata": {
    "collapsed": false,
    "deletable": true,
    "editable": true
   },
   "outputs": [
    {
     "name": "stdout",
     "output_type": "stream",
     "text": [
      "Tests Passed\n"
     ]
    }
   ],
   "source": [
    "def get_embed(input_data, vocab_size, embed_dim):\n",
    "    \"\"\"\n",
    "    Create embedding for <input_data>.\n",
    "    :param input_data: TF placeholder for text input.\n",
    "    :param vocab_size: Number of words in vocabulary.\n",
    "    :param embed_dim: Number of embedding dimensions\n",
    "    :return: Embedded input.\n",
    "    \"\"\"\n",
    "    # TODO: Implement Function\n",
    "    embedding = tf.Variable(tf.random_uniform(shape = [vocab_size, embed_dim], minval = -1, maxval = 1))\n",
    "    embedded_input = tf.nn.embedding_lookup(embedding, input_data)\n",
    "\n",
    "    return embedded_input\n",
    "\n",
    "\"\"\"\n",
    "DON'T MODIFY ANYTHING IN THIS CELL THAT IS BELOW THIS LINE\n",
    "\"\"\"\n",
    "tests.test_get_embed(get_embed)"
   ]
  },
  {
   "cell_type": "markdown",
   "metadata": {
    "deletable": true,
    "editable": true
   },
   "source": [
    "### Build RNN\n",
    "You created a RNN Cell in the `get_init_cell()` function.  Time to use the cell to create a RNN.\n",
    "- Build the RNN using the [`tf.nn.dynamic_rnn()`](https://www.tensorflow.org/api_docs/python/tf/nn/dynamic_rnn)\n",
    " - Apply the name \"final_state\" to the final state using [`tf.identity()`](https://www.tensorflow.org/api_docs/python/tf/identity)\n",
    "\n",
    "Return the outputs and final_state state in the following tuple `(Outputs, FinalState)` "
   ]
  },
  {
   "cell_type": "code",
   "execution_count": 12,
   "metadata": {
    "collapsed": false,
    "deletable": true,
    "editable": true
   },
   "outputs": [
    {
     "name": "stdout",
     "output_type": "stream",
     "text": [
      "Tests Passed\n"
     ]
    }
   ],
   "source": [
    "def build_rnn(cell, inputs):\n",
    "    \"\"\"\n",
    "    Create a RNN using a RNN Cell\n",
    "    :param cell: RNN Cell\n",
    "    :param inputs: Input text data\n",
    "    :return: Tuple (Outputs, Final State)\n",
    "    \"\"\"\n",
    "    # TODO: Implement Function\n",
    "    outputs, final_state = tf.nn.dynamic_rnn(cell, inputs, dtype = 'float32')\n",
    "    final_state = tf.identity(final_state, name = 'final_state')\n",
    "\n",
    "    return outputs, final_state\n",
    "\n",
    "\n",
    "\"\"\"\n",
    "DON'T MODIFY ANYTHING IN THIS CELL THAT IS BELOW THIS LINE\n",
    "\"\"\"\n",
    "tests.test_build_rnn(build_rnn)"
   ]
  },
  {
   "cell_type": "markdown",
   "metadata": {
    "deletable": true,
    "editable": true
   },
   "source": [
    "### Build the Neural Network\n",
    "Apply the functions you implemented above to:\n",
    "- Apply embedding to `input_data` using your `get_embed(input_data, vocab_size, embed_dim)` function.\n",
    "- Build RNN using `cell` and your `build_rnn(cell, inputs)` function.\n",
    "- Apply a fully connected layer with a linear activation and `vocab_size` as the number of outputs.\n",
    "\n",
    "Return the logits and final state in the following tuple (Logits, FinalState) "
   ]
  },
  {
   "cell_type": "code",
   "execution_count": 13,
   "metadata": {
    "collapsed": false,
    "deletable": true,
    "editable": true
   },
   "outputs": [
    {
     "name": "stdout",
     "output_type": "stream",
     "text": [
      "Tests Passed\n"
     ]
    }
   ],
   "source": [
    "def build_nn(cell, rnn_size, input_data, vocab_size):\n",
    "    \"\"\"\n",
    "    Build part of the neural network\n",
    "    :param cell: RNN cell\n",
    "    :param rnn_size: Size of rnns\n",
    "    :param input_data: Input data\n",
    "    :param vocab_size: Vocabulary size\n",
    "    :return: Tuple (Logits, FinalState)\n",
    "    \"\"\"\n",
    "    # TODO: Implement Function\n",
    "    embed = get_embed(input_data, vocab_size, rnn_size)\n",
    "    outputs, finalstate = build_rnn(cell, embed)\n",
    "    logits = tf.contrib.layers.fully_connected(outputs, vocab_size, activation_fn = None)\n",
    "    return logits, finalstate\n",
    "\n",
    "\"\"\"\n",
    "DON'T MODIFY ANYTHING IN THIS CELL THAT IS BELOW THIS LINE\n",
    "\"\"\"\n",
    "tests.test_build_nn(build_nn)"
   ]
  },
  {
   "cell_type": "markdown",
   "metadata": {
    "deletable": true,
    "editable": true
   },
   "source": [
    "### Batches\n",
    "Implement `get_batches` to create batches of input and targets using `int_text`.  The batches should be a Numpy array with the shape `(number of batches, 2, batch size, sequence length)`. Each batch contains two elements:\n",
    "- The first element is a single batch of **input** with the shape `[batch size, sequence length]`\n",
    "- The second element is a single batch of **targets** with the shape `[batch size, sequence length]`\n",
    "\n",
    "If you can't fill the last batch with enough data, drop the last batch.\n",
    "\n",
    "For exmple, `get_batches([1, 2, 3, 4, 5, 6, 7, 8, 9, 10, 11, 12, 13, 14, 15], 2, 3)` would return a Numpy array of the following:\n",
    "```\n",
    "[\n",
    "  # First Batch\n",
    "  [\n",
    "    # Batch of Input\n",
    "    [[ 1  2  3], [ 7  8  9]],\n",
    "    # Batch of targets\n",
    "    [[ 2  3  4], [ 8  9 10]]\n",
    "  ],\n",
    " \n",
    "  # Second Batch\n",
    "  [\n",
    "    # Batch of Input\n",
    "    [[ 4  5  6], [10 11 12]],\n",
    "    # Batch of targets\n",
    "    [[ 5  6  7], [11 12 13]]\n",
    "  ]\n",
    "]\n",
    "```"
   ]
  },
  {
   "cell_type": "code",
   "execution_count": 14,
   "metadata": {
    "collapsed": false,
    "deletable": true,
    "editable": true
   },
   "outputs": [
    {
     "name": "stdout",
     "output_type": "stream",
     "text": [
      "Tests Passed\n"
     ]
    }
   ],
   "source": [
    "def get_batches(int_text, batch_size, seq_length):\n",
    "    \"\"\"\n",
    "    Return batches of input and target\n",
    "    :param int_text: Text with the words replaced by their ids\n",
    "    :param batch_size: The size of batch\n",
    "    :param seq_length: The length of sequence\n",
    "    :return: Batches as a Numpy array\n",
    "    \"\"\"\n",
    "    # TODO: Implement Function\n",
    "    n_batches = int(len(int_text) / (batch_size * seq_length))\n",
    "\n",
    "    # Using only full batches\n",
    "    x = np.array(int_text[: n_batches * batch_size * seq_length])\n",
    "    y = np.array(int_text[1: n_batches * batch_size * seq_length + 1])\n",
    "\n",
    "    x_batches = np.split(x.reshape(batch_size, -1), n_batches, 1)\n",
    "    y_batches = np.split(y.reshape(batch_size, -1), n_batches, 1)\n",
    "\n",
    "    return np.array(list(zip(x_batches, y_batches)))\n",
    "\n",
    "\n",
    "\"\"\"\n",
    "DON'T MODIFY ANYTHING IN THIS CELL THAT IS BELOW THIS LINE\n",
    "\"\"\"\n",
    "tests.test_get_batches(get_batches)"
   ]
  },
  {
   "cell_type": "markdown",
   "metadata": {
    "deletable": true,
    "editable": true
   },
   "source": [
    "## Neural Network Training\n",
    "### Hyperparameters\n",
    "Tune the following parameters:\n",
    "\n",
    "- Set `num_epochs` to the number of epochs.\n",
    "- Set `batch_size` to the batch size.\n",
    "- Set `rnn_size` to the size of the RNNs.\n",
    "- Set `seq_length` to the length of sequence.\n",
    "- Set `learning_rate` to the learning rate.\n",
    "- Set `show_every_n_batches` to the number of batches the neural network should print progress."
   ]
  },
  {
   "cell_type": "code",
   "execution_count": 15,
   "metadata": {
    "collapsed": true,
    "deletable": true,
    "editable": true
   },
   "outputs": [],
   "source": [
    "# Number of Epochs\n",
    "num_epochs = 100\n",
    "# Batch Size\n",
    "batch_size = 256\n",
    "# RNN Size\n",
    "rnn_size = 1024\n",
    "# Sequence Length\n",
    "seq_length = 10\n",
    "# Learning Rate\n",
    "learning_rate = 0.001\n",
    "# Show stats for every n number of batches\n",
    "show_every_n_batches = 10\n",
    "\n",
    "\"\"\"\n",
    "DON'T MODIFY ANYTHING IN THIS CELL THAT IS BELOW THIS LINE\n",
    "\"\"\"\n",
    "save_dir = './save'"
   ]
  },
  {
   "cell_type": "markdown",
   "metadata": {
    "deletable": true,
    "editable": true
   },
   "source": [
    "### Build the Graph\n",
    "Build the graph using the neural network you implemented."
   ]
  },
  {
   "cell_type": "code",
   "execution_count": 16,
   "metadata": {
    "collapsed": false,
    "deletable": true,
    "editable": true
   },
   "outputs": [],
   "source": [
    "\"\"\"\n",
    "DON'T MODIFY ANYTHING IN THIS CELL\n",
    "\"\"\"\n",
    "from tensorflow.contrib import seq2seq\n",
    "\n",
    "train_graph = tf.Graph()\n",
    "with train_graph.as_default():\n",
    "    vocab_size = len(int_to_vocab)\n",
    "    input_text, targets, lr = get_inputs()\n",
    "    input_data_shape = tf.shape(input_text)\n",
    "    cell, initial_state = get_init_cell(input_data_shape[0], rnn_size)\n",
    "    logits, final_state = build_nn(cell, rnn_size, input_text, vocab_size)\n",
    "\n",
    "    # Probabilities for generating words\n",
    "    probs = tf.nn.softmax(logits, name='probs')\n",
    "\n",
    "    # Loss function\n",
    "    cost = seq2seq.sequence_loss(\n",
    "        logits,\n",
    "        targets,\n",
    "        tf.ones([input_data_shape[0], input_data_shape[1]]))\n",
    "\n",
    "    # Optimizer\n",
    "    optimizer = tf.train.AdamOptimizer(lr)\n",
    "\n",
    "    # Gradient Clipping\n",
    "    gradients = optimizer.compute_gradients(cost)\n",
    "    capped_gradients = [(tf.clip_by_value(grad, -1., 1.), var) for grad, var in gradients]\n",
    "    train_op = optimizer.apply_gradients(capped_gradients)"
   ]
  },
  {
   "cell_type": "markdown",
   "metadata": {
    "deletable": true,
    "editable": true
   },
   "source": [
    "## Train\n",
    "Train the neural network on the preprocessed data.  If you have a hard time getting a good loss, check the [forms](https://discussions.udacity.com/) to see if anyone is having the same problem."
   ]
  },
  {
   "cell_type": "code",
   "execution_count": 17,
   "metadata": {
    "collapsed": false,
    "deletable": true,
    "editable": true
   },
   "outputs": [
    {
     "name": "stdout",
     "output_type": "stream",
     "text": [
      "Epoch   0 Batch    0/26   train_loss = 8.822\n",
      "Epoch   0 Batch   10/26   train_loss = 6.471\n",
      "Epoch   0 Batch   20/26   train_loss = 6.059\n",
      "Epoch   1 Batch    4/26   train_loss = 6.010\n",
      "Epoch   1 Batch   14/26   train_loss = 6.015\n",
      "Epoch   1 Batch   24/26   train_loss = 6.076\n",
      "Epoch   2 Batch    8/26   train_loss = 5.908\n",
      "Epoch   2 Batch   18/26   train_loss = 5.922\n",
      "Epoch   3 Batch    2/26   train_loss = 5.954\n",
      "Epoch   3 Batch   12/26   train_loss = 5.904\n",
      "Epoch   3 Batch   22/26   train_loss = 5.969\n",
      "Epoch   4 Batch    6/26   train_loss = 5.894\n",
      "Epoch   4 Batch   16/26   train_loss = 6.087\n",
      "Epoch   5 Batch    0/26   train_loss = 6.042\n",
      "Epoch   5 Batch   10/26   train_loss = 5.940\n",
      "Epoch   5 Batch   20/26   train_loss = 5.875\n",
      "Epoch   6 Batch    4/26   train_loss = 5.925\n",
      "Epoch   6 Batch   14/26   train_loss = 5.981\n",
      "Epoch   6 Batch   24/26   train_loss = 6.018\n",
      "Epoch   7 Batch    8/26   train_loss = 5.886\n",
      "Epoch   7 Batch   18/26   train_loss = 5.869\n",
      "Epoch   8 Batch    2/26   train_loss = 5.917\n",
      "Epoch   8 Batch   12/26   train_loss = 5.876\n",
      "Epoch   8 Batch   22/26   train_loss = 5.929\n",
      "Epoch   9 Batch    6/26   train_loss = 5.871\n",
      "Epoch   9 Batch   16/26   train_loss = 5.996\n",
      "Epoch  10 Batch    0/26   train_loss = 5.987\n",
      "Epoch  10 Batch   10/26   train_loss = 5.911\n",
      "Epoch  10 Batch   20/26   train_loss = 5.834\n",
      "Epoch  11 Batch    4/26   train_loss = 5.892\n",
      "Epoch  11 Batch   14/26   train_loss = 5.946\n",
      "Epoch  11 Batch   24/26   train_loss = 5.971\n",
      "Epoch  12 Batch    8/26   train_loss = 5.863\n",
      "Epoch  12 Batch   18/26   train_loss = 5.848\n",
      "Epoch  13 Batch    2/26   train_loss = 5.886\n",
      "Epoch  13 Batch   12/26   train_loss = 5.854\n",
      "Epoch  13 Batch   22/26   train_loss = 5.895\n",
      "Epoch  14 Batch    6/26   train_loss = 5.840\n",
      "Epoch  14 Batch   16/26   train_loss = 5.970\n",
      "Epoch  15 Batch    0/26   train_loss = 5.949\n",
      "Epoch  15 Batch   10/26   train_loss = 5.882\n",
      "Epoch  15 Batch   20/26   train_loss = 5.810\n",
      "Epoch  16 Batch    4/26   train_loss = 5.843\n",
      "Epoch  16 Batch   14/26   train_loss = 5.913\n",
      "Epoch  16 Batch   24/26   train_loss = 5.945\n",
      "Epoch  17 Batch    8/26   train_loss = 5.838\n",
      "Epoch  17 Batch   18/26   train_loss = 5.805\n",
      "Epoch  18 Batch    2/26   train_loss = 5.852\n",
      "Epoch  18 Batch   12/26   train_loss = 5.811\n",
      "Epoch  18 Batch   22/26   train_loss = 5.869\n",
      "Epoch  19 Batch    6/26   train_loss = 5.812\n",
      "Epoch  19 Batch   16/26   train_loss = 5.929\n",
      "Epoch  20 Batch    0/26   train_loss = 5.918\n",
      "Epoch  20 Batch   10/26   train_loss = 5.852\n",
      "Epoch  20 Batch   20/26   train_loss = 5.778\n",
      "Epoch  21 Batch    4/26   train_loss = 5.817\n",
      "Epoch  21 Batch   14/26   train_loss = 5.882\n",
      "Epoch  21 Batch   24/26   train_loss = 5.897\n",
      "Epoch  22 Batch    8/26   train_loss = 5.791\n",
      "Epoch  22 Batch   18/26   train_loss = 5.767\n",
      "Epoch  23 Batch    2/26   train_loss = 5.811\n",
      "Epoch  23 Batch   12/26   train_loss = 5.774\n",
      "Epoch  23 Batch   22/26   train_loss = 5.834\n",
      "Epoch  24 Batch    6/26   train_loss = 5.778\n",
      "Epoch  24 Batch   16/26   train_loss = 5.894\n",
      "Epoch  25 Batch    0/26   train_loss = 5.879\n",
      "Epoch  25 Batch   10/26   train_loss = 5.801\n",
      "Epoch  25 Batch   20/26   train_loss = 5.744\n",
      "Epoch  26 Batch    4/26   train_loss = 5.786\n",
      "Epoch  26 Batch   14/26   train_loss = 5.848\n",
      "Epoch  26 Batch   24/26   train_loss = 5.872\n",
      "Epoch  27 Batch    8/26   train_loss = 5.753\n",
      "Epoch  27 Batch   18/26   train_loss = 5.720\n",
      "Epoch  28 Batch    2/26   train_loss = 5.766\n",
      "Epoch  28 Batch   12/26   train_loss = 5.743\n",
      "Epoch  28 Batch   22/26   train_loss = 5.799\n",
      "Epoch  29 Batch    6/26   train_loss = 5.744\n",
      "Epoch  29 Batch   16/26   train_loss = 5.849\n",
      "Epoch  30 Batch    0/26   train_loss = 5.846\n",
      "Epoch  30 Batch   10/26   train_loss = 5.775\n",
      "Epoch  30 Batch   20/26   train_loss = 5.702\n",
      "Epoch  31 Batch    4/26   train_loss = 5.744\n",
      "Epoch  31 Batch   14/26   train_loss = 5.800\n",
      "Epoch  31 Batch   24/26   train_loss = 5.824\n",
      "Epoch  32 Batch    8/26   train_loss = 5.727\n",
      "Epoch  32 Batch   18/26   train_loss = 5.673\n",
      "Epoch  33 Batch    2/26   train_loss = 5.727\n",
      "Epoch  33 Batch   12/26   train_loss = 5.712\n",
      "Epoch  33 Batch   22/26   train_loss = 5.769\n",
      "Epoch  34 Batch    6/26   train_loss = 5.711\n",
      "Epoch  34 Batch   16/26   train_loss = 5.818\n",
      "Epoch  35 Batch    0/26   train_loss = 5.802\n",
      "Epoch  35 Batch   10/26   train_loss = 5.734\n",
      "Epoch  35 Batch   20/26   train_loss = 5.665\n",
      "Epoch  36 Batch    4/26   train_loss = 5.707\n",
      "Epoch  36 Batch   14/26   train_loss = 5.772\n",
      "Epoch  36 Batch   24/26   train_loss = 5.798\n",
      "Epoch  37 Batch    8/26   train_loss = 5.699\n",
      "Epoch  37 Batch   18/26   train_loss = 5.644\n",
      "Epoch  38 Batch    2/26   train_loss = 5.711\n",
      "Epoch  38 Batch   12/26   train_loss = 5.673\n",
      "Epoch  38 Batch   22/26   train_loss = 5.738\n",
      "Epoch  39 Batch    6/26   train_loss = 5.686\n",
      "Epoch  39 Batch   16/26   train_loss = 5.787\n",
      "Epoch  40 Batch    0/26   train_loss = 5.761\n",
      "Epoch  40 Batch   10/26   train_loss = 5.720\n",
      "Epoch  40 Batch   20/26   train_loss = 5.635\n",
      "Epoch  41 Batch    4/26   train_loss = 5.677\n",
      "Epoch  41 Batch   14/26   train_loss = 5.750\n",
      "Epoch  41 Batch   24/26   train_loss = 5.765\n",
      "Epoch  42 Batch    8/26   train_loss = 5.662\n",
      "Epoch  42 Batch   18/26   train_loss = 5.633\n",
      "Epoch  43 Batch    2/26   train_loss = 5.674\n",
      "Epoch  43 Batch   12/26   train_loss = 5.660\n",
      "Epoch  43 Batch   22/26   train_loss = 5.711\n",
      "Epoch  44 Batch    6/26   train_loss = 5.657\n",
      "Epoch  44 Batch   16/26   train_loss = 5.761\n",
      "Epoch  45 Batch    0/26   train_loss = 5.749\n",
      "Epoch  45 Batch   10/26   train_loss = 5.692\n",
      "Epoch  45 Batch   20/26   train_loss = 5.623\n",
      "Epoch  46 Batch    4/26   train_loss = 5.673\n",
      "Epoch  46 Batch   14/26   train_loss = 5.729\n",
      "Epoch  46 Batch   24/26   train_loss = 5.741\n",
      "Epoch  47 Batch    8/26   train_loss = 5.651\n",
      "Epoch  47 Batch   18/26   train_loss = 5.614\n",
      "Epoch  48 Batch    2/26   train_loss = 5.661\n",
      "Epoch  48 Batch   12/26   train_loss = 5.643\n",
      "Epoch  48 Batch   22/26   train_loss = 5.695\n",
      "Epoch  49 Batch    6/26   train_loss = 5.642\n",
      "Epoch  49 Batch   16/26   train_loss = 5.751\n",
      "Epoch  50 Batch    0/26   train_loss = 5.724\n",
      "Epoch  50 Batch   10/26   train_loss = 5.664\n",
      "Epoch  50 Batch   20/26   train_loss = 5.595\n",
      "Epoch  51 Batch    4/26   train_loss = 5.652\n",
      "Epoch  51 Batch   14/26   train_loss = 5.699\n",
      "Epoch  51 Batch   24/26   train_loss = 5.718\n",
      "Epoch  52 Batch    8/26   train_loss = 5.619\n",
      "Epoch  52 Batch   18/26   train_loss = 5.586\n",
      "Epoch  53 Batch    2/26   train_loss = 5.642\n",
      "Epoch  53 Batch   12/26   train_loss = 5.629\n",
      "Epoch  53 Batch   22/26   train_loss = 5.672\n",
      "Epoch  54 Batch    6/26   train_loss = 5.632\n",
      "Epoch  54 Batch   16/26   train_loss = 5.723\n",
      "Epoch  55 Batch    0/26   train_loss = 5.709\n",
      "Epoch  55 Batch   10/26   train_loss = 5.670\n",
      "Epoch  55 Batch   20/26   train_loss = 5.578\n",
      "Epoch  56 Batch    4/26   train_loss = 5.626\n",
      "Epoch  56 Batch   14/26   train_loss = 5.776\n",
      "Epoch  56 Batch   24/26   train_loss = 7.072\n",
      "Epoch  57 Batch    8/26   train_loss = 6.139\n",
      "Epoch  57 Batch   18/26   train_loss = 5.888\n",
      "Epoch  58 Batch    2/26   train_loss = 5.904\n",
      "Epoch  58 Batch   12/26   train_loss = 5.681\n",
      "Epoch  58 Batch   22/26   train_loss = 5.657\n",
      "Epoch  59 Batch    6/26   train_loss = 5.634\n",
      "Epoch  59 Batch   16/26   train_loss = 5.696\n",
      "Epoch  60 Batch    0/26   train_loss = 5.714\n",
      "Epoch  60 Batch   10/26   train_loss = 5.650\n",
      "Epoch  60 Batch   20/26   train_loss = 5.549\n",
      "Epoch  61 Batch    4/26   train_loss = 5.637\n",
      "Epoch  61 Batch   14/26   train_loss = 5.661\n",
      "Epoch  61 Batch   24/26   train_loss = 5.706\n",
      "Epoch  62 Batch    8/26   train_loss = 5.605\n",
      "Epoch  62 Batch   18/26   train_loss = 5.550\n",
      "Epoch  63 Batch    2/26   train_loss = 5.599\n",
      "Epoch  63 Batch   12/26   train_loss = 5.576\n",
      "Epoch  63 Batch   22/26   train_loss = 5.616\n",
      "Epoch  64 Batch    6/26   train_loss = 5.550\n",
      "Epoch  64 Batch   16/26   train_loss = 5.601\n",
      "Epoch  65 Batch    0/26   train_loss = 5.543\n",
      "Epoch  65 Batch   10/26   train_loss = 5.425\n",
      "Epoch  65 Batch   20/26   train_loss = 5.309\n",
      "Epoch  66 Batch    4/26   train_loss = 5.300\n",
      "Epoch  66 Batch   14/26   train_loss = 5.320\n",
      "Epoch  66 Batch   24/26   train_loss = 5.312\n",
      "Epoch  67 Batch    8/26   train_loss = 5.146\n",
      "Epoch  67 Batch   18/26   train_loss = 5.094\n",
      "Epoch  68 Batch    2/26   train_loss = 5.137\n",
      "Epoch  68 Batch   12/26   train_loss = 5.070\n",
      "Epoch  68 Batch   22/26   train_loss = 5.058\n",
      "Epoch  69 Batch    6/26   train_loss = 5.028\n",
      "Epoch  69 Batch   16/26   train_loss = 5.161\n",
      "Epoch  70 Batch    0/26   train_loss = 5.071\n",
      "Epoch  70 Batch   10/26   train_loss = 4.981\n",
      "Epoch  70 Batch   20/26   train_loss = 4.889\n",
      "Epoch  71 Batch    4/26   train_loss = 4.916\n",
      "Epoch  71 Batch   14/26   train_loss = 4.955\n",
      "Epoch  71 Batch   24/26   train_loss = 4.959\n",
      "Epoch  72 Batch    8/26   train_loss = 4.814\n",
      "Epoch  72 Batch   18/26   train_loss = 4.807\n",
      "Epoch  73 Batch    2/26   train_loss = 4.827\n",
      "Epoch  73 Batch   12/26   train_loss = 4.813\n",
      "Epoch  73 Batch   22/26   train_loss = 4.772\n",
      "Epoch  74 Batch    6/26   train_loss = 4.756\n",
      "Epoch  74 Batch   16/26   train_loss = 4.857\n",
      "Epoch  75 Batch    0/26   train_loss = 4.774\n",
      "Epoch  75 Batch   10/26   train_loss = 4.694\n",
      "Epoch  75 Batch   20/26   train_loss = 4.605\n",
      "Epoch  76 Batch    4/26   train_loss = 4.646\n",
      "Epoch  76 Batch   14/26   train_loss = 4.691\n",
      "Epoch  76 Batch   24/26   train_loss = 4.684\n",
      "Epoch  77 Batch    8/26   train_loss = 4.587\n",
      "Epoch  77 Batch   18/26   train_loss = 4.527\n",
      "Epoch  78 Batch    2/26   train_loss = 4.572\n",
      "Epoch  78 Batch   12/26   train_loss = 4.570\n",
      "Epoch  78 Batch   22/26   train_loss = 4.534\n",
      "Epoch  79 Batch    6/26   train_loss = 4.537\n",
      "Epoch  79 Batch   16/26   train_loss = 4.612\n",
      "Epoch  80 Batch    0/26   train_loss = 4.548\n",
      "Epoch  80 Batch   10/26   train_loss = 4.459\n",
      "Epoch  80 Batch   20/26   train_loss = 4.382\n",
      "Epoch  81 Batch    4/26   train_loss = 4.444\n",
      "Epoch  81 Batch   14/26   train_loss = 4.483\n",
      "Epoch  81 Batch   24/26   train_loss = 4.498\n",
      "Epoch  82 Batch    8/26   train_loss = 4.390\n",
      "Epoch  82 Batch   18/26   train_loss = 4.360\n",
      "Epoch  83 Batch    2/26   train_loss = 4.419\n",
      "Epoch  83 Batch   12/26   train_loss = 4.389\n",
      "Epoch  83 Batch   22/26   train_loss = 4.372\n",
      "Epoch  84 Batch    6/26   train_loss = 4.379\n",
      "Epoch  84 Batch   16/26   train_loss = 4.430\n",
      "Epoch  85 Batch    0/26   train_loss = 4.365\n",
      "Epoch  85 Batch   10/26   train_loss = 4.332\n",
      "Epoch  85 Batch   20/26   train_loss = 4.231\n",
      "Epoch  86 Batch    4/26   train_loss = 4.246\n",
      "Epoch  86 Batch   14/26   train_loss = 4.297\n",
      "Epoch  86 Batch   24/26   train_loss = 4.292\n",
      "Epoch  87 Batch    8/26   train_loss = 4.208\n",
      "Epoch  87 Batch   18/26   train_loss = 4.194\n",
      "Epoch  88 Batch    2/26   train_loss = 4.249\n",
      "Epoch  88 Batch   12/26   train_loss = 4.217\n",
      "Epoch  88 Batch   22/26   train_loss = 4.169\n",
      "Epoch  89 Batch    6/26   train_loss = 4.216\n",
      "Epoch  89 Batch   16/26   train_loss = 4.232\n",
      "Epoch  90 Batch    0/26   train_loss = 4.192\n",
      "Epoch  90 Batch   10/26   train_loss = 4.136\n",
      "Epoch  90 Batch   20/26   train_loss = 4.054\n",
      "Epoch  91 Batch    4/26   train_loss = 4.054\n",
      "Epoch  91 Batch   14/26   train_loss = 4.116\n",
      "Epoch  91 Batch   24/26   train_loss = 4.114\n",
      "Epoch  92 Batch    8/26   train_loss = 4.064\n",
      "Epoch  92 Batch   18/26   train_loss = 4.025\n",
      "Epoch  93 Batch    2/26   train_loss = 4.038\n",
      "Epoch  93 Batch   12/26   train_loss = 4.060\n",
      "Epoch  93 Batch   22/26   train_loss = 4.028\n",
      "Epoch  94 Batch    6/26   train_loss = 4.051\n",
      "Epoch  94 Batch   16/26   train_loss = 4.082\n",
      "Epoch  95 Batch    0/26   train_loss = 4.017\n",
      "Epoch  95 Batch   10/26   train_loss = 3.998\n",
      "Epoch  95 Batch   20/26   train_loss = 3.903\n",
      "Epoch  96 Batch    4/26   train_loss = 3.949\n",
      "Epoch  96 Batch   14/26   train_loss = 3.979\n",
      "Epoch  96 Batch   24/26   train_loss = 3.981\n",
      "Epoch  97 Batch    8/26   train_loss = 3.946\n",
      "Epoch  97 Batch   18/26   train_loss = 3.887\n",
      "Epoch  98 Batch    2/26   train_loss = 3.904\n",
      "Epoch  98 Batch   12/26   train_loss = 3.946\n",
      "Epoch  98 Batch   22/26   train_loss = 3.875\n",
      "Epoch  99 Batch    6/26   train_loss = 3.961\n",
      "Epoch  99 Batch   16/26   train_loss = 3.961\n",
      "Model Trained and Saved\n"
     ]
    }
   ],
   "source": [
    "\"\"\"\n",
    "DON'T MODIFY ANYTHING IN THIS CELL\n",
    "\"\"\"\n",
    "batches = get_batches(int_text, batch_size, seq_length)\n",
    "\n",
    "with tf.Session(graph=train_graph) as sess:\n",
    "    sess.run(tf.global_variables_initializer())\n",
    "\n",
    "    for epoch_i in range(num_epochs):\n",
    "        state = sess.run(initial_state, {input_text: batches[0][0]})\n",
    "\n",
    "        for batch_i, (x, y) in enumerate(batches):\n",
    "            feed = {\n",
    "                input_text: x,\n",
    "                targets: y,\n",
    "                initial_state: state,\n",
    "                lr: learning_rate}\n",
    "            train_loss, state, _ = sess.run([cost, final_state, train_op], feed)\n",
    "\n",
    "            # Show every <show_every_n_batches> batches\n",
    "            if (epoch_i * len(batches) + batch_i) % show_every_n_batches == 0:\n",
    "                print('Epoch {:>3} Batch {:>4}/{}   train_loss = {:.3f}'.format(\n",
    "                    epoch_i,\n",
    "                    batch_i,\n",
    "                    len(batches),\n",
    "                    train_loss))\n",
    "\n",
    "    # Save Model\n",
    "    saver = tf.train.Saver()\n",
    "    saver.save(sess, save_dir)\n",
    "    print('Model Trained and Saved')"
   ]
  },
  {
   "cell_type": "markdown",
   "metadata": {
    "deletable": true,
    "editable": true
   },
   "source": [
    "## Save Parameters\n",
    "Save `seq_length` and `save_dir` for generating a new TV script."
   ]
  },
  {
   "cell_type": "code",
   "execution_count": 18,
   "metadata": {
    "collapsed": false,
    "deletable": true,
    "editable": true
   },
   "outputs": [],
   "source": [
    "\"\"\"\n",
    "DON'T MODIFY ANYTHING IN THIS CELL\n",
    "\"\"\"\n",
    "# Save parameters for checkpoint\n",
    "helper.save_params((seq_length, save_dir))"
   ]
  },
  {
   "cell_type": "markdown",
   "metadata": {
    "deletable": true,
    "editable": true
   },
   "source": [
    "# Checkpoint"
   ]
  },
  {
   "cell_type": "code",
   "execution_count": 19,
   "metadata": {
    "collapsed": false,
    "deletable": true,
    "editable": true
   },
   "outputs": [],
   "source": [
    "\"\"\"\n",
    "DON'T MODIFY ANYTHING IN THIS CELL\n",
    "\"\"\"\n",
    "import tensorflow as tf\n",
    "import numpy as np\n",
    "import helper\n",
    "import problem_unittests as tests\n",
    "\n",
    "_, vocab_to_int, int_to_vocab, token_dict = helper.load_preprocess()\n",
    "seq_length, load_dir = helper.load_params()"
   ]
  },
  {
   "cell_type": "markdown",
   "metadata": {
    "deletable": true,
    "editable": true
   },
   "source": [
    "## Implement Generate Functions\n",
    "### Get Tensors\n",
    "Get tensors from `loaded_graph` using the function [`get_tensor_by_name()`](https://www.tensorflow.org/api_docs/python/tf/Graph#get_tensor_by_name).  Get the tensors using the following names:\n",
    "- \"input:0\"\n",
    "- \"initial_state:0\"\n",
    "- \"final_state:0\"\n",
    "- \"probs:0\"\n",
    "\n",
    "Return the tensors in the following tuple `(InputTensor, InitialStateTensor, FinalStateTensor, ProbsTensor)` "
   ]
  },
  {
   "cell_type": "code",
   "execution_count": 20,
   "metadata": {
    "collapsed": false,
    "deletable": true,
    "editable": true
   },
   "outputs": [
    {
     "name": "stdout",
     "output_type": "stream",
     "text": [
      "Tests Passed\n"
     ]
    }
   ],
   "source": [
    "def get_tensors(loaded_graph):\n",
    "    \"\"\"\n",
    "    Get input, initial state, final state, and probabilities tensor from <loaded_graph>\n",
    "    :param loaded_graph: TensorFlow graph loaded from file\n",
    "    :return: Tuple (InputTensor, InitialStateTensor, FinalStateTensor, ProbsTensor)\n",
    "    \"\"\"\n",
    "    # TODO: Implement Function\n",
    "    input_tensor = loaded_graph.get_tensor_by_name(\"input:0\")\n",
    "    initial_state_tensor = loaded_graph.get_tensor_by_name(\"initial_state:0\")\n",
    "    final_state_tensor = loaded_graph.get_tensor_by_name(\"final_state:0\")\n",
    "    probs_tensor = loaded_graph.get_tensor_by_name(\"probs:0\")\n",
    "\n",
    "    return input_tensor, initial_state_tensor, final_state_tensor, probs_tensor\n",
    "\n",
    "\n",
    "\"\"\"\n",
    "DON'T MODIFY ANYTHING IN THIS CELL THAT IS BELOW THIS LINE\n",
    "\"\"\"\n",
    "tests.test_get_tensors(get_tensors)"
   ]
  },
  {
   "cell_type": "markdown",
   "metadata": {
    "deletable": true,
    "editable": true
   },
   "source": [
    "### Choose Word\n",
    "Implement the `pick_word()` function to select the next word using `probabilities`."
   ]
  },
  {
   "cell_type": "code",
   "execution_count": 21,
   "metadata": {
    "collapsed": false,
    "deletable": true,
    "editable": true
   },
   "outputs": [
    {
     "name": "stdout",
     "output_type": "stream",
     "text": [
      "Tests Passed\n"
     ]
    }
   ],
   "source": [
    "def pick_word(probabilities, int_to_vocab):\n",
    "    \"\"\"\n",
    "    Pick the next word in the generated text\n",
    "    :param probabilities: Probabilites of the next word\n",
    "    :param int_to_vocab: Dictionary of word ids as the keys and words as the values\n",
    "    :return: String of the predicted word\n",
    "    \"\"\"\n",
    "    # TODO: Implement Function\n",
    "    return np.random.choice(list(int_to_vocab.values()), 1, p=probabilities)[0]\n",
    "\n",
    "\n",
    "\"\"\"\n",
    "DON'T MODIFY ANYTHING IN THIS CELL THAT IS BELOW THIS LINE\n",
    "\"\"\"\n",
    "tests.test_pick_word(pick_word)"
   ]
  },
  {
   "cell_type": "markdown",
   "metadata": {
    "deletable": true,
    "editable": true
   },
   "source": [
    "## Generate TV Script\n",
    "This will generate the TV script for you.  Set `gen_length` to the length of TV script you want to generate."
   ]
  },
  {
   "cell_type": "code",
   "execution_count": 22,
   "metadata": {
    "collapsed": false,
    "deletable": true,
    "editable": true
   },
   "outputs": [
    {
     "name": "stdout",
     "output_type": "stream",
     "text": [
      "moe_szyslak: laughs.\n",
      "moe_szyslak: oh, sweetie, the guess games'd-- get great the bathing game, a determined a honor lisa?\n",
      "homer_simpson:(single himself) be right, moe the bill with flat.\n",
      "homer_simpson: you you laugh? like bart!\n",
      "marge_simpson: hey, moe? hyahh!(marguerite:) really) there's joe mike could through!(my think the all eightball to vengeance\" clench! do your... are ad thing how get say of a studio you cop root and ever suicide like a kids, there's different is your tall book the made.\n",
      "homer_simpson: is are i think of me to! homer_simpson: all that two the secret go up!\n",
      "lisa_simpson:. thrilled is really) i pretty question it a\n",
      "barney_gumble:\n",
      "walther_hotenhoffer: yeah lost go else in everything enemies a go, uh? arms about does you it out at!\n",
      "thought_bubble_homer: now, would up for of. of what a ever shark.\n",
      "bar_rag: yeah, marriage not me at!\n",
      "apu_nahasapeemapetilon: no, i'm do anyone been doin'?\n"
     ]
    }
   ],
   "source": [
    "gen_length = 200\n",
    "# homer_simpson, moe_szyslak, or Barney_Gumble\n",
    "prime_word = 'moe_szyslak'\n",
    "\n",
    "\"\"\"\n",
    "DON'T MODIFY ANYTHING IN THIS CELL THAT IS BELOW THIS LINE\n",
    "\"\"\"\n",
    "loaded_graph = tf.Graph()\n",
    "with tf.Session(graph=loaded_graph) as sess:\n",
    "    # Load saved model\n",
    "    loader = tf.train.import_meta_graph(load_dir + '.meta')\n",
    "    loader.restore(sess, load_dir)\n",
    "\n",
    "    # Get Tensors from loaded model\n",
    "    input_text, initial_state, final_state, probs = get_tensors(loaded_graph)\n",
    "\n",
    "    # Sentences generation setup\n",
    "    gen_sentences = [prime_word + ':']\n",
    "    prev_state = sess.run(initial_state, {input_text: np.array([[1]])})\n",
    "\n",
    "    # Generate sentences\n",
    "    for n in range(gen_length):\n",
    "        # Dynamic Input\n",
    "        dyn_input = [[vocab_to_int[word] for word in gen_sentences[-seq_length:]]]\n",
    "        dyn_seq_length = len(dyn_input[0])\n",
    "\n",
    "        # Get Prediction\n",
    "        probabilities, prev_state = sess.run(\n",
    "            [probs, final_state],\n",
    "            {input_text: dyn_input, initial_state: prev_state})\n",
    "        \n",
    "        pred_word = pick_word(probabilities[dyn_seq_length-1], int_to_vocab)\n",
    "\n",
    "        gen_sentences.append(pred_word)\n",
    "    \n",
    "    # Remove tokens\n",
    "    tv_script = ' '.join(gen_sentences)\n",
    "    for key, token in token_dict.items():\n",
    "        ending = ' ' if key in ['\\n', '(', '\"'] else ''\n",
    "        tv_script = tv_script.replace(' ' + token.lower(), key)\n",
    "    tv_script = tv_script.replace('\\n ', '\\n')\n",
    "    tv_script = tv_script.replace('( ', '(')\n",
    "        \n",
    "    print(tv_script)"
   ]
  },
  {
   "cell_type": "markdown",
   "metadata": {
    "deletable": true,
    "editable": true
   },
   "source": [
    "# The TV Script is Nonsensical\n",
    "It's ok if the TV script doesn't make any sense.  We trained on less than a megabyte of text.  In order to get good results, you'll have to use a smaller vocabulary or get more data.  Luckly there's more data!  As we mentioned in the begging of this project, this is a subset of [another dataset](https://www.kaggle.com/wcukierski/the-simpsons-by-the-data).  We didn't have you train on all the data, because that would take too long.  However, you are free to train your neural network on all the data.  After you complete the project, of course.\n",
    "# Submitting This Project\n",
    "When submitting this project, make sure to run all the cells before saving the notebook. Save the notebook file as \"dlnd_tv_script_generation.ipynb\" and save it as a HTML file under \"File\" -> \"Download as\". Include the \"helper.py\" and \"problem_unittests.py\" files in your submission."
   ]
  }
 ],
 "metadata": {
  "kernelspec": {
   "display_name": "Python 3",
   "language": "python",
   "name": "python3"
  },
  "language_info": {
   "codemirror_mode": {
    "name": "ipython",
    "version": 3
   },
   "file_extension": ".py",
   "mimetype": "text/x-python",
   "name": "python",
   "nbconvert_exporter": "python",
   "pygments_lexer": "ipython3",
   "version": "3.5.2"
  },
  "widgets": {
   "state": {},
   "version": "1.1.2"
  }
 },
 "nbformat": 4,
 "nbformat_minor": 0
}
