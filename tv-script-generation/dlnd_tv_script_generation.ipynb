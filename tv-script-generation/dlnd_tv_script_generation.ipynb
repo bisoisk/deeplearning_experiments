{
 "cells": [
  {
   "cell_type": "markdown",
   "metadata": {
    "deletable": true,
    "editable": true
   },
   "source": [
    "# TV Script Generation\n",
    "In this project, you'll generate your own [Simpsons](https://en.wikipedia.org/wiki/The_Simpsons) TV scripts using RNNs.  You'll be using part of the [Simpsons dataset](https://www.kaggle.com/wcukierski/the-simpsons-by-the-data) of scripts from 27 seasons.  The Neural Network you'll build will generate a new TV script for a scene at [Moe's Tavern](https://simpsonswiki.com/wiki/Moe's_Tavern).\n",
    "## Get the Data\n",
    "The data is already provided for you.  You'll be using a subset of the original dataset.  It consists of only the scenes in Moe's Tavern.  This doesn't include other versions of the tavern, like \"Moe's Cavern\", \"Flaming Moe's\", \"Uncle Moe's Family Feed-Bag\", etc.."
   ]
  },
  {
   "cell_type": "code",
   "execution_count": 1,
   "metadata": {
    "collapsed": false,
    "deletable": true,
    "editable": true
   },
   "outputs": [],
   "source": [
    "\"\"\"\n",
    "DON'T MODIFY ANYTHING IN THIS CELL\n",
    "\"\"\"\n",
    "import helper\n",
    "\n",
    "data_dir = './data/simpsons/moes_tavern_lines.txt'\n",
    "text = helper.load_data(data_dir)\n",
    "# Ignore notice, since we don't use it for analysing the data\n",
    "text = text[81:]"
   ]
  },
  {
   "cell_type": "markdown",
   "metadata": {
    "deletable": true,
    "editable": true
   },
   "source": [
    "## Explore the Data\n",
    "Play around with `view_sentence_range` to view different parts of the data."
   ]
  },
  {
   "cell_type": "code",
   "execution_count": 2,
   "metadata": {
    "collapsed": false,
    "deletable": true,
    "editable": true
   },
   "outputs": [
    {
     "name": "stdout",
     "output_type": "stream",
     "text": [
      "Dataset Stats\n",
      "Roughly the number of unique words: 11492\n",
      "Number of scenes: 262\n",
      "Average number of sentences in each scene: 15.248091603053435\n",
      "Number of lines: 4257\n",
      "Average number of words in each line: 11.50434578341555\n",
      "\n",
      "The sentences 0 to 10:\n",
      "Moe_Szyslak: (INTO PHONE) Moe's Tavern. Where the elite meet to drink.\n",
      "Bart_Simpson: Eh, yeah, hello, is Mike there? Last name, Rotch.\n",
      "Moe_Szyslak: (INTO PHONE) Hold on, I'll check. (TO BARFLIES) Mike Rotch. Mike Rotch. Hey, has anybody seen Mike Rotch, lately?\n",
      "Moe_Szyslak: (INTO PHONE) Listen you little puke. One of these days I'm gonna catch you, and I'm gonna carve my name on your back with an ice pick.\n",
      "Moe_Szyslak: What's the matter Homer? You're not your normal effervescent self.\n",
      "Homer_Simpson: I got my problems, Moe. Give me another one.\n",
      "Moe_Szyslak: Homer, hey, you should not drink to forget your problems.\n",
      "Barney_Gumble: Yeah, you should only drink to enhance your social skills.\n",
      "\n",
      "\n"
     ]
    }
   ],
   "source": [
    "view_sentence_range = (0, 10)\n",
    "\n",
    "\"\"\"\n",
    "DON'T MODIFY ANYTHING IN THIS CELL\n",
    "\"\"\"\n",
    "import numpy as np\n",
    "\n",
    "print('Dataset Stats')\n",
    "print('Roughly the number of unique words: {}'.format(len({word: None for word in text.split()})))\n",
    "scenes = text.split('\\n\\n')\n",
    "print('Number of scenes: {}'.format(len(scenes)))\n",
    "sentence_count_scene = [scene.count('\\n') for scene in scenes]\n",
    "print('Average number of sentences in each scene: {}'.format(np.average(sentence_count_scene)))\n",
    "\n",
    "sentences = [sentence for scene in scenes for sentence in scene.split('\\n')]\n",
    "print('Number of lines: {}'.format(len(sentences)))\n",
    "word_count_sentence = [len(sentence.split()) for sentence in sentences]\n",
    "print('Average number of words in each line: {}'.format(np.average(word_count_sentence)))\n",
    "\n",
    "print()\n",
    "print('The sentences {} to {}:'.format(*view_sentence_range))\n",
    "print('\\n'.join(text.split('\\n')[view_sentence_range[0]:view_sentence_range[1]]))"
   ]
  },
  {
   "cell_type": "markdown",
   "metadata": {
    "deletable": true,
    "editable": true
   },
   "source": [
    "## Implement Preprocessing Functions\n",
    "The first thing to do to any dataset is preprocessing.  Implement the following preprocessing functions below:\n",
    "- Lookup Table\n",
    "- Tokenize Punctuation\n",
    "\n",
    "### Lookup Table\n",
    "To create a word embedding, you first need to transform the words to ids.  In this function, create two dictionaries:\n",
    "- Dictionary to go from the words to an id, we'll call `vocab_to_int`\n",
    "- Dictionary to go from the id to word, we'll call `int_to_vocab`\n",
    "\n",
    "Return these dictionaries in the following tuple `(vocab_to_int, int_to_vocab)`"
   ]
  },
  {
   "cell_type": "code",
   "execution_count": 3,
   "metadata": {
    "collapsed": false,
    "deletable": true,
    "editable": true
   },
   "outputs": [
    {
     "name": "stdout",
     "output_type": "stream",
     "text": [
      "Tests Passed\n"
     ]
    }
   ],
   "source": [
    "import numpy as np\n",
    "import problem_unittests as tests\n",
    "from collections import Counter\n",
    "\n",
    "def create_lookup_tables(text):\n",
    "    \"\"\"\n",
    "    Create lookup tables for vocabulary\n",
    "    :param text: The text of tv scripts split into words\n",
    "    :return: A tuple of dicts (vocab_to_int, int_to_vocab)\n",
    "    \"\"\"\n",
    "    # create words set to remove duplicates    \n",
    "    counts = Counter(text)\n",
    "    vocab = sorted(counts, key=counts.get, reverse=True)\n",
    "\n",
    "    vocab_to_int = {word:i for i, word in enumerate(vocab)}\n",
    "    int_to_vocab = {i:word for i, word in enumerate(vocab)}\n",
    "    return vocab_to_int, int_to_vocab\n",
    "\n",
    "\n",
    "\"\"\"\n",
    "DON'T MODIFY ANYTHING IN THIS CELL THAT IS BELOW THIS LINE\n",
    "\"\"\"\n",
    "tests.test_create_lookup_tables(create_lookup_tables)"
   ]
  },
  {
   "cell_type": "markdown",
   "metadata": {
    "deletable": true,
    "editable": true
   },
   "source": [
    "### Tokenize Punctuation\n",
    "We'll be splitting the script into a word array using spaces as delimiters.  However, punctuations like periods and exclamation marks make it hard for the neural network to distinguish between the word \"bye\" and \"bye!\".\n",
    "\n",
    "Implement the function `token_lookup` to return a dict that will be used to tokenize symbols like \"!\" into \"||Exclamation_Mark||\".  Create a dictionary for the following symbols where the symbol is the key and value is the token:\n",
    "- Period ( . )\n",
    "- Comma ( , )\n",
    "- Quotation Mark ( \" )\n",
    "- Semicolon ( ; )\n",
    "- Exclamation mark ( ! )\n",
    "- Question mark ( ? )\n",
    "- Left Parentheses ( ( )\n",
    "- Right Parentheses ( ) )\n",
    "- Dash ( -- )\n",
    "- Return ( \\n )\n",
    "\n",
    "This dictionary will be used to token the symbols and add the delimiter (space) around it.  This separates the symbols as it's own word, making it easier for the neural network to predict on the next word. Make sure you don't use a token that could be confused as a word. Instead of using the token \"dash\", try using something like \"||dash||\"."
   ]
  },
  {
   "cell_type": "code",
   "execution_count": 4,
   "metadata": {
    "collapsed": false,
    "deletable": true,
    "editable": true
   },
   "outputs": [
    {
     "name": "stdout",
     "output_type": "stream",
     "text": [
      "Tests Passed\n"
     ]
    }
   ],
   "source": [
    "def token_lookup():\n",
    "    \"\"\"\n",
    "    Generate a dict to turn punctuation into a token.\n",
    "    :return: Tokenize dictionary where the key is the punctuation and the value is the token\n",
    "    \"\"\"\n",
    "    # TODO: Implement Function\n",
    "    tokenize_dict = {\n",
    "        '.': \"||Period||\",\n",
    "        ',': \"||Comma||\",\n",
    "        '\"': \"||Quotation_Mark||\",\n",
    "        ';': \"||Semicolon||\",\n",
    "        '!': \"||Exlamation_Mark||\",\n",
    "        '?': \"||Question_Mark||\",\n",
    "        '(': \"||Left_Parenthesis||\",\n",
    "        ')': \"||Right_Parenthesis||\",\n",
    "        '--': \"||Dash||\",\n",
    "        '\\n': \"||Return||\"\n",
    "    }\n",
    "    \n",
    "    \n",
    "    return tokenize_dict\n",
    "\n",
    "\"\"\"\n",
    "DON'T MODIFY ANYTHING IN THIS CELL THAT IS BELOW THIS LINE\n",
    "\"\"\"\n",
    "tests.test_tokenize(token_lookup)"
   ]
  },
  {
   "cell_type": "markdown",
   "metadata": {
    "deletable": true,
    "editable": true
   },
   "source": [
    "## Preprocess all the data and save it\n",
    "Running the code cell below will preprocess all the data and save it to file."
   ]
  },
  {
   "cell_type": "code",
   "execution_count": 5,
   "metadata": {
    "collapsed": false,
    "deletable": true,
    "editable": true
   },
   "outputs": [],
   "source": [
    "\"\"\"\n",
    "DON'T MODIFY ANYTHING IN THIS CELL\n",
    "\"\"\"\n",
    "# Preprocess Training, Validation, and Testing Data\n",
    "helper.preprocess_and_save_data(data_dir, token_lookup, create_lookup_tables)"
   ]
  },
  {
   "cell_type": "markdown",
   "metadata": {
    "deletable": true,
    "editable": true
   },
   "source": [
    "# Check Point\n",
    "This is your first checkpoint. If you ever decide to come back to this notebook or have to restart the notebook, you can start from here. The preprocessed data has been saved to disk."
   ]
  },
  {
   "cell_type": "code",
   "execution_count": 6,
   "metadata": {
    "collapsed": false,
    "deletable": true,
    "editable": true
   },
   "outputs": [],
   "source": [
    "\"\"\"\n",
    "DON'T MODIFY ANYTHING IN THIS CELL\n",
    "\"\"\"\n",
    "import helper\n",
    "import numpy as np\n",
    "import problem_unittests as tests\n",
    "\n",
    "int_text, vocab_to_int, int_to_vocab, token_dict = helper.load_preprocess()"
   ]
  },
  {
   "cell_type": "code",
   "execution_count": 7,
   "metadata": {
    "collapsed": false,
    "deletable": true,
    "editable": true
   },
   "outputs": [
    {
     "name": "stdout",
     "output_type": "stream",
     "text": [
      "{'leaving': 2898, 'spread': 1903, 's': 729, 'outstanding': 2899, 'skills': 2900, 'hangs': 1904, 'ivanna': 2901, 'accepting': 2902, 'bullet-proof': 2903, 'crawl': 1441, 'yellow-belly': 2904, 'sincerely': 2905, 'seemed': 1905, 'tv_father:': 1442, 'super': 471, \"nick's\": 2907, 'per': 1443, 'puzzle': 2908, 'verticality': 2909, 'maya:': 841, 'lump': 2910, 'yammering': 2911, 'jerk': 1180, \"game's\": 1906, 'ventriloquism': 2912, 'mitts': 2914, 'breathless': 2915, 'john': 4173, 'fresh': 1907, 'bugs': 2948, 'sips': 842, 'murderously': 2918, 'shard': 2919, 'laramie': 1908, 'brothers': 2212, 'shutup': 2921, 'mel': 1444, 'hat': 2922, 'mafia': 1445, 'old': 193, 'nards': 1446, 'grunt': 1447, 'half-beer': 2923, 'starve': 2925, 'sensible': 2926, 'sponsor': 2927, 'caveman': 6109, 'seamstress': 2928, 'lowers': 843, 'a-lug': 2929, 'magic': 1171, 'drown': 1909, 'madison': 2930, 'began': 1910, 'prepared': 1911, 'yard': 1172, 'grimly': 1912, 'noble': 2931, 'unable': 2932, 'vacuum': 1913, 'is': 22, 'seymour_skinner:': 203, 'gunter:': 2933, 'snitch': 2935, 'these': 185, 'using': 788, 'fold': 1915, 'thought_bubble_homer:': 1916, 'least': 549, 'conditioners': 2936, 'augustus': 2937, 'whose': 1448, 'thoughtful': 1173, 'choked': 3054, 'curious': 1917, 'intriguing': 2939, 'created': 2940, 'jernt': 2941, 'germans': 2942, 'len-ny': 3149, 'nine': 730, 'first': 226, 'eaters': 2944, \"handwriting's\": 2945, 'crossed': 1918, 'eighty-one': 2052, 'taps': 1920, 'sam:': 2947, 'procedure': 1174, 'civilization': 1921, 'sincere': 1175, 'side:': 2949, 'intervention': 2950, 'blood': 690, 'muttering': 1922, 'dizzy': 2952, 'getting': 360, 'tasimeter': 2953, 'toys': 1449, 'drunkening': 2954, 'cotton': 1923, 'challenge': 1450, 'stools': 1451, 'divorced': 2957, 'handing': 1924, 'mccall': 2958, 'ne': 2959, 'woman_bystander:': 1925, 'homer_simpson:': 12, 'chicks': 2569, 'crotch': 2960, 'teenage_bart:': 1177, 'curse': 2961, 'rest': 962, 'involving': 1926, 'whenever': 2496, 'finished': 1452, 'pills': 2963, 'enjoy': 1179, 'normal': 844, 'cursed': 2964, 'ingrates': 2965, 'heard': 442, 'boxing': 664, 'portentous': 2966, 'dames': 1927, 'humiliation': 2967, 'idiot': 1453, 'glummy': 2968, 'voice_on_transmitter:': 2043, 'moe-clone:': 1928, 'peace': 1454, \"he'd\": 963, 'yoo': 1929, 'amber': 2969, 'inquiries': 2970, \"beggin'\": 2971, 'or': 116, 'write': 854, \"shan't\": 1930, 'four-drink': 2973, 'howya': 3438, 'kirk_voice_milhouse:': 2975, 'wounds': 2976, \"ma's\": 3443, 'seven': 472, 'later': 665, 'dozen': 2977, 'blow': 1181, 'emergency': 2978, 'dear': 544, 'life': 172, \"floatin'\": 2979, 'puke': 1455, 'hoagie': 2980, \"i'm\": 24, 'poker': 1932, 'lowest': 2981, 'damned': 2982, 'richard': 3502, 'principles': 2983, 'philosophical': 2984, 'figures': 2985, \"they'd\": 1456, 'west': 2986, 'aiden': 2987, 'hike': 2988, 'prizefighters': 2989, 'figure': 2990, 'thawing': 2991, 'reach': 1934, 'starters': 2992, 'dictating': 2993, 'nordiques': 2994, 'ing': 2995, '4x4': 2996, 'clown-like': 2997, 'encore': 2998, 'convenient': 3574, 'across': 845, 'after': 255, 'charlie': 2078, 'during': 965, 'advertise': 3000, 'jump': 1756, 'kyoto': 1935, 'knocks': 3002, 'simpson': 307, 'quarter': 3004, 'joy': 3005, 'dashes': 3006, 'sweat': 3007, 'rainier_wolfcastle:': 1936, 'op': 3008, 'wha': 1060, 'reckless': 3010, 'loss': 2070, 'effervescent': 1937, 'kazoo': 2917, 'bono': 3012, 'suspicious': 1938, 'chest': 1541, 'churchill': 1939, 'ingredient': 1183, 'conversation': 2551, 'punkin': 3015, 'bugging': 1940, 'score': 3016, 'loan': 1457, 'civil': 3017, 'scary': 1941, 'mmmmm': 3018, 'drawn': 3019, 'domestic': 1184, 'ron': 3020, 'must': 361, 'paint': 731, 'bottom': 1237, 'admitting': 1942, 'anymore': 605, 'here': 44, 'babar': 2920, \"homer's\": 332, 'boisterous': 3024, 'stunned': 967, 'shhh': 3025, 'ways': 1943, 'burt_reynolds:': 3026, \"shouldn't\": 606, 'luckily': 3027, 'rapidly': 3028, 'subject': 1458, 'dory': 3029, 'ads': 3030, 'overhearing': 3031, 'oblivious': 3032, 'grampa_simpson:': 354, 'oddest': 3033, 'lay': 3034, 'confession': 3035, 'doll-baby': 4201, 'slop': 3036, 'huhza': 3037, 'test': 1185, 'quimby': 3038, 'commanding': 3039, 'wiggum': 556, 'what-for': 3041, 'forty-five': 3042, 'faces': 3557, 'carmichael': 3043, 'smiling': 1186, 'fence': 3044, 'plastered': 3045, 'democrats': 3046, 'rope': 968, 'destroyed': 4203, 'ohhhh': 3048, 'droning': 3049, 'advance': 1945, 'whoa': 204, \"collector's\": 3050, 'museum': 1946, 'mom': 481, '_powers:': 1947, 'underbridge': 1948, 'girl': 267, 'bell': 3052, 'different': 1187, 'gonna': 78, 'boy': 208, \"fine-lookin'\": 3053, 'wraps': 5508, 'draw': 1949, 'lofty': 3056, 'failure': 3057, 'number': 732, 'breath': 1188, 'cocking': 3058, 'puke-pail': 3059, \"somebody's\": 3060, \"family's\": 3061, 'hanh': 3062, 'depressed': 3063, 'full-blooded': 3064, 'email': 3065, 'hide': 733, 'unintelligent': 3066, 'skeptical': 1950, 'shopping': 3067, 'pageant': 1459, 'prime': 1460, 'larson': 3068, 'uses': 3069, 'ragtime': 2417, 'soot': 3071, 'cat': 2186, 'justify': 3072, 'shows': 1189, 'completely': 3073, 'tree': 970, 'troll': 971, 'junior': 1461, 'change': 550, 'dennis_conroy:': 1190, 'mellow': 3074, 'rough': 1462, 'nap': 3075, 'doreen': 1952, 'blue': 604, 'incredible': 3076, \"wonderin'\": 1953, 'massive': 3077, 'further': 3078, 'jeez': 972, 'timbuk-tee': 3079, 'above': 1463, 'musical': 3080, 'digging': 3081, 'gas': 1191, 'bunion': 3082, 'improv': 3083, 'thoughtfully': 1954, 'shrugging': 1955, 'africa': 1956, 'pub': 1192, 'tha': 3084, 'ask': 349, 'moment': 1193, 'nobel': 1596, 'formico': 1957, 'princess': 846, 'booking': 3086, 'mouths': 3087, 'wittgenstein': 3088, 'chilly': 1958, 'marvelous': 3089, \"sittin'\": 973, 'bathing': 1959, 'mommy': 3090, 'bumblebee_man:': 3091, 'partly': 1960, 'history': 1839, \"i-i'll\": 3092, 'shaved': 3093, \"'er\": 3094, 'glitz': 3095, 'walther': 3096, 'peabody': 3097, 'wizard': 3564, 'written': 1961, 'asks': 3099, 'stumble': 4185, 'common': 3101, 'lise:': 1962, 'ireland': 3102, 'gums': 1963, 'susie-q': 3566, 'x-men': 3103, 'hotline': 2543, 'glasses': 974, 'startup': 3104, 'struggling': 1464, 'panties': 3105, 'lisa_simpson:': 134, 'whip': 608, 'troy': 1965, 'cheering': 3106, 'ape-like': 3108, 'polishing': 3109, 'vomit': 1465, 'jerky': 1966, 'goodnight': 667, 'omit': 3110, 'nope': 1967, 'sister': 1194, 'bills': 3111, 'spender': 4276, 'any': 209, 'pledge': 3113, \"raggin'\": 3114, \"that'll\": 847, 'missing': 3115, 'affects': 4137, \"payin'\": 1969, 'botanical': 3116, 'stevie': 1970, 'labels': 1971, 'cowboy': 3569, 'barely': 1972, 'nor': 3118, 'wednesday': 6151, 'cyrano': 3119, 'kitchen': 3120, 'aisle': 3122, 'dae': 3123, 'lie': 1195, 'warning': 3124, 'actually': 350, 'sometime': 1466, 'effigy': 1973, 'continuing': 1974, 'delivery_man:': 3125, 'sexual': 1467, 'sir': 473, \"tellin'\": 975, 'burt': 1196, 'pitch': 1975, 'bartenders': 1976, 'ebullient': 3126, 'lap': 1977, 'memory': 1978, 'yeah': 36, 'astrid': 3127, 'numeral': 3128, 'sneeze': 3129, 'short_man:': 3130, 'confidential': 3131, 'irish': 2294, 'windshield': 3133, 'witty': 1979, 'certain': 1980, 'film': 1197, 'sympathetic': 1981, 'touch': 3134, 'week': 888, 'exhibit': 3136, 'precious': 1198, 'trying': 551, 'endorsed': 3137, 'japanese': 734, 'jane': 4434, 'yelling': 1982, 'pardon': 1468, 'showered': 3138, 'grienke': 1983, \"coaster's\": 3139, 'family-owned': 3140, 'gives': 848, 'pocket': 1632, 'buddy': 668, 'scotch': 1469, 'reading': 380, \"hadn't\": 1984, 'tubman': 3142, 'barter': 4479, 'de': 3144, 'ruint': 3021, 'control': 3146, 'picked': 3147, 'depository': 3148, 'clear': 976, \"duelin'\": 2943, 'excited': 443, 'right-handed': 3150, 'attraction': 3151, 'choke': 3152, 'tough': 423, 'three-man': 3153, 'ducked': 3154, 'higher': 1470, 'reason': 1471, 'el': 3155, 'dump': 552, 'virile': 3156, 'mcstagger': 1985, 'infestation': 3157, 'lloyd': 1986, 'premise': 3158, 'recreate': 3159, 'comes': 333, 'have': 47, 'up': 48, 'plain': 3160, 'new_health_inspector:': 1434, 'rocks': 3161, 'eighty-five': 3162, 'disguise': 3163, 'labor': 3164, 'holds': 849, 'booger': 3165, 'rig': 3166, 'starlets': 3167, 'zone': 3168, 'wild': 3169, \"monroe's\": 1987, 'act': 977, 'alibi': 3170, 'notorious': 3171, 'exit': 1472, 'majority': 3172, 'soothing': 3173, 'tiger': 4638, 'slobs': 3174, 'crapmore': 4640, 'soap': 1988, 'smithers': 424, 'sure': 129, 'alva': 3176, 'mad': 474, 'flame': 3177, 'dea-d-d-dead': 3178, 'disappointment': 3179, 'regret': 1989, 'pride': 1990, 'terrorizing': 3180, 'coincidentally': 3181, 'lottery': 1473, 'real': 334, 'entering': 3182, 'handed': 3183, 'season': 1658, 'margarita': 1991, 'smiles': 3185, 'hosting': 3186, 'germs': 1992, 'between': 1993, 'arab_man:': 1994, 'bar': 110, 'suave': 4729, 'wishful': 3188, 'local': 978, 'average-looking': 3189, 'clock': 1995, 'ehhh': 3190, 'pile': 3191, 'overturned': 3192, 'hostages': 3193, 'undermine': 3194, 'blown': 1996, 'louie:': 2393, 'support': 3196, \"wife's\": 1474, 'trainers': 3612, 'captain:': 3198, 'turlet': 3199, 'seats': 1997, 'value': 1998, 'ref': 3200, 'holiday': 1475, 'assent': 3491, 'sit': 1199, 'pep': 3201, 'all:': 979, 'wish-meat': 3202, '_eugene_blatz:': 3203, 'edna-lover-one-seventy-two': 3204, 'fluoroscope': 3205, 'show': 269, 'alive': 630, 'bought': 1476, 'interrupting': 3206, 'general': 1477, 'strictly': 3207, 'thanksgiving': 1999, 'business': 353, 'ping-pong': 3208, 'become': 1478, 'figured': 1200, 'delts': 3209, 'string': 3210, 'hawaii': 3211, 'awed': 2000, 'dating': 2001, 'cheerier': 4610, 'door': 527, 'whoa-ho': 3213, 'mention': 2002, 'heavyset': 2003, 'sea': 2004, 'grudgingly': 3214, 'wowww': 3215, 'take-back': 3216, 'rafters': 3217, 'causes': 3218, 'wide': 1479, 'guessing': 3219, 'christmas': 669, 'boat': 1201, \"bo's\": 3220, 'years': 246, 'behind': 514, 'technical': 3221, 'waitress': 3222, 'gasoline': 3223, 'store-bought': 3224, 'breakfast': 3225, 'consulting': 3226, 'squad': 3227, 'a': 11, 'politician': 3229, 'coyly': 3230, 'certified': 6635, 'fierce': 3231, 'nightmares': 3232, 'bus': 1480, 'waylon': 2789, 'promotion': 3233, 'replaced': 3234, 'zero': 2005, 'assumed': 3235, 'kiss': 736, 'plums': 3236, 'chic': 3237, 'darn': 3238, 'tomatoes': 3239, 'missed': 2558, 'moonlight': 3855, 'patriotic': 3241, 'open-casket': 3242, 'snort': 1700, 'ears': 3243, 'boozebag': 3244, 'grim': 1202, 'sisters': 1481, 'especially': 1203, 'eye-gouger': 3245, 'mater': 3246, 'bounced': 3247, 'behavior': 3248, 'my': 16, 'sangre': 3249, 'list': 1482, 'likes': 1681, 'sturdy': 3251, 'tuborg': 3252, 'toward': 1483, 'wh': 3253, 'summer': 1484, 'physical': 3254, 'africanized': 3255, 'craft': 3256, 'inherent': 3257, 'jesus': 1485, 'cost': 980, 'grave': 2007, \"stayin'\": 3258, 'poisoning': 3259, 'totalitarians': 3260, 'rub': 1486, 'linda': 2008, 'young_moe:': 2009, \"'cept\": 3261, 'lis': 3263, 'bar:': 3264, 'tommy': 2010, 'passion': 2011, 'read:': 3265, 'insurance': 3266, 'operation': 1487, 'liable': 3267, 'itchy': 3268, 'without:': 3269, 'jail': 1488, 'mediterranean': 3270, 'arrange': 3271, 'customer': 1740, 'forgiven': 3272, 'sunk': 3273, 'elder': 1489, 'sanitary': 3588, 'cell-ee': 3274, 'investment': 3275, 'collette:': 737, \"talkin'\": 515, 'else': 659, 'kick-ass': 3277, 'vulnerable': 2500, 'pickle': 1204, 'hits': 1205, 'lights': 2506, 'appropriate': 3280, 'womb': 4495, \"'your\": 3281, 'frankenstein': 3282, 'would': 135, 'talking': 586, 'from': 75, 'milk': 882, 'hippies': 3285, 'thorough': 3286, 'hammy': 3141, 'pretentious_rat_lover:': 3287, 'another': 233, 'nbc': 3289, 'moesy': 3290, 'exception:': 3291, 'jackass': 3292, 'frazier': 3293, 'wiener': 1490, 'competitive': 3294, 'telling': 738, 'this:': 4074, 'built': 2013, 'concentrate': 3297, 'heads': 1491, 'dime': 5553, 'sniper': 3299, 'mostrar': 3300, 'truck': 981, 'half': 851, 'trusted': 2014, 'buffalo': 1207, \"'em\": 194, 'melodramatic': 3301, 'third': 982, 'depending': 3302, 'release': 2015, 'money': 144, 'bursts': 3304, 'cigarettes': 2016, 'casual': 1492, 'finale': 3305, 'congratulations': 3307, 'choose': 3308, 'wave': 2017, 'island': 1310, 'scully': 2019, 'sudden': 2020, 'doing': 381, 'breaking': 1493, 'shall': 852, \"'roids\": 3310, 'xx': 3311, 'stick': 610, 'believer': 3312, 'checks': 1494, 'products': 2021, \"s'cuse\": 3313, 'brockelstein': 3314, 'dead': 428, 'thoughts': 1495, 'law': 1496, 'duke': 3315, 'noosey': 3316, 'candles': 3317, 'case': 1230, 'artie_ziff:': 475, 'eyeball': 2022, 'side': 983, 'brown': 3319, \"cleanin'\": 3320, 'nfl_narrator:': 3321, 'ran': 1497, 'relax': 1608, 'hats': 2023, 'valley': 3323, 'oof': 2024, 'unbelievably': 3324, 'point': 611, 'belong': 2025, 'fonda': 3325, 'hootie': 3326, 'homer': 27, 'trench': 2026, 'grrrreetings': 3328, 'just': 38, 'cheated': 3329, 'ignoring': 3330, 'chinua': 3331, 'd': 2778, 'maxed': 3332, 'tabs': 3333, 'dealer': 3598, 'is:': 2027, 'throw': 670, 'insightful': 2028, 'cooler': 2029, 'nervous': 339, 'memories': 2031, 'data': 3336, 'gentle': 3337, 'crooks': 3338, 'foil': 2032, 'saucy': 3339, 'seek': 2033, 'pus-bucket': 3340, 'jeff': 2034, \"wouldn't\": 362, 'street': 740, 'shotgun': 671, 'legs': 1208, 'guy': 128, 'troy_mcclure:': 2035, 'hugh': 3341, 'simple': 3342, 'insured': 3343, 'so-called': 2036, 'meeting': 1209, \"puttin'\": 3344, 'alcoholic': 2755, 'c': 289, 'platinum': 3345, 'trunk': 3346, 'ad': 1146, 'flying': 2037, 'miss': 672, 'tease': 3347, 'species': 3348, 'glen': 1498, 'bees': 1210, 'premiering': 3349, 'riveting': 3350, 'poem': 2038, 'walther_hotenhoffer:': 925, 'living': 3351, 'awe': 2039, 'crestfallen': 3352, 'maintenance': 3353, 'monkey': 2618, 'courteous': 3354, 'kinda': 504, 'hears': 3356, 'group': 853, 'unexplained': 3357, 'monday': 6477, 'heatherton': 3358, 'series': 3359, 'single': 1501, 'title:': 3360, 'relaxed': 3361, 'sadly': 516, 'drop-off': 3362, 'worth': 2040, 'chapter': 3363, 'kl5-4796': 3364, 'answer': 1211, 'sold': 1212, 'window': 984, 'cuff': 6002, 'england': 3365, 'jerk-ass': 3366, 'depressing': 3367, 'hyper-credits': 3368, \"won't\": 247, 'script': 3369, 'filth': 3370, 'stepped': 4836, 'seen': 299, 'brain': 1213, 'commit': 3372, 'thanking': 3373, 'pushing': 3374, 'bold': 2042, 'million': 476, 'hall': 1502, \"toot's\": 3375, 'examples': 3376, 'rip': 3377, 'curiosity': 3378, 'gel': 3379, 'enjoyed': 3380, 'today': 363, 'maiden': 3381, 'mt': 3382, \"idea's\": 3383, 'macho': 3384, 'driveability': 3385, \"doctor's\": 3386, 'grants': 3387, 'sweden': 3388, 'impress': 3389, 'infatuation': 3390, 'permitting': 3391, 'newest': 3392, 'yo': 1503, 'yellow': 1321, 'fuss': 2044, \"fallin'\": 2045, 'ought': 3394, 'flustered': 3395, \"s'pose\": 3396, 'alley': 1504, 'junebug': 5992, 'neil_gaiman:': 2046, 'cute': 1759, 'against': 985, 'crayola': 3398, 'pig': 673, 'bigger': 2047, 'pulitzer': 3399, 'advertising': 3400, 'domed': 3401, 'u': 1393, 'busted': 2698, 'aside': 1506, 'cousin': 3403, 'news': 741, 'beneath': 2049, 'society': 3404, 'wasted': 3405, 'stupidly': 3406, 'pissed': 1507, 'dignified': 4478, 'represents': 3409, 'manager': 2050, 'anti-intellectualism': 3410, 'blame': 553, 'realize': 2051, 'sweetly': 1508, 'sorts': 3411, \"spyin'\": 3413, 'life-sized': 3414, 'natural': 1509, 'jazz': 3415, 'treehouse': 3416, 'endorsement': 3417, \"how's\": 986, \"mecca's\": 3418, 'casting': 4262, 'refreshing': 3420, \"springfield's\": 2566, 'odor': 3422, 'poke': 3423, 'emotion': 3425, 'wanted': 398, 'hardwood': 3426, 'saved': 987, 'sigh': 554, 'which': 292, 'billy_the_kid:': 988, 'playful': 2235, 'broken:': 3427, 'egg': 1214, 'son-of-a': 3428, 'of': 15, 'saturday': 1510, 'somebody': 742, 'taught': 3430, 'goodwill': 3431, 'flaming': 477, 'tofu': 2053, 'eva': 3433, 'service': 989, 'crowd:': 612, 'wage': 3434, 'bears': 2054, 'intention': 3435, 'cleaning': 3436, \"bart's\": 1511, 'grab': 2055, 'nobody': 364, 'conference': 2056, 'watching': 555, 'ze-ro': 3437, 'sloe': 2974, \"c'mere\": 1512, 'force': 2057, 'bliss': 3440, 'needs': 990, 'understood:': 3441, 'highway': 2058, 'air': 613, 'sixty-nine': 1513, 'rebuttal': 3442, 'imagine': 1514, 'anniversary': 1515, 'wins': 1931, 'see': 100, 'sun': 3444, 'worked': 1516, 'lumpa': 3445, 'gulliver_dark:': 3446, 'kill': 399, 'chauffeur': 3447, 'painted': 3448, 'grumbling': 3449, 'audience:': 3450, 'football': 3451, 'cutest': 3452, 'incapable': 3453, 'ignorance': 3454, 'mop': 2059, 'swear': 991, 'radishes': 1215, 'modern': 1517, 'taylor': 3455, 'there': 79, 'whee': 1216, 'greatest': 614, 'served': 2630, 'supply': 4461, 'ali': 3457, 'à': 1217, 'warned': 3458, \"homer's_brain:\": 2060, \"nothin'\": 316, 'fortress': 3459, 'words': 743, 'loaded': 1364, 'applicant': 3461, 'something': 145, 'fourth': 1873, 'sternly': 3463, 'coins': 2061, 'rosey': 3464, 'father': 1218, 'cozy': 2808, 'tinkle': 855, 'religion': 1518, 'around': 186, 'brain-switching': 3466, 'student': 4904, 'stay-puft': 3467, 'simplest': 3468, 'strolled': 3469, 'wudgy': 3470, 'fresco': 3471, 'catholic': 3472, 'troy:': 1519, 'gator': 3473, 'additional-seating-capacity': 3474, 'gag': 1520, 'opening': 1521, 'hafta': 3475, 'poking': 2062, 'little': 87, 'benjamin:': 3476, 'cola': 2063, 'slobbo': 3477, 'cool': 674, \"show's\": 3478, 'clothespins': 3479, 'middle': 1760, 'menlo': 3480, 'cover': 1219, 'gargoyles': 3481, 'yes': 230, 'fledgling': 3482, 'castle': 1244, 'zinged': 3483, 'enforced': 3484, 'career': 1220, 'rings': 3485, 'band': 1221, 'tsking': 3487, 'spanish': 1522, 'tow-talitarian': 3488, 'muslim': 4580, 'learned': 644, 'rats': 1859, 'capitol': 3490, 'corkscrew': 2064, 'amount': 2773, 'guff': 3492, 'recipe': 3494, 'ground': 1523, 'coy': 3495, 'material': 3496, 'some': 90, 'wear': 1222, 'cap': 3497, 'kids': 263, 'irrelevant': 3498, 'seeing': 1524, 'occupation': 3499, 'machine': 598, 'nonsense': 3501, 'share': 1758, 'ugliness': 3503, 'early': 939, 'swishkabobs': 3504, 'propose': 3505, 'knowing': 1525, 'cruiser': 3506, 'sister-in-law': 3507, 'villanova': 3508, 'fly': 1526, 'ditched': 3509, 'stiffening': 3510, 'bottle': 603, 'so': 42, 'log': 3511, 'milks': 3512, 'michelin': 3513, \"yieldin'\": 3514, 'whaaa': 3515, 'ruled': 3516, 'buzz': 3517, 'represent': 992, 'chum': 2065, 'mini-beret': 3518, 'malted': 3519, 'donated': 3520, 'la': 838, 'cards': 1897, 'astronauts': 3522, 'ahh': 744, 'invited': 1069, 'hockey-fight': 3525, 'cell': 3526, 'decent': 2067, '50-60': 3527, '91': 3528, 'she-pu': 3529, 'chuckle': 280, 'website': 2068, 'fighter': 3530, 'coal': 3531, 'lovejoy': 3532, 'clapping': 3533, 'fighting': 2774, 'cobra': 3534, 'bulletin': 3535, 'drove': 3536, 'order': 1527, 'ones': 903, \"snappin'\": 3539, 'literary': 3540, 'suburban': 2955, 'yee-ha': 3541, 'awkward': 1224, \"something's\": 3542, 'duff': 213, 'gay': 993, 'pretzels': 3544, 'aggravazes': 3545, 'dank': 994, 'amazed': 745, 'pats': 1528, 'rumor': 6265, 'squishee': 3547, 'kennedy': 3548, 'king': 675, 'rather': 1225, 'done': 365, 'delays': 3549, 'dexterous': 3550, 'yawns': 2069, 'nooo': 3551, \"buffalo's\": 2752, 'branding': 3011, \"changin'\": 3552, 'idealistic': 3553, 'mm-hmm': 3554, \"brockman's\": 3555, 'work': 242, 'musses': 3040, 'magazine': 1944, 'left': 426, \"depressin'\": 3558, 'waste': 3559, 'eighty-three': 3560, 'california': 3561, 'chateau': 3562, 'moments': 1529, \"playin'\": 3563, 'frink': 1530, 'buddha': 3098, 'teacup': 3565, 'minute': 268, 'wood': 3567, 'stirring': 1226, 'payments': 2071, \"linin'\": 3568, 'cockroach': 3117, 'adjust': 3570, 'making': 746, 'ooh': 234, 'arrest': 1227, 'persia': 3572, 'greetings': 2072, 'effects': 2073, 'lost': 317, 'ripped': 3573, 'neanderthal': 2999, 'mamma': 3634, 'house': 318, 'eventually': 2074, 'hanging': 996, 'naked': 2075, 'reached': 2076, 'made': 210, 'moe-clone': 3575, 'formico:': 2077, 'sideshow_mel:': 3636, 'cranberry': 3187, 'lifetime': 3578, 'results': 2079, 'eddie': 3579, 'rascals': 3580, 'chain': 3581, 'mailbox': 3582, 'college': 997, 'jackpot-thief': 3583, 'proudly': 747, 'combines': 3584, 'prince': 3585, 'ashamed': 998, 'haplessly': 3586, 'transylvania': 3587, 'vampires': 2012, 'ivy-covered': 3276, 'cocktail': 1531, 'agents': 3590, 'poetry': 3591, 'follow': 1228, 'enough': 366, 'campaign': 1532, 'fixes': 3592, 'radioactive': 3593, 'sledge-hammer': 3594, 'beaumarchais': 6115, 'excitement': 2093, 'comment': 3595, 'cerebral': 3318, 'matter': 319, 'protestantism': 3596, 'ridiculous': 1534, 'song': 557, 'lennyy': 3597, 'something:': 3334, 'thousand': 615, 'danish': 2080, 'montrer': 3599, 'sex': 858, 'land': 3600, 'catty': 3601, 'forty-seven': 3602, 'election': 1535, 'free': 395, 'bottles': 2081, 'its': 1763, 'pridesters:': 3604, 'dateline': 3605, 'movie': 999, 'days': 748, 'butt': 616, 'sale': 2082, 'goo': 3606, 'huge': 749, 'jokes': 3607, 'each': 517, 'unsourced': 3608, 'sometimes': 2083, 'north': 3609, 'bag': 859, 'stamp': 3610, \"'ere\": 3611, \"stealin'\": 3613, 'beautiful': 421, 'lou': 3614, 'archaeologist': 3615, 'spooky': 3616, 'say': 114, 'victorious': 3617, 'lone': 3618, 'ooo': 1416, 'host': 3619, 'hunting': 2084, 'shut': 270, 'apology': 5325, 'pond': 2085, 'hmmmm': 3620, 'sick': 860, 'floor': 1536, 'securities': 2086, 'rip-off': 3621, 'meet': 518, 'nudge': 2087, 'dreary': 3622, 'moe-ron': 3623, 'winning': 3624, 'hooch': 3625, 'front': 607, 'contact': 3626, 'handwriting': 3627, 'strains': 3628, 'madonna': 3629, 'century': 1537, 'prep': 3630, 'appointment': 2088, 'measure': 3631, 'reluctant': 3632, 'bash': 2089, 'andrew': 3633, 'playing': 617, 'barkeep': 2090, 'neck': 1231, 'coaster': 995, 'aboard': 3635, \"d'\": 3576, 'answering': 2833, 'grandé': 3637, \"dyin'\": 2091, 'given': 1000, 'lock': 2817, 'add': 3638, 'benefits': 2092, 'weekly': 1229, 'pickled': 1232, 'wolfcastle': 3639, 'hmmm': 1538, 'je': 3640, 'abe': 3641, 'gently': 1539, 'pernt': 3642, 'appear': 2094, 'dies': 3643, 'enemies': 1540, 'birthday': 861, 'channel': 750, 'hemorrhage-amundo': 3644, 'instead': 676, 'inserts': 3645, 'invulnerable': 3439, 'goblins': 6233, 'her': 112, 'belches': 1332, 'cake': 2097, 'dads': 5617, 'attractive_woman_#1:': 3649, 'fbi_agent:': 3650, 'harm': 3651, 'renee:': 751, 'forward': 2269, 'dang': 1182, 'working': 1233, 'kool': 2913, 'red': 1001, 'wallet': 1002, 'ice': 862, 'courthouse': 3654, 'inanely': 3655, 'nascar': 3684, 'eating': 863, 'wipes': 3657, 'i/you': 3658, 'sampler': 3659, 'entrance': 3660, 'tv-station_announcer:': 3661, 'santa': 2098, 'term': 3662, 'average': 3663, 'ninth': 3013, 'worst': 864, 'cakes': 3653, 'comeback': 3664, 'elaborate': 3718, 'abusive': 3666, 'reporter:': 2099, 'numbers': 867, 'cartoons': 3668, 'crowded': 3669, 'dollar': 1234, 'pushes': 3670, 'restaurants': 2100, \"battin'\": 3671, 'lady_duff:': 4539, 'quebec': 4992, 'ninety-nine': 3673, 'otherwise': 3674, 'tongue': 1003, 'faceful': 3675, 'leathery': 3676, 'brainiac': 3677, 'ironic': 3678, 'cleveland': 3679, 'gimmicks': 3680, 'housework': 3681, 'worthless': 3682, 'un-sults': 2101, 'carl': 290, 'sen': 3656, 'punk': 2102, 'evil': 1542, 'heather': 3685, 'joint': 1004, 'courage': 2103, 'heart-broken': 3686, 'arguing': 3687, 'smelling': 3688, 'steampunk': 3835, 'guide': 2104, 'ivory': 3690, 'selma': 1006, 'huddle': 3691, \"i'd'a\": 3693, 'book': 335, 'liability': 3694, 'gasp': 480, 'al': 865, 'chips': 3882, 'sugar-me-do': 3695, 'payback': 3895, 'ned': 753, 'bloodball': 3303, 'losers': 754, 'bad': 220, 'urban': 3913, 'hundred': 300, 'agh': 3696, \"cuckold's\": 3697, 'power': 945, 'consider': 1545, 'skunk': 3698, 'bits': 3699, \"eatin'\": 3700, \"we'll\": 519, \"stinkin'\": 1573, 'finger': 1236, 'fry': 3964, 'entire': 1546, \"mother's\": 3975, 'links': 3703, 'slightly': 2107, 'universe': 4646, 'kindly': 2108, 'chuck': 3704, 'accidents': 3705, 'uneasy': 1547, 'roach': 3706, 'lucius:': 756, 'chauffeur:': 3707, 'dame': 1115, 'scientists': 3708, 'yet': 682, 'eve': 3709, 'ballot': 3710, 'yep': 1007, 'source': 1589, 'intense': 2110, 'terrible': 757, 'culkin': 3711, 'sideshow': 3712, 'sitting': 758, 'umm': 2111, 'permanent': 3713, 'doreen:': 2112, \"there's\": 132, '3rd_voice:': 3714, 'kim_basinger:': 5446, 'rounds': 2113, 'tanking': 3715, 'themselves': 2114, 'friends': 282, 'dean': 3716, 'loyal': 4121, 'badge': 3717, 'unison': 1548, 'outta': 320, 'sales': 3665, 'pajamas': 3719, 'earlier': 3720, 'selma_bouvier:': 778, \"we'd\": 866, 'known': 2116, 'kinds': 3721, 'cats': 3722, 'yew': 3023, 'teacher': 2117, 'repeating': 3667, 'problemo': 3723, 'orgasmville': 3724, 'kramer': 2118, 'neighbor': 2119, 'richer': 3725, 'soon': 618, 'dull': 3726, 'waltz': 2120, 'pregnancy': 4205, 'tells': 1550, 'smokes': 3727, 'sausage': 2121, 'brilliant': 1008, 'tyson/secretariat': 3728, 'microphone': 3729, 'stripes': 3730, 'worldview': 3731, 'flanders': 868, 'terror': 3732, 'estranged': 4230, \"you're\": 61, 'protesters': 3734, 'his': 88, 'bars': 1239, 'unforgettable': 3735, 'loathe': 3737, 'carey': 3738, 'freshened': 3739, 'beeps': 3740, 'own': 441, 'understood': 3741, \"g'on\": 3742, 'named': 1009, 'hydrant': 3743, 'swamp': 3744, 'conclusions': 3745, 'grunts': 1551, 'beats': 2122, 'told': 444, 'beard': 3746, 'american': 677, 'on': 28, 'soaps': 3747, 'tie': 2867, 'jar': 1010, 'agree': 2124, \"aren't\": 478, 'but': 40, 'catch-phrase': 3748, 'mozzarella': 3749, 'fridge': 1240, 'bear': 2125, 'annoyed': 619, 'detail': 3750, 'sympathy': 3751, 'sheepish': 1241, 'mine': 1011, 'calculate': 2126, 'twenty-four': 3752, 'thorn': 3753, 'aunt': 3754, 'vigilante': 3755, 'sec_agent_#2:': 2169, 'gags': 4251, 'sleeps': 2018, 'crap': 760, 'vote': 2128, 'punch': 1012, 'couple': 678, 'religious': 3757, \"number's\": 3758, 'smells': 942, 'apu': 635, 'asleep': 3546, 'nachos': 3761, 'rich': 1242, 'delicately': 3762, 'foundation': 3763, 'kickoff': 3764, 'youse': 679, 'question': 1243, 'pasta': 3100, \"wait'll\": 3765, 'boyhood': 3766, 'ultimate': 3767, 'department': 2129, \"doesn't\": 520, 'bring': 479, 'watch': 384, 'faded': 3769, 'sixteen': 3770, 'possibly': 2130, 'koholic': 2131, 'applesauce': 6469, 'product': 2132, 'mirthless': 3772, 'woman:': 1369, 'hi': 446, 'mona_simpson:': 2133, 'ass': 681, 'thumb': 1015, 'defeated': 2134, 'arts': 4852, 'upgrade': 3776, 'baby': 400, 'well': 50, 'thirty-three': 3777, 'laid': 3778, 'boring': 1049, 'crime': 1552, 'entertainer': 3780, 'energy': 2135, 'walked': 3781, 'uninhibited': 3782, 'according': 3783, 'still': 187, \"meanin'\": 2136, 'makes': 410, 'femininity': 3786, 'groan': 3787, 'oughtta': 3788, 'be-stainèd': 3789, 'trustworthy': 3790, 'unjustly': 3791, 'manatee': 3900, 'mmmm': 559, 'quadruple-sec': 3793, 'light': 620, 'teenage_homer:': 2137, 'raggie': 3794, 'peeved': 4789, 'geyser': 3795, 'war': 560, \"readin'\": 2138, 'iran': 3796, 'impatient': 2139, 'woooooo': 3797, 'fastest': 3798, 'spinning': 1553, 'offensive': 3799, \"'s\": 3800, 'ihop': 3801, 'dangerous': 869, 'imported-sounding': 3802, 'waterfront': 3803, 'chunky': 5351, 'blurbs': 3804, 'trucks': 3805, \"'round\": 3806, 'eyeballs': 3807, 'eurotrash': 3808, 'move': 761, 'quimby_#2:': 3809, 'love-matic': 2847, 'settled': 4672, 'tang': 2140, 'kinderhook': 3335, \"bringin'\": 3812, 'leprechaun': 3813, \"barney's\": 1554, 'lisa': 281, 'quarterback': 3814, 'roy': 4701, 'lied': 3815, 'needed': 1410, 'saga': 3816, 'art': 4163, 'mate': 2141, 'cattle': 3817, 'uh': 58, \"cheerin'\": 3818, 'belt': 2142, \"grandmother's\": 3819, 'grabbing': 1663, 'pitcher': 1246, 'etc': 762, 'months': 1247, 'fumes': 1556, 'wipe': 1664, 'moustache': 3820, 'homunculus': 5448, 'decide': 2143, 'bulked': 3821, 'squadron': 3822, 'ees': 3823, \"haven't\": 521, 'therapist': 2513, ':': 561, 'exactly': 683, 'stink': 4768, '250': 2144, 'david_byrne:': 1249, \"could've\": 1559, 'celebrate': 3306, \"takin'\": 2827, 'innocent': 1560, 'tv': 205, 'dive': 1561, 'spied': 2403, 'imitating': 3824, 'tax': 2147, 'brainheaded': 3825, 'duty': 2148, 'bull': 3826, 'hot': 562, 'position': 3827, 'disposal': 3828, 'indignant': 1624, 'floating': 3829, 'asses': 3831, 'loud': 367, 'dan': 2149, 'blade': 3832, 'gestated': 3833, 'banks': 1562, 'recommend': 1563, 'lifestyle': 3834, 'st': 3689, 'mimes': 3836, 'hugh:': 1250, 'floated': 2150, 'deliberate': 2151, \"couldn't\": 492, 'disappointing': 3837, 'designated': 1075, 'miserable': 1564, 'glowers': 3839, \"cat's\": 2434, 'splattered': 4908, 'for': 25, 'caper': 5766, 'boxcar': 3841, 'wears': 3842, 'tenor:': 2438, 'sugar-free': 3843, 'anderson': 3844, \"neighbor's\": 3845, 'sunday': 1013, 'guard': 3846, \"she's\": 368, 'cable': 1372, 'aww': 1619, 'nectar': 3848, 'cloudy': 3849, 'picky': 3850, 'disdainful': 3851, 'whole': 563, 'dumbbell': 6274, '6': 2155, 'fire': 487, 'computer_voice_2:': 3853, 'pirate': 2450, \"carl's\": 1277, 'borrow': 2156, 'placed': 3856, 'ford': 3857, \"time's\": 3858, 'babe': 2157, 'farthest': 3860, 'knees': 2158, '/mr': 3861, 'coach:': 1865, 'frosty': 2159, 'sabermetrics': 2160, 'motel': 1565, \"spiffin'\": 4273, 'nervously': 3863, 'doors': 1853, 'caholic': 3864, 'kearney_zzyzwicz:': 3865, 'manjula': 2161, 'stretch': 3866, 'part-time': 3921, \"that's\": 59, 'prettied': 3868, 'health_inspector:': 870, 'deeply': 2162, 'attempting': 2163, 'yak': 3869, 'every': 236, 'plus': 763, 'it': 17, 'ointment': 5060, 'lanes': 3870, 'does': 231, 'exciting': 3872, 'peanut': 2552, 'hardhat': 3873, \"can't\": 92, 'dryer': 2105, 'groin': 3874, 'leftover': 3876, 'winner': 3877, 'phlegm': 3878, 'sorry': 149, 'investigating': 3879, 'steaming': 3880, 'yourself': 401, 'vin': 3881, 'championship': 1235, 'nuclear': 1014, 'boxers': 3883, 'hispanic_crowd:': 3884, 'favorite': 764, 'western': 3051, 'jubilant': 2587, 'mug': 1170, 'gr-aargh': 3886, 'lobster': 3887, 'ratted': 3888, 'beligerent': 3889, \"he'll\": 765, 'trolls': 2165, 'whaaaa': 3890, 'pointing': 1567, 'k': 1568, 'stern': 2494, \"cupid's\": 5169, 'brother-in-law': 5173, 'hospital': 1016, 'rash': 3894, 'talk': 301, 'bob': 1543, 'unfair': 3896, 'surprised/thrilled': 3897, 'ingested': 3898, 'macbeth': 3899, 'enter': 5216, 'sounds': 382, 'senator': 1252, 'studied': 4669, 'low-blow': 3901, 'ralph': 3902, 'beating': 2508, 'then': 91, 'flatly': 1569, 'rewound': 3904, 'slick': 5250, 'marquee': 3905, 'wangs': 2167, 'clearly': 1341, 'pit': 1318, 'spy': 2170, 'kicks': 3906, 'notch': 3907, 'latin': 2671, 'will': 155, 'town': 369, 'coined': 3908, 'moolah-stealing': 3909, 'ate': 3910, 'raise': 2171, 'coin': 3911, 'snake_jailbird:': 564, 'piece': 1100, 'solid': 2106, 'dammit': 5332, 're-al': 3915, 'stay': 565, \"starla's\": 3916, 'wrestle': 3917, 'connor': 3918, 'pre-game': 5762, 'professor_jonathan_frink:': 522, 'spiritual': 5355, 'advice': 766, 'unfamiliar': 5361, 'punching': 3924, 'someone': 291, 'omigod': 873, 'damage': 5657, 'worry': 427, 'kills': 3926, 'launch': 5385, 'teen': 3928, 'koi': 2172, 'grubby': 3929, 'introduce': 3930, 'rat': 923, 'bump': 2173, 'aid': 3932, 'lousy': 643, \"pickin'\": 3933, 'solo': 2174, 'muffled': 3934, 'lot': 302, 'eu': 3935, 'slaps': 3936, 'dallas': 1107, \"listenin'\": 3938, 'most': 402, 'cries': 1254, 'kings': 3939, 'remote': 3940, 'washouts': 3941, 'encores': 6288, 'wrapped': 3942, 'bookie': 3943, 'transmission': 3944, 'flush': 5468, 'elves:': 3946, 'uncreeped-out': 3947, 'fad': 3948, 'bret:': 1571, 'ceremony': 5493, 'shaker': 3950, 'quit': 445, 'appreciate': 3951, 'switch': 1572, 'broke': 755, '©': 5514, 'irs': 3953, 'french': 1017, 'passes': 5043, 'derek': 3954, 'restaurant': 1358, 'hangover': 4850, 'hour': 1574, \"team's\": 2176, 'oak': 3957, 'clandestine': 3958, 'bloodiest': 3959, 'bowled': 4353, 'scum-sucking': 5571, '10:15': 3962, 'oopsie': 3963, 'togetherness': 3701, 'pays': 1575, 'row': 2177, 'fiction': 3965, 'marriage': 621, 'difference': 3966, 'blood-thirsty': 2178, 'unusually': 3967, 'beep': 2572, 'heh': 622, 'sheets': 3969, 'sneaky': 2179, 'delete': 623, 'clincher': 3971, 'disappeared': 2765, 'sinkhole': 5621, 'looks': 235, 'inclination': 3972, 'reward': 3973, 'getup': 3974, 'limericks': 3702, 'neighbors': 3976, 'proposition': 3977, 'startled': 3978, 'sleep': 1576, 'bronco': 3979, 'mail': 2181, 'unbelievable': 3980, 'babies': 1255, 'klown': 3982, 'brace': 3983, 'farewell': 3984, 'calmly': 2182, 'mouse': 1019, 'rid': 1577, 'drinks': 624, 'driver': 1578, 'ollie': 2879, 'jelly': 3985, 'all-star': 2284, 'rolls': 3987, 'crappy': 3988, 'longer': 1076, 'grace': 3990, 'adequate': 3991, 'remembered': 2609, 'kermit': 1579, 'slab': 3992, 'equal': 3993, '||return||': 1, 'has': 173, 'sniffing': 5727, \"what'll\": 1256, 'rotten': 5735, 'want': 101, 'kodos:': 3994, 'tuna': 4636, 'selection': 3996, 'store': 684, 'progress': 3997, 'homer_doubles:': 3998, 'ball': 767, 'skin': 2184, 'tropical': 3999, 'rusty': 4000, 'empty': 1077, 'hooray': 4001, 'jumps': 2185, 'kissing': 1580, 'suicide': 969, 'patterns': 2187, \"washin'\": 4002, 'broad': 1020, 'captain': 4744, \"tester's\": 2675, \"fendin'\": 4004, 'lungs': 4005, 'mission': 4006, 'stewart': 4007, 'modest': 5801, 'run': 768, 'gary:': 1581, 'network': 4008, 'sweetest': 3228, 'professor': 2189, 'spit': 1582, 'possessions': 4010, 'speaking': 1021, \"'til\": 1583, 'root': 1584, 'reed': 4011, 'candidate': 2190, 'proposing': 2191, 'loves': 482, 'blooded': 4012, 'item': 5845, 'mansions': 4014, 'answers': 2192, 'bones': 5859, 'wife': 243, 'weirder': 2193, 'direction': 4016, 'gruff': 3298, 'bow': 874, 'special': 625, 'broncos': 4018, 'faiths': 4774, 'uh-huh': 685, 'drollery': 4020, 'hunka': 4021, 'learn': 566, 'krabappel': 2194, 'isotopes': 1126, 'jukebox_record:': 4024, 'donuts': 4025, 'malfeasance': 4026, 'preparation': 4027, 'julep': 4028, \"choosin'\": 4029, 'highball': 4030, 'soir': 4031, 'seriously': 2196, 'gil_gunderson:': 4032, 'growing': 4033, 'ironed': 2593, 'pfft': 1585, 'fainted': 4035, \"now's\": 4036, 'churchy': 4037, 'idioms': 5208, 'health': 875, 'embarrassed': 1258, 'gotcha': 4038, 'sidekick': 4039, 'horror': 4040, 'tiny': 2198, 'kang:': 1586, 'hubub': 4041, 'retain': 4042, 'cameras': 1587, 'william': 4044, 'fatso': 3859, 'collateral': 4045, 'gimme': 403, 'bed': 1022, 'old_jewish_man:': 4046, 'capuchin': 4047, 'voice:': 2857, 'prayer': 2123, 'plants': 4049, 'characteristic': 4050, 'and:': 4051, 'golf': 2199, 'price': 2200, 'walking': 769, \"chewin'\": 2708, 'manboobs': 3493, 'unless': 1023, 'nonchalantly': 5950, 'apply': 4052, 'fritz:': 1588, 'swigmore': 4053, 'ummmmmmmmm': 4343, 'worldly': 4054, 'dint': 4055, 'panicky': 1590, 'semi-imported': 4056, 'wars': 4057, 'swallowed': 4058, 'butterball': 3262, 'roz:': 2202, 'kentucky': 4060, 'glad': 804, 'barney': 130, 'guinea': 4062, 'drives': 4063, 'stars': 5677, 'prize': 2203, 'plaintive': 4066, 'march': 4067, 'football_announcer:': 876, 'meaningless': 4068, 'lead': 4069, 'job': 308, 'correct': 1303, 'honored': 2204, 'twin': 2205, 'cheap': 1591, 'kirk': 4072, 'rub-a-dub': 6643, 'quarry': 4073, 'karaoke': 2206, 'gentlemen': 523, 'near': 2207, 'guest': 1592, \"today's\": 1261, 'suing': 2208, 'ye': 2209, 'authorized': 2210, 'killing': 4075, 'touched': 877, 'fink': 4076, 'tokens': 4077, \"mo'\": 4078, 'superhero': 2211, 'teach': 1262, 'small': 483, \"heat's\": 4079, 'tomorrow': 447, 'barney_gumble:': 41, 'thousands': 4080, 'criminal': 4081, 'acquitted': 3432, 'bye': 1263, 'fork': 1593, 'dejected': 4082, 'friend:': 6263, 'good': 82, 'canoodling': 4084, 'due': 2213, 'ha-ha': 2214, 'pour': 826, 'am': 127, 'bit': 658, 'guilt': 4087, 'button-pusher': 4088, 'dipping': 2946, 'men': 878, 'visas': 4090, 'dumbass': 6314, \"murphy's\": 4092, 'exact': 4093, 'watched': 6327, \"children's\": 2339, 'cab_driver:': 4095, 'düff': 4096, 'padre': 2216, 'rotch': 1264, 'suffering': 3309, 'newsletter': 4097, 'desire': 4098, 'cuckoo': 4099, 'absorbent': 4100, 'presently': 4101, 'colossal': 4102, 'issues': 4103, 'picture': 687, 'arse': 4104, 'novelty': 4105, 'salary': 4106, 'gal': 1594, 'stalin': 4107, 'waist': 4108, 'alls': 4109, 'studio': 2218, 'my-y-y-y-y-y': 6403, 'gutenberg': 4111, 'such': 627, 'andy': 1595, 'blimp': 4112, 'knows': 688, 'environment': 5057, 'jebediah': 2115, 'killjoy': 4113, \"elmo's\": 4115, 'parasol': 4116, 'snake-handler': 2772, 'protecting': 3284, 'sports_announcer:': 2219, 'tense': 5036, 'sunny': 4117, 'pepper': 5077, 'exploiter': 4118, 'poison': 6461, 'honey': 913, 'raises': 1265, 'grammys': 4122, 'jewish': 4123, 'perfunctory': 6487, 'ashtray': 4125, 'bothered': 6493, 'shtick': 4127, 'it:': 4128, 'course': 524, '_kissingher:': 1597, 'perverted': 4129, 'shrieks': 4130, 'hygienically': 4131, 'fox': 1598, 'keeps': 1413, 'edison': 1599, 'look': 102, 'moe-lennium': 4133, 'when-i-get-a-hold-of-you': 4134, 'wholeheartedly': 4135, 'puff': 1600, 'device': 4136, 'walk': 689, 'bender:': 1025, 'huggenkiss': 1324, 'again': 221, 'dreams': 2699, \"what're\": 2222, 'brunswick': 4138, 'knock': 1412, 'temples': 4139, 'uhhhh': 4140, 'marjorie': 4141, 'presumir': 4142, 'massage': 4143, '&': 1694, 'pull': 628, 'nicer': 4144, 'nitwit': 4145, 'players': 4146, 'intrigued': 770, 'wind': 4147, 'quietly': 1026, 'stole': 1601, 'mean': 181, 'supermodel': 4149, 'marched': 4150, 'full-time': 4151, 'woozy': 2224, 'underwear': 4152, 'rice': 4153, 'plans': 2872, 'glove': 771, 'weeks': 1861, 'principal': 880, 'milhouse_van_houten:': 1267, 'theater': 1889, 'full': 772, 'boxer:': 4156, 'hans:': 1376, 'wooooo': 1602, 'favor': 1095, 'officials': 4158, 'forget-me-drinks': 4159, 'wash': 2225, 'aerosmith': 2226, 'prices': 4160, 'fat_in_the_hat:': 4161, 'scum': 1603, 'sell': 404, \"we've\": 370, 'nerd': 4162, 'morose': 2227, 'informant': 2775, 'waylon_smithers:': 348, 'bunch': 1604, '1973': 4164, 'media': 2229, 'low-life': 4165, 'luxury': 4166, 'prefer': 2230, 'sharps': 1027, 'worse': 567, 'giggles': 2231, 'experiments': 4167, 'evergreen': 4168, 'mortal': 5693, 'ehhhhhhhhh': 4171, 'thinks': 629, 'desperately': 4172, 'singers:': 1605, 'helpful': 3462, 'love': 121, 'anxious': 2916, 'six-barrel': 4174, 'cans': 4175, 'haiti': 4176, 'regretted': 4177, 'junkyard': 4178, 'approval': 4179, 'juke': 4180, 'suds': 2232, 'klingon': 2233, 'whisper': 1357, 'sodas': 2234, 'hated': 961, 'swine': 2951, 'heals': 4181, 'mess': 2236, 'owned': 4183, 'atlanta': 2237, 'too': 104, 'actress': 4184, '1895': 2777, 'dumb': 881, 'avalanche': 4186, 'boyfriend': 2719, 'defiantly': 4188, 'joining': 2550, 'sooner': 2238, 'corporate': 2239, 'show-off': 4190, 'pantry': 4191, 'used': 371, 'chub': 4192, 'updated': 4193, 'slip': 1606, 'sequel': 4195, 'flourish': 4197, 'allowed': 2240, 'darjeeling': 4198, 'miles': 2241, 'lookalikes': 4199, 'badges': 2242, 'enemy': 1607, \"wallet's\": 4200, 'boxing_announcer:': 2684, 'victim': 4202, 'them': 239, 'file': 3047, 'pure': 4204, 'warn': 2244, 'closes': 2245, 'ahhh': 1964, 'died': 1238, 'hateful': 4206, 'name': 198, 'locklear': 4207, 'medical': 2246, 'dispenser': 4208, 'options': 4209, 'falcons': 2247, \"tramp's\": 4210, 'prove': 2248, 'hands': 484, 'cologne': 3785, 'dealie': 4212, 'audience': 4386, 'boneheaded': 2746, 'homie': 773, 'liser': 4213, 'cronies': 4214, 'fast': 774, 'tab': 691, 'pretzel': 5198, 'tons': 4216, 'accent': 1029, \"askin'\": 4217, 'youngsters': 4218, 'kind': 322, 'grope': 4219, 'wagering': 4220, 'thrown': 4221, 'office': 4222, 'sucked': 1500, 'mock-up': 4223, 'bride': 2249, 'rent': 4224, 'fletcherism': 4225, 'loudly': 4226, 'furniture': 4227, 'wish': 336, 'snide': 4228, 'juice': 2250, 'golden': 4229, 'brief': 3733, 'safecracker': 4231, 'exited': 4232, 'wolverines': 4233, 'nagurski': 4234, 'keys': 589, 'sport': 1951, 'break-up': 4237, 'declared': 4238, 'sprawl': 4239, 'languages': 5767, 'names': 1030, 'typed': 4240, 'wife-swapping': 4241, \"bar's\": 2252, 'noose': 4242, 'johnny': 4243, 'other_book_club_member:': 4244, 'tree_hoper:': 4245, 'sobo': 4395, 'diets': 3322, 'wad': 4247, 'pilsner-pusher': 4248, \"o'problem\": 1268, 'nah': 386, 'south': 1269, 'doy': 4250, 'spit-backs': 4252, 'whirlybird': 4253, 'rock': 2253, 'ribbon': 4254, 'stands': 2254, 'publish': 3371, 'overstressed': 4255, 'backing': 4256, 'alfalfa': 2256, 'princesses': 2257, \"mcstagger's\": 4324, 'goal': 4257, 'hampstead-on-cecil-cecil': 4258, 'checking': 1609, 'arabs': 3956, 'covers': 1610, 'idiots': 4259, 'sass': 4260, 'refreshment': 4261, 'comedy': 2259, 'hardy': 3419, 'yello': 3652, 'hideous': 4263, 'realizing': 583, 'mckinley': 4264, 'drunk': 212, 'bail': 4265, 'hops': 4266, 'crow': 4267, 'sight-unseen': 4268, 'undated': 4269, 'repay': 4270, 'caricature': 4271, 'delicious': 1611, 'sniffles': 1612, 'ratio': 4272, 'trash': 4274, 'unearth': 4275, 'color': 2260, \"secret's\": 3456, 'lib': 2261, \"valentine's\": 1270, 'befriend': 4278, 'bottomless': 4279, 'firmly': 2262, 'bags': 2291, \"you've\": 188, 'kahlua': 4280, 'compliment': 1613, 'sad': 430, 'parenting': 4281, 'predictable': 4282, 'pope': 2263, 'bet': 883, \"ol'\": 775, 'smelly': 4283, 'malibu': 5095, 'acceptance': 4284, 'unsanitary': 4285, 'fair': 1614, 'hear': 323, 'bourbon': 2264, 'chipper': 4286, 'facebook': 4287, \"drivin'\": 1032, 'nickel': 4288, 'joking': 2201, \"rentin'\": 5708, 'donor': 4290, 'buttocks': 4291, 'brunch': 4292, 'and': 14, 'cop': 1033, 'seems': 776, 'reliable': 2265, 'moving': 4293, 'fumigated': 4294, 'connection': 4295, 'uncomfortable': 1615, \"smackin'\": 4296, 'moon-bounce': 4297, \"feelin's\": 4298, 'homer_': 4299, 'generously': 4300, 'clown': 1034, 'patty': 2266, 'reasonable': 2607, 'swatch': 4345, 'promised': 2267, 'soaking': 4301, 'label': 1616, 'title': 3121, 'tire': 4302, 'worried': 568, 'clears': 1035, 'windex': 2268, 'new': 163, 'heaving': 4303, 'dad': 248, 'doug:': 2270, 'burn': 485, 'she': 160, 'folk': 2271, 'an': 84, 'reaches': 4305, 'louisiana': 4306, 'always': 283, 'calendars': 4307, 'throwing': 2272, 'achem': 2273, 'sap': 3647, 'surprising': 4308, 'plant': 777, 'cleaned': 1036, 'poured': 4309, 'stage': 4310, 'easy-going': 4311, 'crushed': 4312, 'urine': 4313, 'refinanced': 4314, 'temp': 4315, 'engine': 4316, 'directions': 1549, 'dude': 1037, 'strategizing': 4317, \"plaster's\": 4318, 'betty:': 1283, 'brightening': 2275, 'thru': 2276, 'vanities': 4319, 'wham': 4320, 'blinded': 5039, 'harmony': 4321, 'hooky': 4322, 'together': 799, 'compadre': 4323, 'whiny': 1251, 'pudgy': 4325, 'ends': 4326, 'lotta': 1273, 'delivery_boy:': 2892, 'unhook': 4327, 'invented': 884, 'lizard': 4329, 'mines': 4330, \"somethin':\": 4331, 'alfred': 2277, 'beings': 4332, 'distaste': 4333, 'predecessor': 4334, 'swell': 4335, 'urinal': 2956, 'military': 1617, 'lindsay_naegle:': 1618, 'wildest': 4347, \"football's\": 4337, \"mtv's\": 4338, 'cletus_spuckler:': 4339, 'mushy': 4340, 'imaginary': 3424, 'waking-up': 4341, 'patty_bouvier:': 692, 'game': 351, 'grin': 4342, 'pause': 1620, 'whether': 2278, 'tracks': 5046, '||dash||': 66, '2': 4346, 'copy': 2279, 'hidden': 4348, 'carlotta:': 4349, 'investor': 2280, 'tv_announcer:': 2281, 'karaoke_machine:': 4350, \"kiddin'\": 779, \"someone's\": 2282, 'period': 4351, 'forgot': 885, '_babcock:': 1621, 'our': 125, 'various': 3960, 'ripper': 4354, 'rome': 4355, 'being': 406, 'telegraph': 4356, 'wayne:': 1623, 'kirk_van_houten:': 486, 'fixed': 2283, 'smoker': 4357, 'might': 264, 'easily': 4358, 'breakdown': 4359, 'logos': 4360, 'releasing': 4361, 'once': 337, 'voodoo': 4362, 'batmobile': 3970, \"liberty's\": 4019, 'fist': 4365, 'putting': 2285, 'decency': 2286, 'abandon': 2340, 'successful': 2287, 'protesting': 4367, 'plenty': 2288, 'toe': 4368, 'paramedic:': 4369, 'finally': 780, 'stock': 1275, 'nose': 1276, 'girls': 631, 'politics': 2289, \"it'll\": 569, 'mother': 632, 'shindig': 6318, 'blubberino': 4370, 'oh-so-sophisticated': 4371, 'mocking': 4372, 'isle': 2290, 'cracked': 4373, \"lisa's\": 1039, 'lord': 1040, 'quick-like': 4374, 'bart_simpson:': 146, 'wonderful': 1041, 'delicate': 4375, 'young': 633, 'cheaper': 4377, 'because': 271, 'dennis': 4378, 'mid-seventies': 4379, 'complete': 1625, \"sayin'\": 886, 'freaky': 4380, 'presidential': 3756, 'before': 199, \"rasputin's\": 4382, 'feels': 1278, 'slim': 4383, 'tatum': 1279, 'expert': 2127, 'works': 570, 'fruit': 4384, 'hungry': 1280, 'trip': 1281, 'yuh-huh': 4385, 'mcclure': 6598, 'deer': 1028, 'ten': 634, 'sink': 4388, 'play/': 4389, 'stones': 4390, 'bury': 4391, 'design': 3407, 'dunno': 887, 'smell': 693, 'eighty-seven': 2251, 'pulls': 1282, 'charming': 4393, \"tab's\": 4394, 'hairs': 4246, 'necklace': 3981, 'wrong': 352, 'reconsidering': 3132, 'cut': 528, 'slurred': 4396, 'dying': 1042, 'denser': 2295, 'lugs': 5875, \"industry's\": 4397, \"america's\": 4398, 'line': 1223, 'gee': 383, 'knowledge': 3571, 'talk-sings': 1626, 'chug': 1043, 'bedtime': 4328, 'phase': 4400, 'listening': 2614, 'murdered': 4401, 'goods': 2297, 'heartily': 4402, 'strategy': 2298, 'torn': 2299, 'intoxicated': 5724, 'twenty': 489, 'saint': 2300, 'sees': 1284, 'whale': 4403, 'billingsley': 4404, 'including': 4405, 'spirit': 4406, 'layer': 4407, 'confidentially': 4408, 'rev': 694, 'gargoyle': 2301, 'pages': 4409, 'billiard': 4376, 'ahead': 1285, 'kissingher': 4410, 'determined': 4411, 'expensive': 3760, 'tabooger': 2302, 'cops': 2293, 'bedbugs': 2303, 'nasa': 2304, 'knock-up': 4413, 'maman': 2296, 'stagy': 1286, 'shelf': 4415, 'like': 39, 'traitor': 4416, 'police': 636, 'heave-ho': 4417, 'enabling': 4418, 'movement': 4419, 'daaaaad': 4421, 'intakes': 4422, 'jolly': 1628, 'face': 211, 'awfully': 3135, 'trail': 5732, 'troubles': 4423, 'consoling': 4424, 'young_homer:': 889, 'size': 1629, 'soul': 1044, 'space-time': 4425, 'alky': 4426, 'stan': 4427, 'punishment': 4428, 'strap': 1045, 'crisis': 4429, 'sesame': 4430, 'limber': 4431, 'thirsty': 4432, 'way:': 4433, 'bucks': 379, 'nasty': 4435, 'contract': 4436, 'pressure': 2305, 'gumbo': 4437, 'extinguishers': 4438, 'plow': 1317, 'president': 695, 'al_gore:': 1630, 'jets': 2307, 'ourselves': 1287, 'shower': 2308, 'polenta': 4439, \"y'money's\": 4440, 'fun': 571, 'abcs': 4441, 'newly-published': 4442, \"mopin'\": 4443, 'jobless': 4444, 'collapse': 4445, 'ruby-studded': 4446, 'impeach': 4447, 'straight': 572, 'sobs': 256, \"getting'\": 4448, 'bleak': 4449, 'mike_mills:': 4450, 'landfill': 4451, 'professional': 1288, 'small_boy:': 5476, 'states': 4453, 'pin': 2309, 'fever': 1631, 'robin': 4454, 'flew': 4455, '_montgomery_burns:': 343, 'helen': 2310, 'dyspeptic': 4457, 'erasers': 4458, 'ladies': 468, 'tooth': 4460, 'agreement': 2311, 'simultaneous': 3903, 'fake': 4975, 'points': 431, '||question_mark||': 10, 'modestly': 4462, 'dessert': 2378, 'diving': 4463, 'jacques:': 490, 'teeth': 1633, 'rugged': 4456, 'stranger:': 2312, 'mayor_joe_quimby:': 696, 'contemporary': 4464, 'word': 781, 'wheeeee': 4465, 'offshoot': 4466, 'though:': 4467, 'exasperated': 1157, \"i-i'm\": 1634, 'moron': 697, 'almond': 4469, 'kako:': 4470, 'snotball': 4765, 'blinds': 6579, 'defected': 3295, 'agnes_skinner:': 680, 'aah': 4471, 'forever': 782, 'attitude': 2313, 'slit': 4472, \"world's\": 1047, 'booze': 451, 'ha': 794, 'ruined': 1290, 'four-star': 4476, 'inside': 783, 'please': 200, 'skinner': 448, 'crab': 4477, 'bowl': 637, 'fraud': 1637, 'szyslak': 890, 'daniel': 4480, 'chipped': 3145, 'open': 698, 'rights': 4481, 'result': 4482, 'stained-glass': 5372, 'prompting': 4483, 'polls': 4484, 'who-o-oa': 1640, 'wordloaf': 2314, 'jaegermeister': 4485, 'yogurt': 2315, 'con': 4486, 'rickles': 4487, 'straighten': 4488, 'faced': 4489, \"son's\": 4490, 'depression': 4491, 'indicates': 4492, 'smitty:': 4900, 'water': 891, 'mount': 2316, 'wishes': 2317, 'tell': 137, 'grenky': 4922, 'arrested:': 5747, 'harrowing': 4496, 'intimacy': 4497, 'noggin': 4498, 'bets': 2318, 'betcha': 4499, 'ohmygod': 1641, 'juan': 4500, 'masks': 4501, 'si-lent': 4502, 'relationship': 2215, 'television': 4504, 'smallest': 2787, 'fights': 4507, 'releases': 4508, 'remember': 303, 'grey': 4509, \"smokin'\": 4510, \"yesterday's\": 5682, \"gentleman's\": 1642, \"poisonin'\": 4511, 'catching': 2320, 'countryman': 4512, 'getaway': 4513, 'gheet': 4514, 'hobo': 2321, 'rem': 4515, 'railroad': 2322, 'baloney': 4516, 'hop': 2473, 'microwave': 4518, 'crony': 4519, 'tummies': 4520, 'frescas': 4521, 'düffenbraus': 4522, 'bachelorhood': 4523, 'shaggy': 2323, 'dumptruck': 5033, 'dan_gillick:': 1291, 'stories': 1048, 'patient': 2324, 'failed': 2468, 'prejudice': 5488, 'morlocks': 2325, 'refund': 2326, 'm': 573, 'sue': 4387, 'larry:': 574, 'problems': 525, \"coffee'll\": 4528, 'haikus': 4529, 'clench': 4530, 'daughter': 407, 'forehead': 2327, 'listens': 4531, 'writers': 2328, 'j': 3779, \"sippin'\": 4532, 'drinking:': 4533, 'simpsons': 4534, 'simp-sonnnn': 2329, 'me': 21, 'harvey': 4535, 'habit': 4536, 'partially': 4537, 'better': 190, 'i': 6, 'marguerite:': 2331, 'specified': 4541, 'greystash': 1643, 'beam': 2486, 'handoff': 4542, 'cosmetics': 4543, \"clancy's\": 4544, 'eyed': 4545, 'jubilation': 4546, 'today/': 4547, 'backgammon': 5167, 'wikipedia': 4548, 'indecipherable': 4549, 'volunteer': 4550, 'celebrity': 2332, '||period||': 0, 'settlement': 4551, 'school': 470, 'complaint': 2333, 'easygoing': 4553, 'funds': 2334, 'affectations': 4554, 'midnight': 1644, 'darkness': 4555, 'burglary': 5220, 'homeless': 4557, 'ura': 4558, 'enlightened': 5241, 'ale': 2336, 'upn': 4559, 'utensils': 4561, 'whatchacallit': 4562, 'listened': 4563, 'phasing': 4564, 'tones': 4565, 'starving': 4566, 'frontrunner': 5285, 'buy': 265, 'beloved': 1098, 'fringe': 4568, 'winded': 4569, 'forget-me-shot': 1293, 'future': 1718, 'mexican_duffman:': 4570, 'correction': 4571, 'pre-recorded': 4572, 'saw': 456, 'mind': 700, 'speech': 1050, 'tall': 4574, 'lady': 594, 'limits': 4576, 'recruiter': 4577, 'ninety-seven': 3792, 'world': 274, 'flailing': 5440, 'stairs': 4581, 'african': 1051, 'resist': 4582, 'calls': 1294, 'cuz': 4583, 'gets': 449, 'gore': 4584, 'envy-tations': 4585, 'squirrel': 3768, 'acronyms': 4586, 'stab': 4587, 'bush': 2338, 'feet': 701, 'whining': 4588, 'e-z': 4589, 'unlocked': 4590, 'retired': 2360, 'nahasapeemapetilon': 4591, 'choice': 1295, 'miracle': 4592, 'conspiratorial': 2341, 'doppler': 4593, 'y-you': 4594, 'eye': 575, 'tears': 1645, 'separator': 4595, 'belly': 1749, 'diet': 1647, 'l': 1646, \"aristotle's\": 4196, 'november': 5469, 'language': 4600, 'flat': 4601, 'met': 1785, 'hotel': 4603, 'items': 5489, 'photo': 2342, 'libraries': 4605, 'upset': 526, 'pleasure': 2575, 'faulkner': 4607, 'jägermeister': 4608, 'wake': 2343, 'long': 324, 'mis-statement': 4609, 'ahhhh': 3692, 'craphole': 2344, 'repairman': 4611, 'writer:': 4612, 'garbage': 1296, 'surprise': 2345, 'forty': 1297, 'found': 717, 'eats': 4614, 'fragile': 2475, 'muscles': 5622, 'lurks': 4617, 'gorgeous': 2346, 'picnic': 5925, 'scores': 4619, 'reflected': 4620, 'clammy': 5584, 'whim': 4622, 'other': 244, 'rom': 4624, 'appendectomy': 4625, 'automobiles': 4626, 'won': 892, 'wiggle-frowns': 4452, 'treats': 4629, 'honest': 922, 'ignorant': 4630, 'nash': 4631, 'misfire': 4089, 'moxie': 4632, 'dentist': 4120, 'begging': 4634, 'bully': 2859, 'serum': 4635, 'excellent': 2347, 'anything': 304, 'lovelorn': 4637, 'beauty': 1298, 'dance': 785, 'specializes': 4639, 'dough': 2348, 'halloween': 3175, '1989]': 4641, 'explanation': 4642, 'lenses': 4643, 'teddy': 2349, 'peach': 1570, 'patented': 4644, 'puzzled': 1052, 'go': 77, 'hostile': 5717, 'road': 1289, 'joined': 2350, 'quiet': 576, 'immiggants': 4647, 'prank': 1648, 'filled': 2351, 'unlike': 1649, 'spitting': 4648, 'charm': 2352, 'corporation': 1650, 'contemplated': 4649, 'busiest': 4650, 'entirely': 2353, 'denver': 893, '14': 4651, 'lainie:': 4652, 'smurfs': 2355, 'ken:': 1299, 'winnings': 2356, 'throat': 588, 'eminence': 4654, 'naegle': 3759, 'paintings': 4655, 'pulled': 1300, 'motorcycle': 2654, 'searching': 1651, 'savings': 4657, 'sketching': 4658, 'lager': 4659, 'snaps': 1652, 'extra': 1793, 'model': 4661, 'hey': 29, 'ambrose': 4662, 'cab': 4663, 'head-gunk': 4664, 'drank': 2357, 'paparazzo': 4665, \"o'reilly\": 4666, 'housewife': 4667, 'ordered': 1653, 'wantcha': 4668, 'hit': 894, 'drummer': 4670, 'finding': 1301, 'dice': 5968, 'washed': 4671, 'cheery': 2358, 'grumpy': 2621, 'sotto': 786, 'bread': 2361, 'mulder': 3112, 'businessman_#1:': 2362, 'underpants': 2363, \"let's\": 227, 'safely': 5889, 'industry': 2365, 'foot': 1654, 'rump': 3810, 'leg': 1655, 'harv:': 895, 'literature': 1656, 'grammy': 4673, '||quotation_mark||': 20, 'cozies': 4674, 'chief_wiggum:': 159, 'letter': 702, 'name:': 4675, 'furiously': 4676, 'generosity': 4677, 'foibles': 1302, 'chicken': 4678, 'whatever': 577, 'marmaduke': 2366, 'stacey': 4679, 'renovations': 4680, 'vacations': 5945, 'mayor': 1053, 'event': 5947, 'male_inspector:': 2369, 'cocoa': 4681, 'soup': 2370, 'satisfaction': 2371, 'halfway': 4683, '_julius_hibbert:': 896, 'naval': 4684, 'hellhole': 3830, 'flexible': 4686, 'dig': 4687, \"tryin'\": 1054, 'although': 2372, 'anthony_kiedis:': 4688, 'tribute': 4689, 'cause': 4690, 'wound': 4691, 'mystery': 4692, 'ew': 4693, 'racially-diverse': 4694, 'wrestling': 2373, 'eyesore': 2374, 'attach': 4695, 'groveling': 5890, 'man_with_tree_hat:': 4697, 'annoying': 4698, \"nothin's\": 4699, 'sieben-gruben': 6017, 'defensive': 1657, 'bartender': 548, 'donut': 3184, 'helicopter': 1659, 'pretty': 321, 'mabel': 4702, 'life:': 4703, 'tight': 4704, 'effect': 4705, 'frustrated': 1304, 'mason': 5772, 'canyoner-oooo': 6407, 'swig': 5098, 'encouraging': 4708, 'finish': 4709, 'eddie:': 1305, 'went': 432, 'bragging': 4710, 'aging': 2376, 'wade_boggs:': 2716, 'silence': 4711, 'bumped': 6084, 'parked': 4714, 'fistiana': 4715, 'fire_inspector:': 4716, 'wells': 4717, 'mouth': 433, 'lucky': 699, 'conditioner': 2380, 'angrily': 4719, 'sat-is-fac-tion': 4720, 'jacks': 4721, 'mac-who': 4722, 'push': 1627, 'race': 5776, 'loser': 491, 'fool': 1661, 'whatsit': 4723, 'sponge': 4724, 'woulda': 4725, 'stalwart': 4726, 'eh': 174, 'couch': 1306, 'dollface': 4727, 'only': 152, 'abercrombie': 4728, 'sugar': 2382, 'twelve': 1307, 'had': 138, 'can': 64, 'rolling': 2383, 'advantage': 2384, 'odd': 1662, 'grind': 5819, 'meanwhile': 4730, 'sending': 4731, 'romance': 4732, 'give': 161, 'box': 703, 'braun:': 3774, 'awareness': 4881, 'managing': 2625, 'tip': 898, 'hero-phobia': 4734, 'are': 55, 'co-sign': 4735, 'killarney': 4736, 'lush': 2385, \"beer's\": 2386, 'patron_#2:': 4737, 'patrons:': 5500, 'kemi:': 408, 'brockman': 1055, 'legs:': 4738, 'site': 4739, 'minimum': 1308, 'self-satisfied': 4740, 'grabs': 1665, 'comforting': 4741, 'agency': 4742, 'violations': 2387, 'live': 578, 'boozer': 4304, 'quite': 1309, 'shooting': 2388, 'whispered': 4745, \"queen's\": 4746, 'seas': 2389, 'elmer': 4747, 'gees': 4748, 'martini': 4749, 'ronstadt': 4750, 'sign': 450, 'plug': 4751, 'rockers': 4752, 'smugglers': 2145, 'away': 325, 'attractive_woman_#2:': 4753, 'shoulda': 4754, 'sour': 4755, 'card': 704, 'self-esteem': 2390, 'generous': 2391, 'aquafresh': 4756, 'frink-y': 4757, 'fella': 4758, 'planning': 2392, 'squirrels': 3195, 'gol-dangit': 4759, 'costume': 2394, 'sooo': 4760, 'and-and': 4761, 'scornfully': 4762, 'mid-conversation': 4763, 'newspaper': 6430, \"man's\": 6435, 'typing': 5982, 'twenty-five': 1666, 'argue': 4764, 'problem': 372, 'badly': 5692, 'slap': 899, 'social': 2398, 'occurrence': 4766, 'homesick': 4767, 'creeps': 2399, 'cents': 1558, 'x': 1057, \"jimbo's_dad:\": 4769, 'barney-type': 4770, 'bachelor': 4771, 'expose': 4772, \"c'mom\": 4420, 'hurt': 434, 'morning-after': 4775, \"smokin'_joe_frazier:\": 1058, 'gave': 467, 'counter': 4776, 'get': 56, 'mock': 1635, 'clone': 1636, 'tonic': 5585, 'jack': 1046, 'may': 638, 'illegal': 1311, 'shaky': 4778, 'sly': 1312, \"boy's\": 5049, 'passports': 4779, 'ab': 4780, 'mumbling': 2400, 'gluten': 4781, 'toasting': 1667, 'beaumont': 4782, 'insulted': 2401, 'blokes': 4783, 'steamed': 4784, 'not': 62, 'blowfish': 4785, 'yourse': 4786, 'disgracefully': 4787, 'delightful': 4473, 'gentles': 4788, 'pointless': 2381, 'director': 2146, 'everywhere': 4474, 'videotaped': 4790, 'online': 4791, 'stir': 2404, 'choked-up': 4792, 'here-here-here': 3197, 'one-hour': 4793, 'annie': 4794, 'somewhere': 1668, 'gun': 2635, 'sniffs': 1669, 'alphabet': 2405, 'pumping': 6677, 'charlie:': 4796, 'associate': 4797, 'hose': 4798, 'population': 4800, 'bid': 4801, 'button': 1670, 'luv': 4802, 'gentleman:': 2406, \"breakin'\": 4803, 'salad': 1671, 'yell': 2628, 'shrugs': 2407, 'youuu': 4805, 'wiggle': 4806, 'camera': 452, 'mini-dumpsters': 4807, 'earth': 4808, 'bridge': 2408, 'kisses': 4809, 'pleasant': 2409, 'rented': 4810, 'hours': 579, 'respect': 1313, 'statue': 4811, 'shill': 4812, 'dawning': 3923, 'glum': 1672, 'hard': 900, 'off': 126, \"santa's\": 4814, \"dolph's_dad:\": 4815, 'duffed': 4816, 'himself': 787, 'adult': 4817, \"people's\": 4818, 'nibble': 4819, 'lenny:': 2410, 'sandwich': 2411, 'byrne': 4820, 'fictional': 1914, \"robbin'\": 1795, 'solved': 4821, \"waitin'\": 2412, 'do': 52, 'pontiff': 4822, 'notices': 4823, 'we-we-we': 4824, 'suck': 1673, 'wang': 2413, 'young_barfly:': 4825, 'smart': 2414, 'falling': 4826, 'cooking': 4827, 'crayon': 4828, 'pronto': 4829, 'noooooooooo': 4830, 'lowering': 2788, 'danny': 4831, 'pictured': 4604, 'lorre': 4832, \"where'd\": 1674, 'triangle': 4833, 'drains': 4834, 'christian': 3009, 'hooters': 4835, 'buying': 1675, 'kidneys': 4838, 'wings': 2415, 'debonair': 4839, 'rummy': 789, 'jockey': 2416, 'wishing': 4840, 'mistake': 1676, 'buyer': 4399, 'rationalizing': 4841, 'deny': 4842, 'deli': 4843, 'stein-stengel-': 4844, 'unlucky': 1677, 'falsetto': 4845, 'remain': 3070, 'blind': 4846, 'neither': 2418, 'round': 790, 'lobster-based': 4847, 'access': 4848, 'blissful': 3085, 'provide': 4849, 'match': 1314, 'grease': 4851, 'drinking': 453, 'twins': 1178, 'well-wisher': 4853, 'eightball': 4854, 'subscriptions': 4855, 'stagehand:': 4856, 'undies': 3212, 'bright': 1678, 'brings': 4857, 'fine': 454, '/': 69, 'birth': 4859, 'vacation': 2419, 'waters': 4860, 'absolut': 4861, 'patrons': 4862, 'government': 1062, 'eyeing': 4863, 'squeezed': 4864, 'assume': 4865, 'excuses': 4866, 'secrets': 1315, 'fatty': 4867, 'started': 1316, 'limited': 4868, 'invisible': 3001, 'watered-down': 2421, 'anonymous': 4869, 'pine': 4870, 'sperm': 4871, 'innocence': 4872, 'happily:': 4873, 'legal': 4874, '||right_parenthesis||': 4, 'deacon': 2760, 'project': 2422, 'ruin': 1689, '||semicolon||': 791, 'feed': 1679, 'mechanical': 1680, 'assert': 3893, 'announcer:': 1064, 'bathroom': 2632, 'disgusted': 580, 'replace': 4876, 'brave': 2633, 'bonfire': 3250, 'begins': 2423, 'shakes': 4878, 'tester': 2424, 'under': 409, 'spouses': 4879, 'burps': 1319, 'scout': 4880, 'stingy': 3927, 'guts': 3279, 'emphasis': 4882, 'temper': 6189, 'increased': 4883, 'snail': 4884, \"marge's\": 2426, 'no': 32, 'weather': 4885, 'warm_female_voice:': 739, 'stirrers': 4886, 'guzzles': 4887, 'compare': 4888, 'spectacular': 4889, 'twerpy': 5804, 'infiltrate': 4890, 'nearly': 2152, 'pussycat': 3327, 'reserve': 2030, 'souvenir': 4891, 'popular': 1682, 'level': 2428, 'jimmy': 5805, 'sissy': 2429, 'rubs': 4503, 'chosen': 4892, 'fausto': 2430, 'testing': 1065, 'minister': 2431, 'even': 162, 'opens': 4893, 'wuss': 4894, 'wealthy': 4895, 'yesterday': 1320, 'belch': 902, 'awwww': 2432, 'terrifying': 4896, 'beer': 81, 'aggie': 4897, 'lend': 3393, 'er': 4898, 'rumaki': 2433, 'giggle': 4899, 'sheet': 4901, 'everybody': 258, 'stuck': 2354, 'don': 2435, 'sober': 1066, '-ry': 3429, 'espn': 4906, 'gotta': 117, \"professor's\": 4907, 'sail': 3840, 'reminded': 4909, 'outlive': 5686, 'opportunity': 1322, 'freak': 2437, 'afford': 1683, 'remorseful': 6343, 'customers-slash-only': 4910, 'barney-shaped_form:': 1684, 'meatpies': 4911, 'weekend': 4912, \"don'tcha\": 4913, 'willing': 4914, \"moe's_thoughts:\": 1323, 'chuckles': 309, 'anyhoo': 4915, \"callin'\": 1067, \"high-falutin'\": 4916, 'sued': 3646, 'clothespins:': 4917, 'beat': 272, 'beatings': 4918, 'wine': 1068, 'come': 95, 'charges': 3521, 'tentative': 2154, 'buds': 3524, 'jams': 4919, 'pink': 3538, 'tank': 3543, 'bubbles': 2439, 'raining': 4921, 'about': 74, 'exhale': 4494, 'eggs': 792, 'escort': 4923, 'throws': 4924, \"summer's\": 4925, 'bitterly': 1685, 'nameless': 4926, 'maher': 4927, 'boxcars': 4928, 'at': 67, 'brick': 4633, 'driving': 1070, 'interested': 2440, 'gesture': 4930, \"cont'd:\": 4931, 'killed': 1686, 'white_rabbit:': 4932, 'weep': 4933, 'hillary': 4934, 'short': 1071, 'sighs': 284, 'instrument': 4935, 'date': 455, 'beards': 4936, 'mister': 904, 'plum': 2441, 'politicians': 4937, 'bike': 1687, 'steal': 581, 'champion': 4938, 'colonel:': 4939, 'tastes': 1688, 'novel': 4940, 'ehhhhhh': 4941, 'bagged': 3672, \"you'll\": 294, 'weapon': 4943, 'adult_bart:': 1005, 'corkscrews': 4944, 'demo': 4945, 'screw': 793, 'pall': 6676, 'spend': 582, 'tapered': 4946, 'suit': 1072, 'finest': 1690, 'soft': 4947, 'mortgage': 2442, 'singer': 4948, 'index': 4949, 'having': 1073, 'conditioning': 4950, 'comfortable': 1691, 'someday': 2443, 'granted': 2444, 'electronic': 2445, 'reader': 4951, 'warren': 4952, \"thinkin'\": 5818, 'slapped': 4953, 'voice': 260, 'specific': 4954, 'swelling': 4955, 'occasional': 4956, 'shelbyville': 4017, 'cannot': 1692, 'henry': 2397, 'genuinely': 5998, 'degradation': 2447, 'violin': 2448, 'compete': 4957, 'jeter': 4958, 'strawberry': 4959, 'orifice': 4960, 'trick': 2449, 'beach': 1074, 'woo': 385, 'sharing': 4961, 'tidy': 4962, 'mayan': 3784, 'strokkur': 4963, 'bauer': 4964, 'afternoon': 1693, 'almost': 1325, \"neat's-foot\": 4965, 'groans': 4966, 'hiring': 4967, 'occupancy': 4968, 'graveyard': 3854, 'ocean': 2451, 'payday': 4969, 'mindless': 4970, 'you': 7, 'disturbance': 4971, 'blamed': 5420, 'diablo': 4972, 'chill': 4973, 'filed': 4974, '1979': 3838, \"town's\": 2153, 'pity': 1031, 'drink': 148, \"how'd\": 705, 'dress': 2452, 'wiping': 4977, \"ragin'\": 4978, 'chastity': 4979, 'powered': 4980, 'aziz': 4981, 'stinger': 4982, 'partners': 4983, 'bashir': 2453, 'impressed': 906, 'dracula': 4984, 'backbone': 4985, 'straining': 2454, 'indifference': 4986, 'doom': 4987, \"swishifyin'\": 4988, 'reminds': 1695, 'celebrities': 1696, 'ticks': 4989, 'same': 907, 'right': 68, 'toilet': 1697, 'lecture': 4991, 'forgive': 2319, 'carefully': 4993, 'british': 1698, 'mexican': 4994, 'comedies': 3989, 'available': 2455, 'set': 930, 'hoping': 1326, 'indeed': 4996, 'hottest': 4997, 'octa-': 4998, 'bowling': 1821, 'ease': 4999, 'fortune': 5000, 'fdic': 5001, 'honeys': 4578, 'camp': 2639, 'family': 340, 'milhouse': 1699, 'ow': 295, \"blowin'\": 5002, 'pretends': 5003, '||exlamation_mark||': 8, 'banquo': 2456, 'mickey': 5004, 'gamble': 5005, 'gloop': 5006, 'trenchant': 5007, 'vermont': 5008, 'hounds': 5009, 'who': 83, 'barflies': 639, 'korea': 5011, 'clothes': 1327, 'ned_flanders:': 341, \"bettin'\": 5012, 'desperate': 940, 'none': 1078, 'spot': 1328, 'flaking': 5013, 'older': 5014, 'salt': 2457, \"car's\": 5015, 'examines': 5016, 'sheriff': 5017, 'alone': 706, 'steinbrenner': 5018, 'strong': 954, 'the': 5, 'husband': 1329, 'twenty-nine': 5019, 'lewis': 3862, \"tv's\": 5020, 'gotten': 1330, 'academy': 2458, \"bladder's\": 5021, 'cricket': 4148, 'balls': 2459, 'turned': 609, 'stalking': 5022, 'jukebox': 908, 'post-suicide': 5023, 'offa': 5024, 'puts': 2460, 'suspenders': 5025, 'package': 5026, 'circus': 4189, 'expecting': 5027, 'mcbain': 2461, 'wooden': 2462, 'schabadoo': 6357, 'dr': 262, 'peanuts': 795, 'few': 1079, 'switched': 5028, 'address': 1331, 'perfect': 663, \"havin'\": 1701, 'home': 195, 'detective_homer_simpson:': 1162, 'jeff_gordon:': 5029, 'wayne': 2402, 'officer': 5030, 'damn': 797, 'cream': 2463, 'powers': 5031, \"she'd\": 5032, 'tornado': 4524, 'caused': 2464, 'canyonero': 405, \"hawkin'\": 5034, \"hangin'\": 2465, 'pantsless': 5035, 'lose': 1080, 'restroom': 2466, 'increasingly': 2467, 'arise': 5037, 'scornful': 5038, 'chick': 1409, 'weird': 798, 'gunter': 4527, \"isn't\": 293, 'uniforms': 4352, 'friendship': 2597, 'meaningful': 1385, 'storms': 5040, 'attractive': 5041, 'spoon': 5042, 'trivia': 5044, 'attend': 5045, 'dejected_barfly:': 4344, 'class': 871, 'champignons': 5047, 'bam': 2469, 'selfish': 5048, 'hole': 1703, 'perhaps': 1704, 'ons': 5050, 'thrust': 5051, 'healthier': 5052, 'rag': 1333, 'tired': 1081, 'theatrical': 5053, 'burp': 1334, 'safety': 5054, 'cruise': 5055, 'accept': 1705, 'humanity': 5056, 'movies': 1335, 'festival': 2470, 'wore': 5058, 'coast': 5059, 'god': 164, 'prison': 2164, 'secret': 411, 'second': 640, 'statesmanlike': 5061, 'perfected': 5062, 'los': 5063, 'place': 184, 'threatening': 1706, \"round's\": 5064, 'lingus': 5065, 'bon': 5066, 'looooooooooooooooooong': 5067, 'deliberately': 5068, 'authenticity': 5069, 'credit': 5070, 'night-crawlers': 5071, 'turns': 529, 'michael_stipe:': 5072, 'sideshow_bob:': 5073, 'cent': 2471, 'venom': 5075, 'vehicle': 5076, 'handsome': 1082, 'stocking': 4920, 'hitler': 2472, 'east': 5078, 'neighboreeno': 5079, 'either': 641, 'most:': 5080, 'artist': 5081, 'watt': 5082, 'sadder': 1707, 'orders': 4517, 'maybe': 175, 'hunky': 5083, 'break': 458, \"gettin'\": 584, 'whoever': 5084, 'pugilist': 5085, 'hiding': 5086, 'meals': 2962, 'to': 13, 'derisive': 5087, 'music': 909, 'multi-purpose': 5088, 'white': 2474, 'much': 176, 'room': 494, 'backward': 4615, 'insensitive': 4623, 'fontaine': 5089, 'diamond': 2561, 'hawking:': 2476, 'twice': 2477, 'civic': 2478, 'lachrymose': 5090, 'disappointed': 1083, 'consciousness': 5091, 'hate-hugs': 5092, 'wall': 1084, 'restless': 5093, 'chance': 530, 'supplying': 5094, 'large': 2479, \"'im\": 2819, 'teenage': 1796, 'prayers': 5096, 'militia': 4707, 'gosh': 2480, 'kept': 1708, 'corner': 1709, 'cheapskates': 5099, 'blessing': 5100, 'lift': 5101, \"tootin'\": 5102, 'slogan': 4538, 'lear': 5103, '3': 5104, 'expense': 5105, 'drinker': 5106, 'therapy': 1336, 'inspired': 2481, 'graves': 5107, 'hiya': 1566, \"cashin'\": 5108, 'sec': 1710, 'moon': 5109, 'swings': 5110, 'said': 237, 'up-bup-bup': 5112, 'shoe': 5113, 'saget': 4540, 'excuse': 412, \"ridin'\": 1711, 'anarchy': 2095, 'severe': 1713, 'brusque': 5115, 'beanbag': 5116, 'priceless': 5118, 'mistakes': 5119, 'planned': 5120, 'he': 76, 'shred': 4575, 'crowned': 5121, 'closet': 5122, 'loafers': 5123, 'stupid': 296, 'gangrene': 5124, 'nantucket': 5125, 'go-near-': 5126, 'offer': 1337, 'albeit': 4023, 'luck': 1085, 'lives': 910, 'edna_krabappel-flanders:': 1086, 'sumatran': 5127, 'h': 4236, 'thirty-thousand': 5128, 'sings': 285, 'prohibit': 2482, 'devils:': 5129, 'son': 800, 'knocked': 1714, 'perking': 5131, 'paris': 1715, 'wreck': 5132, 'smoke': 2483, 'said:': 5133, 'leno': 5134, 'confused': 1087, 'chin': 5136, 'coffee': 1716, 'aghast': 5137, \"stabbin'\": 5138, 'yoink': 5139, 'socratic': 5140, 'distinct': 5141, 'grub': 5142, 'unrelated': 5143, 'convinced': 5144, 'press': 5145, 'mixed': 2484, 'offended': 1088, \"scammin'\": 5146, 'thunder': 5147, 'glass': 310, 'horribilis': 4083, 'reads': 1717, 'lips': 1292, \"department's\": 5150, 'elephants': 2487, 'warily': 2488, 'wussy': 5152, 'insecure': 5153, 'touches': 5154, \"bashir's\": 5155, 'wanna': 189, 'homers': 2489, 'party': 373, 'need': 139, 'fury': 5156, 'bumbling': 5157, 'probably': 649, 'supposed': 911, 'remains': 2490, 'i-i': 1124, 'gary_chalmers:': 1719, 'awake': 5161, 'briefly': 4155, 'rhyme': 2491, 'specials': 5162, 'comic': 2492, 'nurse': 5163, 'moe': 30, 'baritone': 2493, 'calvin': 5164, \"table's\": 3891, 'remaining': 5165, 'mmm': 2495, 'witches': 5166, 'tremendous': 5117, 'ungrateful': 5168, 'eggshell': 5170, 'truth': 912, \"g'night\": 5171, 'grocery': 5172, 'fireball': 1720, 'moan': 585, 'macaulay': 5174, 'cadillac': 5175, 'spelling': 5148, 'anti-lock': 5182, 'pathetic': 1721, 'the_edge:': 5177, 'upsetting': 5178, 'traitors': 5765, 'installed': 5179, '8': 5180, 'stripe': 5181, 'tender': 5176, 'pas': 5183, 'moe_recording:': 5184, 'lenny_leonard:': 33, 'neon': 5186, 'crowds': 5187, 'smuggled': 5188, 'sketch': 5189, 'jigger': 5190, 'happier': 813, \"larry's\": 5191, 'threw': 1338, 'sang': 5192, 'catch': 1089, 'settles': 5193, 'owe': 1090, 'stagey': 5194, 'roll': 1727, 'sells': 5195, 'whistles': 2497, 'warranty': 5196, 'resenting': 5197, 'shipment': 5199, 'combine': 2498, 'manuel': 5200, 'wisconsin': 5201, 'jay_leno:': 5202, 'aged': 5203, \"tatum'll\": 5288, 'jack_larson:': 1722, 'cars': 2499, 'anyhow': 5204, 'travel': 5205, \"they're\": 261, 'hilarious': 1723, \"donatin'\": 3278, 'fevered': 2501, 'judgments': 5206, 'composite': 5207, 'noises': 495, 'whispers': 5209, 'telemarketing': 5210, 'friction': 5211, 'down': 122, 'bras': 5212, 'swe-ee-ee-ee-eet': 5213, 'temple': 5214, 'reviews': 2502, 'referee': 5350, 'wrote': 1092, 'crack': 872, 'plucked': 5217, 'priest': 2503, 'intruding': 5218, 'explaining': 1339, 'smoothly': 2504, 'robbers': 5219, 'law-abiding': 5221, 'cross-country': 5222, 'present': 2505, 'regretful': 5223, 'dressed': 1724, 'runaway': 5224, 'book_club_member:': 1725, 'strain': 5225, 'freely': 5226, 'discriminate': 5227, 'regulations': 5228, 'miss_lois_pennycandy:': 5229, 'except': 850, 'spews': 5230, 'mccarthy': 5231, 'decided': 5232, 'skinny': 5233, 'winston': 5234, 'voicemail': 5236, 'chinese': 1751, 'horns': 5237, 'boo': 1726, 'albert': 5471, \"shootin'\": 5238, \"drawin'\": 2509, 'designer': 5239, 'all': 37, 'pen': 5240, 'ziff': 2335, 'twenty-six': 5130, 'charter': 5242, 'deeper': 5862, 'repeated': 5243, 'paper': 5244, 'effervescence': 6505, 'allegiance': 5530, 'drunks': 1728, 'cheer': 1093, 'helping': 3283, \"c'mon\": 342, 'tv_daughter:': 5247, 'r': 1729, 'reptile': 5248, 'hmf': 5249, 'positive': 2166, 'carl:': 2565, \"doin'\": 355, 'burning': 1730, 'outs': 5252, 'located': 5253, 'chanting': 1094, 'harvard': 5254, 'outlook': 2510, 'table': 801, 'philosophic': 5255, 'blackjack': 4995, 'stolen': 5256, 'truck_driver:': 5257, 'drivers': 1340, 'county': 5258, \"guy's\": 1096, 'vance': 1342, \"patrick's\": 2511, 'head': 273, \"wearin'\": 5259, 'shutting': 2512, 'vengeful': 4414, \"hell's\": 5260, 'shoot': 1731, 'strangles': 5261, 'wearing': 1732, 'man_at_bar:': 5262, 'initially': 5263, 'mic': 2514, 'painless': 5264, \"i'd\": 165, 'though': 735, 'why': 109, 'bee': 1097, 'menacing': 5665, 'basement': 5265, 'shakespeare': 2516, 'vengeance': 5266, 'purveyor': 5267, 'patron_#1:': 5268, 'profiling': 5269, 'character': 1343, 'brag': 5270, 'dramatic': 1344, 'pickles': 5271, 'lindsay': 5272, 'far': 642, 'eaten': 5273, 'duffman': 707, \"ball's\": 5274, \"speakin'\": 5275, 'coma': 5276, 'prolonged': 5277, 'published': 5278, 'feeling': 459, 'extract': 5279, 'grains': 5280, 'skydiving': 5135, 'feisty': 4573, 'insulin': 5281, 'hemoglobin': 5282, 'astonishment': 5283, 'asking': 2518, 'france': 1345, 'heroism': 4211, 'youth': 5284, 'thought': 257, \"foolin'\": 5286, 'southern': 5287, 'tipsy': 435, 'george': 5289, 'colorado': 5290, 'in': 19, 'drag': 5291, 'actor': 5292, 'barn': 708, 'happily': 1733, 'hmm': 802, 'spamming': 5293, 'conclude': 5294, 'obese': 5295, 'ripping': 5296, 'listen': 222, 'dignity': 5297, 'dana_scully:': 5298, 'dog': 460, 'focus': 1734, 'woo-hoo': 1792, 'fudd': 2520, 'streetlights': 5299, 'park': 1063, 'jay': 5828, 'wildfever': 5301, 'ding-a-ding-ding-ding-ding-ding-ding': 5302, 'fired': 5303, 'dogs': 5304, 'specialists': 5305, 'jury': 5306, \"b-52's:\": 5307, 'tune': 914, 'stayed': 1735, 'der': 1736, 'charity': 2521, 'pepsi': 5308, 'test-': 5309, 'delivery': 2522, 'cherry': 5310, 'socialize': 5311, 'heh-heh': 5312, \"drexel's\": 5313, 'squeal': 5314, \"what'sa\": 2523, 'reluctantly': 5315, 'rat-like': 5316, 'wondered': 5317, 'mild': 5318, 'donut-shaped': 5319, 'their': 224, 'done:': 5320, 'developed': 4059, \"aren'tcha\": 5321, 're:': 1274, 'games': 1099, 'confident': 2524, 'mice': 5322, 'runners': 5323, 'speed': 5324, 'difficult': 2652, 'runs': 4043, 'hare-brained': 4903, 'donation': 5327, 'chili': 5328, 'meaningfully': 5329, 'dreamed': 2525, 'fonzie': 5330, 'disguised': 5331, 'kisser': 3914, 'supreme': 5333, 'nucular': 5334, 'ecru': 5335, 'hunter': 1737, 'snatch': 5336, 'bird': 2526, 'starla': 5338, 'mrs': 803, 'bubble': 2175, 'theatah': 5339, 'presses': 5340, 'big': 140, 'souped': 5185, 'goes': 709, 'tar-paper': 5341, 'cigars': 5656, 'reality': 5342, 'romantic': 915, 'while': 238, 'tragedy': 5343, 'polite': 1395, 'sexton': 5344, 'reunion': 5345, 'splash': 5346, 'haw': 2528, 'bret': 2529, 'rules': 2530, 'iddilies': 5347, 'mint': 5348, 'occurs': 5942, 'absolutely': 1101, 'painting': 2531, 'helps': 5349, 'flips': 1346, \"who'da\": 5884, 'traffic': 1739, 'scrutinizing': 5352, 'haircuts': 5353, 'sports': 1347, \"jackpot's\": 5354, 'donate': 5356, 'ninety-eight': 5357, 'reentering': 5358, 'splendid': 5359, 'anyway': 531, 'hired': 2532, 'company': 916, 'tear': 5360, 'stores': 5362, 'hustle': 5363, 'considering:': 5364, \"betsy'll\": 5365, 'grain': 5366, 'remodel': 4366, 'slow': 917, 'enthused': 5367, 'cuddling': 5368, 'meditative': 5369, 'railroads': 5370, 'rubbed': 5371, 'broadway': 2533, 'going': 182, 'bill': 1348, 'anywhere': 2337, 'process': 5374, 'cigarette': 1741, 'magnanimous': 5375, 'horses': 5377, 'reaching': 2534, 'losing': 1742, 'lily-pond': 5378, 'pleased': 1349, 'top': 817, 'choice:': 5379, 'mither': 5380, 'bake': 5381, \"it's\": 49, 'completing': 2535, 'maitre': 5382, 'cage': 5383, 'terminated': 5384, 'awww': 2840, 'celeste': 6253, 'called': 532, 'photographer': 5386, 'chairman': 5387, 'part': 1102, 'fustigate': 5388, 'gunk': 5389, 'hurting': 5891, 'rob': 1411, 'thing': 133, \"'kay-zugg'\": 5392, 'sentimonies': 5393, 'cheered': 5394, 'suits': 5395, 'rife': 5396, \"challengin'\": 5397, 'lighter': 5398, 'cleaner': 2536, 'rolled': 2330, 'geysir': 5399, 'please/': 5400, 'symphonies': 5401, 'relative': 5402, 'choices:': 5403, 'salvation': 5896, 'risqué': 5405, 'pained': 1743, 'stored': 5406, 'gone': 498, 'beer:': 5407, 'plywood': 2427, 'cliff': 5408, 'fiiiiile': 5409, 'chase': 2538, 'dark': 5410, \"i've\": 98, 'veteran': 5411, 'tail': 1351, 'distributor': 2656, 'coming': 547, 'potatoes': 5412, 'grateful': 5413, 'fulla': 5414, 'friend': 196, 'germany': 5415, 'grinch': 5416, 'duh': 1103, 'kucinich': 5417, 'check': 275, 'shout': 5418, \"workin'\": 1104, 'sob': 1105, 'amber_dempsey:': 5419, 'polish': 5421, 'mirror': 5422, 'cecil_terwilliger:': 5423, 'swimming': 5424, 'lance': 5425, \"dimwit's\": 5426, 'gum': 2539, 'kemi': 5427, 'zoomed': 5428, \"wino's\": 5429, \"wouldn't-a\": 5430, 'shoo': 2540, 'lurleen': 2485, 'fit': 5431, 'congoleum': 5432, '_hooper:': 1106, \"'topes\": 2657, 'irishman': 5434, 'tigers': 5435, 'jig': 5436, 'barstools': 5437, 'european': 2703, 'watered': 3937, 'parents': 5438, 'taxes': 5439, 'gregor': 5441, 'diminish': 5442, 'cookies': 2541, 'appearance-altering': 6536, 'stares': 5443, 'brine': 5444, 'remembers': 6576, 'throats': 5160, 'pursue': 5447, 'w': 2542, 'drop': 1745, 'stopped': 1746, 'unfresh': 5449, 'exits': 5450, 'murdoch': 5451, 'decision': 5452, \"pressure's\": 5453, \"lookin'\": 533, 'non-american': 5454, 'superdad': 6634, 'forget': 499, 'tin': 5455, 'sedaris': 5456, 'adeleine': 1352, 'cueball': 2183, 'conversations': 5457, 'decadent': 5458, 'smile': 805, 'lame': 5111, 'woe:': 5460, 'squabbled': 5461, 'eternity': 5462, 'chew': 5463, 'through': 311, 'presents': 4596, 'xanders': 5464, 'meyerhof': 4597, 'endorse': 1750, 'shame': 5151, 'radical': 5466, 'freeze': 2507, 'appreciated': 5467, 'attack': 2545, 'tom': 1353, 'unusual': 3945, 'glyco-load': 6745, 'ready': 806, 'ancestors': 4599, 'handling': 5470, 'how': 70, 'indifferent': 5472, 'discussing': 2546, \"drinkin'\": 534, 'marry': 5473, 'neighborhood': 5474, 'scram': 5475, 'jovial': 4976, 'life-partner': 5477, 'hope': 326, 'pouring': 2547, 'banned': 5478, 'drift': 5479, 'sanitation': 5480, 'stretches': 4799, 'bono:': 2938, 'human': 836, 'wolveriskey': 5483, 'penmanship': 5484, 'super-genius': 5485, 'saving': 5486, 'rutabaga': 5487, 'hillbillies': 6163, 'regulars': 2548, 'shyly': 5490, 'showing': 1752, \"tree's\": 5491, \"must've\": 5492, 'weak': 1753, 'sleeping': 5494, 'thankful': 1754, '100': 2549, 'hopeful': 1108, 'now': 63, \"singin'\": 5496, 'guiltily': 5497, 'noticing': 1755, 'shreda': 5498, 'asked': 966, 'high-definition': 4616, 'hoax': 5499, 'discuss': 2436, 'enthusiastically': 3014, 'laney': 3412, 'combination': 5501, 'focused': 3867, 'steely-eyed': 3852, 'kidding': 1355, 'tasty': 5502, 's-a-u-r-c-e': 5503, 'ga': 5504, 'mix': 5505, 'fondest': 5506, 'courts': 5507, 'fat_tony:': 918, 'treasure': 919, 'chinese_restaurateur:': 3055, 'pop': 1109, 'divine': 5509, 'ride': 1356, 'mistresses': 5510, 'bon-bons': 5511, 'involved': 2553, 'artie': 1110, 'forgets': 5512, 'declan': 5513, 'sitar': 2554, 'promise': 3952, 'realized': 2555, 'brought': 920, 'cheaped': 4713, 'paste': 5159, 'super-nice': 5516, 'refresh': 2556, 'ghouls': 5517, 'padres': 5518, 'thrilled': 5519, 'been': 106, 'funniest': 5521, 'surgeonnn': 5522, 'talkers': 5523, 'tempting': 5524, 'bachelorette': 5525, 'champs': 5526, 'conspiracy': 5527, 'activity': 5528, \"disrobin'\": 5529, 'signal': 5245, 'dum-dum': 5844, 'smiled': 5531, 'itself': 5532, 'chumbawamba': 5533, 'pleading': 2557, 'director:': 5534, \"startin'\": 6056, 'guys': 105, 'verdict': 5537, 'speak': 1111, 'exchanged': 5538, 'savvy': 5539, 'seconds': 921, 'beverage': 3955, 'trapping': 5540, 'easier': 2096, 'sobbing': 1359, 'fat': 344, 'sassy': 5541, 'ralph_wiggum:': 5543, 'bible': 2006, 'helpless': 5544, 'quimbys:': 5545, 'seething': 5546, 'knowingly': 5547, 'portfolium': 5548, 'standards': 2559, 'committing': 5549, 'jailbird': 2560, \"who'll\": 1360, 'spent': 1933, 'illustrates': 5550, 'all-all-all': 5551, 'terrified': 1757, 'face-macer': 3875, 'tearfully': 5552, 'field': 1206, 'quitcher': 5554, 'carnival': 5555, 'producers': 5556, \"pullin'\": 5557, 'schorr': 5558, 'julienne': 5559, 'mathis': 5560, 'disco_stu:': 5561, 'displeased': 5562, \"fans'll\": 5465, 'carll': 2562, 'reynolds': 2563, 'federal': 6560, 'lemme': 710, 'founded': 5563, 'senators:': 5564, 'two-thirds-empty': 5565, 'highest': 5566, 'tick': 2564, 'u2:': 5251, 'kidnaps': 5567, 'nelson_muntz:': 5568, 'venture': 5570, 'moonshine': 3961, 'snow': 2420, 'screams': 1639, 'dutch': 5572, 'tee': 5573, 'musta': 5574, 'looting': 5575, 'noise': 201, 'forced': 5576, 'edner': 6562, 'sense': 1361, 'woman': 327, 'solely': 5577, 'achebe': 3397, 'midge:': 5578, \"writin'\": 5579, 'strongly': 5580, 'body': 1362, 'key': 5581, 'eliminate': 5582, 'outrageous': 5583, 'rector': 3421, 'dinks': 4621, 'tries': 2567, 'eco-fraud': 4560, 'boggs': 5586, 'alarm': 3949, 'rug': 5588, 'texan': 5589, 'tv_husband:': 1112, 'fast-food': 5590, 'drug': 1363, 'necessary': 5591, 'corn': 5592, 'usual': 5593, 'scared': 807, 'hah': 5594, 'cheat': 2568, 'habitrail': 3460, 'partner': 1427, 'explain': 2570, 'brotherhood': 5596, 'never': 93, 'newsies': 5597, 'die-hard': 3489, 'nice': 276, 'nail': 5598, 'less': 645, 'make': 107, 'take': 120, 'anybody': 711, 'cesss': 5599, 'seymour': 535, 'genius': 2571, 'sharity': 5600, 'marge': 118, 'sexy': 1365, 'senators': 1366, 'knives': 5601, 'story': 808, 'alec_baldwin:': 3968, \"everyone's\": 1367, 'monster': 1368, 'suru': 3556, 'serve': 1761, 'streetcorner': 5603, 'mike': 1113, 'grandmother': 2573, 'goodbye': 646, \"tinklin'\": 5605, 'trust': 1762, 'clams': 5606, 'wrecking': 5607, 'angry': 712, 'finishing': 2574, 'dateline:': 5608, 'help': 197, 'non-losers': 3603, 'occupied': 4628, 'happiness': 5609, 'samples': 5610, 'putty': 5611, 'anguished': 1764, 'swan': 5612, 'shoulder': 2576, 'dna': 5613, 'plotz': 5614, 'fuhgetaboutit': 5615, 'insults': 5616, 'eighty-six': 3648, 'bluff': 5618, 'jasper_beardly:': 5619, 'loboto-moth': 5620, 'until': 1114, 'scooter': 2577, 'suspended': 3683, 'creepy': 5623, 'cock': 5482, 'ziffcorp': 1851, \"lenny's\": 1765, 'forgotten': 5624, 'jeers': 5625, 'dee-fense': 2109, 'latour': 5626, 'gruesome': 5627, 'betrayed': 5628, 'p': 1116, 'understanding': 1766, \"i'll\": 96, 'showed': 5629, 'atari': 5630, 'played': 1767, 'stu': 5631, 'spacey': 5632, 'raising': 1768, \"here's\": 305, 'delighted': 1769, 'heading': 2578, 'fabulous': 2579, 'scanning': 5633, 'afterglow': 5634, 'sacrilicious': 5635, 'w-a-3-q-i-zed': 5636, 'incredulous': 1770, 'tolerable': 3773, \"watchin'\": 1370, 'amanda': 1371, 'wing': 2580, 'slugger': 5638, 'trees': 5639, 'clipped': 5640, 'muscle': 5641, 'scent': 5642, 'dishonor': 5643, \"it'd\": 2581, \"makin'\": 809, 'priority': 5644, 'refiero': 5645, 'dinner': 436, 'offense': 5646, 'murmurs': 2582, 'then:': 1771, 'monroe': 5647, 'already': 536, 'brains': 1772, 'heartless': 5648, 'chorus:': 3847, 'microbrew': 5649, 'day': 156, 'sickens': 5650, 'tying': 5651, 'i-i-i': 2584, 'voyager': 5652, 'stats': 4085, 'fondly': 2585, 'onions': 2586, 'renders': 5653, 'followed': 4656, 'resolution': 3885, 'corpses': 1773, 'really': 103, \"i'm-so-stupid\": 1117, 'clinton': 2588, 'laney_fontaine:': 2589, 'adventure': 5654, 'rims': 5655, 'guns': 1373, 'contented': 4858, 'united': 3925, 'haws': 3931, 'information': 5658, 'detecting': 2590, 'depressant': 5659, 'multiple': 2591, \"'n'\": 5660, 'ringing': 2592, 'oblongata': 5661, 'amends': 6520, 'sets': 5662, 'looking': 223, 'easter': 5515, \"buyin'\": 1374, 'pronounce': 5663, 'blew': 2668, 'herself': 5664, 'billion': 2515, 'tourist': 5666, 'ram': 5667, 'bouquet': 5668, 'booze-bags': 5670, 'triple-sec': 4034, 'louder': 2594, 'longest': 5671, 'loneliness': 5672, 'sinister': 2595, 'everyone': 413, 'strips': 5673, 'supermarket': 5674, 'municipal': 5675, 'navy': 5676, \"countin'\": 2596, 'dishrag': 4065, 'softer': 5678, 'blocked': 5679, 'sub-monkeys': 5680, 'clearing': 5681, 'screws': 5683, 'reserved': 2885, 'windowshade': 5684, 'fifty': 713, 'looser': 5685, \"poundin'\": 6210, 'call': 214, 'myself': 356, 'hurts': 1774, 'pinball': 5687, 'clenched': 5688, 'sweater': 5689, 'fish': 1119, 'hail': 2598, 'wienerschnitzel': 5690, 'sunglasses': 5691, 'walks': 1775, 'furious': 1375, 'schnapps': 2599, 'apron': 4157, 'drive': 500, 'till': 461, 'sidelines': 4170, 'felony': 5694, 'loved': 924, 'swimmers': 5695, 'close': 587, \"life's\": 5696, 'barflies:': 501, 'impending': 5697, 'starla:': 5698, 'legally': 4613, 'teams': 2600, 'food': 810, 'space': 2601, 'page': 2602, 'b-day': 4169, 'apulina': 5699, 'slipped': 5700, 'innocuous': 5701, 'doof': 5702, 'roz': 4235, 'familiar': 2603, 'mm': 2604, 'kick': 714, 'system': 1776, 'easy': 502, 'whistling': 5703, 'matter-of-fact': 2605, 'firm': 5704, 'blows': 5705, 'amazing': 1259, 'unkempt': 5706, 'what': 34, 'horrified': 1167, 'krusty': 503, \"phone's\": 5707, 'compliments': 2606, 'absentminded': 4289, 'f': 1777, \"g'ahead\": 5709, 'fix': 1271, 'cockroaches': 5710, 'pretend': 5711, 'start': 590, 'moe_szyslak:': 9, \"bartender's\": 2608, 'nauseous': 5712, 'morning': 647, 'whoops': 5713, 'schedule': 5714, 'balloon': 5715, 'yea': 1038, 'pad': 2610, 'disappear': 5716, 'maya': 2611, 'bupkus': 4645, 'play': 249, 'motto': 5718, 'careful': 1778, 'barbed': 5719, 'ahem': 5720, 'issuing': 5721, 'blues': 2612, \"kid's\": 5722, 'uh-oh': 591, 'narrator:': 811, \"men's\": 1779, 'virtual': 2613, 'tradition': 1780, 'gin': 1377, 'uglier': 5723, 'read': 488, 'aims': 4718, 'elocution': 5725, 'du': 5726, 'in-ground': 2924, 'skinheads': 4412, 'should': 191, 'bridges': 5729, 'muhammad': 5730, 'schemes': 5731, 'swill': 2517, 'were': 177, 'chief': 418, 'correcting': 2615, 'spending': 1499, 'however': 5734, 'snake': 1257, 'as': 89, 'helllp': 2616, 'view': 6586, 'soaked': 5736, 'housing': 5737, 'bless': 1781, 'boxer': 2617, 'young_marge:': 812, 'refreshingness': 5738, \"messin'\": 5739, 'righ': 5741, 'sees/': 5742, 'life-extension': 5743, 'lenford': 5536, 'sits': 1378, 'following': 1782, 'fears': 5744, 'boston': 5745, 'bannister': 5746, 'children': 1091, 'dilemma': 5748, 'true': 388, 'serious': 715, 'sadistic_barfly:': 1783, 'bad-mouth': 5749, 'ideas': 5750, '35': 5751, \"dad's\": 1379, 'official': 5752, 'improved': 5753, 'texas': 1784, 'clips': 5754, 'ineffective': 5755, 'by': 153, 'end': 592, \"dog's\": 5756, 'slays': 3355, \"he's\": 141, 'sickened': 5757, 'territorial': 5758, 'cajun': 5759, 'demand': 5760, 'slurps': 5761, 'option': 5669, 'feel': 250, 'dreamy': 4602, 'yup': 2619, 'bottoms': 5763, 'training': 5764, \"lovers'\": 4627, 'hug': 1533, 'crazy': 593, 'doll': 2620, 'pian-ee': 2816, \"they've\": 1380, 'fountain': 5768, 'experienced': 5769, \"renee's\": 5770, 'rhode': 5771, 'men:': 1786, 'safer': 2359, 'nothing': 716, 'gasps': 648, 'intoxicants': 3486, 'dollars': 389, 'hollywood': 2622, 'yap': 1381, 'totally': 1120, 'duel': 2623, '||comma||': 2, 'accounta': 4706, 'jobs': 2624, 'rupert_murdoch:': 5773, 'lookalike': 5774, 'agent_miller:': 5775, \"should've\": 4182, 'little_hibbert_girl:': 5777, 'lemonade': 4682, 'sixty-five': 4733, 'giving': 897, 'staying': 1886, 'sickly': 5779, 'mugs': 5300, 'roller': 5781, 'spellbinding': 5783, 'halvsies': 5784, 'appalled': 5785, 'male_singers:': 5786, 'tony': 926, 'freaking': 5787, 'country': 5788, 'hair': 927, 'madman': 5789, 'hoo': 462, 'other_player:': 5790, 'inserted': 4653, 'touchdown': 1788, \"crawlin'\": 2626, 'popped': 5791, 'misconstrue': 5792, 'firing': 4249, 'murmur': 2627, \"soundin'\": 4804, 'where': 142, 'tapping': 5794, 'joey_kramer:': 2629, \"o'\": 4003, 'normals': 5796, 'thomas': 4813, 'felt': 1061, 'child': 1789, 'shark': 5797, 'selling': 1382, 'hammer': 4990, 'brakes': 5799, 'affection': 5800, 'fans': 1790, 'ambrosia': 2188, 'meal': 2631, 'liven': 5802, 'hers': 4875, 'mahatma': 4877, 'crummy': 1791, 'absentmindedly': 5803, 'admit': 928, 'tavern': 338, 'snap': 2634, 'america': 1121, 'o': 752, 'good-looking': 5806, 'flophouse': 5807, 'squeeze': 5808, 'rainforest': 5809, 'train': 1383, 'surprised': 505, 'trouble': 537, 'sneering': 5810, 'dismissive': 2519, \"'evening\": 5811, 'chip': 4929, 'pre-columbian': 5812, 'happen': 538, 'cheryl': 5813, 'seem': 1428, 'jumping': 5815, 'admiring': 2636, 'led': 5816, 'decide:': 5817, 'stickers': 4660, 'standing': 2637, 'sponsoring': 4124, \"don't\": 46, 'b': 2446, 'poet': 2638, 'proof': 3589, 'injury': 5795, 'nineteen': 1122, 'annus': 5820, 'four': 345, 'quick': 929, \"leavin'\": 5821, 'in-in-in': 5822, 'gambler': 4154, \"school's\": 5823, 'barbara': 5824, 'windelle': 5956, 'whaddya': 5825, 'laughing': 931, 'exultant': 3107, 'hate': 463, 'hearing': 2934, 'toy': 5827, 'deep': 1384, 'scarf': 4215, 'enveloped': 5829, 'blend': 2641, 'beyond': 5830, 'hates': 1794, 'kay': 5831, \"wasn't\": 539, 'random': 5832, 'begin': 5337, 'burg': 5833, 'bites': 5834, 'pain': 1386, 't-shirt': 2860, 'adopted': 5074, 'f-l-a-n-r-d-s': 5010, 'p-k': 5835, 'super-tough': 5836, 'fail': 5837, 'dumb-asses': 5838, \"pope's\": 2642, 'medicine': 2643, 'minors': 3986, 'psst': 5839, \"y'know\": 540, 'sistine': 5840, 'oughta': 5841, 'yourselves': 2644, 'bonding': 5843, 'brawled': 5114, 'ear': 4013, 'important': 2583, 'record': 2645, 'became': 932, 'books': 1387, 'potato': 2646, 'owes': 5846, 'tried': 1797, 'hoped': 6610, 'joke': 2647, 'kidney': 2679, 'indeedy': 5848, \"tonight's\": 5849, 'cauliflower': 5850, 'nailed': 5851, 'mob': 2648, 'form': 1798, 'carpet': 5158, 'ron_howard:': 5852, \"who's\": 286, \"'\": 5853, 'compared': 2897, 'stood': 5854, 'crippling': 5520, 'shaken': 2649, 'duffman:': 374, 'toss': 1799, 'recorded': 5856, 'keeping': 1800, 'othello': 5857, 'celebration': 5858, 'stonewall': 4015, 'came': 464, 'without': 506, 'church': 1866, 'hyahh': 5860, 'six': 541, 'marvin': 1801, 'sanctuary': 5861, 'renee': 1388, 'hand': 496, 'brewed': 2650, 'washer': 5863, 'could': 97, 'boozehound': 5864, 'de-scramble': 5865, 'teriyaki': 5866, 'low': 542, 'stomach': 5867, 'kenny': 5868, 'flash-fry': 5869, 'nursemaid': 4364, \"d'ya\": 5870, 'scratcher': 5871, 'rookie': 5872, 'illegally': 5873, 'contest': 2651, 'incarcerated': 5874, 'time': 115, 'chair': 5877, 'lard': 3577, 'shuts': 5878, \"rustlin'\": 5879, 'be': 43, 'royal': 5880, 'twelveball': 5881, 'toledo': 5882, 'rebuilt': 5883, 'rasputin': 5542, 'enterprising': 5885, 'considering': 2653, 'internet': 2655, 'shag': 5886, 'toxins': 5887, 'radiator': 5888, 'peter': 1802, 'shock': 2364, 'peppers': 5390, 'hushed': 5892, 'shirt': 1125, 'sixty': 5893, 'greatly': 5894, 'assassination': 5895, 'drapes': 5404, 'massachusetts': 5897, 'presided': 6519, 'everything': 375, 'treat': 964, 'interesting': 5898, 'portuguese': 5899, 'incognito': 5900, \"can't-believe-how-bald-he-is\": 5433, 'larry': 5901, 'beast': 5902, 'cheers': 1803, 'self': 595, 'besides': 5975, 'beginning': 1747, 'carve': 2658, 'bedridden': 5826, 'negative': 5903, 'tow-joes': 5904, 'relaxing': 5905, 'syndicate': 5798, 'hems': 5906, 'tsk': 650, 'disapproving': 2659, 'car:': 3922, 'ferry': 5907, 'weirded-out': 2660, \"man'd\": 5908, 'onassis': 5495, 'gear-head': 5909, 'bartholomé:': 4598, 'very': 228, 'organ': 2661, 'contemplates': 5910, 'boozy': 2662, 'stupidest': 5911, 'laugh': 306, 'evils': 5912, 'pharmaceutical': 5913, 'arimasen': 5914, 'calling': 497, 'assistant': 2880, 'twelve-step': 5915, '_timothy_lovejoy:': 1806, 'radio': 2195, 'mind-numbing': 5916, 'shocked': 651, 'steak': 2663, 'queer': 2664, 'freed': 5917, 'ballclub': 5918, 'whoo': 5919, 'agent_johnson:': 2665, 'unattractive': 5920, 'watashi': 5921, 'publishers': 5922, 'menace': 5923, 'stinky': 5924, 'shares': 1807, 'people': 170, 'composer': 4618, 'singing': 251, 'village': 2666, 'fantasy': 5926, 'column': 5927, 'runt': 5928, 'state': 933, 'encouraged': 5929, 'sector': 2667, 'ivana': 1389, 'scatter': 5930, \"what's\": 150, 'tap': 814, 'turkey': 1808, 'bank': 1118, 'running': 1127, 'cheesecake': 5931, \"'tis\": 2669, 'wire': 784, 'talked': 2670, 'temporarily': 5932, 'despite': 1809, 'fwooof': 5933, 'louse': 5934, 'snapping': 5935, 'evening': 1128, 'powerful': 1810, 'bidet': 5936, 'bart': 287, 'great': 171, 'puffy': 5937, 'clubs': 5938, 'tied': 5939, 'fingers': 1129, 'competing': 5326, 'expect': 1638, 'eager': 5941, 'fill': 856, 'lookalike:': 5943, 'they': 80, 'slight': 2865, 'somehow': 2672, 'image': 1811, 'queen': 2367, 'placing': 2673, 'attached': 5946, 'outside': 596, 'percent': 2674, 'curds': 2368, 'overflowing': 5948, 'die': 465, 'leak': 5782, 'station': 5951, 'faith': 5952, 'army': 1812, 'laughs': 312, 'changing': 1130, 'comic_book_guy:': 815, 'raccoons': 2676, 'feedbag': 5953, 'foam': 3143, 'paints': 5954, 'taking': 718, 'poorer': 5955, 'harder': 2677, 'find': 259, 'barkeeps': 5957, 'jay:': 5958, \"tomorrow's\": 5959, 'flea:': 5960, \"ma'am\": 2678, 'club': 1123, 'stengel': 5962, 'holy': 5963, 'geez': 543, 'rods': 5964, 'hangout': 5965, 'tale': 2197, 'winch': 5966, 'slaves': 5967, 'mr': 192, 'nods': 719, 'choices': 5997, 'proves': 5969, 'two': 131, 'and/or': 5970, 'since': 277, 'liver': 1390, 'rude': 5971, 'feminist': 5972, 'sarcastic': 1391, 'bulldozing': 5974, 'enthusiasm': 2972, 'birthplace': 5976, 'cowboys': 2680, 'judge': 2379, 'stadium': 1813, 'past': 1814, 'carolina': 4685, 'gift': 1815, 'pyramid': 5978, 'recap:': 5979, 'fellas': 816, 'eight-year-old': 5980, '2nd_voice_on_transmitter:': 5981, 'eyes': 466, 'nuts': 507, 'faint': 5983, 'slender': 5973, 'hot-rod': 5984, 'fritz': 2681, 'hub': 5985, 'van': 5986, 'ton': 5987, 'weary': 2682, 'arm': 720, 'befouled': 2683, 'nickels': 2685, 'fica': 5988, \"i'unno\": 5989, 'paid': 2686, 'fox_mulder:': 2687, 'palm': 2688, 'lime': 5990, 'apart': 5991, 'teenage_barney:': 1392, 'shove': 1505, 'fools': 4743, 'patting': 5993, 'lover': 2689, 'times': 652, 'letters': 1822, 'gold': 935, 'error': 5994, 'wistful': 3736, 'cocks': 5996, 'backwards': 1816, 'your': 26, 'pipes': 1272, 'naturally': 2720, 'monkeyshines': 5999, 'giant': 6000, 'proud': 1131, 'mudflap': 1738, 'lighting': 2692, 'errrrrrr': 6001, 'took': 390, 'thanks': 215, 'science': 3920, 'disgraceful': 6003, 'author': 6004, 'rule': 2395, 'pizzicato': 3288, \"she'll\": 6006, \"can'tcha\": 6007, 'micronesian': 6008, 'skirt': 2693, 'uncle': 936, 'women': 1132, 'flag': 2694, 'neat': 2695, 'towed': 2696, 'wenceslas': 2906, \"father's\": 2697, 'hourly': 3402, \"plank's\": 4696, 'lawyer': 6010, 'starting': 1841, \"somethin'\": 545, 'angel': 2700, 'elect': 6012, 'suddenly': 1133, 'so-ng': 6013, 'wheels': 6014, 'clean': 493, 'zack': 6015, 'nuked': 6016, 'shoots': 2702, \"s'okay\": 5235, 'fight': 508, 'willy': 2375, 'public': 1817, 'wolfe': 2704, 'enhance': 6018, 'pass': 937, 'self-centered': 6019, 'rain': 6020, 'invite': 1818, 'full-bodied': 6021, 'accelerating': 6022, 'traditions': 6023, 'doubt': 1135, 'slot': 6024, 'radiation': 6025, 'iranian': 6026, 'medieval': 6027, 'year': 626, 'sticking-place': 6029, 'hibachi': 6030, 'wow': 232, 'rainier': 6031, 'use': 288, 'gimmick': 6032, 'gulps': 6033, \"maggie's\": 2871, 'lots': 1819, 'polygon': 6034, 'double': 1787, 'heck': 6035, 'declare': 6036, 'aggravated': 2706, 'pepto-bismol': 6037, 'gabriel:': 6038, 'simon': 6039, 'edna': 415, 'friday': 6040, 'snackie': 6041, \"thing's\": 3003, 'appealing': 2707, 'wa': 2781, 'apu_nahasapeemapetilon:': 245, 'devastated': 2527, 'starts': 1260, 'shaking': 1136, 'pro': 6043, 'spoken': 1820, 'make:': 6044, 'disco': 2709, 'nigeria': 2710, 'continuum': 6050, 'statues': 6045, 'lucinda': 5876, 'booth': 6046, 'flashing': 6047, 'chocolate': 1396, 'cruel': 2711, 'with': 35, 'community': 6048, 'flush-town': 6049, 'hank_williams_jr': 938, 'snout': 5376, 'produce': 6051, 'buzziness': 6052, 'moans': 818, 'nominated': 6053, 'owner': 2712, 'pawed': 6054, 'acquaintance': 2713, \"edna's\": 6055, 'spilled': 6057, 'y': 6058, 'perverse': 6059, 'eat': 509, 'naively': 6060, 'ugliest': 2714, 'along': 905, 'cares': 1397, 'flanders:': 6061, 'crying': 2396, 'hell': 314, 'newsweek': 6062, 'adrift': 6063, 'center': 1056, 'confidence': 2715, 'motor': 6064, \"kearney's_dad:\": 6065, 'reciting': 6066, 'optimistic': 6067, 'earrings': 6068, 'awesome': 2690, 'grow': 1805, 'barber': 6070, 'joe': 662, 'dealt': 6072, 'five': 331, 'cup': 6074, 'did': 113, 'chapel': 6075, 'piano': 6076, 'upon': 1823, 'dirty': 6077, 'poster': 6078, \"bein'\": 1398, 'coat': 1399, 'flowers': 1400, 'meteor': 6079, 'dynamite': 1824, 'oh-ho': 6080, 'quotes': 2377, 'count': 5149, 'old-time': 5995, 'dancing': 1826, 'tonight': 252, 'bobo': 6081, 'welcome': 819, \"this'll\": 6082, 'born': 1827, 'age': 1828, 'changed': 1829, 'ding-a-ding-ding-a-ding-ding': 6083, 'williams': 4712, 'diapers': 6085, \"'cause\": 216, 'drederick': 1137, 'taste': 6086, 'inflated': 2717, 'jacksons': 5215, 'tablecloth': 6087, 'fell': 6088, 'snotty': 6089, 'drawing': 2718, 'chained': 6090, 'half-back': 6091, 'wally:': 1430, 'wait': 158, 'multi-national': 6093, 'squeals': 4187, 'grieving': 6094, 'frankie': 6095, 'one': 60, 'text': 1830, 'puke-holes': 6096, 'pool': 1138, 'manjula_nahasapeemapetilon:': 941, 'eww': 3871, 'mull': 6097, 'thnord': 6098, 'ugh': 6099, 'virility': 6100, 'ring': 1831, 'edelbrock': 6101, 'horrors': 6102, 'mary': 4061, 'fustigation': 6103, 'jewelry': 6779, \"squeezin'\": 6104, 'childless': 6671, 'attention': 1832, 'johnny_carson:': 6105, 'type': 2722, 'prettiest': 6106, 'saying': 820, 'cecil': 6107, 'happy': 278, 'butts': 821, 'bedroom': 2723, 'agent': 1401, 'toms': 6108, 'pets': 4506, 'anti-crime': 6110, 'deal': 822, 'license': 1890, 'rueful': 6111, \"tv'll\": 6112, 'sustain': 6113, 'badmouths': 6114, 'aged_moe:': 1919, 'vegas': 1834, 'hero': 1248, 'think': 94, 'spite': 6116, 'gus': 6117, 'hurry': 1176, 'superior': 2875, 'stays': 6120, 'distance': 6121, 'dearest': 2724, 'pointy': 6122, 'workers': 1835, 'mariah': 6123, 'chug-monkeys': 6124, 'pancakes': 6125, 'crowbar': 6126, 'bathed': 6127, 'reaction': 6128, 'hundreds': 6129, 'ah-ha': 2725, 'mmm-hmm': 6130, 'stops': 6131, \"weren't\": 2726, 'lease': 4902, 'beached': 6132, 'quickly': 439, \"hobo's\": 6169, 'recall': 2728, 'spotting': 6134, 'muertos': 6135, 'pair': 6136, 'icelandic': 6137, 'satisfied': 2729, 'heart': 597, 'original': 1402, 'return': 823, \"knockin'\": 6138, 'knit': 6139, 'lonely': 1836, 'praise': 6140, 'playhouse': 6141, 'journey': 6142, 'gabriel': 6143, 'paying': 1837, 'usually': 1403, 'forty-nine': 6144, 'goldarnit': 6145, 'certainly': 6666, 'frankly': 1838, 'rivalry': 6148, 'gumbel': 901, 'transfer': 5604, '70': 6149, 'choking': 2730, 'stillwater:': 1404, 'therefore': 2731, 'laughter': 6150, 'twenty-two': 1622, 'hold': 391, 'if': 71, 'code': 2732, 'indigenous': 6152, 'panicked': 6153, 'krusty_the_clown:': 297, 'ehhhhhhhh': 6154, 'oils': 6155, 'gordon': 6156, 'changes': 2733, 'inning': 6157, 'k-zug': 6158, 'fast-paced': 5780, 'flown': 6159, 'arms': 1405, 'prints': 6160, 'swooning': 6161, 'kissed': 6162, 'counterfeit': 4475, 'high': 513, 'practically': 6164, 'citizens': 6165, 'fantastic': 6166, 'richard:': 6167, 'versus': 6168, 'boys': 686, 'shriners': 6170, 'sky': 6225, 'pint': 2734, 'pinchpenny': 6172, 'olive': 6173, 'ladder': 6174, \"kids'\": 1840, 'acting': 2876, 'sealed': 6175, 'malabar': 6176, 'fires': 6177, 'reporter': 6178, 'elite': 6179, 'rabbits': 6180, 'th-th-th-the': 6181, '7-year-old_brockman:': 2735, 'metal': 6182, 'espousing': 6183, 'pulling': 2736, 'packets': 6009, 'sensitivity': 6184, 'shortcomings': 6185, 'jogging': 6186, 'cutie': 2041, 'obvious': 2737, 'fifteen': 1394, 'libido': 6187, 'taken': 1842, 'sneak': 6188, 'thirty-five': 6011, 'nation': 1843, 'obama': 3296, 'kicked': 2738, 'dimly': 6190, 'photos': 6191, 'forbidden': 2739, 'dregs': 6192, 'sacajawea': 6193, 'astronaut': 2740, 'warmth': 6194, 'brooklyn': 6005, 'bill_james:': 6195, 'someplace': 6196, 'program': 1844, 'gals': 2741, 'kwik-e-mart': 1845, 'leonard': 6197, '_zander:': 1139, 'thesaurus': 2168, 'ma': 653, 'step': 1846, 'dirge-like': 6311, 'thirteen': 2742, 'yee-haw': 1847, 'rage': 2743, 'fireworks': 6198, 'democracy': 3912, 'notably': 6199, 'little_man:': 1140, 'funeral': 6200, 'counting': 1141, 'was': 53, 'glitterati': 6201, \"fun's\": 6202, \"'now\": 6203, 'kegs': 6204, 'emotional': 2744, 'anyone': 510, \"ladies'\": 2745, 'extended': 6205, 'happened': 329, 'grand': 1142, 'hammock': 4064, 'ninety-six': 6206, 'hunger': 6207, 'thirty-nine': 6208, 'greedy': 2747, 'suspiciously': 6209, 'leans': 1848, 'yards': 2701, 'dropped': 2748, 'actors': 2749, \"city's\": 6211, 'takeaway': 6212, 'wise': 6213, 'eleven': 1406, \"nixon's\": 6214, 'glee': 6215, 'sticking': 6216, 'liar': 2750, 'steam': 6217, 'peeping': 6218, 'thinking': 387, 'married': 654, 'tenuous': 3022, 'private': 655, 'man': 85, 'distract': 6219, \"hole'\": 6220, 'lady-free': 6221, 'methinks': 3500, 'th': 5728, 'terrace': 6222, 'wigs': 4606, 'scratching': 6223, 'har': 1849, 'harvesting': 6224, \"stallin'\": 3523, 'distraught': 1407, 'computer': 1408, 'remembering': 2751, 'burns': 376, 'stool': 943, 'conversion': 6226, 'joey': 944, 'biggest': 1143, 'guess': 241, 'generally': 6227, 'tape': 546, 'poor': 656, 'shop': 6228, 'night': 202, 'person': 657, 'presidents': 4493, \"daughter's\": 6229, 'yelp': 6230, 'wasting': 1850, 'shores': 6231, \"that'd\": 4552, 'forbids': 6232, 'peter_buck:': 6234, 'next': 315, 'occasion': 6235, 'sweaty': 6236, 'caught': 1144, 'bathtub': 6237, 'feld': 6238, 'lurleen_lumpkin:': 2753, 'eighteen': 6239, 'tanked-up': 2754, 'sizes': 4022, 'forecast': 6240, 'city': 824, 'life-threatening': 6241, 'heavens': 6242, 'feminine': 6243, \"fryer's\": 6244, \"bart'd\": 6245, 'blur': 6246, 'skins': 6247, 'daddy': 1145, \"year's\": 1544, 'star': 946, 'resigned': 6248, 'lobster-politans': 6249, 'know': 65, 'nelson': 6250, 'rafter': 6251, 'alcoholism': 6776, 'ech': 2756, 'yours': 2757, 'the_rich_texan:': 599, 'bar_rag:': 600, 'complicated': 6252, 'hearse': 6254, 'warmly': 759, 'lipo': 6255, 'exhaust': 1804, 'awful': 1892, 'carl_carlson:': 45, 'contemptuous': 6256, 'oh': 31, 'belts': 6257, 'compels': 6258, 'whatcha': 1852, 'put': 217, 'smug': 2758, \"duff's\": 3775, 'means': 825, 'wheel': 1147, 'seductive': 6259, 'connor-politan': 6260, 'build': 6261, 'gossipy': 6262, 'survive': 1148, 'german': 1555, 'gallon': 6264, 'busy': 1245, 'leave': 414, 'sleigh-horses': 6266, 'slyly': 2759, 'stop': 346, 'notice': 6267, 'tapestry': 6268, 'try': 392, 'chuckling': 6269, \"renovatin'\": 6270, 'engraved': 6271, \"one's\": 1149, 'americans': 6272, 'bellyaching': 6273, 'declan_desmond:': 1253, 'shareholder': 6275, 'au': 6276, 'frenchman': 4277, 'customers': 1150, 'sucking': 6277, 'wants': 358, 'broken': 6278, 'oooh': 6279, 'grandiose': 2761, 'feelings': 1854, 'gifts': 2762, 'onto': 6280, 'researching': 6281, 'that': 18, 'alternative': 6282, 'lincoln': 6283, 'over': 147, 'dungeon': 2763, 'reasons': 2764, 'stamps': 6284, 'death': 1855, 'taunting': 6285, 'those': 167, 'winks': 6286, 'jerking': 6287, 'james': 1856, 'practice': 6028, 'best': 229, 'test-lady': 4086, 'inspector': 1857, 'jam': 6289, \"'ceptin'\": 6290, 'surgery': 1018, 'bastard': 2766, 'furry': 6291, 'browns': 6292, 'okay': 86, 'ancient': 1858, \"usin'\": 6294, 'jer': 6295, 'landlord': 6296, 'plane': 6297, \"how're\": 6298, 'laws': 2884, 'five-fifteen': 5977, 'sweetheart': 2768, 'single-mindedness': 4009, 'thoughtless': 6299, 'butter': 6300, \"money's\": 2769, 'phrase': 4773, \"y'see\": 6301, 'maude': 6302, 'writing': 1151, 'wakede': 6303, 'clientele': 1860, 'badmouth': 5740, 'seminar': 6304, 'marshmallow': 6305, \"moe's\": 178, 'david': 2770, 'nigerian': 2771, 'frozen': 6306, 'aer': 6307, 'locked': 6308, 'planted': 6309, 'philip': 4942, 'extreme': 6310, 'manfred': 6705, 'coherent': 6312, 'all-american': 6313, 'thighs': 2640, 'scrape': 2306, 'dumbest': 4091, 'na': 393, 'beers': 722, 'lee': 6315, 'gibson': 6316, 'crimes': 6317, '_marvin_monroe:': 4114, 'sauce': 1024, 'buffet': 6319, 'when': 108, 'manchego': 6320, 'than': 183, 'cowardly': 2220, 'nein': 1134, 'perón': 6321, 'dictator': 4526, 'allowance': 6322, 'hang': 827, 'sack': 2537, 'cough': 1862, 'society_matron:': 6323, 'blob': 6324, 'fellow': 1153, \"where's\": 416, 'ayyy': 2776, 'alright': 828, 'blossoming': 6325, 'knew': 429, 'idea': 357, 'presentable': 6326, 'continued': 4194, 'burger': 6328, 'glen:': 1154, 'porn': 2243, \"we're\": 136, 'plastic': 947, 'world-class': 6329, 'aerospace': 6330, 'man:': 1155, 'both': 723, 'country-fried': 6331, 'back': 72, 'factor': 6332, 'turning': 666, 'shape': 1825, 'aw': 206, 'funny': 469, 'gardens': 4094, 'quality': 2779, 'spare': 6333, 'scientific': 6334, 'frogs': 6335, 'aidens': 6336, 'clap': 6337, 'presto:': 6338, 'norway': 6339, 'widow': 6340, 'managed': 6341, 'mags': 6342, 'team': 1557, 'bums': 2780, 'evasive': 6344, 'jamaican': 1863, 'ruuuule': 6345, 'vestigial': 6042, 'suspect': 2782, 'bide': 6346, \"tony's\": 6347, 'thank': 313, 'suppose': 1864, 'ralphie': 6348, 'cobbling': 6349, 'um': 394, 'candy': 2783, 'wrap': 6350, 'kid': 298, 'cure': 6351, 'hollowed-out': 6352, 'steel': 2217, 'we': 57, 'koji': 6354, 'shoes': 6355, 'vicious': 5637, 'gayer': 6356, 'mole': 3919, 'fund': 5246, 'contractors': 6358, 'believe': 330, 'crumble': 2784, 'businessman_#2:': 6359, 'wobbly': 6360, 'also': 1156, 'phony': 6361, 'lushmore': 6362, 'employees': 5949, 'diddilies': 6364, 'beef': 6365, 'expired': 6366, 'beer-dorf': 4459, 'way': 157, 'heliotrope': 6367, 'ball-sized': 2785, 'lovers': 6368, 'recorder': 6369, 'para': 4468, 'cupid': 6370, 'twentieth': 2786, 'things': 266, \"ya'\": 5373, 'dirt': 1867, 'covering': 1868, 'crank': 1869, \"burnin'\": 6371, 'nigel_bakerbutcher:': 948, \"president's\": 6372, 'squashing': 6373, 'palmerston': 1895, 'sagely': 6374, '7g': 4505, 'linda_ronstadt:': 6375, 'avenue': 6376, 'las': 6377, 'manipulation': 6378, 'schizophrenia': 6379, 'parrot': 6380, 'barney-guarding': 6381, 'video': 1414, 'glorious': 6382, 'minutes': 721, 'renew': 4525, 'solves': 6383, 'sitcom': 4556, 'more': 124, 'join': 724, 'roof': 2790, 'inexorable': 6384, 'crew': 2791, 'fayed': 6385, 'frightened': 6386, 'sweetie': 6387, 'over-pronouncing': 6388, 'abolish': 6389, 'pip': 6390, 'merchants': 6391, 'accident': 829, 'bolting': 6392, 'macgregor': 6393, 'triumphantly': 6394, 'popping': 6395, 'doooown': 6396, 'frog': 2792, 'barf': 2793, 'poetics': 6397, 'roses': 2794, 'horrible': 830, 'pillows': 6398, \"livin'\": 1415, 'feast': 2795, 'deserve': 2796, 'dazed': 6399, 'fancy': 1870, 'committee': 6400, 'oil': 1871, 'ah': 119, \"ain't\": 168, 'tactful': 6401, 'coms': 6402, 'manage': 2797, 'beans': 4110, 'britannia': 6404, 'anger': 6405, 'drunkenly': 6406, 'cannoli': 4700, 'tips': 1660, 'trapped': 2798, 'lucius': 2799, 'insist': 6408, 'owns': 6409, 'wieners': 3771, 'jerks': 1158, 'folks': 1417, 'influence': 6410, 'schmoe': 6411, 'care': 417, 'complaining': 2800, 'scrutinizes': 6412, 'grade': 2801, 'frat': 6413, 'fault': 1872, 'revenge': 6414, \"'bout\": 660, 'napkins': 6415, 'extremely': 2255, 'stealings': 2802, 'gig': 6416, 'application': 6417, 'keep': 279, 'admiration': 2803, 'spits': 6418, 'ails': 6419, 'shoulders': 6420, 'chow': 6421, 'ya': 111, 'hm': 1418, \"they'll\": 1874, 'fuzzlepitch': 6422, 'disgrace': 2804, 'hooked': 6423, 'doctor': 6424, 'freedom': 2805, 'smooth': 1419, '_burns_heads:': 6425, 'tv_wife:': 1159, 'valuable': 6426, 'shells': 6427, 'needy': 2806, 'considers': 6428, 'late': 661, \"didn't\": 169, 'load': 6429, \"brady's\": 4837, 'bubbles-in-my-nose-y': 6431, 'boned': 6432, 'annual': 6433, 'signed': 6434, 'nerve': 2807, 'skoal': 3465, 'eight': 725, 'mall': 2809, 'bleeding': 6436, 'pipe': 1160, 'tobacky': 6437, 'shot': 726, 'synthesize': 6438, 'moonnnnnnnn': 6439, 'hotenhoffer': 6440, 'thing:': 6441, 'deadly': 2810, 'female_inspector:': 4905, 'market': 1420, 'parking': 1875, 'girlfriend': 1421, 'kent_brockman:': 240, 'thousand-year': 6442, 'stand': 601, 'dennis_kucinich:': 2811, \"others'\": 2812, 'belly-aching': 6443, 'dash': 6444, 'car': 225, 'reading:': 6445, 'legoland': 6446, 'ideal': 6447, 'calm': 1161, 'killer': 6448, 'crystal': 6449, 'hexa-': 6450, 'supervising': 6451, 'carney': 6452, 'peppy': 2813, 'pretending': 2814, 'jackson': 6146, 'sing-song': 6453, 'heavyweight': 1422, 'dumpster': 6454, 'sweeter': 2815, 'oooo': 6455, 'bust': 6456, 'carb': 5535, \"comin'\": 377, 'gin-slingers': 6457, 'pee': 6458, \"narratin'\": 6459, 'lists': 6460, 'scoffs': 4119, 'pointed': 1423, 'allow': 6462, \"somethin's\": 6463, 'forty-two': 6464, 'last': 207, 'month': 6465, 'rainbows': 6466, 'shesh': 6467, \"soakin's\": 5961, 'friendly': 796, 'pointedly': 6468, 'three': 218, 'brother': 1702, 'ho-la': 6470, 'zeal': 6471, 'homeland': 6472, \"sat's\": 3537, \"lefty's\": 6473, 'bleacher': 4381, 'stooges': 6474, \"lady's\": 6475, 'coughs': 6476, 'turn': 347, 'win': 457, 'trade': 6478, 'looked': 1876, 'binoculars': 6479, 'natured': 6480, 'dreamily': 6481, 'weight': 6482, 'pews': 6483, \"what'd\": 4567, 'cases': 6484, 'vodka': 2818, 'background': 6485, 'happens': 6486, 'administration': 5097, 'marge_simpson:': 73, 'chug-a-lug': 3408, 'lovely': 2820, 'bite': 1712, 'cavern': 6488, '[year': 6489, 'nature': 3892, 'self-made': 2821, 'charged': 6490, 'playoff': 6491, 'whup': 6492, 'alcohol': 511, 'nos': 4126, 'often': 6494, 'lenny': 179, 'spreads': 6495, 'griffith': 6496, 'hello': 219, 'answered': 6497, 'out': 51, 'cheese': 2822, 'seat': 831, 'thirty': 949, 'theory': 6498, 'diaper': 6499, 'animals': 2823, 'einstein': 6500, 'handle': 2824, 'sec_agent_#1:': 1877, \"games'd\": 6501, 'cutting': 1163, 'amused': 6502, 'shades': 6503, 'sucks': 6504, 'lloyd:': 1164, 'brow': 2825, 'darts': 1878, 'punches': 2826, 'send': 833, 'fat-free': 6147, 'sucker': 6069, 'broom': 2828, 'ominous': 1424, 'rekindle': 6506, 'passed': 2829, 'reactions': 6507, 'into': 123, 'understand': 1425, 'girl-bart': 6733, 'personal': 6509, \"other's\": 2830, 'beady': 6510, 'scare': 2831, 'tow': 6511, \"calf's\": 6512, 'sloppy': 6513, 'fanciest': 2832, 'orphan': 6514, 'phone': 180, 'milhouses': 6515, 'buttons': 1426, 'disillusioned': 6516, 'half-day': 6073, 'amid': 1266, 'oww': 6517, 'scam': 1879, 'banquet': 6518, 'tickets': 4392, 'poulet': 4777, 'apartment': 2834, 'mural': 6521, 'nonchalant': 6522, 'sacrifice': 6523, 'beefs': 6524, 'scruffy_blogger:': 6525, 'man_with_crazy_beard:': 6526, 'famous': 2835, 'bitter': 879, \"england's\": 6527, 'refill': 6528, 'moe-near-now': 6529, 'slice': 2836, 'exchange': 2837, 'penny': 2838, 'pigs': 2839, 'closer': 1880, 'able': 1350, 'alien': 6530, 'flynt': 6531, 'certificate': 6532, 'santeria': 6736, 'maximum': 6541, 'quero': 6533, 'headhunters': 6534, 'whatchamacallit': 6535, 'minus': 5940, 'concerned': 1744, 'sent': 950, 'admirer': 6537, 'lifts': 6538, 'glamour': 6539, 'ever': 154, 'thought_bubble_lenny:': 6540, 'inspire': 2544, 'message': 2841, 'wok': 6542, 'grammar': 6543, 'piling': 4336, 'reopen': 6544, 'voted': 6545, 'andalay': 2842, 'savagely': 6546, 'planet': 2425, 'lodge': 6738, 'pick': 440, 'sight': 6548, 'held': 2843, 'knife': 2844, 'beer-jerks': 6549, 'pizza': 6550, 'ginger': 2845, 'heaven': 951, 'fleabag': 6551, 'mountain': 6552, 'lazy': 2846, \"spaghetti-o's\": 6553, 'shush': 6554, 'grandkids': 6555, 'flashbacks': 6556, 'cow': 1165, 'lessee': 6557, 'sticker': 6558, 'perfume': 6559, 'chunk': 4579, 'ago': 1166, 'creates': 6561, 'vampire': 5587, 'janette': 6563, 'intelligent': 6564, 'wacky': 6565, 'english': 834, 'knuckle-dragging': 6566, 'holidays': 5595, 'wonder': 1059, 'nemo': 6567, 'fifth': 6568, 'recent': 6569, 'não': 6570, 'measurements': 2848, 'ore': 6571, 'talkative': 6572, 'two-drink': 6573, 'snorts': 2849, 'gang': 2850, 'pockets': 1881, 'syrup': 2851, 'arm-pittish': 6574, 'purse': 2852, 'chubby': 6575, 'charge': 952, 'meant': 1882, 'action': 2853, '||left_parenthesis||': 3, 'wondering': 2854, 'disturbing': 6577, 'judge_snyder:': 2223, 'breathalyzer': 6578, 'mill': 4363, 'embarrassing': 1883, 'roomy': 2855, 'justice': 2221, 'vulgar': 6353, 'ugly': 602, 'register': 1884, 'lately': 1885, 'plan': 953, 'pal': 437, 'lotsa': 6581, 'detective': 6582, 'unhappy': 6583, 'mostly': 6584, 'fourteen:': 6585, 'cold': 835, 'buried': 2856, 'meaning': 5733, \"hasn't\": 2691, 'coward': 2721, 'express': 2858, 'amiable': 6587, 'ripcord': 2274, 'breathtaking': 6588, 'exclusive:': 6589, 'handshake': 6590, 'singing/pushing': 6591, \"enjoyin'\": 6592, 'peaked': 6593, 'hilton': 6594, 'kansas': 5778, \"seein'\": 1887, 'hook': 6595, 'let': 143, 'e': 5855, 'hollye': 6596, 'liquor': 6597, 'mobile': 5793, \"homer'll\": 6599, '1-800-555-hugs': 6600, 'excavating': 6601, 'urge': 6602, 'drawer': 6603, \"'morning\": 5814, 'everyday': 6604, 'nick': 6605, 'blobbo': 6607, 'silent': 5391, 'says': 328, 'bum:': 6608, 'smile:': 2861, 'elizabeth': 6609, 'inches': 5847, 'carny:': 6611, 'alpha-crow': 6612, 'brassiest': 2862, 'addiction': 6606, 'emporium': 6613, 'capitalists': 6614, 'enjoys': 6615, \"you'd\": 438, 'spine': 6616, 'compressions': 6617, 'alter': 6618, 'disaster': 6619, 'buddies': 6620, 'crinkly': 6621, 'utility': 2292, 'champ': 2863, 'us': 151, 'dingy': 6622, 'amnesia': 6623, 'kent': 955, 'stuff': 419, 'sagacity': 6624, 'takes': 956, 'luckiest': 6625, 'duff_announcer:': 6626, 'pack': 6627, 'inspiring': 2864, 'superpower': 6628, 'poin-dexterous': 6629, 'statistician': 6630, 'lifters': 6631, 'perplexed': 5944, 'chapstick': 6632, 'rap': 2866, 'got': 54, 'legend': 6633, 'christopher': 2868, 'ho': 1748, 'lou:': 934, 'whaddaya': 1429, 'michael': 6636, 'stinks': 2869, 'mustard': 6637, 'terrific': 2870, \"liftin'\": 6638, \"fishin'\": 6639, 'ohh': 2180, 'flash': 6640, \"man's_voice:\": 6641, 'bumpy-like': 6642, 'helped': 2258, 'onion': 4048, 'veux': 6644, 'creature': 6645, \"goin'\": 359, 'closed': 1168, 'tolerance': 6646, 'pay': 420, 'hearts': 6647, 'fills': 6648, 'scene': 1888, 'routine': 2705, 'woodchucks': 6649, 'fortensky': 6650, 'cash': 512, 'pusillanimous': 6651, 'winces': 6652, 'sobriety': 6653, 'hibbert': 2873, 'infor': 6654, 'rancid': 6071, 'soul-crushing': 6655, 'kneeling': 6656, 'cushion': 6657, 'save': 425, 'arrived': 6658, 'raking': 6659, 'pennies': 6660, 'huh': 166, 'jerry': 2874, 'crowd': 1833, 'deals': 6661, 'jacques': 727, 'incriminating': 6119, 'supports': 6662, 'majesty': 6133, 'compromise:': 6663, 'appeals': 5459, 'robot': 6664, 'creme': 6665, 'cushions': 5445, 'cooker': 6667, 'italian': 6668, \"when's\": 6669, 'guttural': 6670, 'classy': 6171, 'springfield': 253, '$42': 6092, \"'pu\": 6672, 'coupon': 6673, 'darkest': 2877, 'aristotle:': 6674, 'trashed': 6675, 'airport': 2048, 'honor': 2727, 'obsessive-compulsive': 4795, \"tap-pullin'\": 6678, 'holding': 957, '530': 6679, 'lying': 857, 'equivalent': 6680, 'bartending': 2878, 'judges': 3995, 'hitchhike': 6681, \"o'clock\": 1431, 'grampa': 832, 'repressed': 6682, 'flayvin': 6683, 'ho-ly': 6684, 'mexicans': 6685, 'taxi': 6293, 'fact': 1891, 'bald': 1432, 'dials': 2881, 'gut': 6686, 'billboard': 1433, 'many': 378, 'executive': 6687, 'square': 2882, 'expression': 2883, 'cheerleaders:': 6688, 'privacy': 6689, 'wally': 5481, 'fishing': 6690, 'maggie': 396, 'instantly': 6691, 'shifty': 6692, 'sudoku': 6693, 'unsafe': 6694, 'fl': 6695, 'baseball': 958, 'safe': 959, 'voters': 6696, 'filthy': 1152, 'blank': 6697, 'inspection': 1893, 'alma': 6698, 'sympathizer': 6699, 'wobble': 6700, 'dramatically': 6701, 'scrubbing': 6702, 'flames': 6703, 'tomahto': 6704, 'whoopi': 6706, 'wazoo': 6707, 'foodie': 6708, 'international': 1894, 'bushes': 6363, \"showin'\": 1968, 'flower': 1435, 'sponge:': 6709, 'him': 99, 'edge': 6710, 'afraid': 840, 'gift:': 5602, 'papa': 6712, 'cummerbund': 6713, 'gator:': 2767, 'telephone': 6714, 'victory': 2886, 'theme': 6715, 'fan': 1436, 'crunch': 6716, 'edgy': 6717, 'shorter': 6718, \"costume's\": 6719, 'handler': 6720, 'employment': 6721, 'bucket': 2228, 'stationery': 2887, 'adjourned': 5569, 'brandy': 6722, 'upbeat': 1437, 'dizer': 6723, 'sat': 2895, 'based': 2888, 'getcha': 6724, 'moved': 1896, 'avec': 6725, 'dropping': 6726, 'experience': 6727, 'burnside': 6728, 'flack': 6729, 'you-need-man': 6730, 'court': 6731, 'sound': 397, 'dry': 837, 'fbi': 1438, 'total': 6732, \"treatin'\": 4071, 'example': 6118, 'relieved': 2889, '50%': 3811, 'carlson': 2890, 'a-b-': 6734, 'riding': 2066, 'harv': 1898, 'raging': 6735, 'mumble': 3240, 'app': 6737, 'this': 23, 'ling': 4132, 'sweet': 254, 'recently': 2891, 'musketeers': 6739, 'dressing': 6740, 'monorails': 6741, 'afloat': 6742, 'lessons': 1169, 'knuckles': 6743, 'occurred': 6744, 'situation': 1354, 'unavailable': 6746, 'attracted': 6547, 'benjamin': 6747, 'midge': 1899, 'accusing': 6748, 'closing': 1439, 'finance': 6749, 'sounded': 6750, 'tomato': 6751, 'selective': 6752, 'rush': 6753, 'proper': 6754, 'accurate': 1900, 'commission': 2893, \"friend's\": 6755, 'salvador': 6756, 'wedding': 2894, 'fall': 960, 'ticket': 728, 'blaze': 6757, 'kadlubowski': 6758, 'dislike': 6759, 'scream': 1440, 'black': 839, \"fightin'\": 6760, 'unattended': 6761, 'lighten': 6762, '21': 6763, 'earpiece': 6764, 'nevada': 6508, 'icy': 6765, 'passenger': 6766, 'cappuccino': 6767, 'coney': 1901, 'a-a-b-b-a': 6768, 'poplar': 6711, 'feat': 6769, 'delightfully': 6770, 'bindle': 6771, 'nightmare': 6772, 'pigtown': 4070, 'sing': 558, 'awkwardly': 6773, 'bar-boy': 1902, 'unfortunately': 2896, 'perch': 6774, 'viva': 6775, 'yells': 5842, 'breaks': 6777, 'moe-heads': 6778, 'bowie': 6580, 'exquisite': 6780, 'pants': 422, 'shack': 6781, 'vincent': 6782}\n"
     ]
    }
   ],
   "source": [
    "print(vocab_to_int)"
   ]
  },
  {
   "cell_type": "markdown",
   "metadata": {
    "deletable": true,
    "editable": true
   },
   "source": [
    "## Build the Neural Network\n",
    "You'll build the components necessary to build a RNN by implementing the following functions below:\n",
    "- get_inputs\n",
    "- get_init_cell\n",
    "- get_embed\n",
    "- build_rnn\n",
    "- build_nn\n",
    "- get_batches\n",
    "\n",
    "### Check the Version of TensorFlow and Access to GPU"
   ]
  },
  {
   "cell_type": "code",
   "execution_count": 8,
   "metadata": {
    "collapsed": false,
    "deletable": true,
    "editable": true
   },
   "outputs": [
    {
     "name": "stdout",
     "output_type": "stream",
     "text": [
      "TensorFlow Version: 1.0.0\n",
      "Default GPU Device: /gpu:0\n"
     ]
    }
   ],
   "source": [
    "\"\"\"\n",
    "DON'T MODIFY ANYTHING IN THIS CELL\n",
    "\"\"\"\n",
    "from distutils.version import LooseVersion\n",
    "import warnings\n",
    "import tensorflow as tf\n",
    "\n",
    "# Check TensorFlow Version\n",
    "assert LooseVersion(tf.__version__) >= LooseVersion('1.0'), 'Please use TensorFlow version 1.0 or newer'\n",
    "print('TensorFlow Version: {}'.format(tf.__version__))\n",
    "\n",
    "# Check for a GPU\n",
    "if not tf.test.gpu_device_name():\n",
    "    warnings.warn('No GPU found. Please use a GPU to train your neural network.')\n",
    "else:\n",
    "    print('Default GPU Device: {}'.format(tf.test.gpu_device_name()))"
   ]
  },
  {
   "cell_type": "markdown",
   "metadata": {
    "deletable": true,
    "editable": true
   },
   "source": [
    "### Input\n",
    "Implement the `get_inputs()` function to create TF Placeholders for the Neural Network.  It should create the following placeholders:\n",
    "- Input text placeholder named \"input\" using the [TF Placeholder](https://www.tensorflow.org/api_docs/python/tf/placeholder) `name` parameter.\n",
    "- Targets placeholder\n",
    "- Learning Rate placeholder\n",
    "\n",
    "Return the placeholders in the following the tuple `(Input, Targets, LearingRate)`"
   ]
  },
  {
   "cell_type": "code",
   "execution_count": 9,
   "metadata": {
    "collapsed": false,
    "deletable": true,
    "editable": true
   },
   "outputs": [
    {
     "name": "stdout",
     "output_type": "stream",
     "text": [
      "Tests Passed\n"
     ]
    }
   ],
   "source": [
    "def get_inputs():\n",
    "    \"\"\"\n",
    "    Create TF Placeholders for input, targets, and learning rate.\n",
    "    :return: Tuple (input, targets, learning rate)\n",
    "    \"\"\"\n",
    "    # TODO: Implement Function\n",
    "    input = tf.placeholder(tf.int32, [None, None], name=\"input\")\n",
    "    targets = tf.placeholder(tf.int32, [None, None], name=\"targets\")\n",
    "    learning_rate = tf.placeholder(tf.float32, None, name=\"learning_rate\")\n",
    "    return (input, targets, learning_rate)\n",
    "\n",
    "\n",
    "\"\"\"\n",
    "DON'T MODIFY ANYTHING IN THIS CELL THAT IS BELOW THIS LINE\n",
    "\"\"\"\n",
    "tests.test_get_inputs(get_inputs)"
   ]
  },
  {
   "cell_type": "markdown",
   "metadata": {
    "deletable": true,
    "editable": true
   },
   "source": [
    "### Build RNN Cell and Initialize\n",
    "Stack one or more [`BasicLSTMCells`](https://www.tensorflow.org/api_docs/python/tf/contrib/rnn/BasicLSTMCell) in a [`MultiRNNCell`](https://www.tensorflow.org/api_docs/python/tf/contrib/rnn/MultiRNNCell).\n",
    "- The Rnn size should be set using `rnn_size`\n",
    "- Initalize Cell State using the MultiRNNCell's [`zero_state()`](https://www.tensorflow.org/api_docs/python/tf/contrib/rnn/MultiRNNCell#zero_state) function\n",
    "    - Apply the name \"initial_state\" to the initial state using [`tf.identity()`](https://www.tensorflow.org/api_docs/python/tf/identity)\n",
    "\n",
    "Return the cell and initial state in the following tuple `(Cell, InitialState)`"
   ]
  },
  {
   "cell_type": "code",
   "execution_count": 10,
   "metadata": {
    "collapsed": false,
    "deletable": true,
    "editable": true
   },
   "outputs": [
    {
     "name": "stdout",
     "output_type": "stream",
     "text": [
      "Tests Passed\n"
     ]
    }
   ],
   "source": [
    "def get_init_cell(batch_size, rnn_size):\n",
    "    \"\"\"\n",
    "    Create an RNN Cell and initialize it.\n",
    "    :param batch_size: Size of batches\n",
    "    :param rnn_size: Size of RNNs\n",
    "    :return: Tuple (cell, initialize state)\n",
    "    \"\"\"\n",
    "\n",
    "    \n",
    "    num_layers = 2\n",
    "    keep_prob = 0.5\n",
    "\n",
    "    cell = tf.contrib.rnn.BasicLSTMCell(rnn_size)\n",
    "    drop = tf.contrib.rnn.DropoutWrapper(cell, output_keep_prob=keep_prob)\n",
    "    cell = tf.contrib.rnn.MultiRNNCell([drop] * num_layers)\n",
    "    initial_state = cell.zero_state(batch_size, tf.float32)\n",
    "    initial_state = tf.identity(initial_state, name = 'initial_state')\n",
    "\n",
    "    return cell, initial_state\n",
    "\n",
    "\n",
    "\"\"\"\n",
    "DON'T MODIFY ANYTHING IN THIS CELL THAT IS BELOW THIS LINE\n",
    "\"\"\"\n",
    "tests.test_get_init_cell(get_init_cell)"
   ]
  },
  {
   "cell_type": "markdown",
   "metadata": {
    "deletable": true,
    "editable": true
   },
   "source": [
    "### Word Embedding\n",
    "Apply embedding to `input_data` using TensorFlow.  Return the embedded sequence."
   ]
  },
  {
   "cell_type": "code",
   "execution_count": 11,
   "metadata": {
    "collapsed": false,
    "deletable": true,
    "editable": true
   },
   "outputs": [
    {
     "name": "stdout",
     "output_type": "stream",
     "text": [
      "Tests Passed\n"
     ]
    }
   ],
   "source": [
    "def get_embed(input_data, vocab_size, embed_dim):\n",
    "    \"\"\"\n",
    "    Create embedding for <input_data>.\n",
    "    :param input_data: TF placeholder for text input.\n",
    "    :param vocab_size: Number of words in vocabulary.\n",
    "    :param embed_dim: Number of embedding dimensions\n",
    "    :return: Embedded input.\n",
    "    \"\"\"\n",
    "    # TODO: Implement Function\n",
    "    embedding = tf.Variable(tf.random_uniform(shape = [vocab_size, embed_dim], minval = -1, maxval = 1))\n",
    "    embedded_input = tf.nn.embedding_lookup(embedding, input_data)\n",
    "\n",
    "    return embedded_input\n",
    "\n",
    "\"\"\"\n",
    "DON'T MODIFY ANYTHING IN THIS CELL THAT IS BELOW THIS LINE\n",
    "\"\"\"\n",
    "tests.test_get_embed(get_embed)"
   ]
  },
  {
   "cell_type": "markdown",
   "metadata": {
    "deletable": true,
    "editable": true
   },
   "source": [
    "### Build RNN\n",
    "You created a RNN Cell in the `get_init_cell()` function.  Time to use the cell to create a RNN.\n",
    "- Build the RNN using the [`tf.nn.dynamic_rnn()`](https://www.tensorflow.org/api_docs/python/tf/nn/dynamic_rnn)\n",
    " - Apply the name \"final_state\" to the final state using [`tf.identity()`](https://www.tensorflow.org/api_docs/python/tf/identity)\n",
    "\n",
    "Return the outputs and final_state state in the following tuple `(Outputs, FinalState)` "
   ]
  },
  {
   "cell_type": "code",
   "execution_count": 12,
   "metadata": {
    "collapsed": false,
    "deletable": true,
    "editable": true
   },
   "outputs": [
    {
     "name": "stdout",
     "output_type": "stream",
     "text": [
      "Tests Passed\n"
     ]
    }
   ],
   "source": [
    "def build_rnn(cell, inputs):\n",
    "    \"\"\"\n",
    "    Create a RNN using a RNN Cell\n",
    "    :param cell: RNN Cell\n",
    "    :param inputs: Input text data\n",
    "    :return: Tuple (Outputs, Final State)\n",
    "    \"\"\"\n",
    "    # TODO: Implement Function\n",
    "    outputs, final_state = tf.nn.dynamic_rnn(cell, inputs, dtype = 'float32')\n",
    "    final_state = tf.identity(final_state, name = 'final_state')\n",
    "\n",
    "    return outputs, final_state\n",
    "\n",
    "\n",
    "\"\"\"\n",
    "DON'T MODIFY ANYTHING IN THIS CELL THAT IS BELOW THIS LINE\n",
    "\"\"\"\n",
    "tests.test_build_rnn(build_rnn)"
   ]
  },
  {
   "cell_type": "markdown",
   "metadata": {
    "deletable": true,
    "editable": true
   },
   "source": [
    "### Build the Neural Network\n",
    "Apply the functions you implemented above to:\n",
    "- Apply embedding to `input_data` using your `get_embed(input_data, vocab_size, embed_dim)` function.\n",
    "- Build RNN using `cell` and your `build_rnn(cell, inputs)` function.\n",
    "- Apply a fully connected layer with a linear activation and `vocab_size` as the number of outputs.\n",
    "\n",
    "Return the logits and final state in the following tuple (Logits, FinalState) "
   ]
  },
  {
   "cell_type": "code",
   "execution_count": 13,
   "metadata": {
    "collapsed": false,
    "deletable": true,
    "editable": true
   },
   "outputs": [
    {
     "name": "stdout",
     "output_type": "stream",
     "text": [
      "Tests Passed\n"
     ]
    }
   ],
   "source": [
    "def build_nn(cell, rnn_size, input_data, vocab_size):\n",
    "    \"\"\"\n",
    "    Build part of the neural network\n",
    "    :param cell: RNN cell\n",
    "    :param rnn_size: Size of rnns\n",
    "    :param input_data: Input data\n",
    "    :param vocab_size: Vocabulary size\n",
    "    :return: Tuple (Logits, FinalState)\n",
    "    \"\"\"\n",
    "    # TODO: Implement Function\n",
    "    embed = get_embed(input_data, vocab_size, rnn_size)\n",
    "    outputs, finalstate = build_rnn(cell, embed)\n",
    "    logits = tf.contrib.layers.fully_connected(outputs, vocab_size, activation_fn = None)\n",
    "    return logits, finalstate\n",
    "\n",
    "\"\"\"\n",
    "DON'T MODIFY ANYTHING IN THIS CELL THAT IS BELOW THIS LINE\n",
    "\"\"\"\n",
    "tests.test_build_nn(build_nn)"
   ]
  },
  {
   "cell_type": "markdown",
   "metadata": {
    "deletable": true,
    "editable": true
   },
   "source": [
    "### Batches\n",
    "Implement `get_batches` to create batches of input and targets using `int_text`.  The batches should be a Numpy array with the shape `(number of batches, 2, batch size, sequence length)`. Each batch contains two elements:\n",
    "- The first element is a single batch of **input** with the shape `[batch size, sequence length]`\n",
    "- The second element is a single batch of **targets** with the shape `[batch size, sequence length]`\n",
    "\n",
    "If you can't fill the last batch with enough data, drop the last batch.\n",
    "\n",
    "For exmple, `get_batches([1, 2, 3, 4, 5, 6, 7, 8, 9, 10, 11, 12, 13, 14, 15], 2, 3)` would return a Numpy array of the following:\n",
    "```\n",
    "[\n",
    "  # First Batch\n",
    "  [\n",
    "    # Batch of Input\n",
    "    [[ 1  2  3], [ 7  8  9]],\n",
    "    # Batch of targets\n",
    "    [[ 2  3  4], [ 8  9 10]]\n",
    "  ],\n",
    " \n",
    "  # Second Batch\n",
    "  [\n",
    "    # Batch of Input\n",
    "    [[ 4  5  6], [10 11 12]],\n",
    "    # Batch of targets\n",
    "    [[ 5  6  7], [11 12 13]]\n",
    "  ]\n",
    "]\n",
    "```"
   ]
  },
  {
   "cell_type": "code",
   "execution_count": 14,
   "metadata": {
    "collapsed": false,
    "deletable": true,
    "editable": true
   },
   "outputs": [
    {
     "name": "stdout",
     "output_type": "stream",
     "text": [
      "Tests Passed\n"
     ]
    }
   ],
   "source": [
    "def get_batches(int_text, batch_size, seq_length):\n",
    "    \"\"\"\n",
    "    Return batches of input and target\n",
    "    :param int_text: Text with the words replaced by their ids\n",
    "    :param batch_size: The size of batch\n",
    "    :param seq_length: The length of sequence\n",
    "    :return: Batches as a Numpy array\n",
    "    \"\"\"\n",
    "    # TODO: Implement Function\n",
    "    n_batches = int(len(int_text) / (batch_size * seq_length))\n",
    "\n",
    "    # Using only full batches\n",
    "    x = np.array(int_text[: n_batches * batch_size * seq_length])\n",
    "    y = np.array(int_text[1: n_batches * batch_size * seq_length + 1])\n",
    "\n",
    "    x_batches = np.split(x.reshape(batch_size, -1), n_batches, 1)\n",
    "    y_batches = np.split(y.reshape(batch_size, -1), n_batches, 1)\n",
    "\n",
    "    return np.array(list(zip(x_batches, y_batches)))\n",
    "\n",
    "\n",
    "\"\"\"\n",
    "DON'T MODIFY ANYTHING IN THIS CELL THAT IS BELOW THIS LINE\n",
    "\"\"\"\n",
    "tests.test_get_batches(get_batches)"
   ]
  },
  {
   "cell_type": "markdown",
   "metadata": {
    "deletable": true,
    "editable": true
   },
   "source": [
    "## Neural Network Training\n",
    "### Hyperparameters\n",
    "Tune the following parameters:\n",
    "\n",
    "- Set `num_epochs` to the number of epochs.\n",
    "- Set `batch_size` to the batch size.\n",
    "- Set `rnn_size` to the size of the RNNs.\n",
    "- Set `seq_length` to the length of sequence.\n",
    "- Set `learning_rate` to the learning rate.\n",
    "- Set `show_every_n_batches` to the number of batches the neural network should print progress."
   ]
  },
  {
   "cell_type": "code",
   "execution_count": 15,
   "metadata": {
    "collapsed": true,
    "deletable": true,
    "editable": true
   },
   "outputs": [],
   "source": [
    "# Number of Epochs\n",
    "num_epochs = 100\n",
    "# Batch Size\n",
    "batch_size = 256\n",
    "# RNN Size\n",
    "rnn_size = 512\n",
    "# Sequence Length\n",
    "seq_length = 10\n",
    "# Learning Rate\n",
    "learning_rate = 0.003\n",
    "# Show stats for every n number of batches\n",
    "show_every_n_batches = 10\n",
    "\n",
    "\"\"\"\n",
    "DON'T MODIFY ANYTHING IN THIS CELL THAT IS BELOW THIS LINE\n",
    "\"\"\"\n",
    "save_dir = './save'"
   ]
  },
  {
   "cell_type": "markdown",
   "metadata": {
    "deletable": true,
    "editable": true
   },
   "source": [
    "### Build the Graph\n",
    "Build the graph using the neural network you implemented."
   ]
  },
  {
   "cell_type": "code",
   "execution_count": 16,
   "metadata": {
    "collapsed": false,
    "deletable": true,
    "editable": true
   },
   "outputs": [],
   "source": [
    "\"\"\"\n",
    "DON'T MODIFY ANYTHING IN THIS CELL\n",
    "\"\"\"\n",
    "from tensorflow.contrib import seq2seq\n",
    "\n",
    "train_graph = tf.Graph()\n",
    "with train_graph.as_default():\n",
    "    vocab_size = len(int_to_vocab)\n",
    "    input_text, targets, lr = get_inputs()\n",
    "    input_data_shape = tf.shape(input_text)\n",
    "    cell, initial_state = get_init_cell(input_data_shape[0], rnn_size)\n",
    "    logits, final_state = build_nn(cell, rnn_size, input_text, vocab_size)\n",
    "\n",
    "    # Probabilities for generating words\n",
    "    probs = tf.nn.softmax(logits, name='probs')\n",
    "\n",
    "    # Loss function\n",
    "    cost = seq2seq.sequence_loss(\n",
    "        logits,\n",
    "        targets,\n",
    "        tf.ones([input_data_shape[0], input_data_shape[1]]))\n",
    "\n",
    "    # Optimizer\n",
    "    optimizer = tf.train.AdamOptimizer(lr)\n",
    "\n",
    "    # Gradient Clipping\n",
    "    gradients = optimizer.compute_gradients(cost)\n",
    "    capped_gradients = [(tf.clip_by_value(grad, -1., 1.), var) for grad, var in gradients]\n",
    "    train_op = optimizer.apply_gradients(capped_gradients)"
   ]
  },
  {
   "cell_type": "markdown",
   "metadata": {
    "deletable": true,
    "editable": true
   },
   "source": [
    "## Train\n",
    "Train the neural network on the preprocessed data.  If you have a hard time getting a good loss, check the [forms](https://discussions.udacity.com/) to see if anyone is having the same problem."
   ]
  },
  {
   "cell_type": "code",
   "execution_count": 17,
   "metadata": {
    "collapsed": false,
    "deletable": true,
    "editable": true
   },
   "outputs": [
    {
     "name": "stdout",
     "output_type": "stream",
     "text": [
      "Epoch   0 Batch    0/26   train_loss = 8.823\n",
      "Epoch   0 Batch   10/26   train_loss = 6.659\n",
      "Epoch   0 Batch   20/26   train_loss = 6.489\n",
      "Epoch   1 Batch    4/26   train_loss = 6.166\n",
      "Epoch   1 Batch   14/26   train_loss = 6.106\n",
      "Epoch   1 Batch   24/26   train_loss = 6.069\n",
      "Epoch   2 Batch    8/26   train_loss = 5.856\n",
      "Epoch   2 Batch   18/26   train_loss = 5.800\n",
      "Epoch   3 Batch    2/26   train_loss = 5.723\n",
      "Epoch   3 Batch   12/26   train_loss = 5.626\n",
      "Epoch   3 Batch   22/26   train_loss = 5.592\n",
      "Epoch   4 Batch    6/26   train_loss = 5.464\n",
      "Epoch   4 Batch   16/26   train_loss = 5.564\n",
      "Epoch   5 Batch    0/26   train_loss = 5.437\n",
      "Epoch   5 Batch   10/26   train_loss = 5.296\n",
      "Epoch   5 Batch   20/26   train_loss = 5.128\n",
      "Epoch   6 Batch    4/26   train_loss = 5.118\n",
      "Epoch   6 Batch   14/26   train_loss = 5.112\n",
      "Epoch   6 Batch   24/26   train_loss = 5.038\n",
      "Epoch   7 Batch    8/26   train_loss = 4.851\n",
      "Epoch   7 Batch   18/26   train_loss = 4.793\n",
      "Epoch   8 Batch    2/26   train_loss = 4.827\n",
      "Epoch   8 Batch   12/26   train_loss = 4.723\n",
      "Epoch   8 Batch   22/26   train_loss = 4.683\n",
      "Epoch   9 Batch    6/26   train_loss = 4.635\n",
      "Epoch   9 Batch   16/26   train_loss = 4.705\n",
      "Epoch  10 Batch    0/26   train_loss = 4.570\n",
      "Epoch  10 Batch   10/26   train_loss = 4.480\n",
      "Epoch  10 Batch   20/26   train_loss = 4.379\n",
      "Epoch  11 Batch    4/26   train_loss = 4.396\n",
      "Epoch  11 Batch   14/26   train_loss = 4.392\n",
      "Epoch  11 Batch   24/26   train_loss = 4.376\n",
      "Epoch  12 Batch    8/26   train_loss = 4.266\n",
      "Epoch  12 Batch   18/26   train_loss = 4.152\n",
      "Epoch  13 Batch    2/26   train_loss = 4.203\n",
      "Epoch  13 Batch   12/26   train_loss = 4.126\n",
      "Epoch  13 Batch   22/26   train_loss = 4.094\n",
      "Epoch  14 Batch    6/26   train_loss = 4.077\n",
      "Epoch  14 Batch   16/26   train_loss = 4.108\n",
      "Epoch  15 Batch    0/26   train_loss = 3.954\n",
      "Epoch  15 Batch   10/26   train_loss = 3.985\n",
      "Epoch  15 Batch   20/26   train_loss = 3.835\n",
      "Epoch  16 Batch    4/26   train_loss = 3.858\n",
      "Epoch  16 Batch   14/26   train_loss = 3.904\n",
      "Epoch  16 Batch   24/26   train_loss = 3.817\n",
      "Epoch  17 Batch    8/26   train_loss = 3.751\n",
      "Epoch  17 Batch   18/26   train_loss = 3.649\n",
      "Epoch  18 Batch    2/26   train_loss = 3.653\n",
      "Epoch  18 Batch   12/26   train_loss = 3.617\n",
      "Epoch  18 Batch   22/26   train_loss = 3.557\n",
      "Epoch  19 Batch    6/26   train_loss = 3.575\n",
      "Epoch  19 Batch   16/26   train_loss = 3.565\n",
      "Epoch  20 Batch    0/26   train_loss = 3.413\n",
      "Epoch  20 Batch   10/26   train_loss = 3.446\n",
      "Epoch  20 Batch   20/26   train_loss = 3.326\n",
      "Epoch  21 Batch    4/26   train_loss = 3.328\n",
      "Epoch  21 Batch   14/26   train_loss = 3.383\n",
      "Epoch  21 Batch   24/26   train_loss = 3.294\n",
      "Epoch  22 Batch    8/26   train_loss = 3.250\n",
      "Epoch  22 Batch   18/26   train_loss = 3.236\n",
      "Epoch  23 Batch    2/26   train_loss = 3.205\n",
      "Epoch  23 Batch   12/26   train_loss = 3.184\n",
      "Epoch  23 Batch   22/26   train_loss = 3.140\n",
      "Epoch  24 Batch    6/26   train_loss = 3.198\n",
      "Epoch  24 Batch   16/26   train_loss = 3.131\n",
      "Epoch  25 Batch    0/26   train_loss = 3.007\n",
      "Epoch  25 Batch   10/26   train_loss = 3.031\n",
      "Epoch  25 Batch   20/26   train_loss = 2.973\n",
      "Epoch  26 Batch    4/26   train_loss = 2.951\n",
      "Epoch  26 Batch   14/26   train_loss = 2.961\n",
      "Epoch  26 Batch   24/26   train_loss = 2.937\n",
      "Epoch  27 Batch    8/26   train_loss = 2.935\n",
      "Epoch  27 Batch   18/26   train_loss = 2.870\n",
      "Epoch  28 Batch    2/26   train_loss = 2.879\n",
      "Epoch  28 Batch   12/26   train_loss = 2.851\n",
      "Epoch  28 Batch   22/26   train_loss = 2.847\n",
      "Epoch  29 Batch    6/26   train_loss = 2.875\n",
      "Epoch  29 Batch   16/26   train_loss = 2.760\n",
      "Epoch  30 Batch    0/26   train_loss = 2.741\n",
      "Epoch  30 Batch   10/26   train_loss = 2.691\n",
      "Epoch  30 Batch   20/26   train_loss = 2.558\n",
      "Epoch  31 Batch    4/26   train_loss = 2.585\n",
      "Epoch  31 Batch   14/26   train_loss = 2.541\n",
      "Epoch  31 Batch   24/26   train_loss = 2.541\n",
      "Epoch  32 Batch    8/26   train_loss = 2.564\n",
      "Epoch  32 Batch   18/26   train_loss = 2.502\n",
      "Epoch  33 Batch    2/26   train_loss = 2.492\n",
      "Epoch  33 Batch   12/26   train_loss = 2.522\n",
      "Epoch  33 Batch   22/26   train_loss = 2.440\n",
      "Epoch  34 Batch    6/26   train_loss = 2.481\n",
      "Epoch  34 Batch   16/26   train_loss = 2.377\n",
      "Epoch  35 Batch    0/26   train_loss = 2.351\n",
      "Epoch  35 Batch   10/26   train_loss = 2.389\n",
      "Epoch  35 Batch   20/26   train_loss = 2.310\n",
      "Epoch  36 Batch    4/26   train_loss = 2.272\n",
      "Epoch  36 Batch   14/26   train_loss = 2.336\n",
      "Epoch  36 Batch   24/26   train_loss = 2.287\n",
      "Epoch  37 Batch    8/26   train_loss = 2.274\n",
      "Epoch  37 Batch   18/26   train_loss = 2.260\n",
      "Epoch  38 Batch    2/26   train_loss = 2.251\n",
      "Epoch  38 Batch   12/26   train_loss = 2.246\n",
      "Epoch  38 Batch   22/26   train_loss = 2.179\n",
      "Epoch  39 Batch    6/26   train_loss = 2.268\n",
      "Epoch  39 Batch   16/26   train_loss = 2.119\n",
      "Epoch  40 Batch    0/26   train_loss = 2.056\n",
      "Epoch  40 Batch   10/26   train_loss = 2.122\n",
      "Epoch  40 Batch   20/26   train_loss = 2.057\n",
      "Epoch  41 Batch    4/26   train_loss = 2.030\n",
      "Epoch  41 Batch   14/26   train_loss = 2.008\n",
      "Epoch  41 Batch   24/26   train_loss = 2.023\n",
      "Epoch  42 Batch    8/26   train_loss = 2.060\n",
      "Epoch  42 Batch   18/26   train_loss = 2.028\n",
      "Epoch  43 Batch    2/26   train_loss = 1.983\n",
      "Epoch  43 Batch   12/26   train_loss = 2.065\n",
      "Epoch  43 Batch   22/26   train_loss = 1.958\n",
      "Epoch  44 Batch    6/26   train_loss = 2.023\n",
      "Epoch  44 Batch   16/26   train_loss = 1.906\n",
      "Epoch  45 Batch    0/26   train_loss = 1.877\n",
      "Epoch  45 Batch   10/26   train_loss = 1.999\n",
      "Epoch  45 Batch   20/26   train_loss = 1.844\n",
      "Epoch  46 Batch    4/26   train_loss = 1.866\n",
      "Epoch  46 Batch   14/26   train_loss = 1.861\n",
      "Epoch  46 Batch   24/26   train_loss = 1.863\n",
      "Epoch  47 Batch    8/26   train_loss = 1.864\n",
      "Epoch  47 Batch   18/26   train_loss = 1.854\n",
      "Epoch  48 Batch    2/26   train_loss = 1.800\n",
      "Epoch  48 Batch   12/26   train_loss = 1.848\n",
      "Epoch  48 Batch   22/26   train_loss = 1.754\n",
      "Epoch  49 Batch    6/26   train_loss = 1.807\n",
      "Epoch  49 Batch   16/26   train_loss = 1.753\n",
      "Epoch  50 Batch    0/26   train_loss = 1.701\n",
      "Epoch  50 Batch   10/26   train_loss = 1.699\n",
      "Epoch  50 Batch   20/26   train_loss = 1.675\n",
      "Epoch  51 Batch    4/26   train_loss = 1.664\n",
      "Epoch  51 Batch   14/26   train_loss = 1.638\n",
      "Epoch  51 Batch   24/26   train_loss = 1.695\n",
      "Epoch  52 Batch    8/26   train_loss = 1.654\n",
      "Epoch  52 Batch   18/26   train_loss = 1.649\n",
      "Epoch  53 Batch    2/26   train_loss = 1.674\n",
      "Epoch  53 Batch   12/26   train_loss = 1.700\n",
      "Epoch  53 Batch   22/26   train_loss = 1.633\n",
      "Epoch  54 Batch    6/26   train_loss = 1.731\n",
      "Epoch  54 Batch   16/26   train_loss = 1.524\n",
      "Epoch  55 Batch    0/26   train_loss = 1.575\n",
      "Epoch  55 Batch   10/26   train_loss = 1.555\n",
      "Epoch  55 Batch   20/26   train_loss = 1.531\n",
      "Epoch  56 Batch    4/26   train_loss = 1.525\n",
      "Epoch  56 Batch   14/26   train_loss = 1.515\n",
      "Epoch  56 Batch   24/26   train_loss = 1.522\n",
      "Epoch  57 Batch    8/26   train_loss = 1.529\n",
      "Epoch  57 Batch   18/26   train_loss = 1.548\n",
      "Epoch  58 Batch    2/26   train_loss = 1.539\n",
      "Epoch  58 Batch   12/26   train_loss = 1.524\n",
      "Epoch  58 Batch   22/26   train_loss = 1.452\n",
      "Epoch  59 Batch    6/26   train_loss = 1.583\n",
      "Epoch  59 Batch   16/26   train_loss = 1.431\n",
      "Epoch  60 Batch    0/26   train_loss = 1.431\n",
      "Epoch  60 Batch   10/26   train_loss = 1.474\n",
      "Epoch  60 Batch   20/26   train_loss = 1.386\n",
      "Epoch  61 Batch    4/26   train_loss = 1.379\n",
      "Epoch  61 Batch   14/26   train_loss = 1.423\n",
      "Epoch  61 Batch   24/26   train_loss = 1.404\n",
      "Epoch  62 Batch    8/26   train_loss = 1.416\n",
      "Epoch  62 Batch   18/26   train_loss = 1.403\n",
      "Epoch  63 Batch    2/26   train_loss = 1.415\n",
      "Epoch  63 Batch   12/26   train_loss = 1.417\n",
      "Epoch  63 Batch   22/26   train_loss = 1.382\n",
      "Epoch  64 Batch    6/26   train_loss = 1.429\n",
      "Epoch  64 Batch   16/26   train_loss = 1.315\n",
      "Epoch  65 Batch    0/26   train_loss = 1.343\n",
      "Epoch  65 Batch   10/26   train_loss = 1.324\n",
      "Epoch  65 Batch   20/26   train_loss = 1.319\n",
      "Epoch  66 Batch    4/26   train_loss = 1.322\n",
      "Epoch  66 Batch   14/26   train_loss = 1.292\n",
      "Epoch  66 Batch   24/26   train_loss = 1.334\n",
      "Epoch  67 Batch    8/26   train_loss = 1.301\n",
      "Epoch  67 Batch   18/26   train_loss = 1.297\n",
      "Epoch  68 Batch    2/26   train_loss = 1.295\n",
      "Epoch  68 Batch   12/26   train_loss = 1.332\n",
      "Epoch  68 Batch   22/26   train_loss = 1.247\n",
      "Epoch  69 Batch    6/26   train_loss = 1.312\n",
      "Epoch  69 Batch   16/26   train_loss = 1.221\n",
      "Epoch  70 Batch    0/26   train_loss = 1.240\n",
      "Epoch  70 Batch   10/26   train_loss = 1.243\n",
      "Epoch  70 Batch   20/26   train_loss = 1.219\n",
      "Epoch  71 Batch    4/26   train_loss = 1.228\n",
      "Epoch  71 Batch   14/26   train_loss = 1.182\n",
      "Epoch  71 Batch   24/26   train_loss = 1.217\n",
      "Epoch  72 Batch    8/26   train_loss = 1.189\n",
      "Epoch  72 Batch   18/26   train_loss = 1.226\n",
      "Epoch  73 Batch    2/26   train_loss = 1.243\n",
      "Epoch  73 Batch   12/26   train_loss = 1.256\n",
      "Epoch  73 Batch   22/26   train_loss = 1.152\n",
      "Epoch  74 Batch    6/26   train_loss = 1.282\n",
      "Epoch  74 Batch   16/26   train_loss = 1.171\n",
      "Epoch  75 Batch    0/26   train_loss = 1.149\n",
      "Epoch  75 Batch   10/26   train_loss = 1.173\n",
      "Epoch  75 Batch   20/26   train_loss = 1.180\n",
      "Epoch  76 Batch    4/26   train_loss = 1.149\n",
      "Epoch  76 Batch   14/26   train_loss = 1.144\n",
      "Epoch  76 Batch   24/26   train_loss = 1.133\n",
      "Epoch  77 Batch    8/26   train_loss = 1.139\n",
      "Epoch  77 Batch   18/26   train_loss = 1.158\n",
      "Epoch  78 Batch    2/26   train_loss = 1.128\n",
      "Epoch  78 Batch   12/26   train_loss = 1.161\n",
      "Epoch  78 Batch   22/26   train_loss = 1.079\n",
      "Epoch  79 Batch    6/26   train_loss = 1.167\n",
      "Epoch  79 Batch   16/26   train_loss = 1.089\n",
      "Epoch  80 Batch    0/26   train_loss = 1.102\n",
      "Epoch  80 Batch   10/26   train_loss = 1.109\n",
      "Epoch  80 Batch   20/26   train_loss = 1.053\n",
      "Epoch  81 Batch    4/26   train_loss = 1.095\n",
      "Epoch  81 Batch   14/26   train_loss = 1.064\n",
      "Epoch  81 Batch   24/26   train_loss = 1.057\n",
      "Epoch  82 Batch    8/26   train_loss = 1.082\n",
      "Epoch  82 Batch   18/26   train_loss = 1.088\n",
      "Epoch  83 Batch    2/26   train_loss = 1.084\n",
      "Epoch  83 Batch   12/26   train_loss = 1.108\n",
      "Epoch  83 Batch   22/26   train_loss = 1.064\n",
      "Epoch  84 Batch    6/26   train_loss = 1.117\n",
      "Epoch  84 Batch   16/26   train_loss = 1.034\n",
      "Epoch  85 Batch    0/26   train_loss = 1.048\n",
      "Epoch  85 Batch   10/26   train_loss = 1.056\n",
      "Epoch  85 Batch   20/26   train_loss = 0.978\n",
      "Epoch  86 Batch    4/26   train_loss = 1.038\n",
      "Epoch  86 Batch   14/26   train_loss = 1.001\n",
      "Epoch  86 Batch   24/26   train_loss = 1.024\n",
      "Epoch  87 Batch    8/26   train_loss = 0.965\n",
      "Epoch  87 Batch   18/26   train_loss = 0.993\n",
      "Epoch  88 Batch    2/26   train_loss = 1.017\n",
      "Epoch  88 Batch   12/26   train_loss = 1.052\n",
      "Epoch  88 Batch   22/26   train_loss = 0.993\n",
      "Epoch  89 Batch    6/26   train_loss = 1.054\n",
      "Epoch  89 Batch   16/26   train_loss = 0.952\n",
      "Epoch  90 Batch    0/26   train_loss = 0.989\n",
      "Epoch  90 Batch   10/26   train_loss = 0.974\n",
      "Epoch  90 Batch   20/26   train_loss = 0.938\n",
      "Epoch  91 Batch    4/26   train_loss = 0.949\n",
      "Epoch  91 Batch   14/26   train_loss = 0.962\n",
      "Epoch  91 Batch   24/26   train_loss = 0.973\n",
      "Epoch  92 Batch    8/26   train_loss = 0.951\n",
      "Epoch  92 Batch   18/26   train_loss = 0.984\n",
      "Epoch  93 Batch    2/26   train_loss = 0.994\n",
      "Epoch  93 Batch   12/26   train_loss = 1.008\n",
      "Epoch  93 Batch   22/26   train_loss = 0.917\n",
      "Epoch  94 Batch    6/26   train_loss = 0.983\n",
      "Epoch  94 Batch   16/26   train_loss = 0.939\n",
      "Epoch  95 Batch    0/26   train_loss = 0.923\n",
      "Epoch  95 Batch   10/26   train_loss = 0.955\n",
      "Epoch  95 Batch   20/26   train_loss = 0.885\n",
      "Epoch  96 Batch    4/26   train_loss = 0.885\n",
      "Epoch  96 Batch   14/26   train_loss = 0.916\n",
      "Epoch  96 Batch   24/26   train_loss = 0.947\n",
      "Epoch  97 Batch    8/26   train_loss = 0.925\n",
      "Epoch  97 Batch   18/26   train_loss = 1.010\n",
      "Epoch  98 Batch    2/26   train_loss = 0.971\n",
      "Epoch  98 Batch   12/26   train_loss = 0.939\n",
      "Epoch  98 Batch   22/26   train_loss = 0.883\n",
      "Epoch  99 Batch    6/26   train_loss = 0.931\n",
      "Epoch  99 Batch   16/26   train_loss = 0.889\n",
      "Model Trained and Saved\n"
     ]
    }
   ],
   "source": [
    "\"\"\"\n",
    "DON'T MODIFY ANYTHING IN THIS CELL\n",
    "\"\"\"\n",
    "batches = get_batches(int_text, batch_size, seq_length)\n",
    "\n",
    "with tf.Session(graph=train_graph) as sess:\n",
    "    sess.run(tf.global_variables_initializer())\n",
    "\n",
    "    for epoch_i in range(num_epochs):\n",
    "        state = sess.run(initial_state, {input_text: batches[0][0]})\n",
    "\n",
    "        for batch_i, (x, y) in enumerate(batches):\n",
    "            feed = {\n",
    "                input_text: x,\n",
    "                targets: y,\n",
    "                initial_state: state,\n",
    "                lr: learning_rate}\n",
    "            train_loss, state, _ = sess.run([cost, final_state, train_op], feed)\n",
    "\n",
    "            # Show every <show_every_n_batches> batches\n",
    "            if (epoch_i * len(batches) + batch_i) % show_every_n_batches == 0:\n",
    "                print('Epoch {:>3} Batch {:>4}/{}   train_loss = {:.3f}'.format(\n",
    "                    epoch_i,\n",
    "                    batch_i,\n",
    "                    len(batches),\n",
    "                    train_loss))\n",
    "\n",
    "    # Save Model\n",
    "    saver = tf.train.Saver()\n",
    "    saver.save(sess, save_dir)\n",
    "    print('Model Trained and Saved')"
   ]
  },
  {
   "cell_type": "markdown",
   "metadata": {
    "deletable": true,
    "editable": true
   },
   "source": [
    "## Save Parameters\n",
    "Save `seq_length` and `save_dir` for generating a new TV script."
   ]
  },
  {
   "cell_type": "code",
   "execution_count": 18,
   "metadata": {
    "collapsed": false,
    "deletable": true,
    "editable": true
   },
   "outputs": [],
   "source": [
    "\"\"\"\n",
    "DON'T MODIFY ANYTHING IN THIS CELL\n",
    "\"\"\"\n",
    "# Save parameters for checkpoint\n",
    "helper.save_params((seq_length, save_dir))"
   ]
  },
  {
   "cell_type": "markdown",
   "metadata": {
    "deletable": true,
    "editable": true
   },
   "source": [
    "# Checkpoint"
   ]
  },
  {
   "cell_type": "code",
   "execution_count": 19,
   "metadata": {
    "collapsed": false,
    "deletable": true,
    "editable": true
   },
   "outputs": [],
   "source": [
    "\"\"\"\n",
    "DON'T MODIFY ANYTHING IN THIS CELL\n",
    "\"\"\"\n",
    "import tensorflow as tf\n",
    "import numpy as np\n",
    "import helper\n",
    "import problem_unittests as tests\n",
    "\n",
    "_, vocab_to_int, int_to_vocab, token_dict = helper.load_preprocess()\n",
    "seq_length, load_dir = helper.load_params()"
   ]
  },
  {
   "cell_type": "markdown",
   "metadata": {
    "deletable": true,
    "editable": true
   },
   "source": [
    "## Implement Generate Functions\n",
    "### Get Tensors\n",
    "Get tensors from `loaded_graph` using the function [`get_tensor_by_name()`](https://www.tensorflow.org/api_docs/python/tf/Graph#get_tensor_by_name).  Get the tensors using the following names:\n",
    "- \"input:0\"\n",
    "- \"initial_state:0\"\n",
    "- \"final_state:0\"\n",
    "- \"probs:0\"\n",
    "\n",
    "Return the tensors in the following tuple `(InputTensor, InitialStateTensor, FinalStateTensor, ProbsTensor)` "
   ]
  },
  {
   "cell_type": "code",
   "execution_count": 20,
   "metadata": {
    "collapsed": false,
    "deletable": true,
    "editable": true
   },
   "outputs": [
    {
     "name": "stdout",
     "output_type": "stream",
     "text": [
      "Tests Passed\n"
     ]
    }
   ],
   "source": [
    "def get_tensors(loaded_graph):\n",
    "    \"\"\"\n",
    "    Get input, initial state, final state, and probabilities tensor from <loaded_graph>\n",
    "    :param loaded_graph: TensorFlow graph loaded from file\n",
    "    :return: Tuple (InputTensor, InitialStateTensor, FinalStateTensor, ProbsTensor)\n",
    "    \"\"\"\n",
    "    # TODO: Implement Function\n",
    "    input_tensor = loaded_graph.get_tensor_by_name(\"input:0\")\n",
    "    initial_state_tensor = loaded_graph.get_tensor_by_name(\"initial_state:0\")\n",
    "    final_state_tensor = loaded_graph.get_tensor_by_name(\"final_state:0\")\n",
    "    probs_tensor = loaded_graph.get_tensor_by_name(\"probs:0\")\n",
    "\n",
    "    return input_tensor, initial_state_tensor, final_state_tensor, probs_tensor\n",
    "\n",
    "\n",
    "\"\"\"\n",
    "DON'T MODIFY ANYTHING IN THIS CELL THAT IS BELOW THIS LINE\n",
    "\"\"\"\n",
    "tests.test_get_tensors(get_tensors)"
   ]
  },
  {
   "cell_type": "markdown",
   "metadata": {
    "deletable": true,
    "editable": true
   },
   "source": [
    "### Choose Word\n",
    "Implement the `pick_word()` function to select the next word using `probabilities`."
   ]
  },
  {
   "cell_type": "code",
   "execution_count": 21,
   "metadata": {
    "collapsed": false,
    "deletable": true,
    "editable": true
   },
   "outputs": [
    {
     "name": "stdout",
     "output_type": "stream",
     "text": [
      "Tests Passed\n"
     ]
    }
   ],
   "source": [
    "def pick_word(probabilities, int_to_vocab):\n",
    "    \"\"\"\n",
    "    Pick the next word in the generated text\n",
    "    :param probabilities: Probabilites of the next word\n",
    "    :param int_to_vocab: Dictionary of word ids as the keys and words as the values\n",
    "    :return: String of the predicted word\n",
    "    \"\"\"\n",
    "    # TODO: Implement Function\n",
    "    return np.random.choice(list(int_to_vocab.values()), 1, p=probabilities)[0]\n",
    "\n",
    "\n",
    "\"\"\"\n",
    "DON'T MODIFY ANYTHING IN THIS CELL THAT IS BELOW THIS LINE\n",
    "\"\"\"\n",
    "tests.test_pick_word(pick_word)"
   ]
  },
  {
   "cell_type": "markdown",
   "metadata": {
    "deletable": true,
    "editable": true
   },
   "source": [
    "## Generate TV Script\n",
    "This will generate the TV script for you.  Set `gen_length` to the length of TV script you want to generate."
   ]
  },
  {
   "cell_type": "code",
   "execution_count": 22,
   "metadata": {
    "collapsed": false,
    "deletable": true,
    "editable": true
   },
   "outputs": [
    {
     "name": "stdout",
     "output_type": "stream",
     "text": [
      "moe_szyslak: laughs.\n",
      "moe_szyslak: oh, sweetie, the guess games'd-- get great the bathing game, a determined a honor lisa?\n",
      "homer_simpson:(single himself) be right, moe the bill with flat.\n",
      "homer_simpson: you you laugh? like bart!\n",
      "marge_simpson: hey, moe? hyahh!(marguerite:) really) there's joe mike could through!(my think the all eightball to vengeance\" clench! do your... are ad thing how get say of a studio you cop root and ever suicide like a kids, there's different is your tall book the made.\n",
      "homer_simpson: is are i think of me to! homer_simpson: all that two the secret go up!\n",
      "lisa_simpson:. thrilled is really) i pretty question it a\n",
      "barney_gumble:\n",
      "walther_hotenhoffer: yeah lost go else in everything enemies a go, uh? arms about does you it out at!\n",
      "thought_bubble_homer: now, would up for of. of what a ever shark.\n",
      "bar_rag: yeah, marriage not me at!\n",
      "apu_nahasapeemapetilon: no, i'm do anyone been doin'?\n"
     ]
    }
   ],
   "source": [
    "gen_length = 200\n",
    "# homer_simpson, moe_szyslak, or Barney_Gumble\n",
    "prime_word = 'moe_szyslak'\n",
    "\n",
    "\"\"\"\n",
    "DON'T MODIFY ANYTHING IN THIS CELL THAT IS BELOW THIS LINE\n",
    "\"\"\"\n",
    "loaded_graph = tf.Graph()\n",
    "with tf.Session(graph=loaded_graph) as sess:\n",
    "    # Load saved model\n",
    "    loader = tf.train.import_meta_graph(load_dir + '.meta')\n",
    "    loader.restore(sess, load_dir)\n",
    "\n",
    "    # Get Tensors from loaded model\n",
    "    input_text, initial_state, final_state, probs = get_tensors(loaded_graph)\n",
    "\n",
    "    # Sentences generation setup\n",
    "    gen_sentences = [prime_word + ':']\n",
    "    prev_state = sess.run(initial_state, {input_text: np.array([[1]])})\n",
    "\n",
    "    # Generate sentences\n",
    "    for n in range(gen_length):\n",
    "        # Dynamic Input\n",
    "        dyn_input = [[vocab_to_int[word] for word in gen_sentences[-seq_length:]]]\n",
    "        dyn_seq_length = len(dyn_input[0])\n",
    "\n",
    "        # Get Prediction\n",
    "        probabilities, prev_state = sess.run(\n",
    "            [probs, final_state],\n",
    "            {input_text: dyn_input, initial_state: prev_state})\n",
    "        \n",
    "        pred_word = pick_word(probabilities[dyn_seq_length-1], int_to_vocab)\n",
    "\n",
    "        gen_sentences.append(pred_word)\n",
    "    \n",
    "    # Remove tokens\n",
    "    tv_script = ' '.join(gen_sentences)\n",
    "    for key, token in token_dict.items():\n",
    "        ending = ' ' if key in ['\\n', '(', '\"'] else ''\n",
    "        tv_script = tv_script.replace(' ' + token.lower(), key)\n",
    "    tv_script = tv_script.replace('\\n ', '\\n')\n",
    "    tv_script = tv_script.replace('( ', '(')\n",
    "        \n",
    "    print(tv_script)"
   ]
  },
  {
   "cell_type": "markdown",
   "metadata": {
    "deletable": true,
    "editable": true
   },
   "source": [
    "# The TV Script is Nonsensical\n",
    "It's ok if the TV script doesn't make any sense.  We trained on less than a megabyte of text.  In order to get good results, you'll have to use a smaller vocabulary or get more data.  Luckly there's more data!  As we mentioned in the begging of this project, this is a subset of [another dataset](https://www.kaggle.com/wcukierski/the-simpsons-by-the-data).  We didn't have you train on all the data, because that would take too long.  However, you are free to train your neural network on all the data.  After you complete the project, of course.\n",
    "# Submitting This Project\n",
    "When submitting this project, make sure to run all the cells before saving the notebook. Save the notebook file as \"dlnd_tv_script_generation.ipynb\" and save it as a HTML file under \"File\" -> \"Download as\". Include the \"helper.py\" and \"problem_unittests.py\" files in your submission."
   ]
  }
 ],
 "metadata": {
  "kernelspec": {
   "display_name": "Python 3",
   "language": "python",
   "name": "python3"
  },
  "language_info": {
   "codemirror_mode": {
    "name": "ipython",
    "version": 3
   },
   "file_extension": ".py",
   "mimetype": "text/x-python",
   "name": "python",
   "nbconvert_exporter": "python",
   "pygments_lexer": "ipython3",
   "version": "3.5.2"
  },
  "widgets": {
   "state": {},
   "version": "1.1.2"
  }
 },
 "nbformat": 4,
 "nbformat_minor": 0
}
